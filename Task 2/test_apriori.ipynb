{
 "cells": [
  {
   "cell_type": "code",
   "execution_count": 1,
   "metadata": {},
   "outputs": [
    {
     "name": "stdout",
     "output_type": "stream",
     "text": [
      "/Users/gx/.pyenv/versions/3.9.2/lib/python3.9/site-packages/efficient_apriori/__init__.py\n"
     ]
    }
   ],
   "source": [
    "from apriori import Apriori\n",
    "from improved_apriori import Improved_Apriori\n",
    "import pandas as pd\n",
    "from efficient_apriori import apriori\n",
    "import efficient_apriori\n",
    "\n",
    "\n",
    "print(efficient_apriori.__file__)\n"
   ]
  },
  {
   "cell_type": "code",
   "execution_count": 2,
   "metadata": {},
   "outputs": [],
   "source": [
    "data = {'T1': ['I1', 'I2', 'I5', 'I3'],\n",
    "        'T2': ['I2', 'I4', 'I3'],\n",
    "        'T3': ['I2', 'I4'],\n",
    "        'T4': ['I1', 'I2', 'I4'],\n",
    "        'T5': ['I1', 'I3'],\n",
    "        'T6': ['I2', 'I3'],\n",
    "        'T7': ['I1', 'I3'],\n",
    "        'T8': ['I1', 'I2', 'I3', 'I5'],\n",
    "        'T9': ['I1', 'I2', 'I3']\n",
    "        }"
   ]
  },
  {
   "cell_type": "code",
   "execution_count": 3,
   "metadata": {},
   "outputs": [
    {
     "name": "stdout",
     "output_type": "stream",
     "text": [
      "Found 5 frequent itemsets from 1th item candidate sets\n",
      "Found 10 candidates for 2th item candidate sets\n",
      "Time taken to find 2th item candidate sets: 6.198883056640625e-06\n"
     ]
    },
    {
     "name": "stderr",
     "output_type": "stream",
     "text": [
      "100%|██████████| 10/10 [00:00<00:00, 88674.50it/s]\n"
     ]
    },
    {
     "name": "stdout",
     "output_type": "stream",
     "text": [
      "Found 9 frequent itemsets from 2th item candidate sets\n",
      "Found 7 candidates for 3th item candidate sets\n",
      "Time taken to find 3th item candidate sets: 4.1961669921875e-05\n"
     ]
    },
    {
     "name": "stderr",
     "output_type": "stream",
     "text": [
      "100%|██████████| 7/7 [00:00<00:00, 103380.73it/s]\n"
     ]
    },
    {
     "name": "stdout",
     "output_type": "stream",
     "text": [
      "Found 6 frequent itemsets from 3th item candidate sets\n",
      "Found 1 candidates for 4th item candidate sets\n",
      "Time taken to find 4th item candidate sets: 2.3126602172851562e-05\n"
     ]
    },
    {
     "name": "stderr",
     "output_type": "stream",
     "text": [
      "100%|██████████| 1/1 [00:00<00:00, 10645.44it/s]\n"
     ]
    },
    {
     "name": "stdout",
     "output_type": "stream",
     "text": [
      "Found 1 frequent itemsets from 4th item candidate sets\n",
      "Found 0 candidates for 5th item candidate sets\n",
      "Time taken to find 5th item candidate sets: 1.0013580322265625e-05\n"
     ]
    },
    {
     "name": "stderr",
     "output_type": "stream",
     "text": [
      "0it [00:00, ?it/s]"
     ]
    },
    {
     "name": "stdout",
     "output_type": "stream",
     "text": [
      "Found 0 frequent itemsets from 5th item candidate sets\n"
     ]
    },
    {
     "name": "stderr",
     "output_type": "stream",
     "text": [
      "\n"
     ]
    },
    {
     "data": {
      "text/plain": [
       "{1: {('I1',): 6, ('I2',): 7, ('I3',): 7, ('I4',): 3, ('I5',): 2},\n",
       " 2: {('I1', 'I2'): 4,\n",
       "  ('I1', 'I3'): 5,\n",
       "  ('I1', 'I4'): 1,\n",
       "  ('I1', 'I5'): 2,\n",
       "  ('I2', 'I3'): 5,\n",
       "  ('I2', 'I4'): 3,\n",
       "  ('I2', 'I5'): 2,\n",
       "  ('I3', 'I4'): 1,\n",
       "  ('I3', 'I5'): 2},\n",
       " 3: {('I1', 'I2', 'I3'): 3,\n",
       "  ('I1', 'I2', 'I4'): 1,\n",
       "  ('I1', 'I2', 'I5'): 2,\n",
       "  ('I1', 'I3', 'I5'): 2,\n",
       "  ('I2', 'I3', 'I4'): 1,\n",
       "  ('I2', 'I3', 'I5'): 2},\n",
       " 4: {('I1', 'I2', 'I3', 'I5'): 2}}"
      ]
     },
     "execution_count": 3,
     "metadata": {},
     "output_type": "execute_result"
    }
   ],
   "source": [
    "improved_apriori = Improved_Apriori(data, min_support=0.001, min_confidence=0.1,verbose=2)\n",
    "itemset = improved_apriori.apriori()\n",
    "itemset"
   ]
  },
  {
   "cell_type": "code",
   "execution_count": 4,
   "metadata": {},
   "outputs": [
    {
     "name": "stdout",
     "output_type": "stream",
     "text": [
      "Generating itemsets.\n",
      " Counting itemsets of length 1.\n",
      "  Found 5 candidate itemsets of length 1.\n",
      "  Found 5 large itemsets of length 1.\n",
      "    [('I1',), ('I2',), ('I5',), ('I3',), ('I4',)]\n",
      " Counting itemsets of length 2.\n",
      "  Found 10 candidate itemsets of length 2.\n",
      "   [('I1', 'I2'), ('I1', 'I3'), ('I1', 'I4'), ('I1', 'I5'), ('I2', 'I3'), ('I2', 'I4'), ('I2', 'I5'), ('I3', 'I4'), ('I3', 'I5'), ('I4', 'I5')]\n",
      "    Iterating over transactions.\n",
      "  Found 9 large itemsets of length 2.\n",
      "   [('I1', 'I2'), ('I1', 'I3'), ('I1', 'I4'), ('I1', 'I5'), ('I2', 'I3'), ('I2', 'I4'), ('I2', 'I5'), ('I3', 'I4'), ('I3', 'I5')]\n",
      " Counting itemsets of length 3.\n",
      "  Found 7 candidate itemsets of length 3.\n",
      "   [('I1', 'I2', 'I3'), ('I1', 'I2', 'I4'), ('I1', 'I2', 'I5'), ('I1', 'I3', 'I4'), ('I1', 'I3', 'I5'), ('I2', 'I3', 'I4'), ('I2', 'I3', 'I5')]\n",
      "    Iterating over transactions.\n",
      "  Found 6 large itemsets of length 3.\n",
      "   [('I1', 'I2', 'I3'), ('I1', 'I2', 'I4'), ('I1', 'I2', 'I5'), ('I1', 'I3', 'I5'), ('I2', 'I3', 'I4'), ('I2', 'I3', 'I5')]\n",
      " Counting itemsets of length 4.\n",
      "  Found 1 candidate itemsets of length 4.\n",
      "   [('I1', 'I2', 'I3', 'I5')]\n",
      "    Iterating over transactions.\n",
      "  Found 1 large itemsets of length 4.\n",
      "   [('I1', 'I2', 'I3', 'I5')]\n",
      " Counting itemsets of length 5.\n",
      "  Found 0 candidate itemsets of length 5.\n",
      "   []\n",
      "Itemset generation terminated.\n",
      "\n",
      "Generating rules from itemsets.\n",
      " Generating rules of size 2.\n",
      " Generating rules of size 3.\n",
      " Generating rules of size 4.\n",
      "Rule generation terminated.\n",
      "\n"
     ]
    },
    {
     "data": {
      "text/plain": [
       "{1: {('I1',): 6, ('I2',): 7, ('I5',): 2, ('I3',): 7, ('I4',): 3},\n",
       " 2: {('I1', 'I2'): 4,\n",
       "  ('I1', 'I3'): 5,\n",
       "  ('I1', 'I4'): 1,\n",
       "  ('I1', 'I5'): 2,\n",
       "  ('I2', 'I3'): 5,\n",
       "  ('I2', 'I4'): 3,\n",
       "  ('I2', 'I5'): 2,\n",
       "  ('I3', 'I4'): 1,\n",
       "  ('I3', 'I5'): 2},\n",
       " 3: {('I1', 'I2', 'I3'): 3,\n",
       "  ('I1', 'I2', 'I4'): 1,\n",
       "  ('I1', 'I2', 'I5'): 2,\n",
       "  ('I1', 'I3', 'I5'): 2,\n",
       "  ('I2', 'I3', 'I4'): 1,\n",
       "  ('I2', 'I3', 'I5'): 2},\n",
       " 4: {('I1', 'I2', 'I3', 'I5'): 2}}"
      ]
     },
     "execution_count": 4,
     "metadata": {},
     "output_type": "execute_result"
    }
   ],
   "source": [
    "from efficient_apriori import apriori\n",
    "l = list(data.values())\n",
    "itemsets, _ = apriori(l, min_support=0.001, min_confidence=1, verbosity=2)\n",
    "itemsets"
   ]
  }
 ],
 "metadata": {
  "kernelspec": {
   "display_name": "myenv",
   "language": "python",
   "name": "myenv"
  },
  "language_info": {
   "codemirror_mode": {
    "name": "ipython",
    "version": 3
   },
   "file_extension": ".py",
   "mimetype": "text/x-python",
   "name": "python",
   "nbconvert_exporter": "python",
   "pygments_lexer": "ipython3",
   "version": "3.9.2"
  },
  "orig_nbformat": 4
 },
 "nbformat": 4,
 "nbformat_minor": 2
}
