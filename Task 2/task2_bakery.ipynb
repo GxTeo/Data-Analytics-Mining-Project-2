{
 "cells": [
  {
   "cell_type": "code",
   "execution_count": 1,
   "metadata": {},
   "outputs": [],
   "source": [
    "import pandas as pd\n",
    "import numpy as np\n",
    "import matplotlib as plt\n",
    "import sys\n",
    "sys.path.append('../Task 1/')\n",
    "from efficient_apriori import apriori\n",
    "from improved_apriori import Improved_Apriori\n",
    "import json\n",
    "import time\n",
    "import os\n",
    "import itertools\n",
    "import ast\n",
    "from tqdm import tqdm\n",
    "import collections\n",
    "import math\n",
    "import random"
   ]
  },
  {
   "cell_type": "code",
   "execution_count": 2,
   "metadata": {},
   "outputs": [],
   "source": [
    "# Process the dataset by chunks into tid and the list of bakerys the sales watched\n",
    "def process_bakery_chunk(df, carry_over):\n",
    "    if carry_over is not None:\n",
    "        df = pd.concat([carry_over, df])\n",
    "    groups = df.groupby('tid')['article'].apply(list)\n",
    "    last_sales = df.iloc[-1]['tid']\n",
    "    if last_sales in groups:\n",
    "        carry_over = df[df['tid'] == last_sales]\n",
    "        groups = groups.drop(last_sales)\n",
    "    else:\n",
    "        carry_over = None\n",
    "    return groups, carry_over"
   ]
  },
  {
   "cell_type": "code",
   "execution_count": 3,
   "metadata": {},
   "outputs": [],
   "source": [
    "carry_over = None\n",
    "chunksize = 100000 # adjust this value depending on your available memory\n",
    "# Might have to figure out a way to shuffle the dataset \n",
    "if(not os.path.exists('processed_bakery_output.txt')):\n",
    "    with open('processed_bakery_output.txt', 'w') as f:\n",
    "        for chunk in pd.read_csv('Bakery_sales.csv', chunksize=chunksize):\n",
    "            groups, carry_over = process_bakery_chunk(chunk, carry_over)\n",
    "            for sales, bakery_list in groups.items():\n",
    "                f.write(f'{sales} {bakery_list}\\n')\n",
    "\n",
    "        # don't forget to process the last carry_over\n",
    "        if carry_over is not None:\n",
    "            groups, _ = process_bakery_chunk(carry_over, None)\n",
    "            for sales, bakery_list in groups.items():\n",
    "                f.write(f'{sales} {bakery_list}\\n')"
   ]
  },
  {
   "cell_type": "code",
   "execution_count": 4,
   "metadata": {},
   "outputs": [],
   "source": [
    "# Shuffle the text in chunks \n",
    "def shuffle_large_file(file_name, output_file_name, chunk_size):\n",
    "    with open(file_name, 'r') as f:\n",
    "        while True:\n",
    "            lines = list(itertools.islice(f, chunk_size))\n",
    "            if not lines:\n",
    "                break\n",
    "            random.shuffle(lines)\n",
    "            with open(output_file_name, 'a') as out:\n",
    "                out.write(''.join(lines))\n",
    "\n",
    "\n",
    "# Call the function with your parameters\n",
    "if(not os.path.exists('processed_bakery_output_shuffled.txt')):\n",
    "    shuffle_large_file('processed_bakery_output.txt', 'processed_bakery_output_shuffled.txt', 3000000)"
   ]
  },
  {
   "cell_type": "code",
   "execution_count": 5,
   "metadata": {},
   "outputs": [],
   "source": [
    "def read_file_in_partitions(file_path, partition_size):\n",
    "    with open(file_path, 'r') as file:\n",
    "        partition = []\n",
    "        for line in file:\n",
    "            partition.append(line)\n",
    "            if len(partition) >= partition_size:\n",
    "                yield partition\n",
    "                partition = []\n",
    "        if partition:  # yield any remaining lines\n",
    "            yield partition"
   ]
  },
  {
   "cell_type": "code",
   "execution_count": 6,
   "metadata": {},
   "outputs": [],
   "source": [
    "# Global variable to get the counts of all itemsets\n",
    "global_counts = {}\n",
    "def generate_global_counts(partition, global_candidates):\n",
    "\n",
    "    # For 1th itemset, generate the transaction id list for the ith partition \n",
    "    transaction_id_dict = collections.defaultdict(list)\n",
    "    for transaction_id in partition:\n",
    "        for item in partition[transaction_id]:\n",
    "            item_tuple = (item,)\n",
    "            transaction_id_dict[item_tuple].append(transaction_id)\n",
    "\n",
    "    # Filter based on the global candidates formed\n",
    "    transaction_ids_dict = {item: transaction_ids for item, transaction_ids in transaction_id_dict.items() if item in global_candidates[1]}\n",
    "\n",
    "    # Get the global count of all 1th itemset\n",
    "    for item in transaction_id_dict:\n",
    "        if(len(item) not in global_counts):\n",
    "            global_counts[len(item)] = {}\n",
    "        if(item not in global_counts[len(item)]):\n",
    "            global_counts[len(item)][item] = len(transaction_id_dict[item])\n",
    "        else:\n",
    "            global_counts[len(item)][item] += len(transaction_id_dict[item])\n",
    "\n",
    "    # Extend to find global count of all nth itemset from the global candidates\n",
    "    for i in tqdm(range(1, len(global_candidates))):\n",
    "        for itemset in global_candidates[i+1]:\n",
    "            transaction_ids = set(transaction_id_dict[(itemset[0],)])\n",
    "            for i in range(1, len(itemset)):\n",
    "                # We are only interested in the transactions where all items in itemset is present\n",
    "                transaction_ids = transaction_ids.intersection(set(transaction_ids_dict.get((itemset[i],), {})))\n",
    "            if(len(itemset) not in global_counts):\n",
    "                global_counts[len(itemset)] = {}\n",
    "\n",
    "            if(itemset not in global_counts[len(itemset)]):\n",
    "                global_counts[len(itemset)][itemset] = len(transaction_ids)\n",
    "            else:\n",
    "                global_counts[len(itemset)][itemset] += len(transaction_ids)\n",
    "\n"
   ]
  },
  {
   "cell_type": "code",
   "execution_count": 7,
   "metadata": {},
   "outputs": [
    {
     "name": "stdout",
     "output_type": "stream",
     "text": [
      "45\n",
      "Partition 1:\n",
      "Found 95 candidate itemsets from 1st Level\n",
      "Found 78 frequent itemsets from 1th item candidate sets\n",
      "Found 3003 candidates for 2th item candidate sets\n",
      "Time taken to find 2th item candidate sets: 0.0002200603485107422\n"
     ]
    },
    {
     "name": "stderr",
     "output_type": "stream",
     "text": [
      "100%|██████████| 3003/3003 [00:00<00:00, 146802.35it/s]\n"
     ]
    },
    {
     "name": "stdout",
     "output_type": "stream",
     "text": [
      "Found 214 frequent itemsets from 2th item candidate sets\n",
      "Found 402 candidates for 3th item candidate sets\n",
      "Time taken to find 3th item candidate sets: 0.008806228637695312\n"
     ]
    },
    {
     "name": "stderr",
     "output_type": "stream",
     "text": [
      "100%|██████████| 402/402 [00:00<00:00, 18139.77it/s]\n"
     ]
    },
    {
     "name": "stdout",
     "output_type": "stream",
     "text": [
      "Found 79 frequent itemsets from 3th item candidate sets\n",
      "Found 13 candidates for 4th item candidate sets\n",
      "Time taken to find 4th item candidate sets: 0.0007047653198242188\n"
     ]
    },
    {
     "name": "stderr",
     "output_type": "stream",
     "text": [
      "100%|██████████| 13/13 [00:00<00:00, 11596.33it/s]\n"
     ]
    },
    {
     "name": "stdout",
     "output_type": "stream",
     "text": [
      "Found 8 frequent itemsets from 4th item candidate sets\n",
      "Found 0 candidates for 5th item candidate sets\n",
      "Time taken to find 5th item candidate sets: 2.9087066650390625e-05\n"
     ]
    },
    {
     "name": "stderr",
     "output_type": "stream",
     "text": [
      "0it [00:00, ?it/s]\n"
     ]
    },
    {
     "name": "stdout",
     "output_type": "stream",
     "text": [
      "Found 0 frequent itemsets from 5th item candidate sets\n",
      "Partition 2:\n",
      "Found 107 candidate itemsets from 1st Level\n",
      "Found 82 frequent itemsets from 1th item candidate sets\n",
      "Found 3321 candidates for 2th item candidate sets\n",
      "Time taken to find 2th item candidate sets: 0.0002281665802001953\n"
     ]
    },
    {
     "name": "stderr",
     "output_type": "stream",
     "text": [
      "100%|██████████| 3321/3321 [00:00<00:00, 199857.72it/s]\n"
     ]
    },
    {
     "name": "stdout",
     "output_type": "stream",
     "text": [
      "Found 225 frequent itemsets from 2th item candidate sets\n",
      "Found 411 candidates for 3th item candidate sets\n",
      "Time taken to find 3th item candidate sets: 0.00787806510925293\n"
     ]
    },
    {
     "name": "stderr",
     "output_type": "stream",
     "text": [
      "100%|██████████| 411/411 [00:00<00:00, 27589.25it/s]\n"
     ]
    },
    {
     "name": "stdout",
     "output_type": "stream",
     "text": [
      "Found 88 frequent itemsets from 3th item candidate sets\n",
      "Found 12 candidates for 4th item candidate sets\n",
      "Time taken to find 4th item candidate sets: 0.0008149147033691406\n"
     ]
    },
    {
     "name": "stderr",
     "output_type": "stream",
     "text": [
      "100%|██████████| 12/12 [00:00<00:00, 12270.03it/s]\n"
     ]
    },
    {
     "name": "stdout",
     "output_type": "stream",
     "text": [
      "Found 5 frequent itemsets from 4th item candidate sets\n",
      "Found 0 candidates for 5th item candidate sets\n",
      "Time taken to find 5th item candidate sets: 1.9073486328125e-05\n"
     ]
    },
    {
     "name": "stderr",
     "output_type": "stream",
     "text": [
      "0it [00:00, ?it/s]\n"
     ]
    },
    {
     "name": "stdout",
     "output_type": "stream",
     "text": [
      "Found 0 frequent itemsets from 5th item candidate sets\n",
      "Partition 3:\n",
      "Found 100 candidate itemsets from 1st Level\n",
      "Found 80 frequent itemsets from 1th item candidate sets\n",
      "Found 3160 candidates for 2th item candidate sets\n",
      "Time taken to find 2th item candidate sets: 0.0002789497375488281\n"
     ]
    },
    {
     "name": "stderr",
     "output_type": "stream",
     "text": [
      "100%|██████████| 3160/3160 [00:00<00:00, 194388.64it/s]\n"
     ]
    },
    {
     "name": "stdout",
     "output_type": "stream",
     "text": [
      "Found 223 frequent itemsets from 2th item candidate sets\n",
      "Found 384 candidates for 3th item candidate sets\n",
      "Time taken to find 3th item candidate sets: 0.00893402099609375\n"
     ]
    },
    {
     "name": "stderr",
     "output_type": "stream",
     "text": [
      "100%|██████████| 384/384 [00:00<00:00, 34635.34it/s]\n"
     ]
    },
    {
     "name": "stdout",
     "output_type": "stream",
     "text": [
      "Found 82 frequent itemsets from 3th item candidate sets\n",
      "Found 11 candidates for 4th item candidate sets\n",
      "Time taken to find 4th item candidate sets: 0.0007801055908203125\n"
     ]
    },
    {
     "name": "stderr",
     "output_type": "stream",
     "text": [
      "100%|██████████| 11/11 [00:00<00:00, 15811.29it/s]\n"
     ]
    },
    {
     "name": "stdout",
     "output_type": "stream",
     "text": [
      "Found 5 frequent itemsets from 4th item candidate sets\n",
      "Found 0 candidates for 5th item candidate sets\n",
      "Time taken to find 5th item candidate sets: 1.8835067749023438e-05\n"
     ]
    },
    {
     "name": "stderr",
     "output_type": "stream",
     "text": [
      "0it [00:00, ?it/s]\n"
     ]
    },
    {
     "name": "stdout",
     "output_type": "stream",
     "text": [
      "Found 0 frequent itemsets from 5th item candidate sets\n",
      "Partition 4:\n",
      "Found 102 candidate itemsets from 1st Level\n",
      "Found 76 frequent itemsets from 1th item candidate sets\n",
      "Found 2850 candidates for 2th item candidate sets\n",
      "Time taken to find 2th item candidate sets: 0.00028705596923828125\n"
     ]
    },
    {
     "name": "stderr",
     "output_type": "stream",
     "text": [
      "100%|██████████| 2850/2850 [00:00<00:00, 121727.54it/s]\n"
     ]
    },
    {
     "name": "stdout",
     "output_type": "stream",
     "text": [
      "Found 226 frequent itemsets from 2th item candidate sets\n",
      "Found 435 candidates for 3th item candidate sets\n",
      "Time taken to find 3th item candidate sets: 0.008452892303466797\n"
     ]
    },
    {
     "name": "stderr",
     "output_type": "stream",
     "text": [
      "100%|██████████| 435/435 [00:00<00:00, 33997.10it/s]\n"
     ]
    },
    {
     "name": "stdout",
     "output_type": "stream",
     "text": [
      "Found 81 frequent itemsets from 3th item candidate sets\n",
      "Found 12 candidates for 4th item candidate sets\n",
      "Time taken to find 4th item candidate sets: 0.0008819103240966797\n"
     ]
    },
    {
     "name": "stderr",
     "output_type": "stream",
     "text": [
      "100%|██████████| 12/12 [00:00<00:00, 13888.42it/s]\n"
     ]
    },
    {
     "name": "stdout",
     "output_type": "stream",
     "text": [
      "Found 9 frequent itemsets from 4th item candidate sets\n",
      "Found 0 candidates for 5th item candidate sets\n",
      "Time taken to find 5th item candidate sets: 2.2172927856445312e-05\n"
     ]
    },
    {
     "name": "stderr",
     "output_type": "stream",
     "text": [
      "0it [00:00, ?it/s]\n"
     ]
    },
    {
     "name": "stdout",
     "output_type": "stream",
     "text": [
      "Found 0 frequent itemsets from 5th item candidate sets\n",
      "Partition 5:\n",
      "Found 105 candidate itemsets from 1st Level\n",
      "Found 75 frequent itemsets from 1th item candidate sets\n",
      "Found 2775 candidates for 2th item candidate sets\n",
      "Time taken to find 2th item candidate sets: 0.0002849102020263672\n"
     ]
    },
    {
     "name": "stderr",
     "output_type": "stream",
     "text": [
      "100%|██████████| 2775/2775 [00:00<00:00, 181445.64it/s]\n"
     ]
    },
    {
     "name": "stdout",
     "output_type": "stream",
     "text": [
      "Found 236 frequent itemsets from 2th item candidate sets\n",
      "Found 480 candidates for 3th item candidate sets\n",
      "Time taken to find 3th item candidate sets: 0.011005878448486328\n"
     ]
    },
    {
     "name": "stderr",
     "output_type": "stream",
     "text": [
      "100%|██████████| 480/480 [00:00<00:00, 35375.69it/s]\n"
     ]
    },
    {
     "name": "stdout",
     "output_type": "stream",
     "text": [
      "Found 103 frequent itemsets from 3th item candidate sets\n",
      "Found 25 candidates for 4th item candidate sets\n",
      "Time taken to find 4th item candidate sets: 0.001104116439819336\n"
     ]
    },
    {
     "name": "stderr",
     "output_type": "stream",
     "text": [
      "100%|██████████| 25/25 [00:00<00:00, 16822.97it/s]\n"
     ]
    },
    {
     "name": "stdout",
     "output_type": "stream",
     "text": [
      "Found 17 frequent itemsets from 4th item candidate sets\n",
      "Found 1 candidates for 5th item candidate sets\n",
      "Time taken to find 5th item candidate sets: 5.1975250244140625e-05\n"
     ]
    },
    {
     "name": "stderr",
     "output_type": "stream",
     "text": [
      "100%|██████████| 1/1 [00:00<00:00, 6502.80it/s]\n"
     ]
    },
    {
     "name": "stdout",
     "output_type": "stream",
     "text": [
      "Found 1 frequent itemsets from 5th item candidate sets\n",
      "Found 0 candidates for 6th item candidate sets\n",
      "Time taken to find 6th item candidate sets: 1.0967254638671875e-05\n"
     ]
    },
    {
     "name": "stderr",
     "output_type": "stream",
     "text": [
      "0it [00:00, ?it/s]\n"
     ]
    },
    {
     "name": "stdout",
     "output_type": "stream",
     "text": [
      "Found 0 frequent itemsets from 6th item candidate sets\n",
      "Partition 6:\n",
      "Found 104 candidate itemsets from 1st Level\n",
      "Found 80 frequent itemsets from 1th item candidate sets\n",
      "Found 3160 candidates for 2th item candidate sets\n",
      "Time taken to find 2th item candidate sets: 0.00024080276489257812\n"
     ]
    },
    {
     "name": "stderr",
     "output_type": "stream",
     "text": [
      "100%|██████████| 3160/3160 [00:00<00:00, 184439.41it/s]\n"
     ]
    },
    {
     "name": "stdout",
     "output_type": "stream",
     "text": [
      "Found 203 frequent itemsets from 2th item candidate sets\n",
      "Found 361 candidates for 3th item candidate sets\n",
      "Time taken to find 3th item candidate sets: 0.00674891471862793\n"
     ]
    },
    {
     "name": "stderr",
     "output_type": "stream",
     "text": [
      "100%|██████████| 361/361 [00:00<00:00, 35920.19it/s]\n"
     ]
    },
    {
     "name": "stdout",
     "output_type": "stream",
     "text": [
      "Found 76 frequent itemsets from 3th item candidate sets\n",
      "Found 9 candidates for 4th item candidate sets\n",
      "Time taken to find 4th item candidate sets: 0.0005559921264648438\n"
     ]
    },
    {
     "name": "stderr",
     "output_type": "stream",
     "text": [
      "100%|██████████| 9/9 [00:00<00:00, 5558.64it/s]\n"
     ]
    },
    {
     "name": "stdout",
     "output_type": "stream",
     "text": [
      "Found 6 frequent itemsets from 4th item candidate sets\n",
      "Found 0 candidates for 5th item candidate sets\n",
      "Time taken to find 5th item candidate sets: 1.5020370483398438e-05\n"
     ]
    },
    {
     "name": "stderr",
     "output_type": "stream",
     "text": [
      "0it [00:00, ?it/s]\n"
     ]
    },
    {
     "name": "stdout",
     "output_type": "stream",
     "text": [
      "Found 0 frequent itemsets from 5th item candidate sets\n",
      "Partition 7:\n",
      "Found 99 candidate itemsets from 1st Level\n",
      "Found 75 frequent itemsets from 1th item candidate sets\n",
      "Found 2775 candidates for 2th item candidate sets\n",
      "Time taken to find 2th item candidate sets: 0.00019693374633789062\n"
     ]
    },
    {
     "name": "stderr",
     "output_type": "stream",
     "text": [
      "100%|██████████| 2775/2775 [00:00<00:00, 110061.21it/s]\n"
     ]
    },
    {
     "name": "stdout",
     "output_type": "stream",
     "text": [
      "Found 209 frequent itemsets from 2th item candidate sets\n",
      "Found 362 candidates for 3th item candidate sets\n",
      "Time taken to find 3th item candidate sets: 0.006705045700073242\n"
     ]
    },
    {
     "name": "stderr",
     "output_type": "stream",
     "text": [
      "100%|██████████| 362/362 [00:00<00:00, 33453.89it/s]\n"
     ]
    },
    {
     "name": "stdout",
     "output_type": "stream",
     "text": [
      "Found 93 frequent itemsets from 3th item candidate sets\n",
      "Found 14 candidates for 4th item candidate sets\n",
      "Time taken to find 4th item candidate sets: 0.0008540153503417969\n"
     ]
    },
    {
     "name": "stderr",
     "output_type": "stream",
     "text": [
      "100%|██████████| 14/14 [00:00<00:00, 11639.30it/s]\n"
     ]
    },
    {
     "name": "stdout",
     "output_type": "stream",
     "text": [
      "Found 11 frequent itemsets from 4th item candidate sets\n",
      "Found 0 candidates for 5th item candidate sets\n",
      "Time taken to find 5th item candidate sets: 2.7894973754882812e-05\n"
     ]
    },
    {
     "name": "stderr",
     "output_type": "stream",
     "text": [
      "0it [00:00, ?it/s]\n"
     ]
    },
    {
     "name": "stdout",
     "output_type": "stream",
     "text": [
      "Found 0 frequent itemsets from 5th item candidate sets\n",
      "Partition 8:\n",
      "Found 111 candidate itemsets from 1st Level\n",
      "Found 79 frequent itemsets from 1th item candidate sets\n",
      "Found 3081 candidates for 2th item candidate sets\n",
      "Time taken to find 2th item candidate sets: 0.0003719329833984375\n"
     ]
    },
    {
     "name": "stderr",
     "output_type": "stream",
     "text": [
      "100%|██████████| 3081/3081 [00:00<00:00, 177496.75it/s]\n"
     ]
    },
    {
     "name": "stdout",
     "output_type": "stream",
     "text": [
      "Found 220 frequent itemsets from 2th item candidate sets\n",
      "Found 400 candidates for 3th item candidate sets\n",
      "Time taken to find 3th item candidate sets: 0.008952140808105469\n"
     ]
    },
    {
     "name": "stderr",
     "output_type": "stream",
     "text": [
      "100%|██████████| 400/400 [00:00<00:00, 29129.13it/s]\n"
     ]
    },
    {
     "name": "stdout",
     "output_type": "stream",
     "text": [
      "Found 83 frequent itemsets from 3th item candidate sets\n",
      "Found 12 candidates for 4th item candidate sets\n",
      "Time taken to find 4th item candidate sets: 0.0007197856903076172\n"
     ]
    },
    {
     "name": "stderr",
     "output_type": "stream",
     "text": [
      "100%|██████████| 12/12 [00:00<00:00, 7207.74it/s]\n"
     ]
    },
    {
     "name": "stdout",
     "output_type": "stream",
     "text": [
      "Found 5 frequent itemsets from 4th item candidate sets\n",
      "Found 0 candidates for 5th item candidate sets\n",
      "Time taken to find 5th item candidate sets: 1.52587890625e-05\n"
     ]
    },
    {
     "name": "stderr",
     "output_type": "stream",
     "text": [
      "0it [00:00, ?it/s]\n"
     ]
    },
    {
     "name": "stdout",
     "output_type": "stream",
     "text": [
      "Found 0 frequent itemsets from 5th item candidate sets\n",
      "Partition 9:\n",
      "Found 107 candidate itemsets from 1st Level\n",
      "Found 77 frequent itemsets from 1th item candidate sets\n",
      "Found 2926 candidates for 2th item candidate sets\n",
      "Time taken to find 2th item candidate sets: 0.0003368854522705078\n"
     ]
    },
    {
     "name": "stderr",
     "output_type": "stream",
     "text": [
      "100%|██████████| 2926/2926 [00:00<00:00, 190036.13it/s]\n"
     ]
    },
    {
     "name": "stdout",
     "output_type": "stream",
     "text": [
      "Found 249 frequent itemsets from 2th item candidate sets\n",
      "Found 456 candidates for 3th item candidate sets\n",
      "Time taken to find 3th item candidate sets: 0.011298179626464844\n"
     ]
    },
    {
     "name": "stderr",
     "output_type": "stream",
     "text": [
      "100%|██████████| 456/456 [00:00<00:00, 32874.45it/s]\n"
     ]
    },
    {
     "name": "stdout",
     "output_type": "stream",
     "text": [
      "Found 89 frequent itemsets from 3th item candidate sets\n",
      "Found 15 candidates for 4th item candidate sets\n",
      "Time taken to find 4th item candidate sets: 0.0015959739685058594\n"
     ]
    },
    {
     "name": "stderr",
     "output_type": "stream",
     "text": [
      "100%|██████████| 15/15 [00:00<00:00, 16358.44it/s]\n"
     ]
    },
    {
     "name": "stdout",
     "output_type": "stream",
     "text": [
      "Found 7 frequent itemsets from 4th item candidate sets\n",
      "Found 0 candidates for 5th item candidate sets\n",
      "Time taken to find 5th item candidate sets: 6.914138793945312e-05\n"
     ]
    },
    {
     "name": "stderr",
     "output_type": "stream",
     "text": [
      "0it [00:00, ?it/s]\n"
     ]
    },
    {
     "name": "stdout",
     "output_type": "stream",
     "text": [
      "Found 0 frequent itemsets from 5th item candidate sets\n",
      "Partition 10:\n",
      "Found 108 candidate itemsets from 1st Level\n",
      "Found 81 frequent itemsets from 1th item candidate sets\n",
      "Found 3240 candidates for 2th item candidate sets\n",
      "Time taken to find 2th item candidate sets: 0.0002498626708984375\n"
     ]
    },
    {
     "name": "stderr",
     "output_type": "stream",
     "text": [
      "100%|██████████| 3240/3240 [00:00<00:00, 121752.66it/s]\n"
     ]
    },
    {
     "name": "stdout",
     "output_type": "stream",
     "text": [
      "Found 242 frequent itemsets from 2th item candidate sets\n",
      "Found 512 candidates for 3th item candidate sets\n",
      "Time taken to find 3th item candidate sets: 0.010756969451904297\n"
     ]
    },
    {
     "name": "stderr",
     "output_type": "stream",
     "text": [
      "100%|██████████| 512/512 [00:00<00:00, 36307.57it/s]\n"
     ]
    },
    {
     "name": "stdout",
     "output_type": "stream",
     "text": [
      "Found 108 frequent itemsets from 3th item candidate sets\n",
      "Found 32 candidates for 4th item candidate sets\n",
      "Time taken to find 4th item candidate sets: 0.0013167858123779297\n"
     ]
    },
    {
     "name": "stderr",
     "output_type": "stream",
     "text": [
      "100%|██████████| 32/32 [00:00<00:00, 17533.34it/s]\n"
     ]
    },
    {
     "name": "stdout",
     "output_type": "stream",
     "text": [
      "Found 20 frequent itemsets from 4th item candidate sets\n",
      "Found 1 candidates for 5th item candidate sets\n",
      "Time taken to find 5th item candidate sets: 6.222724914550781e-05\n"
     ]
    },
    {
     "name": "stderr",
     "output_type": "stream",
     "text": [
      "100%|██████████| 1/1 [00:00<00:00, 1667.05it/s]\n"
     ]
    },
    {
     "name": "stdout",
     "output_type": "stream",
     "text": [
      "Found 1 frequent itemsets from 5th item candidate sets\n",
      "Found 0 candidates for 6th item candidate sets\n",
      "Time taken to find 6th item candidate sets: 7.867813110351562e-06\n"
     ]
    },
    {
     "name": "stderr",
     "output_type": "stream",
     "text": [
      "0it [00:00, ?it/s]\n"
     ]
    },
    {
     "name": "stdout",
     "output_type": "stream",
     "text": [
      "Found 0 frequent itemsets from 6th item candidate sets\n",
      "Partition 11:\n",
      "Found 105 candidate itemsets from 1st Level\n",
      "Found 86 frequent itemsets from 1th item candidate sets\n",
      "Found 3655 candidates for 2th item candidate sets\n",
      "Time taken to find 2th item candidate sets: 0.000347137451171875\n"
     ]
    },
    {
     "name": "stderr",
     "output_type": "stream",
     "text": [
      "100%|██████████| 3655/3655 [00:00<00:00, 177720.63it/s]\n"
     ]
    },
    {
     "name": "stdout",
     "output_type": "stream",
     "text": [
      "Found 230 frequent itemsets from 2th item candidate sets\n",
      "Found 454 candidates for 3th item candidate sets\n",
      "Time taken to find 3th item candidate sets: 0.008998870849609375\n"
     ]
    },
    {
     "name": "stderr",
     "output_type": "stream",
     "text": [
      "100%|██████████| 454/454 [00:00<00:00, 33333.00it/s]\n"
     ]
    },
    {
     "name": "stdout",
     "output_type": "stream",
     "text": [
      "Found 80 frequent itemsets from 3th item candidate sets\n",
      "Found 10 candidates for 4th item candidate sets\n",
      "Time taken to find 4th item candidate sets: 0.0006778240203857422\n"
     ]
    },
    {
     "name": "stderr",
     "output_type": "stream",
     "text": [
      "100%|██████████| 10/10 [00:00<00:00, 8944.99it/s]\n"
     ]
    },
    {
     "name": "stdout",
     "output_type": "stream",
     "text": [
      "Found 8 frequent itemsets from 4th item candidate sets\n",
      "Found 0 candidates for 5th item candidate sets\n",
      "Time taken to find 5th item candidate sets: 2.6941299438476562e-05\n"
     ]
    },
    {
     "name": "stderr",
     "output_type": "stream",
     "text": [
      "0it [00:00, ?it/s]\n"
     ]
    },
    {
     "name": "stdout",
     "output_type": "stream",
     "text": [
      "Found 0 frequent itemsets from 5th item candidate sets\n",
      "Partition 12:\n",
      "Found 105 candidate itemsets from 1st Level\n",
      "Found 80 frequent itemsets from 1th item candidate sets\n",
      "Found 3160 candidates for 2th item candidate sets\n",
      "Time taken to find 2th item candidate sets: 0.0002551078796386719\n"
     ]
    },
    {
     "name": "stderr",
     "output_type": "stream",
     "text": [
      "100%|██████████| 3160/3160 [00:00<00:00, 182998.06it/s]\n"
     ]
    },
    {
     "name": "stdout",
     "output_type": "stream",
     "text": [
      "Found 243 frequent itemsets from 2th item candidate sets\n",
      "Found 526 candidates for 3th item candidate sets\n",
      "Time taken to find 3th item candidate sets: 0.010615110397338867\n"
     ]
    },
    {
     "name": "stderr",
     "output_type": "stream",
     "text": [
      "100%|██████████| 526/526 [00:00<00:00, 32776.28it/s]\n"
     ]
    },
    {
     "name": "stdout",
     "output_type": "stream",
     "text": [
      "Found 93 frequent itemsets from 3th item candidate sets\n",
      "Found 19 candidates for 4th item candidate sets\n",
      "Time taken to find 4th item candidate sets: 0.0010409355163574219\n"
     ]
    },
    {
     "name": "stderr",
     "output_type": "stream",
     "text": [
      "100%|██████████| 19/19 [00:00<00:00, 17388.56it/s]\n"
     ]
    },
    {
     "name": "stdout",
     "output_type": "stream",
     "text": [
      "Found 11 frequent itemsets from 4th item candidate sets\n",
      "Found 0 candidates for 5th item candidate sets\n",
      "Time taken to find 5th item candidate sets: 3.1948089599609375e-05\n"
     ]
    },
    {
     "name": "stderr",
     "output_type": "stream",
     "text": [
      "0it [00:00, ?it/s]\n"
     ]
    },
    {
     "name": "stdout",
     "output_type": "stream",
     "text": [
      "Found 0 frequent itemsets from 5th item candidate sets\n",
      "Partition 13:\n",
      "Found 102 candidate itemsets from 1st Level\n",
      "Found 76 frequent itemsets from 1th item candidate sets\n",
      "Found 2850 candidates for 2th item candidate sets\n",
      "Time taken to find 2th item candidate sets: 0.0002532005310058594\n"
     ]
    },
    {
     "name": "stderr",
     "output_type": "stream",
     "text": [
      "100%|██████████| 2850/2850 [00:00<00:00, 114619.35it/s]\n"
     ]
    },
    {
     "name": "stdout",
     "output_type": "stream",
     "text": [
      "Found 225 frequent itemsets from 2th item candidate sets\n",
      "Found 415 candidates for 3th item candidate sets\n",
      "Time taken to find 3th item candidate sets: 0.011634111404418945\n"
     ]
    },
    {
     "name": "stderr",
     "output_type": "stream",
     "text": [
      "100%|██████████| 415/415 [00:00<00:00, 34472.14it/s]\n"
     ]
    },
    {
     "name": "stdout",
     "output_type": "stream",
     "text": [
      "Found 97 frequent itemsets from 3th item candidate sets\n",
      "Found 17 candidates for 4th item candidate sets\n",
      "Time taken to find 4th item candidate sets: 0.0009789466857910156\n"
     ]
    },
    {
     "name": "stderr",
     "output_type": "stream",
     "text": [
      "100%|██████████| 17/17 [00:00<00:00, 17310.80it/s]\n"
     ]
    },
    {
     "name": "stdout",
     "output_type": "stream",
     "text": [
      "Found 10 frequent itemsets from 4th item candidate sets\n",
      "Found 0 candidates for 5th item candidate sets\n",
      "Time taken to find 5th item candidate sets: 3.790855407714844e-05\n"
     ]
    },
    {
     "name": "stderr",
     "output_type": "stream",
     "text": [
      "0it [00:00, ?it/s]\n"
     ]
    },
    {
     "name": "stdout",
     "output_type": "stream",
     "text": [
      "Found 0 frequent itemsets from 5th item candidate sets\n",
      "Partition 14:\n",
      "Found 113 candidate itemsets from 1st Level\n",
      "Found 80 frequent itemsets from 1th item candidate sets\n",
      "Found 3160 candidates for 2th item candidate sets\n",
      "Time taken to find 2th item candidate sets: 0.00035119056701660156\n"
     ]
    },
    {
     "name": "stderr",
     "output_type": "stream",
     "text": [
      "100%|██████████| 3160/3160 [00:00<00:00, 179423.32it/s]\n"
     ]
    },
    {
     "name": "stdout",
     "output_type": "stream",
     "text": [
      "Found 234 frequent itemsets from 2th item candidate sets\n",
      "Found 476 candidates for 3th item candidate sets\n",
      "Time taken to find 3th item candidate sets: 0.009139060974121094\n"
     ]
    },
    {
     "name": "stderr",
     "output_type": "stream",
     "text": [
      "100%|██████████| 476/476 [00:00<00:00, 25226.66it/s]\n"
     ]
    },
    {
     "name": "stdout",
     "output_type": "stream",
     "text": [
      "Found 101 frequent itemsets from 3th item candidate sets\n",
      "Found 15 candidates for 4th item candidate sets\n",
      "Time taken to find 4th item candidate sets: 0.001024007797241211\n"
     ]
    },
    {
     "name": "stderr",
     "output_type": "stream",
     "text": [
      "100%|██████████| 15/15 [00:00<00:00, 14489.77it/s]\n"
     ]
    },
    {
     "name": "stdout",
     "output_type": "stream",
     "text": [
      "Found 6 frequent itemsets from 4th item candidate sets\n",
      "Found 0 candidates for 5th item candidate sets\n",
      "Time taken to find 5th item candidate sets: 2.002716064453125e-05\n"
     ]
    },
    {
     "name": "stderr",
     "output_type": "stream",
     "text": [
      "0it [00:00, ?it/s]\n"
     ]
    },
    {
     "name": "stdout",
     "output_type": "stream",
     "text": [
      "Found 0 frequent itemsets from 5th item candidate sets\n",
      "Partition 15:\n",
      "Found 105 candidate itemsets from 1st Level\n",
      "Found 79 frequent itemsets from 1th item candidate sets\n",
      "Found 3081 candidates for 2th item candidate sets\n",
      "Time taken to find 2th item candidate sets: 0.0002570152282714844\n"
     ]
    },
    {
     "name": "stderr",
     "output_type": "stream",
     "text": [
      "100%|██████████| 3081/3081 [00:00<00:00, 146706.60it/s]\n"
     ]
    },
    {
     "name": "stdout",
     "output_type": "stream",
     "text": [
      "Found 225 frequent itemsets from 2th item candidate sets\n",
      "Found 429 candidates for 3th item candidate sets\n",
      "Time taken to find 3th item candidate sets: 0.00819706916809082\n"
     ]
    },
    {
     "name": "stderr",
     "output_type": "stream",
     "text": [
      "100%|██████████| 429/429 [00:00<00:00, 31421.57it/s]\n"
     ]
    },
    {
     "name": "stdout",
     "output_type": "stream",
     "text": [
      "Found 105 frequent itemsets from 3th item candidate sets\n",
      "Found 25 candidates for 4th item candidate sets\n",
      "Time taken to find 4th item candidate sets: 0.0011630058288574219\n"
     ]
    },
    {
     "name": "stderr",
     "output_type": "stream",
     "text": [
      "100%|██████████| 25/25 [00:00<00:00, 7896.50it/s]\n"
     ]
    },
    {
     "name": "stdout",
     "output_type": "stream",
     "text": [
      "Found 15 frequent itemsets from 4th item candidate sets\n",
      "Found 0 candidates for 5th item candidate sets\n",
      "Time taken to find 5th item candidate sets: 5.0067901611328125e-05\n"
     ]
    },
    {
     "name": "stderr",
     "output_type": "stream",
     "text": [
      "0it [00:00, ?it/s]\n"
     ]
    },
    {
     "name": "stdout",
     "output_type": "stream",
     "text": [
      "Found 0 frequent itemsets from 5th item candidate sets\n",
      "Partition 16:\n",
      "Found 101 candidate itemsets from 1st Level\n",
      "Found 79 frequent itemsets from 1th item candidate sets\n",
      "Found 3081 candidates for 2th item candidate sets\n",
      "Time taken to find 2th item candidate sets: 0.0002949237823486328\n"
     ]
    },
    {
     "name": "stderr",
     "output_type": "stream",
     "text": [
      "100%|██████████| 3081/3081 [00:00<00:00, 125518.68it/s]\n"
     ]
    },
    {
     "name": "stdout",
     "output_type": "stream",
     "text": [
      "Found 217 frequent itemsets from 2th item candidate sets\n",
      "Found 397 candidates for 3th item candidate sets\n",
      "Time taken to find 3th item candidate sets: 0.007715940475463867\n"
     ]
    },
    {
     "name": "stderr",
     "output_type": "stream",
     "text": [
      "100%|██████████| 397/397 [00:00<00:00, 28721.67it/s]\n"
     ]
    },
    {
     "name": "stdout",
     "output_type": "stream",
     "text": [
      "Found 94 frequent itemsets from 3th item candidate sets\n",
      "Found 19 candidates for 4th item candidate sets\n",
      "Time taken to find 4th item candidate sets: 0.0009827613830566406\n"
     ]
    },
    {
     "name": "stderr",
     "output_type": "stream",
     "text": [
      "100%|██████████| 19/19 [00:00<00:00, 14971.21it/s]\n"
     ]
    },
    {
     "name": "stdout",
     "output_type": "stream",
     "text": [
      "Found 11 frequent itemsets from 4th item candidate sets\n",
      "Found 1 candidates for 5th item candidate sets\n",
      "Time taken to find 5th item candidate sets: 3.0994415283203125e-05\n"
     ]
    },
    {
     "name": "stderr",
     "output_type": "stream",
     "text": [
      "100%|██████████| 1/1 [00:00<00:00, 7810.62it/s]\n"
     ]
    },
    {
     "name": "stdout",
     "output_type": "stream",
     "text": [
      "Found 1 frequent itemsets from 5th item candidate sets\n",
      "Found 0 candidates for 6th item candidate sets\n",
      "Time taken to find 6th item candidate sets: 6.9141387939453125e-06\n"
     ]
    },
    {
     "name": "stderr",
     "output_type": "stream",
     "text": [
      "0it [00:00, ?it/s]\n"
     ]
    },
    {
     "name": "stdout",
     "output_type": "stream",
     "text": [
      "Found 0 frequent itemsets from 6th item candidate sets\n",
      "Partition 17:\n",
      "Found 104 candidate itemsets from 1st Level\n",
      "Found 79 frequent itemsets from 1th item candidate sets\n",
      "Found 3081 candidates for 2th item candidate sets\n",
      "Time taken to find 2th item candidate sets: 0.00029206275939941406\n"
     ]
    },
    {
     "name": "stderr",
     "output_type": "stream",
     "text": [
      "100%|██████████| 3081/3081 [00:00<00:00, 164768.78it/s]\n"
     ]
    },
    {
     "name": "stdout",
     "output_type": "stream",
     "text": [
      "Found 225 frequent itemsets from 2th item candidate sets\n",
      "Found 402 candidates for 3th item candidate sets\n",
      "Time taken to find 3th item candidate sets: 0.009448051452636719\n"
     ]
    },
    {
     "name": "stderr",
     "output_type": "stream",
     "text": [
      "100%|██████████| 402/402 [00:00<00:00, 27589.59it/s]\n"
     ]
    },
    {
     "name": "stdout",
     "output_type": "stream",
     "text": [
      "Found 87 frequent itemsets from 3th item candidate sets\n",
      "Found 16 candidates for 4th item candidate sets\n",
      "Time taken to find 4th item candidate sets: 0.0013499259948730469\n"
     ]
    },
    {
     "name": "stderr",
     "output_type": "stream",
     "text": [
      "100%|██████████| 16/16 [00:00<00:00, 6753.43it/s]\n"
     ]
    },
    {
     "name": "stdout",
     "output_type": "stream",
     "text": [
      "Found 10 frequent itemsets from 4th item candidate sets\n",
      "Found 0 candidates for 5th item candidate sets\n",
      "Time taken to find 5th item candidate sets: 7.915496826171875e-05\n"
     ]
    },
    {
     "name": "stderr",
     "output_type": "stream",
     "text": [
      "0it [00:00, ?it/s]"
     ]
    },
    {
     "name": "stdout",
     "output_type": "stream",
     "text": [
      "Found 0 frequent itemsets from 5th item candidate sets\n",
      "Partition 18:\n"
     ]
    },
    {
     "name": "stderr",
     "output_type": "stream",
     "text": [
      "\n"
     ]
    },
    {
     "name": "stdout",
     "output_type": "stream",
     "text": [
      "Found 103 candidate itemsets from 1st Level\n",
      "Found 84 frequent itemsets from 1th item candidate sets\n",
      "Found 3486 candidates for 2th item candidate sets\n",
      "Time taken to find 2th item candidate sets: 0.0002999305725097656\n"
     ]
    },
    {
     "name": "stderr",
     "output_type": "stream",
     "text": [
      "100%|██████████| 3486/3486 [00:00<00:00, 210852.33it/s]\n"
     ]
    },
    {
     "name": "stdout",
     "output_type": "stream",
     "text": [
      "Found 223 frequent itemsets from 2th item candidate sets\n",
      "Found 434 candidates for 3th item candidate sets\n",
      "Time taken to find 3th item candidate sets: 0.009035825729370117\n"
     ]
    },
    {
     "name": "stderr",
     "output_type": "stream",
     "text": [
      "100%|██████████| 434/434 [00:00<00:00, 29953.40it/s]\n"
     ]
    },
    {
     "name": "stdout",
     "output_type": "stream",
     "text": [
      "Found 80 frequent itemsets from 3th item candidate sets\n",
      "Found 12 candidates for 4th item candidate sets\n",
      "Time taken to find 4th item candidate sets: 0.0007228851318359375\n"
     ]
    },
    {
     "name": "stderr",
     "output_type": "stream",
     "text": [
      "100%|██████████| 12/12 [00:00<00:00, 7707.76it/s]\n"
     ]
    },
    {
     "name": "stdout",
     "output_type": "stream",
     "text": [
      "Found 9 frequent itemsets from 4th item candidate sets\n",
      "Found 0 candidates for 5th item candidate sets\n",
      "Time taken to find 5th item candidate sets: 3.0040740966796875e-05\n"
     ]
    },
    {
     "name": "stderr",
     "output_type": "stream",
     "text": [
      "0it [00:00, ?it/s]\n"
     ]
    },
    {
     "name": "stdout",
     "output_type": "stream",
     "text": [
      "Found 0 frequent itemsets from 5th item candidate sets\n",
      "Partition 19:\n",
      "Found 100 candidate itemsets from 1st Level\n",
      "Found 83 frequent itemsets from 1th item candidate sets\n",
      "Found 3403 candidates for 2th item candidate sets\n",
      "Time taken to find 2th item candidate sets: 0.0003592967987060547\n"
     ]
    },
    {
     "name": "stderr",
     "output_type": "stream",
     "text": [
      "100%|██████████| 3403/3403 [00:00<00:00, 181116.10it/s]\n"
     ]
    },
    {
     "name": "stdout",
     "output_type": "stream",
     "text": [
      "Found 238 frequent itemsets from 2th item candidate sets\n",
      "Found 514 candidates for 3th item candidate sets\n",
      "Time taken to find 3th item candidate sets: 0.009116888046264648\n"
     ]
    },
    {
     "name": "stderr",
     "output_type": "stream",
     "text": [
      "100%|██████████| 514/514 [00:00<00:00, 35068.52it/s]\n"
     ]
    },
    {
     "name": "stdout",
     "output_type": "stream",
     "text": [
      "Found 114 frequent itemsets from 3th item candidate sets\n",
      "Found 13 candidates for 4th item candidate sets\n",
      "Time taken to find 4th item candidate sets: 0.0016660690307617188\n"
     ]
    },
    {
     "name": "stderr",
     "output_type": "stream",
     "text": [
      "100%|██████████| 13/13 [00:00<00:00, 19226.36it/s]\n"
     ]
    },
    {
     "name": "stdout",
     "output_type": "stream",
     "text": [
      "Found 9 frequent itemsets from 4th item candidate sets\n",
      "Found 0 candidates for 5th item candidate sets\n",
      "Time taken to find 5th item candidate sets: 3.0040740966796875e-05\n"
     ]
    },
    {
     "name": "stderr",
     "output_type": "stream",
     "text": [
      "0it [00:00, ?it/s]"
     ]
    },
    {
     "name": "stdout",
     "output_type": "stream",
     "text": [
      "Found 0 frequent itemsets from 5th item candidate sets\n",
      "Partition 20:\n",
      "Found 100 candidate itemsets from 1st Level\n",
      "Found 83 frequent itemsets from 1th item candidate sets\n",
      "Found 3403 candidates for 2th item candidate sets\n",
      "Time taken to find 2th item candidate sets: 0.0003070831298828125\n"
     ]
    },
    {
     "name": "stderr",
     "output_type": "stream",
     "text": [
      "\n",
      "100%|██████████| 3403/3403 [00:00<00:00, 212014.15it/s]\n"
     ]
    },
    {
     "name": "stdout",
     "output_type": "stream",
     "text": [
      "Found 215 frequent itemsets from 2th item candidate sets\n",
      "Found 400 candidates for 3th item candidate sets\n",
      "Time taken to find 3th item candidate sets: 0.00803685188293457\n"
     ]
    },
    {
     "name": "stderr",
     "output_type": "stream",
     "text": [
      "100%|██████████| 400/400 [00:00<00:00, 34188.28it/s]\n"
     ]
    },
    {
     "name": "stdout",
     "output_type": "stream",
     "text": [
      "Found 95 frequent itemsets from 3th item candidate sets\n",
      "Found 15 candidates for 4th item candidate sets\n",
      "Time taken to find 4th item candidate sets: 0.0009818077087402344\n"
     ]
    },
    {
     "name": "stderr",
     "output_type": "stream",
     "text": [
      "100%|██████████| 15/15 [00:00<00:00, 10886.76it/s]\n"
     ]
    },
    {
     "name": "stdout",
     "output_type": "stream",
     "text": [
      "Found 11 frequent itemsets from 4th item candidate sets\n",
      "Found 0 candidates for 5th item candidate sets\n",
      "Time taken to find 5th item candidate sets: 3.1948089599609375e-05\n"
     ]
    },
    {
     "name": "stderr",
     "output_type": "stream",
     "text": [
      "0it [00:00, ?it/s]\n"
     ]
    },
    {
     "name": "stdout",
     "output_type": "stream",
     "text": [
      "Found 0 frequent itemsets from 5th item candidate sets\n",
      "Partition 21:\n",
      "Found 106 candidate itemsets from 1st Level\n",
      "Found 80 frequent itemsets from 1th item candidate sets\n",
      "Found 3160 candidates for 2th item candidate sets\n",
      "Time taken to find 2th item candidate sets: 0.00024771690368652344\n"
     ]
    },
    {
     "name": "stderr",
     "output_type": "stream",
     "text": [
      "100%|██████████| 3160/3160 [00:00<00:00, 166842.91it/s]\n"
     ]
    },
    {
     "name": "stdout",
     "output_type": "stream",
     "text": [
      "Found 228 frequent itemsets from 2th item candidate sets\n",
      "Found 419 candidates for 3th item candidate sets\n",
      "Time taken to find 3th item candidate sets: 0.008871793746948242\n"
     ]
    },
    {
     "name": "stderr",
     "output_type": "stream",
     "text": [
      "100%|██████████| 419/419 [00:00<00:00, 29219.12it/s]\n"
     ]
    },
    {
     "name": "stdout",
     "output_type": "stream",
     "text": [
      "Found 94 frequent itemsets from 3th item candidate sets\n",
      "Found 16 candidates for 4th item candidate sets\n",
      "Time taken to find 4th item candidate sets: 0.0009410381317138672\n"
     ]
    },
    {
     "name": "stderr",
     "output_type": "stream",
     "text": [
      "100%|██████████| 16/16 [00:00<00:00, 16112.57it/s]\n"
     ]
    },
    {
     "name": "stdout",
     "output_type": "stream",
     "text": [
      "Found 9 frequent itemsets from 4th item candidate sets\n",
      "Found 1 candidates for 5th item candidate sets\n",
      "Time taken to find 5th item candidate sets: 4.1961669921875e-05\n"
     ]
    },
    {
     "name": "stderr",
     "output_type": "stream",
     "text": [
      "100%|██████████| 1/1 [00:00<00:00, 1298.55it/s]\n"
     ]
    },
    {
     "name": "stdout",
     "output_type": "stream",
     "text": [
      "Found 1 frequent itemsets from 5th item candidate sets\n",
      "Found 0 candidates for 6th item candidate sets\n",
      "Time taken to find 6th item candidate sets: 1.0013580322265625e-05\n"
     ]
    },
    {
     "name": "stderr",
     "output_type": "stream",
     "text": [
      "0it [00:00, ?it/s]\n"
     ]
    },
    {
     "name": "stdout",
     "output_type": "stream",
     "text": [
      "Found 0 frequent itemsets from 6th item candidate sets\n",
      "Partition 22:\n",
      "Found 101 candidate itemsets from 1st Level\n",
      "Found 84 frequent itemsets from 1th item candidate sets\n",
      "Found 3486 candidates for 2th item candidate sets\n",
      "Time taken to find 2th item candidate sets: 0.0003521442413330078\n"
     ]
    },
    {
     "name": "stderr",
     "output_type": "stream",
     "text": [
      "100%|██████████| 3486/3486 [00:00<00:00, 112226.70it/s]"
     ]
    },
    {
     "name": "stdout",
     "output_type": "stream",
     "text": [
      "Found 250 frequent itemsets from 2th item candidate sets\n",
      "Found 495 candidates for 3th item candidate sets\n",
      "Time taken to find 3th item candidate sets: 0.01131892204284668\n"
     ]
    },
    {
     "name": "stderr",
     "output_type": "stream",
     "text": [
      "\n",
      "100%|██████████| 495/495 [00:00<00:00, 31960.41it/s]\n"
     ]
    },
    {
     "name": "stdout",
     "output_type": "stream",
     "text": [
      "Found 111 frequent itemsets from 3th item candidate sets\n",
      "Found 21 candidates for 4th item candidate sets\n",
      "Time taken to find 4th item candidate sets: 0.0013430118560791016\n"
     ]
    },
    {
     "name": "stderr",
     "output_type": "stream",
     "text": [
      "100%|██████████| 21/21 [00:00<00:00, 19443.79it/s]\n"
     ]
    },
    {
     "name": "stdout",
     "output_type": "stream",
     "text": [
      "Found 14 frequent itemsets from 4th item candidate sets\n",
      "Found 1 candidates for 5th item candidate sets\n",
      "Time taken to find 5th item candidate sets: 3.886222839355469e-05\n"
     ]
    },
    {
     "name": "stderr",
     "output_type": "stream",
     "text": [
      "100%|██████████| 1/1 [00:00<00:00, 8128.50it/s]\n"
     ]
    },
    {
     "name": "stdout",
     "output_type": "stream",
     "text": [
      "Found 0 frequent itemsets from 5th item candidate sets\n",
      "Partition 23:\n",
      "Found 104 candidate itemsets from 1st Level\n",
      "Found 76 frequent itemsets from 1th item candidate sets\n",
      "Found 2850 candidates for 2th item candidate sets\n",
      "Time taken to find 2th item candidate sets: 0.00031685829162597656\n"
     ]
    },
    {
     "name": "stderr",
     "output_type": "stream",
     "text": [
      "100%|██████████| 2850/2850 [00:00<00:00, 155968.87it/s]\n"
     ]
    },
    {
     "name": "stdout",
     "output_type": "stream",
     "text": [
      "Found 228 frequent itemsets from 2th item candidate sets\n",
      "Found 448 candidates for 3th item candidate sets\n",
      "Time taken to find 3th item candidate sets: 0.009773731231689453\n"
     ]
    },
    {
     "name": "stderr",
     "output_type": "stream",
     "text": [
      "100%|██████████| 448/448 [00:00<00:00, 35668.42it/s]\n"
     ]
    },
    {
     "name": "stdout",
     "output_type": "stream",
     "text": [
      "Found 106 frequent itemsets from 3th item candidate sets\n",
      "Found 25 candidates for 4th item candidate sets\n",
      "Time taken to find 4th item candidate sets: 0.001119852066040039\n"
     ]
    },
    {
     "name": "stderr",
     "output_type": "stream",
     "text": [
      "100%|██████████| 25/25 [00:00<00:00, 14029.65it/s]\n"
     ]
    },
    {
     "name": "stdout",
     "output_type": "stream",
     "text": [
      "Found 10 frequent itemsets from 4th item candidate sets\n",
      "Found 0 candidates for 5th item candidate sets\n",
      "Time taken to find 5th item candidate sets: 2.6702880859375e-05\n"
     ]
    },
    {
     "name": "stderr",
     "output_type": "stream",
     "text": [
      "0it [00:00, ?it/s]"
     ]
    },
    {
     "name": "stdout",
     "output_type": "stream",
     "text": [
      "Found 0 frequent itemsets from 5th item candidate sets\n",
      "Partition 24:\n",
      "Found 108 candidate itemsets from 1st Level\n",
      "Found 85 frequent itemsets from 1th item candidate sets\n",
      "Found 3570 candidates for 2th item candidate sets\n",
      "Time taken to find 2th item candidate sets: 0.0003571510314941406\n"
     ]
    },
    {
     "name": "stderr",
     "output_type": "stream",
     "text": [
      "\n",
      "100%|██████████| 3570/3570 [00:00<00:00, 190086.26it/s]\n"
     ]
    },
    {
     "name": "stdout",
     "output_type": "stream",
     "text": [
      "Found 212 frequent itemsets from 2th item candidate sets\n",
      "Found 412 candidates for 3th item candidate sets\n",
      "Time taken to find 3th item candidate sets: 0.008284807205200195\n"
     ]
    },
    {
     "name": "stderr",
     "output_type": "stream",
     "text": [
      "100%|██████████| 412/412 [00:00<00:00, 32551.34it/s]\n"
     ]
    },
    {
     "name": "stdout",
     "output_type": "stream",
     "text": [
      "Found 85 frequent itemsets from 3th item candidate sets\n",
      "Found 13 candidates for 4th item candidate sets\n",
      "Time taken to find 4th item candidate sets: 0.0007359981536865234\n"
     ]
    },
    {
     "name": "stderr",
     "output_type": "stream",
     "text": [
      "100%|██████████| 13/13 [00:00<00:00, 15099.96it/s]\n"
     ]
    },
    {
     "name": "stdout",
     "output_type": "stream",
     "text": [
      "Found 10 frequent itemsets from 4th item candidate sets\n",
      "Found 0 candidates for 5th item candidate sets\n",
      "Time taken to find 5th item candidate sets: 8.511543273925781e-05\n"
     ]
    },
    {
     "name": "stderr",
     "output_type": "stream",
     "text": [
      "0it [00:00, ?it/s]\n"
     ]
    },
    {
     "name": "stdout",
     "output_type": "stream",
     "text": [
      "Found 0 frequent itemsets from 5th item candidate sets\n",
      "Partition 25:\n",
      "Found 101 candidate itemsets from 1st Level\n",
      "Found 77 frequent itemsets from 1th item candidate sets\n",
      "Found 2926 candidates for 2th item candidate sets\n",
      "Time taken to find 2th item candidate sets: 0.0004322528839111328\n"
     ]
    },
    {
     "name": "stderr",
     "output_type": "stream",
     "text": [
      "100%|██████████| 2926/2926 [00:00<00:00, 108535.41it/s]\n"
     ]
    },
    {
     "name": "stdout",
     "output_type": "stream",
     "text": [
      "Found 242 frequent itemsets from 2th item candidate sets\n",
      "Found 439 candidates for 3th item candidate sets\n",
      "Time taken to find 3th item candidate sets: 0.014534950256347656\n"
     ]
    },
    {
     "name": "stderr",
     "output_type": "stream",
     "text": [
      "100%|██████████| 439/439 [00:00<00:00, 35309.79it/s]\n"
     ]
    },
    {
     "name": "stdout",
     "output_type": "stream",
     "text": [
      "Found 89 frequent itemsets from 3th item candidate sets\n",
      "Found 12 candidates for 4th item candidate sets\n",
      "Time taken to find 4th item candidate sets: 0.0008790493011474609\n"
     ]
    },
    {
     "name": "stderr",
     "output_type": "stream",
     "text": [
      "100%|██████████| 12/12 [00:00<00:00, 16346.75it/s]\n"
     ]
    },
    {
     "name": "stdout",
     "output_type": "stream",
     "text": [
      "Found 9 frequent itemsets from 4th item candidate sets\n",
      "Found 1 candidates for 5th item candidate sets\n",
      "Time taken to find 5th item candidate sets: 2.6702880859375e-05\n"
     ]
    },
    {
     "name": "stderr",
     "output_type": "stream",
     "text": [
      "100%|██████████| 1/1 [00:00<00:00, 5077.85it/s]\n"
     ]
    },
    {
     "name": "stdout",
     "output_type": "stream",
     "text": [
      "Found 1 frequent itemsets from 5th item candidate sets\n",
      "Found 0 candidates for 6th item candidate sets\n",
      "Time taken to find 6th item candidate sets: 7.152557373046875e-06\n"
     ]
    },
    {
     "name": "stderr",
     "output_type": "stream",
     "text": [
      "0it [00:00, ?it/s]\n"
     ]
    },
    {
     "name": "stdout",
     "output_type": "stream",
     "text": [
      "Found 0 frequent itemsets from 6th item candidate sets\n",
      "Partition 26:\n",
      "Found 100 candidate itemsets from 1st Level\n",
      "Found 86 frequent itemsets from 1th item candidate sets\n",
      "Found 3655 candidates for 2th item candidate sets\n",
      "Time taken to find 2th item candidate sets: 0.0002980232238769531\n"
     ]
    },
    {
     "name": "stderr",
     "output_type": "stream",
     "text": [
      "100%|██████████| 3655/3655 [00:00<00:00, 192437.91it/s]\n"
     ]
    },
    {
     "name": "stdout",
     "output_type": "stream",
     "text": [
      "Found 208 frequent itemsets from 2th item candidate sets\n",
      "Found 364 candidates for 3th item candidate sets\n",
      "Time taken to find 3th item candidate sets: 0.008228063583374023\n"
     ]
    },
    {
     "name": "stderr",
     "output_type": "stream",
     "text": [
      "100%|██████████| 364/364 [00:00<00:00, 32742.70it/s]\n"
     ]
    },
    {
     "name": "stdout",
     "output_type": "stream",
     "text": [
      "Found 84 frequent itemsets from 3th item candidate sets\n",
      "Found 9 candidates for 4th item candidate sets\n",
      "Time taken to find 4th item candidate sets: 0.0028879642486572266\n"
     ]
    },
    {
     "name": "stderr",
     "output_type": "stream",
     "text": [
      "100%|██████████| 9/9 [00:00<00:00, 6507.28it/s]\n"
     ]
    },
    {
     "name": "stdout",
     "output_type": "stream",
     "text": [
      "Found 6 frequent itemsets from 4th item candidate sets\n",
      "Found 0 candidates for 5th item candidate sets\n",
      "Time taken to find 5th item candidate sets: 1.71661376953125e-05\n"
     ]
    },
    {
     "name": "stderr",
     "output_type": "stream",
     "text": [
      "0it [00:00, ?it/s]\n"
     ]
    },
    {
     "name": "stdout",
     "output_type": "stream",
     "text": [
      "Found 0 frequent itemsets from 5th item candidate sets\n",
      "Partition 27:\n",
      "Found 108 candidate itemsets from 1st Level\n",
      "Found 80 frequent itemsets from 1th item candidate sets\n",
      "Found 3160 candidates for 2th item candidate sets\n",
      "Time taken to find 2th item candidate sets: 0.00044608116149902344\n"
     ]
    },
    {
     "name": "stderr",
     "output_type": "stream",
     "text": [
      "100%|██████████| 3160/3160 [00:00<00:00, 170193.65it/s]\n"
     ]
    },
    {
     "name": "stdout",
     "output_type": "stream",
     "text": [
      "Found 236 frequent itemsets from 2th item candidate sets\n",
      "Found 429 candidates for 3th item candidate sets\n",
      "Time taken to find 3th item candidate sets: 0.010729074478149414\n"
     ]
    },
    {
     "name": "stderr",
     "output_type": "stream",
     "text": [
      "100%|██████████| 429/429 [00:00<00:00, 32926.30it/s]\n"
     ]
    },
    {
     "name": "stdout",
     "output_type": "stream",
     "text": [
      "Found 107 frequent itemsets from 3th item candidate sets\n",
      "Found 20 candidates for 4th item candidate sets\n",
      "Time taken to find 4th item candidate sets: 0.0011768341064453125\n"
     ]
    },
    {
     "name": "stderr",
     "output_type": "stream",
     "text": [
      "100%|██████████| 20/20 [00:00<00:00, 15975.26it/s]\n"
     ]
    },
    {
     "name": "stdout",
     "output_type": "stream",
     "text": [
      "Found 14 frequent itemsets from 4th item candidate sets\n",
      "Found 0 candidates for 5th item candidate sets\n",
      "Time taken to find 5th item candidate sets: 4.482269287109375e-05\n"
     ]
    },
    {
     "name": "stderr",
     "output_type": "stream",
     "text": [
      "0it [00:00, ?it/s]\n"
     ]
    },
    {
     "name": "stdout",
     "output_type": "stream",
     "text": [
      "Found 0 frequent itemsets from 5th item candidate sets\n",
      "Partition 28:\n",
      "Found 101 candidate itemsets from 1st Level\n",
      "Found 77 frequent itemsets from 1th item candidate sets\n",
      "Found 2926 candidates for 2th item candidate sets\n",
      "Time taken to find 2th item candidate sets: 0.0007958412170410156\n"
     ]
    },
    {
     "name": "stderr",
     "output_type": "stream",
     "text": [
      "100%|██████████| 2926/2926 [00:00<00:00, 135219.63it/s]\n"
     ]
    },
    {
     "name": "stdout",
     "output_type": "stream",
     "text": [
      "Found 215 frequent itemsets from 2th item candidate sets\n",
      "Found 402 candidates for 3th item candidate sets\n",
      "Time taken to find 3th item candidate sets: 0.009252071380615234\n"
     ]
    },
    {
     "name": "stderr",
     "output_type": "stream",
     "text": [
      "100%|██████████| 402/402 [00:00<00:00, 33170.90it/s]"
     ]
    },
    {
     "name": "stdout",
     "output_type": "stream",
     "text": [
      "Found 80 frequent itemsets from 3th item candidate sets\n",
      "Found 8 candidates for 4th item candidate sets\n",
      "Time taken to find 4th item candidate sets: 0.0007321834564208984\n"
     ]
    },
    {
     "name": "stderr",
     "output_type": "stream",
     "text": [
      "\n",
      "100%|██████████| 8/8 [00:00<00:00, 4553.46it/s]\n"
     ]
    },
    {
     "name": "stdout",
     "output_type": "stream",
     "text": [
      "Found 5 frequent itemsets from 4th item candidate sets\n",
      "Found 0 candidates for 5th item candidate sets\n",
      "Time taken to find 5th item candidate sets: 0.0001990795135498047\n"
     ]
    },
    {
     "name": "stderr",
     "output_type": "stream",
     "text": [
      "0it [00:00, ?it/s]\n"
     ]
    },
    {
     "name": "stdout",
     "output_type": "stream",
     "text": [
      "Found 0 frequent itemsets from 5th item candidate sets\n",
      "Partition 29:\n",
      "Found 109 candidate itemsets from 1st Level\n",
      "Found 78 frequent itemsets from 1th item candidate sets\n",
      "Found 3003 candidates for 2th item candidate sets\n",
      "Time taken to find 2th item candidate sets: 0.00016689300537109375\n"
     ]
    },
    {
     "name": "stderr",
     "output_type": "stream",
     "text": [
      "100%|██████████| 3003/3003 [00:00<00:00, 176875.69it/s]\n"
     ]
    },
    {
     "name": "stdout",
     "output_type": "stream",
     "text": [
      "Found 203 frequent itemsets from 2th item candidate sets\n",
      "Found 354 candidates for 3th item candidate sets\n",
      "Time taken to find 3th item candidate sets: 0.00718379020690918\n"
     ]
    },
    {
     "name": "stderr",
     "output_type": "stream",
     "text": [
      "100%|██████████| 354/354 [00:00<00:00, 28150.76it/s]\n"
     ]
    },
    {
     "name": "stdout",
     "output_type": "stream",
     "text": [
      "Found 75 frequent itemsets from 3th item candidate sets\n",
      "Found 9 candidates for 4th item candidate sets\n",
      "Time taken to find 4th item candidate sets: 0.0012249946594238281\n"
     ]
    },
    {
     "name": "stderr",
     "output_type": "stream",
     "text": [
      "100%|██████████| 9/9 [00:00<00:00, 13530.01it/s]\n"
     ]
    },
    {
     "name": "stdout",
     "output_type": "stream",
     "text": [
      "Found 3 frequent itemsets from 4th item candidate sets\n",
      "Found 0 candidates for 5th item candidate sets\n",
      "Time taken to find 5th item candidate sets: 4.57763671875e-05\n"
     ]
    },
    {
     "name": "stderr",
     "output_type": "stream",
     "text": [
      "0it [00:00, ?it/s]"
     ]
    },
    {
     "name": "stdout",
     "output_type": "stream",
     "text": [
      "Found 0 frequent itemsets from 5th item candidate sets\n",
      "Partition 30:\n"
     ]
    },
    {
     "name": "stderr",
     "output_type": "stream",
     "text": [
      "\n"
     ]
    },
    {
     "name": "stdout",
     "output_type": "stream",
     "text": [
      "Found 103 candidate itemsets from 1st Level\n",
      "Found 77 frequent itemsets from 1th item candidate sets\n",
      "Found 2926 candidates for 2th item candidate sets\n",
      "Time taken to find 2th item candidate sets: 0.0004558563232421875\n"
     ]
    },
    {
     "name": "stderr",
     "output_type": "stream",
     "text": [
      "100%|██████████| 2926/2926 [00:00<00:00, 177860.23it/s]\n"
     ]
    },
    {
     "name": "stdout",
     "output_type": "stream",
     "text": [
      "Found 227 frequent itemsets from 2th item candidate sets\n",
      "Found 453 candidates for 3th item candidate sets\n",
      "Time taken to find 3th item candidate sets: 0.010113954544067383\n"
     ]
    },
    {
     "name": "stderr",
     "output_type": "stream",
     "text": [
      "100%|██████████| 453/453 [00:00<00:00, 30910.71it/s]\n"
     ]
    },
    {
     "name": "stdout",
     "output_type": "stream",
     "text": [
      "Found 93 frequent itemsets from 3th item candidate sets\n",
      "Found 11 candidates for 4th item candidate sets\n",
      "Time taken to find 4th item candidate sets: 0.0016338825225830078\n"
     ]
    },
    {
     "name": "stderr",
     "output_type": "stream",
     "text": [
      "100%|██████████| 11/11 [00:00<00:00, 14806.59it/s]\n"
     ]
    },
    {
     "name": "stdout",
     "output_type": "stream",
     "text": [
      "Found 8 frequent itemsets from 4th item candidate sets\n",
      "Found 0 candidates for 5th item candidate sets\n",
      "Time taken to find 5th item candidate sets: 2.384185791015625e-05\n"
     ]
    },
    {
     "name": "stderr",
     "output_type": "stream",
     "text": [
      "0it [00:00, ?it/s]\n"
     ]
    },
    {
     "name": "stdout",
     "output_type": "stream",
     "text": [
      "Found 0 frequent itemsets from 5th item candidate sets\n",
      "Partition 31:\n",
      "Found 105 candidate itemsets from 1st Level\n",
      "Found 76 frequent itemsets from 1th item candidate sets\n",
      "Found 2850 candidates for 2th item candidate sets\n",
      "Time taken to find 2th item candidate sets: 0.0002727508544921875\n"
     ]
    },
    {
     "name": "stderr",
     "output_type": "stream",
     "text": [
      "100%|██████████| 2850/2850 [00:00<00:00, 149073.62it/s]\n"
     ]
    },
    {
     "name": "stdout",
     "output_type": "stream",
     "text": [
      "Found 259 frequent itemsets from 2th item candidate sets\n",
      "Found 599 candidates for 3th item candidate sets\n",
      "Time taken to find 3th item candidate sets: 0.01369929313659668\n"
     ]
    },
    {
     "name": "stderr",
     "output_type": "stream",
     "text": [
      "100%|██████████| 599/599 [00:00<00:00, 21331.38it/s]\n"
     ]
    },
    {
     "name": "stdout",
     "output_type": "stream",
     "text": [
      "Found 122 frequent itemsets from 3th item candidate sets\n",
      "Found 32 candidates for 4th item candidate sets\n",
      "Time taken to find 4th item candidate sets: 0.0016047954559326172\n"
     ]
    },
    {
     "name": "stderr",
     "output_type": "stream",
     "text": [
      "100%|██████████| 32/32 [00:00<00:00, 15825.70it/s]\n"
     ]
    },
    {
     "name": "stdout",
     "output_type": "stream",
     "text": [
      "Found 21 frequent itemsets from 4th item candidate sets\n",
      "Found 1 candidates for 5th item candidate sets\n",
      "Time taken to find 5th item candidate sets: 8.96453857421875e-05\n"
     ]
    },
    {
     "name": "stderr",
     "output_type": "stream",
     "text": [
      "100%|██████████| 1/1 [00:00<00:00, 1663.75it/s]\n"
     ]
    },
    {
     "name": "stdout",
     "output_type": "stream",
     "text": [
      "Found 1 frequent itemsets from 5th item candidate sets\n",
      "Found 0 candidates for 6th item candidate sets\n",
      "Time taken to find 6th item candidate sets: 7.867813110351562e-06\n"
     ]
    },
    {
     "name": "stderr",
     "output_type": "stream",
     "text": [
      "0it [00:00, ?it/s]\n"
     ]
    },
    {
     "name": "stdout",
     "output_type": "stream",
     "text": [
      "Found 0 frequent itemsets from 6th item candidate sets\n",
      "Partition 32:\n",
      "Found 104 candidate itemsets from 1st Level\n",
      "Found 77 frequent itemsets from 1th item candidate sets\n",
      "Found 2926 candidates for 2th item candidate sets\n",
      "Time taken to find 2th item candidate sets: 0.0004742145538330078\n"
     ]
    },
    {
     "name": "stderr",
     "output_type": "stream",
     "text": [
      "100%|██████████| 2926/2926 [00:00<00:00, 190842.89it/s]\n"
     ]
    },
    {
     "name": "stdout",
     "output_type": "stream",
     "text": [
      "Found 223 frequent itemsets from 2th item candidate sets\n",
      "Found 406 candidates for 3th item candidate sets\n",
      "Time taken to find 3th item candidate sets: 0.00998997688293457\n"
     ]
    },
    {
     "name": "stderr",
     "output_type": "stream",
     "text": [
      "100%|██████████| 406/406 [00:00<00:00, 34432.37it/s]\n"
     ]
    },
    {
     "name": "stdout",
     "output_type": "stream",
     "text": [
      "Found 88 frequent itemsets from 3th item candidate sets\n",
      "Found 16 candidates for 4th item candidate sets\n",
      "Time taken to find 4th item candidate sets: 0.0009818077087402344\n"
     ]
    },
    {
     "name": "stderr",
     "output_type": "stream",
     "text": [
      "100%|██████████| 16/16 [00:00<00:00, 16292.51it/s]\n"
     ]
    },
    {
     "name": "stdout",
     "output_type": "stream",
     "text": [
      "Found 9 frequent itemsets from 4th item candidate sets\n",
      "Found 0 candidates for 5th item candidate sets\n",
      "Time taken to find 5th item candidate sets: 9.703636169433594e-05\n"
     ]
    },
    {
     "name": "stderr",
     "output_type": "stream",
     "text": [
      "0it [00:00, ?it/s]\n"
     ]
    },
    {
     "name": "stdout",
     "output_type": "stream",
     "text": [
      "Found 0 frequent itemsets from 5th item candidate sets\n",
      "Partition 33:\n",
      "Found 108 candidate itemsets from 1st Level\n",
      "Found 77 frequent itemsets from 1th item candidate sets\n",
      "Found 2926 candidates for 2th item candidate sets\n",
      "Time taken to find 2th item candidate sets: 0.0002720355987548828\n"
     ]
    },
    {
     "name": "stderr",
     "output_type": "stream",
     "text": [
      "100%|██████████| 2926/2926 [00:00<00:00, 175367.00it/s]\n"
     ]
    },
    {
     "name": "stdout",
     "output_type": "stream",
     "text": [
      "Found 225 frequent itemsets from 2th item candidate sets\n",
      "Found 451 candidates for 3th item candidate sets\n",
      "Time taken to find 3th item candidate sets: 0.00923299789428711\n"
     ]
    },
    {
     "name": "stderr",
     "output_type": "stream",
     "text": [
      "100%|██████████| 451/451 [00:00<00:00, 27599.34it/s]\n"
     ]
    },
    {
     "name": "stdout",
     "output_type": "stream",
     "text": [
      "Found 93 frequent itemsets from 3th item candidate sets\n",
      "Found 18 candidates for 4th item candidate sets\n",
      "Time taken to find 4th item candidate sets: 0.0009579658508300781\n"
     ]
    },
    {
     "name": "stderr",
     "output_type": "stream",
     "text": [
      "100%|██████████| 18/18 [00:00<00:00, 12087.33it/s]\n"
     ]
    },
    {
     "name": "stdout",
     "output_type": "stream",
     "text": [
      "Found 4 frequent itemsets from 4th item candidate sets\n",
      "Found 0 candidates for 5th item candidate sets\n",
      "Time taken to find 5th item candidate sets: 2.193450927734375e-05\n"
     ]
    },
    {
     "name": "stderr",
     "output_type": "stream",
     "text": [
      "0it [00:00, ?it/s]\n"
     ]
    },
    {
     "name": "stdout",
     "output_type": "stream",
     "text": [
      "Found 0 frequent itemsets from 5th item candidate sets\n",
      "Partition 34:\n",
      "Found 100 candidate itemsets from 1st Level\n",
      "Found 78 frequent itemsets from 1th item candidate sets\n",
      "Found 3003 candidates for 2th item candidate sets\n",
      "Time taken to find 2th item candidate sets: 0.0003001689910888672\n"
     ]
    },
    {
     "name": "stderr",
     "output_type": "stream",
     "text": [
      "100%|██████████| 3003/3003 [00:00<00:00, 168596.33it/s]\n"
     ]
    },
    {
     "name": "stdout",
     "output_type": "stream",
     "text": [
      "Found 225 frequent itemsets from 2th item candidate sets\n",
      "Found 414 candidates for 3th item candidate sets\n",
      "Time taken to find 3th item candidate sets: 0.00958108901977539\n"
     ]
    },
    {
     "name": "stderr",
     "output_type": "stream",
     "text": [
      "100%|██████████| 414/414 [00:00<00:00, 31382.80it/s]\n"
     ]
    },
    {
     "name": "stdout",
     "output_type": "stream",
     "text": [
      "Found 89 frequent itemsets from 3th item candidate sets\n",
      "Found 12 candidates for 4th item candidate sets\n",
      "Time taken to find 4th item candidate sets: 0.0008869171142578125\n"
     ]
    },
    {
     "name": "stderr",
     "output_type": "stream",
     "text": [
      "100%|██████████| 12/12 [00:00<00:00, 1377.55it/s]\n"
     ]
    },
    {
     "name": "stdout",
     "output_type": "stream",
     "text": [
      "Found 5 frequent itemsets from 4th item candidate sets\n",
      "Found 0 candidates for 5th item candidate sets\n",
      "Time taken to find 5th item candidate sets: 1.7881393432617188e-05\n"
     ]
    },
    {
     "name": "stderr",
     "output_type": "stream",
     "text": [
      "0it [00:00, ?it/s]\n"
     ]
    },
    {
     "name": "stdout",
     "output_type": "stream",
     "text": [
      "Found 0 frequent itemsets from 5th item candidate sets\n",
      "Partition 35:\n",
      "Found 100 candidate itemsets from 1st Level\n",
      "Found 79 frequent itemsets from 1th item candidate sets\n",
      "Found 3081 candidates for 2th item candidate sets\n",
      "Time taken to find 2th item candidate sets: 0.0003020763397216797\n"
     ]
    },
    {
     "name": "stderr",
     "output_type": "stream",
     "text": [
      "100%|██████████| 3081/3081 [00:00<00:00, 167054.28it/s]\n"
     ]
    },
    {
     "name": "stdout",
     "output_type": "stream",
     "text": [
      "Found 234 frequent itemsets from 2th item candidate sets\n",
      "Found 469 candidates for 3th item candidate sets\n",
      "Time taken to find 3th item candidate sets: 0.011085033416748047\n"
     ]
    },
    {
     "name": "stderr",
     "output_type": "stream",
     "text": [
      "100%|██████████| 469/469 [00:00<00:00, 27153.78it/s]\n"
     ]
    },
    {
     "name": "stdout",
     "output_type": "stream",
     "text": [
      "Found 109 frequent itemsets from 3th item candidate sets\n",
      "Found 22 candidates for 4th item candidate sets\n",
      "Time taken to find 4th item candidate sets: 0.0012390613555908203\n"
     ]
    },
    {
     "name": "stderr",
     "output_type": "stream",
     "text": [
      "100%|██████████| 22/22 [00:00<00:00, 15816.71it/s]\n"
     ]
    },
    {
     "name": "stdout",
     "output_type": "stream",
     "text": [
      "Found 14 frequent itemsets from 4th item candidate sets\n",
      "Found 1 candidates for 5th item candidate sets\n",
      "Time taken to find 5th item candidate sets: 4.100799560546875e-05\n"
     ]
    },
    {
     "name": "stderr",
     "output_type": "stream",
     "text": [
      "100%|██████████| 1/1 [00:00<00:00, 6502.80it/s]\n"
     ]
    },
    {
     "name": "stdout",
     "output_type": "stream",
     "text": [
      "Found 1 frequent itemsets from 5th item candidate sets\n",
      "Found 0 candidates for 6th item candidate sets\n",
      "Time taken to find 6th item candidate sets: 6.9141387939453125e-06\n"
     ]
    },
    {
     "name": "stderr",
     "output_type": "stream",
     "text": [
      "0it [00:00, ?it/s]\n"
     ]
    },
    {
     "name": "stdout",
     "output_type": "stream",
     "text": [
      "Found 0 frequent itemsets from 6th item candidate sets\n",
      "Partition 36:\n",
      "Found 103 candidate itemsets from 1st Level\n",
      "Found 79 frequent itemsets from 1th item candidate sets\n",
      "Found 3081 candidates for 2th item candidate sets\n",
      "Time taken to find 2th item candidate sets: 0.0007600784301757812\n"
     ]
    },
    {
     "name": "stderr",
     "output_type": "stream",
     "text": [
      "100%|██████████| 3081/3081 [00:00<00:00, 167709.02it/s]\n"
     ]
    },
    {
     "name": "stdout",
     "output_type": "stream",
     "text": [
      "Found 212 frequent itemsets from 2th item candidate sets\n",
      "Found 375 candidates for 3th item candidate sets\n",
      "Time taken to find 3th item candidate sets: 0.008258819580078125\n"
     ]
    },
    {
     "name": "stderr",
     "output_type": "stream",
     "text": [
      "100%|██████████| 375/375 [00:00<00:00, 34773.26it/s]\n"
     ]
    },
    {
     "name": "stdout",
     "output_type": "stream",
     "text": [
      "Found 82 frequent itemsets from 3th item candidate sets\n",
      "Found 14 candidates for 4th item candidate sets\n",
      "Time taken to find 4th item candidate sets: 0.001390218734741211\n"
     ]
    },
    {
     "name": "stderr",
     "output_type": "stream",
     "text": [
      "100%|██████████| 14/14 [00:00<00:00, 9420.87it/s]\n"
     ]
    },
    {
     "name": "stdout",
     "output_type": "stream",
     "text": [
      "Found 7 frequent itemsets from 4th item candidate sets\n",
      "Found 0 candidates for 5th item candidate sets\n",
      "Time taken to find 5th item candidate sets: 5.91278076171875e-05\n"
     ]
    },
    {
     "name": "stderr",
     "output_type": "stream",
     "text": [
      "0it [00:00, ?it/s]\n"
     ]
    },
    {
     "name": "stdout",
     "output_type": "stream",
     "text": [
      "Found 0 frequent itemsets from 5th item candidate sets\n",
      "Partition 37:\n",
      "Found 102 candidate itemsets from 1st Level\n",
      "Found 76 frequent itemsets from 1th item candidate sets\n",
      "Found 2850 candidates for 2th item candidate sets\n",
      "Time taken to find 2th item candidate sets: 0.0007479190826416016\n"
     ]
    },
    {
     "name": "stderr",
     "output_type": "stream",
     "text": [
      "100%|██████████| 2850/2850 [00:00<00:00, 107804.25it/s]\n"
     ]
    },
    {
     "name": "stdout",
     "output_type": "stream",
     "text": [
      "Found 240 frequent itemsets from 2th item candidate sets\n",
      "Found 483 candidates for 3th item candidate sets\n",
      "Time taken to find 3th item candidate sets: 0.012969970703125\n"
     ]
    },
    {
     "name": "stderr",
     "output_type": "stream",
     "text": [
      "100%|██████████| 483/483 [00:00<00:00, 32579.35it/s]\n"
     ]
    },
    {
     "name": "stdout",
     "output_type": "stream",
     "text": [
      "Found 105 frequent itemsets from 3th item candidate sets\n",
      "Found 18 candidates for 4th item candidate sets\n",
      "Time taken to find 4th item candidate sets: 0.002106189727783203\n"
     ]
    },
    {
     "name": "stderr",
     "output_type": "stream",
     "text": [
      "100%|██████████| 18/18 [00:00<00:00, 8919.83it/s]\n"
     ]
    },
    {
     "name": "stdout",
     "output_type": "stream",
     "text": [
      "Found 14 frequent itemsets from 4th item candidate sets\n",
      "Found 1 candidates for 5th item candidate sets\n",
      "Time taken to find 5th item candidate sets: 8.0108642578125e-05\n"
     ]
    },
    {
     "name": "stderr",
     "output_type": "stream",
     "text": [
      "100%|██████████| 1/1 [00:00<00:00, 1711.96it/s]\n"
     ]
    },
    {
     "name": "stdout",
     "output_type": "stream",
     "text": [
      "Found 1 frequent itemsets from 5th item candidate sets\n",
      "Found 0 candidates for 6th item candidate sets\n",
      "Time taken to find 6th item candidate sets: 2.288818359375e-05\n"
     ]
    },
    {
     "name": "stderr",
     "output_type": "stream",
     "text": [
      "0it [00:00, ?it/s]\n"
     ]
    },
    {
     "name": "stdout",
     "output_type": "stream",
     "text": [
      "Found 0 frequent itemsets from 6th item candidate sets\n",
      "Partition 38:\n",
      "Found 103 candidate itemsets from 1st Level\n",
      "Found 80 frequent itemsets from 1th item candidate sets\n",
      "Found 3160 candidates for 2th item candidate sets\n",
      "Time taken to find 2th item candidate sets: 0.00038313865661621094\n"
     ]
    },
    {
     "name": "stderr",
     "output_type": "stream",
     "text": [
      "100%|██████████| 3160/3160 [00:00<00:00, 139699.61it/s]\n"
     ]
    },
    {
     "name": "stdout",
     "output_type": "stream",
     "text": [
      "Found 223 frequent itemsets from 2th item candidate sets\n",
      "Found 397 candidates for 3th item candidate sets\n",
      "Time taken to find 3th item candidate sets: 0.008615970611572266\n"
     ]
    },
    {
     "name": "stderr",
     "output_type": "stream",
     "text": [
      "100%|██████████| 397/397 [00:00<00:00, 29829.43it/s]\n"
     ]
    },
    {
     "name": "stdout",
     "output_type": "stream",
     "text": [
      "Found 120 frequent itemsets from 3th item candidate sets\n",
      "Found 28 candidates for 4th item candidate sets\n",
      "Time taken to find 4th item candidate sets: 0.001734018325805664\n"
     ]
    },
    {
     "name": "stderr",
     "output_type": "stream",
     "text": [
      "100%|██████████| 28/28 [00:00<00:00, 15573.60it/s]\n"
     ]
    },
    {
     "name": "stdout",
     "output_type": "stream",
     "text": [
      "Found 20 frequent itemsets from 4th item candidate sets\n",
      "Found 1 candidates for 5th item candidate sets\n",
      "Time taken to find 5th item candidate sets: 0.0005819797515869141\n"
     ]
    },
    {
     "name": "stderr",
     "output_type": "stream",
     "text": [
      "100%|██████████| 1/1 [00:00<00:00, 1830.77it/s]\n"
     ]
    },
    {
     "name": "stdout",
     "output_type": "stream",
     "text": [
      "Found 1 frequent itemsets from 5th item candidate sets\n",
      "Found 0 candidates for 6th item candidate sets\n",
      "Time taken to find 6th item candidate sets: 2.2172927856445312e-05\n"
     ]
    },
    {
     "name": "stderr",
     "output_type": "stream",
     "text": [
      "0it [00:00, ?it/s]\n"
     ]
    },
    {
     "name": "stdout",
     "output_type": "stream",
     "text": [
      "Found 0 frequent itemsets from 6th item candidate sets\n",
      "Partition 39:\n",
      "Found 106 candidate itemsets from 1st Level\n",
      "Found 76 frequent itemsets from 1th item candidate sets\n",
      "Found 2850 candidates for 2th item candidate sets\n",
      "Time taken to find 2th item candidate sets: 0.00026607513427734375\n"
     ]
    },
    {
     "name": "stderr",
     "output_type": "stream",
     "text": [
      "100%|██████████| 2850/2850 [00:00<00:00, 126790.06it/s]\n"
     ]
    },
    {
     "name": "stdout",
     "output_type": "stream",
     "text": [
      "Found 229 frequent itemsets from 2th item candidate sets\n",
      "Found 448 candidates for 3th item candidate sets\n",
      "Time taken to find 3th item candidate sets: 0.009862184524536133\n"
     ]
    },
    {
     "name": "stderr",
     "output_type": "stream",
     "text": [
      "100%|██████████| 448/448 [00:00<00:00, 27632.25it/s]\n"
     ]
    },
    {
     "name": "stdout",
     "output_type": "stream",
     "text": [
      "Found 87 frequent itemsets from 3th item candidate sets\n",
      "Found 10 candidates for 4th item candidate sets\n",
      "Time taken to find 4th item candidate sets: 0.0009281635284423828\n"
     ]
    },
    {
     "name": "stderr",
     "output_type": "stream",
     "text": [
      "100%|██████████| 10/10 [00:00<00:00, 14899.84it/s]\n"
     ]
    },
    {
     "name": "stdout",
     "output_type": "stream",
     "text": [
      "Found 6 frequent itemsets from 4th item candidate sets\n",
      "Found 0 candidates for 5th item candidate sets\n",
      "Time taken to find 5th item candidate sets: 4.601478576660156e-05\n"
     ]
    },
    {
     "name": "stderr",
     "output_type": "stream",
     "text": [
      "0it [00:00, ?it/s]\n"
     ]
    },
    {
     "name": "stdout",
     "output_type": "stream",
     "text": [
      "Found 0 frequent itemsets from 5th item candidate sets\n",
      "Partition 40:\n",
      "Found 103 candidate itemsets from 1st Level\n",
      "Found 78 frequent itemsets from 1th item candidate sets\n",
      "Found 3003 candidates for 2th item candidate sets\n",
      "Time taken to find 2th item candidate sets: 0.0004038810729980469\n"
     ]
    },
    {
     "name": "stderr",
     "output_type": "stream",
     "text": [
      "100%|██████████| 3003/3003 [00:00<00:00, 154515.62it/s]\n"
     ]
    },
    {
     "name": "stdout",
     "output_type": "stream",
     "text": [
      "Found 238 frequent itemsets from 2th item candidate sets\n",
      "Found 470 candidates for 3th item candidate sets\n",
      "Time taken to find 3th item candidate sets: 0.011221170425415039\n"
     ]
    },
    {
     "name": "stderr",
     "output_type": "stream",
     "text": [
      "100%|██████████| 470/470 [00:00<00:00, 28051.55it/s]\n"
     ]
    },
    {
     "name": "stdout",
     "output_type": "stream",
     "text": [
      "Found 94 frequent itemsets from 3th item candidate sets\n",
      "Found 15 candidates for 4th item candidate sets\n",
      "Time taken to find 4th item candidate sets: 0.0010781288146972656\n"
     ]
    },
    {
     "name": "stderr",
     "output_type": "stream",
     "text": [
      "100%|██████████| 15/15 [00:00<00:00, 11405.83it/s]\n"
     ]
    },
    {
     "name": "stdout",
     "output_type": "stream",
     "text": [
      "Found 10 frequent itemsets from 4th item candidate sets\n",
      "Found 0 candidates for 5th item candidate sets\n",
      "Time taken to find 5th item candidate sets: 7.700920104980469e-05\n"
     ]
    },
    {
     "name": "stderr",
     "output_type": "stream",
     "text": [
      "0it [00:00, ?it/s]\n"
     ]
    },
    {
     "name": "stdout",
     "output_type": "stream",
     "text": [
      "Found 0 frequent itemsets from 5th item candidate sets\n",
      "Partition 41:\n",
      "Found 100 candidate itemsets from 1st Level\n",
      "Found 79 frequent itemsets from 1th item candidate sets\n",
      "Found 3081 candidates for 2th item candidate sets\n",
      "Time taken to find 2th item candidate sets: 0.0003941059112548828\n"
     ]
    },
    {
     "name": "stderr",
     "output_type": "stream",
     "text": [
      "100%|██████████| 3081/3081 [00:00<00:00, 144479.17it/s]\n"
     ]
    },
    {
     "name": "stdout",
     "output_type": "stream",
     "text": [
      "Found 228 frequent itemsets from 2th item candidate sets\n",
      "Found 408 candidates for 3th item candidate sets\n",
      "Time taken to find 3th item candidate sets: 0.010046243667602539\n"
     ]
    },
    {
     "name": "stderr",
     "output_type": "stream",
     "text": [
      "100%|██████████| 408/408 [00:00<00:00, 26573.02it/s]\n"
     ]
    },
    {
     "name": "stdout",
     "output_type": "stream",
     "text": [
      "Found 90 frequent itemsets from 3th item candidate sets\n",
      "Found 14 candidates for 4th item candidate sets\n",
      "Time taken to find 4th item candidate sets: 0.0021467208862304688\n"
     ]
    },
    {
     "name": "stderr",
     "output_type": "stream",
     "text": [
      "100%|██████████| 14/14 [00:00<00:00, 16863.94it/s]\n"
     ]
    },
    {
     "name": "stdout",
     "output_type": "stream",
     "text": [
      "Found 11 frequent itemsets from 4th item candidate sets\n",
      "Found 1 candidates for 5th item candidate sets\n",
      "Time taken to find 5th item candidate sets: 3.910064697265625e-05\n"
     ]
    },
    {
     "name": "stderr",
     "output_type": "stream",
     "text": [
      "100%|██████████| 1/1 [00:00<00:00, 1009.22it/s]\n"
     ]
    },
    {
     "name": "stdout",
     "output_type": "stream",
     "text": [
      "Found 1 frequent itemsets from 5th item candidate sets\n",
      "Found 0 candidates for 6th item candidate sets\n",
      "Time taken to find 6th item candidate sets: 2.193450927734375e-05\n"
     ]
    },
    {
     "name": "stderr",
     "output_type": "stream",
     "text": [
      "0it [00:00, ?it/s]\n"
     ]
    },
    {
     "name": "stdout",
     "output_type": "stream",
     "text": [
      "Found 0 frequent itemsets from 6th item candidate sets\n",
      "Partition 42:\n",
      "Found 111 candidate itemsets from 1st Level\n",
      "Found 82 frequent itemsets from 1th item candidate sets\n",
      "Found 3321 candidates for 2th item candidate sets\n",
      "Time taken to find 2th item candidate sets: 0.0006382465362548828\n"
     ]
    },
    {
     "name": "stderr",
     "output_type": "stream",
     "text": [
      "100%|██████████| 3321/3321 [00:00<00:00, 92981.53it/s]\n"
     ]
    },
    {
     "name": "stdout",
     "output_type": "stream",
     "text": [
      "Found 240 frequent itemsets from 2th item candidate sets\n",
      "Found 429 candidates for 3th item candidate sets\n",
      "Time taken to find 3th item candidate sets: 0.010107040405273438\n"
     ]
    },
    {
     "name": "stderr",
     "output_type": "stream",
     "text": [
      "100%|██████████| 429/429 [00:00<00:00, 19167.99it/s]\n"
     ]
    },
    {
     "name": "stdout",
     "output_type": "stream",
     "text": [
      "Found 110 frequent itemsets from 3th item candidate sets\n",
      "Found 23 candidates for 4th item candidate sets\n",
      "Time taken to find 4th item candidate sets: 0.0013649463653564453\n"
     ]
    },
    {
     "name": "stderr",
     "output_type": "stream",
     "text": [
      "100%|██████████| 23/23 [00:00<00:00, 19375.17it/s]\n"
     ]
    },
    {
     "name": "stdout",
     "output_type": "stream",
     "text": [
      "Found 17 frequent itemsets from 4th item candidate sets\n",
      "Found 1 candidates for 5th item candidate sets\n",
      "Time taken to find 5th item candidate sets: 5.0067901611328125e-05\n"
     ]
    },
    {
     "name": "stderr",
     "output_type": "stream",
     "text": [
      "100%|██████████| 1/1 [00:00<00:00, 7681.88it/s]\n"
     ]
    },
    {
     "name": "stdout",
     "output_type": "stream",
     "text": [
      "Found 1 frequent itemsets from 5th item candidate sets\n",
      "Found 0 candidates for 6th item candidate sets\n",
      "Time taken to find 6th item candidate sets: 7.867813110351562e-06\n"
     ]
    },
    {
     "name": "stderr",
     "output_type": "stream",
     "text": [
      "0it [00:00, ?it/s]\n"
     ]
    },
    {
     "name": "stdout",
     "output_type": "stream",
     "text": [
      "Found 0 frequent itemsets from 6th item candidate sets\n",
      "Partition 43:\n",
      "Found 107 candidate itemsets from 1st Level\n",
      "Found 77 frequent itemsets from 1th item candidate sets\n",
      "Found 2926 candidates for 2th item candidate sets\n",
      "Time taken to find 2th item candidate sets: 0.0002620220184326172\n"
     ]
    },
    {
     "name": "stderr",
     "output_type": "stream",
     "text": [
      "100%|██████████| 2926/2926 [00:00<00:00, 181616.21it/s]\n"
     ]
    },
    {
     "name": "stdout",
     "output_type": "stream",
     "text": [
      "Found 219 frequent itemsets from 2th item candidate sets\n",
      "Found 419 candidates for 3th item candidate sets\n",
      "Time taken to find 3th item candidate sets: 0.00988006591796875\n"
     ]
    },
    {
     "name": "stderr",
     "output_type": "stream",
     "text": [
      "100%|██████████| 419/419 [00:00<00:00, 28745.50it/s]\n"
     ]
    },
    {
     "name": "stdout",
     "output_type": "stream",
     "text": [
      "Found 101 frequent itemsets from 3th item candidate sets\n",
      "Found 16 candidates for 4th item candidate sets\n",
      "Time taken to find 4th item candidate sets: 0.0027430057525634766\n"
     ]
    },
    {
     "name": "stderr",
     "output_type": "stream",
     "text": [
      "100%|██████████| 16/16 [00:00<00:00, 13137.99it/s]\n"
     ]
    },
    {
     "name": "stdout",
     "output_type": "stream",
     "text": [
      "Found 10 frequent itemsets from 4th item candidate sets\n",
      "Found 0 candidates for 5th item candidate sets\n",
      "Time taken to find 5th item candidate sets: 3.3855438232421875e-05\n"
     ]
    },
    {
     "name": "stderr",
     "output_type": "stream",
     "text": [
      "0it [00:00, ?it/s]\n"
     ]
    },
    {
     "name": "stdout",
     "output_type": "stream",
     "text": [
      "Found 0 frequent itemsets from 5th item candidate sets\n",
      "Partition 44:\n",
      "Found 103 candidate itemsets from 1st Level\n",
      "Found 78 frequent itemsets from 1th item candidate sets\n",
      "Found 3003 candidates for 2th item candidate sets\n",
      "Time taken to find 2th item candidate sets: 0.00031185150146484375\n"
     ]
    },
    {
     "name": "stderr",
     "output_type": "stream",
     "text": [
      "100%|██████████| 3003/3003 [00:00<00:00, 175767.44it/s]\n"
     ]
    },
    {
     "name": "stdout",
     "output_type": "stream",
     "text": [
      "Found 242 frequent itemsets from 2th item candidate sets\n",
      "Found 477 candidates for 3th item candidate sets\n",
      "Time taken to find 3th item candidate sets: 0.01060795783996582\n"
     ]
    },
    {
     "name": "stderr",
     "output_type": "stream",
     "text": [
      "100%|██████████| 477/477 [00:00<00:00, 27805.80it/s]\n"
     ]
    },
    {
     "name": "stdout",
     "output_type": "stream",
     "text": [
      "Found 90 frequent itemsets from 3th item candidate sets\n",
      "Found 15 candidates for 4th item candidate sets\n",
      "Time taken to find 4th item candidate sets: 0.0009791851043701172\n"
     ]
    },
    {
     "name": "stderr",
     "output_type": "stream",
     "text": [
      "100%|██████████| 15/15 [00:00<00:00, 4548.15it/s]\n"
     ]
    },
    {
     "name": "stdout",
     "output_type": "stream",
     "text": [
      "Found 9 frequent itemsets from 4th item candidate sets\n",
      "Found 0 candidates for 5th item candidate sets\n",
      "Time taken to find 5th item candidate sets: 4.1961669921875e-05\n"
     ]
    },
    {
     "name": "stderr",
     "output_type": "stream",
     "text": [
      "0it [00:00, ?it/s]\n"
     ]
    },
    {
     "name": "stdout",
     "output_type": "stream",
     "text": [
      "Found 0 frequent itemsets from 5th item candidate sets\n",
      "Partition 45:\n",
      "Found 103 candidate itemsets from 1st Level\n",
      "Found 77 frequent itemsets from 1th item candidate sets\n",
      "Found 2926 candidates for 2th item candidate sets\n",
      "Time taken to find 2th item candidate sets: 0.0003390312194824219\n"
     ]
    },
    {
     "name": "stderr",
     "output_type": "stream",
     "text": [
      "100%|██████████| 2926/2926 [00:00<00:00, 157992.40it/s]\n"
     ]
    },
    {
     "name": "stdout",
     "output_type": "stream",
     "text": [
      "Found 222 frequent itemsets from 2th item candidate sets\n",
      "Found 393 candidates for 3th item candidate sets\n",
      "Time taken to find 3th item candidate sets: 0.014330863952636719\n"
     ]
    },
    {
     "name": "stderr",
     "output_type": "stream",
     "text": [
      "100%|██████████| 393/393 [00:00<00:00, 28529.72it/s]\n"
     ]
    },
    {
     "name": "stdout",
     "output_type": "stream",
     "text": [
      "Found 76 frequent itemsets from 3th item candidate sets\n",
      "Found 7 candidates for 4th item candidate sets\n",
      "Time taken to find 4th item candidate sets: 0.0005869865417480469\n"
     ]
    },
    {
     "name": "stderr",
     "output_type": "stream",
     "text": [
      "100%|██████████| 7/7 [00:00<00:00, 12367.37it/s]\n"
     ]
    },
    {
     "name": "stdout",
     "output_type": "stream",
     "text": [
      "Found 6 frequent itemsets from 4th item candidate sets\n",
      "Found 0 candidates for 5th item candidate sets\n",
      "Time taken to find 5th item candidate sets: 2.002716064453125e-05\n"
     ]
    },
    {
     "name": "stderr",
     "output_type": "stream",
     "text": [
      "0it [00:00, ?it/s]\n"
     ]
    },
    {
     "name": "stdout",
     "output_type": "stream",
     "text": [
      "Found 0 frequent itemsets from 5th item candidate sets\n",
      "Partition 46:\n",
      "Found 97 candidate itemsets from 1st Level\n",
      "Found 76 frequent itemsets from 1th item candidate sets\n",
      "Found 2850 candidates for 2th item candidate sets\n",
      "Time taken to find 2th item candidate sets: 0.00022220611572265625\n"
     ]
    },
    {
     "name": "stderr",
     "output_type": "stream",
     "text": [
      "100%|██████████| 2850/2850 [00:00<00:00, 250393.10it/s]\n"
     ]
    },
    {
     "name": "stdout",
     "output_type": "stream",
     "text": [
      "Found 207 frequent itemsets from 2th item candidate sets\n",
      "Found 316 candidates for 3th item candidate sets\n",
      "Time taken to find 3th item candidate sets: 0.008298873901367188\n"
     ]
    },
    {
     "name": "stderr",
     "output_type": "stream",
     "text": [
      "100%|██████████| 316/316 [00:00<00:00, 69436.30it/s]\n"
     ]
    },
    {
     "name": "stdout",
     "output_type": "stream",
     "text": [
      "Found 95 frequent itemsets from 3th item candidate sets\n",
      "Found 15 candidates for 4th item candidate sets\n",
      "Time taken to find 4th item candidate sets: 0.001544952392578125\n"
     ]
    },
    {
     "name": "stderr",
     "output_type": "stream",
     "text": [
      "100%|██████████| 15/15 [00:00<00:00, 35444.82it/s]\n"
     ]
    },
    {
     "name": "stdout",
     "output_type": "stream",
     "text": [
      "Found 13 frequent itemsets from 4th item candidate sets\n",
      "Found 0 candidates for 5th item candidate sets\n",
      "Time taken to find 5th item candidate sets: 0.00011682510375976562\n"
     ]
    },
    {
     "name": "stderr",
     "output_type": "stream",
     "text": [
      "0it [00:00, ?it/s]"
     ]
    },
    {
     "name": "stdout",
     "output_type": "stream",
     "text": [
      "Found 0 frequent itemsets from 5th item candidate sets\n"
     ]
    },
    {
     "name": "stderr",
     "output_type": "stream",
     "text": [
      "\n"
     ]
    }
   ],
   "source": [
    "file_path = 'processed_bakery_output_shuffled.txt'\n",
    "size_of_data = sum(1 for line in open(file_path))\n",
    "min_support=0.001\n",
    "partition_size = 3000\n",
    "num_partitions = size_of_data// partition_size\n",
    "print(num_partitions)\n",
    "partition_candidates = []\n",
    "global_candidates = collections.defaultdict(list)\n",
    "# Step 1: Partitioning\n",
    "global_min_support = math.ceil((min_support*size_of_data)/num_partitions)\n",
    "for i, partition in enumerate(read_file_in_partitions(file_path, partition_size)):\n",
    "    print(f'Partition {i+1}:')\n",
    "    dict_bakery = {}\n",
    "    for line in partition:\n",
    "        sales, bakery_list_str = line.strip().split(' ', 1)\n",
    "        bakery_list = ast.literal_eval(bakery_list_str)\n",
    "        dict_bakery[sales] = bakery_list\n",
    "   \n",
    "    improved_apriori = Improved_Apriori(dict_bakery, min_support=min_support, min_confidence=1, verbose=2)\n",
    "    # Step 2: Retreieve frequent itemset per partition\n",
    "    partition_frequent_itemset = improved_apriori.apriori()\n",
    "    # Efficient Apriori for sanity check\n",
    "    # partition_frequent_itemset, _ = apriori(list(dict_bakery.values()), min_support = min_support, verbosity=2)\n",
    "\n",
    "    # Form the global candidate set from the large itemset in each partitions\n",
    "    # In this space, we ignore the count of itemset in each partition as they are not useful in our global support count\n",
    "    # All they do is just show the itemset was large enough in the current partition\n",
    "    # Merging Phase\n",
    "    for level, itemset in partition_frequent_itemset.items():\n",
    "        for key in itemset.keys():\n",
    "            if(key not in global_candidates[level]):\n",
    "                global_candidates[level].append(key)"
   ]
  },
  {
   "cell_type": "code",
   "execution_count": 8,
   "metadata": {},
   "outputs": [
    {
     "name": "stdout",
     "output_type": "stream",
     "text": [
      "Partition 1:\n"
     ]
    },
    {
     "name": "stderr",
     "output_type": "stream",
     "text": [
      "100%|██████████| 4/4 [00:00<00:00, 129.58it/s]\n"
     ]
    },
    {
     "name": "stdout",
     "output_type": "stream",
     "text": [
      "Partition 2:\n"
     ]
    },
    {
     "name": "stderr",
     "output_type": "stream",
     "text": [
      "100%|██████████| 4/4 [00:00<00:00, 130.64it/s]"
     ]
    },
    {
     "name": "stdout",
     "output_type": "stream",
     "text": [
      "Partition 3:\n"
     ]
    },
    {
     "name": "stderr",
     "output_type": "stream",
     "text": [
      "\n",
      "100%|██████████| 4/4 [00:00<00:00, 118.36it/s]\n"
     ]
    },
    {
     "name": "stdout",
     "output_type": "stream",
     "text": [
      "Partition 4:\n"
     ]
    },
    {
     "name": "stderr",
     "output_type": "stream",
     "text": [
      "100%|██████████| 4/4 [00:00<00:00, 127.40it/s]\n"
     ]
    },
    {
     "name": "stdout",
     "output_type": "stream",
     "text": [
      "Partition 5:\n"
     ]
    },
    {
     "name": "stderr",
     "output_type": "stream",
     "text": [
      "100%|██████████| 4/4 [00:00<00:00, 124.75it/s]\n"
     ]
    },
    {
     "name": "stdout",
     "output_type": "stream",
     "text": [
      "Partition 6:\n"
     ]
    },
    {
     "name": "stderr",
     "output_type": "stream",
     "text": [
      "100%|██████████| 4/4 [00:00<00:00, 113.28it/s]"
     ]
    },
    {
     "name": "stdout",
     "output_type": "stream",
     "text": [
      "Partition 7:\n"
     ]
    },
    {
     "name": "stderr",
     "output_type": "stream",
     "text": [
      "\n",
      "100%|██████████| 4/4 [00:00<00:00, 123.44it/s]\n"
     ]
    },
    {
     "name": "stdout",
     "output_type": "stream",
     "text": [
      "Partition 8:\n"
     ]
    },
    {
     "name": "stderr",
     "output_type": "stream",
     "text": [
      "100%|██████████| 4/4 [00:00<00:00, 78.31it/s]\n"
     ]
    },
    {
     "name": "stdout",
     "output_type": "stream",
     "text": [
      "Partition 9:\n"
     ]
    },
    {
     "name": "stderr",
     "output_type": "stream",
     "text": [
      "100%|██████████| 4/4 [00:00<00:00, 116.80it/s]\n"
     ]
    },
    {
     "name": "stdout",
     "output_type": "stream",
     "text": [
      "Partition 10:\n"
     ]
    },
    {
     "name": "stderr",
     "output_type": "stream",
     "text": [
      "100%|██████████| 4/4 [00:00<00:00, 113.11it/s]\n"
     ]
    },
    {
     "name": "stdout",
     "output_type": "stream",
     "text": [
      "Partition 11:\n"
     ]
    },
    {
     "name": "stderr",
     "output_type": "stream",
     "text": [
      "100%|██████████| 4/4 [00:00<00:00, 129.09it/s]\n"
     ]
    },
    {
     "name": "stdout",
     "output_type": "stream",
     "text": [
      "Partition 12:\n"
     ]
    },
    {
     "name": "stderr",
     "output_type": "stream",
     "text": [
      "100%|██████████| 4/4 [00:00<00:00, 118.26it/s]\n"
     ]
    },
    {
     "name": "stdout",
     "output_type": "stream",
     "text": [
      "Partition 13:\n"
     ]
    },
    {
     "name": "stderr",
     "output_type": "stream",
     "text": [
      "100%|██████████| 4/4 [00:00<00:00, 119.59it/s]\n"
     ]
    },
    {
     "name": "stdout",
     "output_type": "stream",
     "text": [
      "Partition 14:\n"
     ]
    },
    {
     "name": "stderr",
     "output_type": "stream",
     "text": [
      "100%|██████████| 4/4 [00:00<00:00, 114.78it/s]\n"
     ]
    },
    {
     "name": "stdout",
     "output_type": "stream",
     "text": [
      "Partition 15:\n"
     ]
    },
    {
     "name": "stderr",
     "output_type": "stream",
     "text": [
      "100%|██████████| 4/4 [00:00<00:00, 128.38it/s]\n"
     ]
    },
    {
     "name": "stdout",
     "output_type": "stream",
     "text": [
      "Partition 16:\n"
     ]
    },
    {
     "name": "stderr",
     "output_type": "stream",
     "text": [
      "100%|██████████| 4/4 [00:00<00:00, 123.56it/s]\n"
     ]
    },
    {
     "name": "stdout",
     "output_type": "stream",
     "text": [
      "Partition 17:\n"
     ]
    },
    {
     "name": "stderr",
     "output_type": "stream",
     "text": [
      "100%|██████████| 4/4 [00:00<00:00, 130.42it/s]\n"
     ]
    },
    {
     "name": "stdout",
     "output_type": "stream",
     "text": [
      "Partition 18:\n"
     ]
    },
    {
     "name": "stderr",
     "output_type": "stream",
     "text": [
      "100%|██████████| 4/4 [00:00<00:00, 124.07it/s]"
     ]
    },
    {
     "name": "stdout",
     "output_type": "stream",
     "text": [
      "Partition 19:\n"
     ]
    },
    {
     "name": "stderr",
     "output_type": "stream",
     "text": [
      "\n",
      "100%|██████████| 4/4 [00:00<00:00, 123.95it/s]\n"
     ]
    },
    {
     "name": "stdout",
     "output_type": "stream",
     "text": [
      "Partition 20:\n"
     ]
    },
    {
     "name": "stderr",
     "output_type": "stream",
     "text": [
      "100%|██████████| 4/4 [00:00<00:00, 131.84it/s]\n"
     ]
    },
    {
     "name": "stdout",
     "output_type": "stream",
     "text": [
      "Partition 21:\n"
     ]
    },
    {
     "name": "stderr",
     "output_type": "stream",
     "text": [
      "100%|██████████| 4/4 [00:00<00:00, 129.79it/s]\n"
     ]
    },
    {
     "name": "stdout",
     "output_type": "stream",
     "text": [
      "Partition 22:\n"
     ]
    },
    {
     "name": "stderr",
     "output_type": "stream",
     "text": [
      "100%|██████████| 4/4 [00:00<00:00, 132.36it/s]\n"
     ]
    },
    {
     "name": "stdout",
     "output_type": "stream",
     "text": [
      "Partition 23:\n"
     ]
    },
    {
     "name": "stderr",
     "output_type": "stream",
     "text": [
      "100%|██████████| 4/4 [00:00<00:00, 132.55it/s]\n"
     ]
    },
    {
     "name": "stdout",
     "output_type": "stream",
     "text": [
      "Partition 24:\n"
     ]
    },
    {
     "name": "stderr",
     "output_type": "stream",
     "text": [
      "100%|██████████| 4/4 [00:00<00:00, 126.24it/s]\n"
     ]
    },
    {
     "name": "stdout",
     "output_type": "stream",
     "text": [
      "Partition 25:\n"
     ]
    },
    {
     "name": "stderr",
     "output_type": "stream",
     "text": [
      "100%|██████████| 4/4 [00:00<00:00, 123.42it/s]\n"
     ]
    },
    {
     "name": "stdout",
     "output_type": "stream",
     "text": [
      "Partition 26:\n"
     ]
    },
    {
     "name": "stderr",
     "output_type": "stream",
     "text": [
      "100%|██████████| 4/4 [00:00<00:00, 133.94it/s]\n"
     ]
    },
    {
     "name": "stdout",
     "output_type": "stream",
     "text": [
      "Partition 27:\n"
     ]
    },
    {
     "name": "stderr",
     "output_type": "stream",
     "text": [
      "100%|██████████| 4/4 [00:00<00:00, 124.03it/s]\n"
     ]
    },
    {
     "name": "stdout",
     "output_type": "stream",
     "text": [
      "Partition 28:\n"
     ]
    },
    {
     "name": "stderr",
     "output_type": "stream",
     "text": [
      "100%|██████████| 4/4 [00:00<00:00, 125.57it/s]\n"
     ]
    },
    {
     "name": "stdout",
     "output_type": "stream",
     "text": [
      "Partition 29:\n"
     ]
    },
    {
     "name": "stderr",
     "output_type": "stream",
     "text": [
      "100%|██████████| 4/4 [00:00<00:00, 109.09it/s]\n"
     ]
    },
    {
     "name": "stdout",
     "output_type": "stream",
     "text": [
      "Partition 30:\n"
     ]
    },
    {
     "name": "stderr",
     "output_type": "stream",
     "text": [
      "100%|██████████| 4/4 [00:00<00:00, 91.27it/s]\n"
     ]
    },
    {
     "name": "stdout",
     "output_type": "stream",
     "text": [
      "Partition 31:\n"
     ]
    },
    {
     "name": "stderr",
     "output_type": "stream",
     "text": [
      "100%|██████████| 4/4 [00:00<00:00, 91.05it/s]\n"
     ]
    },
    {
     "name": "stdout",
     "output_type": "stream",
     "text": [
      "Partition 32:\n"
     ]
    },
    {
     "name": "stderr",
     "output_type": "stream",
     "text": [
      "100%|██████████| 4/4 [00:00<00:00, 118.35it/s]\n"
     ]
    },
    {
     "name": "stdout",
     "output_type": "stream",
     "text": [
      "Partition 33:\n"
     ]
    },
    {
     "name": "stderr",
     "output_type": "stream",
     "text": [
      "100%|██████████| 4/4 [00:00<00:00, 121.41it/s]\n"
     ]
    },
    {
     "name": "stdout",
     "output_type": "stream",
     "text": [
      "Partition 34:\n"
     ]
    },
    {
     "name": "stderr",
     "output_type": "stream",
     "text": [
      "100%|██████████| 4/4 [00:00<00:00, 125.83it/s]\n"
     ]
    },
    {
     "name": "stdout",
     "output_type": "stream",
     "text": [
      "Partition 35:\n"
     ]
    },
    {
     "name": "stderr",
     "output_type": "stream",
     "text": [
      "100%|██████████| 4/4 [00:00<00:00, 120.45it/s]\n"
     ]
    },
    {
     "name": "stdout",
     "output_type": "stream",
     "text": [
      "Partition 36:\n"
     ]
    },
    {
     "name": "stderr",
     "output_type": "stream",
     "text": [
      "100%|██████████| 4/4 [00:00<00:00, 124.66it/s]\n"
     ]
    },
    {
     "name": "stdout",
     "output_type": "stream",
     "text": [
      "Partition 37:\n"
     ]
    },
    {
     "name": "stderr",
     "output_type": "stream",
     "text": [
      "100%|██████████| 4/4 [00:00<00:00, 115.90it/s]\n"
     ]
    },
    {
     "name": "stdout",
     "output_type": "stream",
     "text": [
      "Partition 38:\n"
     ]
    },
    {
     "name": "stderr",
     "output_type": "stream",
     "text": [
      "100%|██████████| 4/4 [00:00<00:00, 102.34it/s]\n"
     ]
    },
    {
     "name": "stdout",
     "output_type": "stream",
     "text": [
      "Partition 39:\n"
     ]
    },
    {
     "name": "stderr",
     "output_type": "stream",
     "text": [
      "100%|██████████| 4/4 [00:00<00:00, 78.27it/s]\n"
     ]
    },
    {
     "name": "stdout",
     "output_type": "stream",
     "text": [
      "Partition 40:\n"
     ]
    },
    {
     "name": "stderr",
     "output_type": "stream",
     "text": [
      "100%|██████████| 4/4 [00:00<00:00, 113.52it/s]\n"
     ]
    },
    {
     "name": "stdout",
     "output_type": "stream",
     "text": [
      "Partition 41:\n"
     ]
    },
    {
     "name": "stderr",
     "output_type": "stream",
     "text": [
      "100%|██████████| 4/4 [00:00<00:00, 120.72it/s]\n"
     ]
    },
    {
     "name": "stdout",
     "output_type": "stream",
     "text": [
      "Partition 42:\n"
     ]
    },
    {
     "name": "stderr",
     "output_type": "stream",
     "text": [
      "100%|██████████| 4/4 [00:00<00:00, 112.05it/s]\n"
     ]
    },
    {
     "name": "stdout",
     "output_type": "stream",
     "text": [
      "Partition 43:\n"
     ]
    },
    {
     "name": "stderr",
     "output_type": "stream",
     "text": [
      "100%|██████████| 4/4 [00:00<00:00, 128.14it/s]\n"
     ]
    },
    {
     "name": "stdout",
     "output_type": "stream",
     "text": [
      "Partition 44:\n"
     ]
    },
    {
     "name": "stderr",
     "output_type": "stream",
     "text": [
      "100%|██████████| 4/4 [00:00<00:00, 121.46it/s]\n"
     ]
    },
    {
     "name": "stdout",
     "output_type": "stream",
     "text": [
      "Partition 45:\n"
     ]
    },
    {
     "name": "stderr",
     "output_type": "stream",
     "text": [
      "100%|██████████| 4/4 [00:00<00:00, 123.64it/s]\n"
     ]
    },
    {
     "name": "stdout",
     "output_type": "stream",
     "text": [
      "Partition 46:\n"
     ]
    },
    {
     "name": "stderr",
     "output_type": "stream",
     "text": [
      "100%|██████████| 4/4 [00:00<00:00, 339.70it/s]\n"
     ]
    }
   ],
   "source": [
    "# Now we have to read the lines in chunks for our disk-based operations\n",
    "min_support_count = min_support * size_of_data\n",
    "for i, partition in enumerate(read_file_in_partitions(file_path, partition_size)):\n",
    "    print(f'Partition {i+1}:')\n",
    "\n",
    "    # Hold the partition data in main memory\n",
    "    dict_bakery = {}\n",
    "    for line in partition:\n",
    "        sales, bakery_list_str = line.strip().split(' ', 1)\n",
    "        bakery_list = ast.literal_eval(bakery_list_str)\n",
    "        dict_bakery[sales] = bakery_list\n",
    "    # Pure disk based implementation would probably require us to save the global candidates in disk \n",
    "    generate_global_counts(dict_bakery, global_candidates)\n",
    "    \n",
    "        "
   ]
  },
  {
   "cell_type": "code",
   "execution_count": 9,
   "metadata": {},
   "outputs": [
    {
     "data": {
      "text/plain": [
       "{1: {('BAGUETTE',): 15292,\n",
       "  ('TRADITIONAL BAGUETTE',): 67688,\n",
       "  ('CAMPAGNE',): 3905,\n",
       "  ('CEREAL BAGUETTE',): 4961,\n",
       "  ('BANETTE',): 15130,\n",
       "  ('PAIN AU CHOCOLAT',): 10578,\n",
       "  ('CROISSANT',): 11508,\n",
       "  ('BANETTINE',): 2817,\n",
       "  ('BOULE 200G',): 2691,\n",
       "  ('COMPLET',): 3140,\n",
       "  ('COUPE',): 20470,\n",
       "  ('DIVERS VIENNOISERIE',): 827,\n",
       "  ('ECLAIR',): 2006,\n",
       "  ('FICELLE',): 2655,\n",
       "  ('GRAND FAR BRETON',): 1378,\n",
       "  ('QUIM BREAD',): 1304,\n",
       "  ('BRIOCHE',): 1657,\n",
       "  ('TARTELETTE',): 2861,\n",
       "  ('NANTAIS',): 390,\n",
       "  ('FLAN ABRICOT',): 568,\n",
       "  ('FORMULE SANDWICH',): 4202,\n",
       "  ('CAFE OU EAU',): 1436,\n",
       "  ('MOISSON',): 3107,\n",
       "  ('SPECIAL BREAD',): 5195,\n",
       "  ('KOUIGN AMANN',): 1332,\n",
       "  ('SUCETTE',): 525,\n",
       "  ('GD KOUIGN AMANN',): 832,\n",
       "  ('DIVERS BOULANGERIE',): 316,\n",
       "  ('PAIN',): 1918,\n",
       "  ('VIK BREAD',): 3147,\n",
       "  ('SPECIAL BREAD KG',): 460,\n",
       "  ('SAVARIN',): 337,\n",
       "  ('PLAT 7.60E',): 244,\n",
       "  ('PAIN BANETTE',): 2727,\n",
       "  ('NOIX JAPONAISE',): 334,\n",
       "  ('BOULE POLKA',): 502,\n",
       "  ('SAND JB EMMENTAL',): 1505,\n",
       "  ('BOULE 400G',): 4099,\n",
       "  ('TRAITEUR',): 1309,\n",
       "  ('PAIN AUX RAISINS',): 1991,\n",
       "  ('CHAUSSON AUX POMMES',): 1442,\n",
       "  ('CROISSANT AMANDES',): 1804,\n",
       "  ('PAIN CHOCO AMANDES',): 1484,\n",
       "  ('FRAISIER',): 357,\n",
       "  ('SACHET VIENNOISERIE',): 497,\n",
       "  ('FINANCIER X5',): 1021,\n",
       "  ('DIVERS CONFISERIE',): 482,\n",
       "  ('COOKIE',): 2002,\n",
       "  ('FONDANT CHOCOLAT',): 218,\n",
       "  ('GD FAR BRETON',): 161,\n",
       "  ('SANDWICH COMPLET',): 2210,\n",
       "  ('DEMI BAGUETTE',): 1144,\n",
       "  ('TROPEZIENNE',): 357,\n",
       "  ('FLAN',): 833,\n",
       "  ('SEIGLE',): 1334,\n",
       "  ('BOISSON 33CL',): 1481,\n",
       "  ('PARIS BREST',): 917,\n",
       "  ('GRANDE SUCETTE',): 193,\n",
       "  ('BAGUETTE GRAINE',): 1505,\n",
       "  ('DIVERS PATISSERIE',): 500,\n",
       "  ('TARTELETTE FRAISE',): 493,\n",
       "  ('PT NANTAIS',): 478,\n",
       "  ('TARTE FRUITS 4P',): 358,\n",
       "  ('DIVERS SANDWICHS',): 239,\n",
       "  ('MILLES FEUILLES',): 764,\n",
       "  ('DEMI PAIN',): 163,\n",
       "  ('ROYAL',): 174,\n",
       "  ('TARTE FRUITS 6P',): 272,\n",
       "  ('VIENNOISE',): 183,\n",
       "  ('CHOU CHANTILLY',): 206,\n",
       "  ('TARTE FRAISE 4PER',): 149,\n",
       "  ('PALET BRETON',): 156,\n",
       "  ('GAL FRANGIPANE 4P',): 203},\n",
       " 2: {('BAGUETTE', 'BANETTE'): 894,\n",
       "  ('BAGUETTE', 'BANETTINE'): 182,\n",
       "  ('BAGUETTE', 'BOULE 200G'): 270,\n",
       "  ('BAGUETTE', 'BOULE 400G'): 441,\n",
       "  ('BAGUETTE', 'CAMPAGNE'): 313,\n",
       "  ('BAGUETTE', 'CEREAL BAGUETTE'): 244,\n",
       "  ('BAGUETTE', 'CHAUSSON AUX POMMES'): 143,\n",
       "  ('BAGUETTE', 'COUPE'): 1538,\n",
       "  ('BAGUETTE', 'CROISSANT'): 1472,\n",
       "  ('BAGUETTE', 'DEMI BAGUETTE'): 193,\n",
       "  ('BAGUETTE', 'FICELLE'): 316,\n",
       "  ('BAGUETTE', 'PAIN AU CHOCOLAT'): 1198,\n",
       "  ('BAGUETTE', 'SPECIAL BREAD'): 246,\n",
       "  ('BAGUETTE', 'TARTELETTE'): 197,\n",
       "  ('BAGUETTE', 'TRADITIONAL BAGUETTE'): 2037,\n",
       "  ('BAGUETTE GRAINE', 'CEREAL BAGUETTE'): 149,\n",
       "  ('BAGUETTE GRAINE', 'COUPE'): 227,\n",
       "  ('BAGUETTE GRAINE', 'TRADITIONAL BAGUETTE'): 511,\n",
       "  ('BANETTE', 'BANETTINE'): 270,\n",
       "  ('BANETTE', 'BOULE 200G'): 170,\n",
       "  ('BANETTE', 'BOULE 400G'): 318,\n",
       "  ('BANETTE', 'BRIOCHE'): 140,\n",
       "  ('BANETTE', 'CAMPAGNE'): 249,\n",
       "  ('BANETTE', 'CEREAL BAGUETTE'): 189,\n",
       "  ('BANETTE', 'COMPLET'): 230,\n",
       "  ('BANETTE', 'COUPE'): 1271,\n",
       "  ('BANETTE', 'CROISSANT'): 961,\n",
       "  ('BANETTE', 'FICELLE'): 302,\n",
       "  ('BANETTE', 'MOISSON'): 217,\n",
       "  ('BANETTE', 'PAIN AU CHOCOLAT'): 731,\n",
       "  ('BANETTE', 'PAIN AUX RAISINS'): 148,\n",
       "  ('BANETTE', 'PAIN BANETTE'): 181,\n",
       "  ('BANETTE', 'SPECIAL BREAD'): 250,\n",
       "  ('BANETTE', 'TARTELETTE'): 247,\n",
       "  ('BANETTE', 'TRADITIONAL BAGUETTE'): 1222,\n",
       "  ('BANETTE', 'VIK BREAD'): 204,\n",
       "  ('BANETTINE', 'COUPE'): 313,\n",
       "  ('BANETTINE', 'CROISSANT'): 179,\n",
       "  ('BANETTINE', 'FICELLE'): 240,\n",
       "  ('BANETTINE', 'TRADITIONAL BAGUETTE'): 702,\n",
       "  ('BOISSON 33CL', 'CROISSANT'): 157,\n",
       "  ('BOISSON 33CL', 'PAIN AU CHOCOLAT'): 279,\n",
       "  ('BOISSON 33CL', 'SAND JB EMMENTAL'): 163,\n",
       "  ('BOISSON 33CL', 'SANDWICH COMPLET'): 170,\n",
       "  ('BOISSON 33CL', 'TRADITIONAL BAGUETTE'): 170,\n",
       "  ('BOULE 200G', 'COUPE'): 2385,\n",
       "  ('BOULE 200G', 'TRADITIONAL BAGUETTE'): 568,\n",
       "  ('BOULE 400G', 'COUPE'): 3242,\n",
       "  ('BOULE 400G', 'CROISSANT'): 204,\n",
       "  ('BOULE 400G', 'TRADITIONAL BAGUETTE'): 970,\n",
       "  ('BOULE POLKA', 'COUPE'): 386,\n",
       "  ('BRIOCHE', 'COUPE'): 369,\n",
       "  ('BRIOCHE', 'CROISSANT'): 245,\n",
       "  ('BRIOCHE', 'TRADITIONAL BAGUETTE'): 872,\n",
       "  ('CAFE OU EAU', 'CROISSANT'): 266,\n",
       "  ('CAFE OU EAU', 'PAIN AU CHOCOLAT'): 304,\n",
       "  ('CAMPAGNE', 'COUPE'): 3112,\n",
       "  ('CAMPAGNE', 'TRADITIONAL BAGUETTE'): 935,\n",
       "  ('CEREAL BAGUETTE', 'COUPE'): 575,\n",
       "  ('CEREAL BAGUETTE', 'CROISSANT'): 497,\n",
       "  ('CEREAL BAGUETTE', 'PAIN AU CHOCOLAT'): 437,\n",
       "  ('CEREAL BAGUETTE', 'TRADITIONAL BAGUETTE'): 596,\n",
       "  ('CHAUSSON AUX POMMES', 'CROISSANT'): 365,\n",
       "  ('CHAUSSON AUX POMMES', 'PAIN AU CHOCOLAT'): 474,\n",
       "  ('CHAUSSON AUX POMMES', 'PAIN AUX RAISINS'): 209,\n",
       "  ('CHAUSSON AUX POMMES', 'TRADITIONAL BAGUETTE'): 517,\n",
       "  ('COMPLET', 'COUPE'): 2314,\n",
       "  ('COMPLET', 'CROISSANT'): 191,\n",
       "  ('COMPLET', 'PAIN AU CHOCOLAT'): 149,\n",
       "  ('COMPLET', 'TRADITIONAL BAGUETTE'): 1144,\n",
       "  ('COOKIE', 'COUPE'): 196,\n",
       "  ('COOKIE', 'CROISSANT'): 318,\n",
       "  ('COOKIE', 'PAIN AU CHOCOLAT'): 420,\n",
       "  ('COOKIE', 'QUIM BREAD'): 192,\n",
       "  ('COOKIE', 'TRADITIONAL BAGUETTE'): 708,\n",
       "  ('COUPE', 'CROISSANT'): 1196,\n",
       "  ('COUPE', 'DIVERS VIENNOISERIE'): 160,\n",
       "  ('COUPE', 'ECLAIR'): 297,\n",
       "  ('COUPE', 'FICELLE'): 363,\n",
       "  ('COUPE', 'FINANCIER X5'): 184,\n",
       "  ('COUPE', 'GRAND FAR BRETON'): 245,\n",
       "  ('COUPE', 'MOISSON'): 2208,\n",
       "  ('COUPE', 'PAIN AU CHOCOLAT'): 823,\n",
       "  ('COUPE', 'PAIN AUX RAISINS'): 220,\n",
       "  ('COUPE', 'PAIN BANETTE'): 219,\n",
       "  ('COUPE', 'QUIM BREAD'): 168,\n",
       "  ('COUPE', 'SEIGLE'): 1067,\n",
       "  ('COUPE', 'SPECIAL BREAD'): 3049,\n",
       "  ('COUPE', 'SPECIAL BREAD KG'): 244,\n",
       "  ('COUPE', 'TARTELETTE'): 414,\n",
       "  ('COUPE', 'TRADITIONAL BAGUETTE'): 6116,\n",
       "  ('COUPE', 'VIK BREAD'): 2294,\n",
       "  ('CROISSANT', 'CROISSANT AMANDES'): 305,\n",
       "  ('CROISSANT', 'FICELLE'): 517,\n",
       "  ('CROISSANT', 'PAIN AU CHOCOLAT'): 5394,\n",
       "  ('CROISSANT', 'PAIN AUX RAISINS'): 761,\n",
       "  ('CROISSANT', 'PAIN CHOCO AMANDES'): 232,\n",
       "  ('CROISSANT', 'QUIM BREAD'): 138,\n",
       "  ('CROISSANT', 'SPECIAL BREAD'): 319,\n",
       "  ('CROISSANT', 'TARTELETTE'): 157,\n",
       "  ('CROISSANT', 'TRADITIONAL BAGUETTE'): 4927,\n",
       "  ('CROISSANT', 'VIK BREAD'): 287,\n",
       "  ('CROISSANT AMANDES', 'PAIN AU CHOCOLAT'): 365,\n",
       "  ('CROISSANT AMANDES', 'PAIN CHOCO AMANDES'): 220,\n",
       "  ('CROISSANT AMANDES', 'TRADITIONAL BAGUETTE'): 657,\n",
       "  ('DEMI BAGUETTE', 'TRADITIONAL BAGUETTE'): 263,\n",
       "  ('DIVERS CONFISERIE', 'TRADITIONAL BAGUETTE'): 185,\n",
       "  ('DIVERS VIENNOISERIE', 'TRADITIONAL BAGUETTE'): 343,\n",
       "  ('ECLAIR', 'MILLES FEUILLES'): 149,\n",
       "  ('ECLAIR', 'PARIS BREST'): 182,\n",
       "  ('ECLAIR', 'TARTELETTE'): 437,\n",
       "  ('ECLAIR', 'TRADITIONAL BAGUETTE'): 867,\n",
       "  ('FICELLE', 'TRADITIONAL BAGUETTE'): 698,\n",
       "  ('FINANCIER X5', 'TRADITIONAL BAGUETTE'): 437,\n",
       "  ('FLAN', 'TRADITIONAL BAGUETTE'): 367,\n",
       "  ('FORMULE SANDWICH', 'TRADITIONAL BAGUETTE'): 312,\n",
       "  ('FRAISIER', 'TRADITIONAL BAGUETTE'): 139,\n",
       "  ('GD KOUIGN AMANN', 'TRADITIONAL BAGUETTE'): 413,\n",
       "  ('GRAND FAR BRETON', 'TRADITIONAL BAGUETTE'): 757,\n",
       "  ('KOUIGN AMANN', 'TRADITIONAL BAGUETTE'): 588,\n",
       "  ('MILLES FEUILLES', 'TRADITIONAL BAGUETTE'): 320,\n",
       "  ('MOISSON', 'TRADITIONAL BAGUETTE'): 1162,\n",
       "  ('MOISSON', 'VIK BREAD'): 156,\n",
       "  ('PAIN AU CHOCOLAT', 'PAIN AUX RAISINS'): 794,\n",
       "  ('PAIN AU CHOCOLAT', 'PAIN CHOCO AMANDES'): 308,\n",
       "  ('PAIN AU CHOCOLAT', 'QUIM BREAD'): 176,\n",
       "  ('PAIN AU CHOCOLAT', 'SPECIAL BREAD'): 229,\n",
       "  ('PAIN AU CHOCOLAT', 'TARTELETTE'): 159,\n",
       "  ('PAIN AU CHOCOLAT', 'TRADITIONAL BAGUETTE'): 4205,\n",
       "  ('PAIN AUX RAISINS', 'TRADITIONAL BAGUETTE'): 718,\n",
       "  ('PAIN BANETTE', 'TRADITIONAL BAGUETTE'): 297,\n",
       "  ('PAIN CHOCO AMANDES', 'TRADITIONAL BAGUETTE'): 434,\n",
       "  ('PARIS BREST', 'TARTELETTE'): 306,\n",
       "  ('PARIS BREST', 'TRADITIONAL BAGUETTE'): 420,\n",
       "  ('PT NANTAIS', 'TRADITIONAL BAGUETTE'): 227,\n",
       "  ('QUIM BREAD', 'TRADITIONAL BAGUETTE'): 510,\n",
       "  ('SACHET VIENNOISERIE', 'TRADITIONAL BAGUETTE'): 217,\n",
       "  ('SAND JB EMMENTAL', 'SANDWICH COMPLET'): 267,\n",
       "  ('SAND JB EMMENTAL', 'TRADITIONAL BAGUETTE'): 182,\n",
       "  ('SANDWICH COMPLET', 'TRADITIONAL BAGUETTE'): 271,\n",
       "  ('SAVARIN', 'TRADITIONAL BAGUETTE'): 137,\n",
       "  ('SEIGLE', 'TRADITIONAL BAGUETTE'): 664,\n",
       "  ('SPECIAL BREAD', 'TRADITIONAL BAGUETTE'): 1347,\n",
       "  ('SUCETTE', 'TRADITIONAL BAGUETTE'): 234,\n",
       "  ('TARTE FRUITS 4P', 'TRADITIONAL BAGUETTE'): 152,\n",
       "  ('TARTELETTE', 'TRADITIONAL BAGUETTE'): 1131,\n",
       "  ('TARTELETTE FRAISE', 'TRADITIONAL BAGUETTE'): 199,\n",
       "  ('TRADITIONAL BAGUETTE', 'TRAITEUR'): 308,\n",
       "  ('TRADITIONAL BAGUETTE', 'VIK BREAD'): 1599,\n",
       "  ('BAGUETTE', 'ECLAIR'): 182,\n",
       "  ('BAGUETTE', 'PAIN BANETTE'): 167,\n",
       "  ('BAGUETTE GRAINE', 'CROISSANT'): 146,\n",
       "  ('BAGUETTE GRAINE', 'PAIN AU CHOCOLAT'): 151,\n",
       "  ('BANETTE', 'ECLAIR'): 154,\n",
       "  ('BOISSON 33CL', 'TRAITEUR'): 157,\n",
       "  ('BOULE 200G', 'CROISSANT'): 245,\n",
       "  ('BRIOCHE', 'PAIN AU CHOCOLAT'): 182,\n",
       "  ('CAMPAGNE', 'CROISSANT'): 164,\n",
       "  ('CAMPAGNE', 'PAIN AU CHOCOLAT'): 151,\n",
       "  ('COUPE', 'CROISSANT AMANDES'): 154,\n",
       "  ('CROISSANT', 'MOISSON'): 170,\n",
       "  ('DIVERS PATISSERIE', 'TRADITIONAL BAGUETTE'): 185,\n",
       "  ('ECLAIR', 'PAIN AU CHOCOLAT'): 174,\n",
       "  ('FICELLE', 'PAIN AU CHOCOLAT'): 300,\n",
       "  ('FLAN', 'TARTELETTE'): 174,\n",
       "  ('FORMULE SANDWICH', 'PAIN AU CHOCOLAT'): 146,\n",
       "  ('KOUIGN AMANN', 'PAIN AU CHOCOLAT'): 199,\n",
       "  ('MILLES FEUILLES', 'TARTELETTE'): 198,\n",
       "  ('MOISSON', 'PAIN AU CHOCOLAT'): 139,\n",
       "  ('PAIN AU CHOCOLAT', 'VIK BREAD'): 200,\n",
       "  ('TRADITIONAL BAGUETTE', 'TROPEZIENNE'): 158,\n",
       "  ('COUPE', 'KOUIGN AMANN'): 141,\n",
       "  ('CROISSANT', 'KOUIGN AMANN'): 172,\n",
       "  ('FLAN ABRICOT', 'TRADITIONAL BAGUETTE'): 212,\n",
       "  ('BAGUETTE', 'COMPLET'): 226,\n",
       "  ('BOULE 400G', 'PAIN AU CHOCOLAT'): 145,\n",
       "  ('CEREAL BAGUETTE', 'VIK BREAD'): 141,\n",
       "  ('NANTAIS', 'TRADITIONAL BAGUETTE'): 163},\n",
       " 3: {('BAGUETTE', 'BOULE 200G', 'COUPE'): 247,\n",
       "  ('BAGUETTE', 'BOULE 400G', 'COUPE'): 395,\n",
       "  ('BAGUETTE', 'CAMPAGNE', 'COUPE'): 296,\n",
       "  ('BAGUETTE', 'COUPE', 'TRADITIONAL BAGUETTE'): 265,\n",
       "  ('BAGUETTE', 'CROISSANT', 'PAIN AU CHOCOLAT'): 707,\n",
       "  ('BAGUETTE', 'CROISSANT', 'TRADITIONAL BAGUETTE'): 254,\n",
       "  ('BAGUETTE', 'PAIN AU CHOCOLAT', 'TRADITIONAL BAGUETTE'): 242,\n",
       "  ('BANETTE', 'BOULE 200G', 'COUPE'): 141,\n",
       "  ('BANETTE', 'BOULE 400G', 'COUPE'): 275,\n",
       "  ('BANETTE', 'CAMPAGNE', 'COUPE'): 213,\n",
       "  ('BANETTE', 'COUPE', 'MOISSON'): 150,\n",
       "  ('BANETTE', 'COUPE', 'SPECIAL BREAD'): 158,\n",
       "  ('BANETTE', 'CROISSANT', 'PAIN AU CHOCOLAT'): 423,\n",
       "  ('BOULE 200G', 'COUPE', 'TRADITIONAL BAGUETTE'): 516,\n",
       "  ('BOULE 400G', 'COUPE', 'CROISSANT'): 184,\n",
       "  ('BOULE 400G', 'COUPE', 'TRADITIONAL BAGUETTE'): 773,\n",
       "  ('BRIOCHE', 'COUPE', 'TRADITIONAL BAGUETTE'): 148,\n",
       "  ('CAMPAGNE', 'COUPE', 'TRADITIONAL BAGUETTE'): 744,\n",
       "  ('CEREAL BAGUETTE', 'CROISSANT', 'PAIN AU CHOCOLAT'): 290,\n",
       "  ('CHAUSSON AUX POMMES', 'CROISSANT', 'PAIN AU CHOCOLAT'): 229,\n",
       "  ('CHAUSSON AUX POMMES', 'CROISSANT', 'TRADITIONAL BAGUETTE'): 144,\n",
       "  ('COMPLET', 'COUPE', 'TRADITIONAL BAGUETTE'): 838,\n",
       "  ('COOKIE', 'CROISSANT', 'PAIN AU CHOCOLAT'): 172,\n",
       "  ('COUPE', 'CROISSANT', 'PAIN AU CHOCOLAT'): 462,\n",
       "  ('COUPE', 'CROISSANT', 'SPECIAL BREAD'): 213,\n",
       "  ('COUPE', 'CROISSANT', 'TRADITIONAL BAGUETTE'): 365,\n",
       "  ('COUPE', 'CROISSANT', 'VIK BREAD'): 198,\n",
       "  ('COUPE', 'MOISSON', 'TRADITIONAL BAGUETTE'): 803,\n",
       "  ('COUPE', 'PAIN AU CHOCOLAT', 'TRADITIONAL BAGUETTE'): 291,\n",
       "  ('COUPE', 'SEIGLE', 'TRADITIONAL BAGUETTE'): 539,\n",
       "  ('COUPE', 'SPECIAL BREAD', 'TRADITIONAL BAGUETTE'): 741,\n",
       "  ('COUPE', 'TRADITIONAL BAGUETTE', 'VIK BREAD'): 1169,\n",
       "  ('CROISSANT', 'CROISSANT AMANDES', 'PAIN AU CHOCOLAT'): 178,\n",
       "  ('CROISSANT', 'CROISSANT AMANDES', 'TRADITIONAL BAGUETTE'): 140,\n",
       "  ('CROISSANT', 'PAIN AU CHOCOLAT', 'PAIN AUX RAISINS'): 436,\n",
       "  ('CROISSANT', 'PAIN AU CHOCOLAT', 'TRADITIONAL BAGUETTE'): 2268,\n",
       "  ('CROISSANT', 'PAIN AUX RAISINS', 'TRADITIONAL BAGUETTE'): 284,\n",
       "  ('CROISSANT AMANDES', 'PAIN AU CHOCOLAT', 'TRADITIONAL BAGUETTE'): 156,\n",
       "  ('PAIN AU CHOCOLAT', 'PAIN AUX RAISINS', 'TRADITIONAL BAGUETTE'): 349,\n",
       "  ('PARIS BREST', 'TARTELETTE', 'TRADITIONAL BAGUETTE'): 147,\n",
       "  ('BAGUETTE', 'COUPE', 'SPECIAL BREAD'): 193,\n",
       "  ('BANETTE', 'COMPLET', 'COUPE'): 164,\n",
       "  ('BOULE 200G', 'COUPE', 'CROISSANT'): 230,\n",
       "  ('CHAUSSON AUX POMMES', 'PAIN AU CHOCOLAT', 'TRADITIONAL BAGUETTE'): 170,\n",
       "  ('COUPE', 'PAIN AU CHOCOLAT', 'SPECIAL BREAD'): 161,\n",
       "  ('CROISSANT', 'FICELLE', 'PAIN AU CHOCOLAT'): 186,\n",
       "  ('ECLAIR', 'TARTELETTE', 'TRADITIONAL BAGUETTE'): 196,\n",
       "  ('COOKIE', 'PAIN AU CHOCOLAT', 'TRADITIONAL BAGUETTE'): 140,\n",
       "  ('BAGUETTE', 'COMPLET', 'COUPE'): 160,\n",
       "  ('CROISSANT', 'FICELLE', 'TRADITIONAL BAGUETTE'): 157},\n",
       " 4: {('BAGUETTE',\n",
       "   'CROISSANT',\n",
       "   'PAIN AU CHOCOLAT',\n",
       "   'TRADITIONAL BAGUETTE'): 161,\n",
       "  ('COUPE', 'CROISSANT', 'PAIN AU CHOCOLAT', 'TRADITIONAL BAGUETTE'): 177,\n",
       "  ('CROISSANT',\n",
       "   'PAIN AU CHOCOLAT',\n",
       "   'PAIN AUX RAISINS',\n",
       "   'TRADITIONAL BAGUETTE'): 194},\n",
       " 5: {}}"
      ]
     },
     "execution_count": 9,
     "metadata": {},
     "output_type": "execute_result"
    }
   ],
   "source": [
    "global_frequent_itemsets = {level: {itemset: count for itemset, count in itemsets.items() if count >= min_support_count} for level, itemsets in global_counts.items()}\n",
    "global_frequent_itemsets"
   ]
  },
  {
   "cell_type": "code",
   "execution_count": 18,
   "metadata": {},
   "outputs": [],
   "source": [
    "# Calculate global_frequent_itemsets (as already in your code)\n",
    "# This part of the code remains unchanged\n",
    "\n",
    "# Convert tuple keys to strings for the entire global_frequent_itemsets\n",
    "global_frequent_itemsets_str = {}\n",
    "for level, itemsets in global_frequent_itemsets.items():\n",
    "    level_str = str(level)\n",
    "    itemsets_str = {str(itemset): count for itemset, count in itemsets.items()}\n",
    "    global_frequent_itemsets_str[level_str] = itemsets_str\n",
    "\n",
    "# Save the converted dictionary to a JSON file\n",
    "import json\n",
    "\n",
    "# Define the file path for the JSON output\n",
    "json_output_file = 'frequent_itemsets.json'\n",
    "\n",
    "# Serialize and save the frequent itemsets to the JSON file\n",
    "with open(json_output_file, 'w') as json_file:\n",
    "    json.dump(global_frequent_itemsets_str, json_file)\n"
   ]
  },
  {
   "cell_type": "code",
   "execution_count": null,
   "metadata": {},
   "outputs": [],
   "source": [
    "# Calculate global_frequent_itemsets (as already in your code)\n",
    "# This part of the code remains unchanged\n",
    "\n",
    "# Define the file path for the text output\n",
    "text_output_file = 'frequent_itemsets.txt'\n",
    "\n",
    "# Open the text file for writing\n",
    "with open(text_output_file, 'w') as text_file:\n",
    "    for level, itemsets in global_frequent_itemsets.items():\n",
    "        text_file.write(f\"Level {level}:\\n\")\n",
    "        for itemset, count in itemsets.items():\n",
    "            text_file.write(f\"{itemset}: {count}\\n\")\n",
    "        text_file.write(\"\\n\")\n",
    "\n",
    "# Close the text file\n",
    "text_file.close()\n"
   ]
  },
  {
   "cell_type": "code",
   "execution_count": 10,
   "metadata": {},
   "outputs": [
    {
     "name": "stdout",
     "output_type": "stream",
     "text": [
      "73\n",
      "178\n",
      "50\n",
      "3\n",
      "0\n"
     ]
    }
   ],
   "source": [
    "for level in global_frequent_itemsets:\n",
    "    print(len(global_frequent_itemsets[level]))"
   ]
  },
  {
   "cell_type": "code",
   "execution_count": 12,
   "metadata": {},
   "outputs": [],
   "source": [
    "data = pd.read_csv('Bakery_sales.csv')\n",
    "data = data[['tid', 'article']]\n",
    "grouped_data = data.groupby('tid')['article'].apply(list)\n",
    "grouped_data = grouped_data.to_dict()"
   ]
  },
  {
   "cell_type": "code",
   "execution_count": 13,
   "metadata": {
    "scrolled": false
   },
   "outputs": [
    {
     "name": "stdout",
     "output_type": "stream",
     "text": [
      "Found 149 candidate itemsets from 1st Level\n",
      "Found 73 frequent itemsets from 1th item candidate sets\n",
      "Found 2628 candidates for 2th item candidate sets\n",
      "Time taken to find 2th item candidate sets: 0.004758119583129883\n"
     ]
    },
    {
     "name": "stderr",
     "output_type": "stream",
     "text": [
      "100%|██████████| 2628/2628 [00:00<00:00, 3632.79it/s]\n"
     ]
    },
    {
     "name": "stdout",
     "output_type": "stream",
     "text": [
      "Found 178 frequent itemsets from 2th item candidate sets\n",
      "Found 296 candidates for 3th item candidate sets\n",
      "Time taken to find 3th item candidate sets: 0.004589080810546875\n"
     ]
    },
    {
     "name": "stderr",
     "output_type": "stream",
     "text": [
      "100%|██████████| 296/296 [00:00<00:00, 537.23it/s]\n"
     ]
    },
    {
     "name": "stdout",
     "output_type": "stream",
     "text": [
      "Found 50 frequent itemsets from 3th item candidate sets\n",
      "Found 5 candidates for 4th item candidate sets\n",
      "Time taken to find 4th item candidate sets: 0.0002620220184326172\n"
     ]
    },
    {
     "name": "stderr",
     "output_type": "stream",
     "text": [
      "100%|██████████| 5/5 [00:00<00:00, 277.10it/s]\n"
     ]
    },
    {
     "name": "stdout",
     "output_type": "stream",
     "text": [
      "Found 3 frequent itemsets from 4th item candidate sets\n",
      "Found 0 candidates for 5th item candidate sets\n",
      "Time taken to find 5th item candidate sets: 6.604194641113281e-05\n"
     ]
    },
    {
     "name": "stderr",
     "output_type": "stream",
     "text": [
      "0it [00:00, ?it/s]"
     ]
    },
    {
     "name": "stdout",
     "output_type": "stream",
     "text": [
      "Found 0 frequent itemsets from 5th item candidate sets\n"
     ]
    },
    {
     "name": "stderr",
     "output_type": "stream",
     "text": [
      "\n"
     ]
    }
   ],
   "source": [
    "improved_apriori = Improved_Apriori(grouped_data, min_support=min_support, min_confidence=1, verbose=2)\n",
    "frequent_bakery_set = improved_apriori.apriori()"
   ]
  },
  {
   "cell_type": "code",
   "execution_count": 14,
   "metadata": {
    "scrolled": false
   },
   "outputs": [
    {
     "name": "stdout",
     "output_type": "stream",
     "text": [
      "Generating itemsets.\n",
      " Counting itemsets of length 1.\n",
      "  Found 149 candidate itemsets of length 1.\n",
      "  Found 73 large itemsets of length 1.\n",
      "    [('BAGUETTE',), ('PAIN AU CHOCOLAT',), ('PAIN',), ('TRADITIONAL BAGUETTE',), ('CROISSANT',), ('BANETTE',), ('BANETTINE',), ('SPECIAL BREAD',), ('COUPE',), ('SAND JB EMMENTAL',), ('KOUIGN AMANN',), ('BOULE 200G',), ('BOULE 400G',), ('CAMPAGNE',), ('MOISSON',), ('CAFE OU EAU',), ('BRIOCHE',), ('CEREAL BAGUETTE',), ('SEIGLE',), ('COMPLET',), ('DIVERS PATISSERIE',), ('GAL FRANGIPANE 4P',), ('COOKIE',), ('FICELLE',), ('PAIN AUX RAISINS',), ('FINANCIER X5',), ('VIK BREAD',), ('DIVERS VIENNOISERIE',), ('SANDWICH COMPLET',), ('PAIN BANETTE',), ('GRAND FAR BRETON',), ('QUIM BREAD',), ('SPECIAL BREAD KG',), ('GD KOUIGN AMANN',), ('BOULE POLKA',), ('DEMI BAGUETTE',), ('CHAUSSON AUX POMMES',), ('BAGUETTE GRAINE',), ('DIVERS CONFISERIE',), ('SUCETTE',), ('DIVERS BOULANGERIE',), ('BOISSON 33CL',), ('FORMULE SANDWICH',), ('DIVERS SANDWICHS',), ('CROISSANT AMANDES',), ('PAIN CHOCO AMANDES',), ('SACHET VIENNOISERIE',), ('NANTAIS',), ('FONDANT CHOCOLAT',), ('GRANDE SUCETTE',), ('DEMI PAIN',), ('TARTELETTE',), ('FLAN',), ('PARIS BREST',), ('SAVARIN',), ('FLAN ABRICOT',), ('MILLES FEUILLES',), ('CHOU CHANTILLY',), ('ECLAIR',), ('TARTE FRUITS 6P',), ('TARTE FRUITS 4P',), ('NOIX JAPONAISE',), ('GD FAR BRETON',), ('TROPEZIENNE',), ('ROYAL',), ('TARTELETTE FRAISE',), ('TARTE FRAISE 4PER',), ('FRAISIER',), ('VIENNOISE',), ('TRAITEUR',), ('PT NANTAIS',), ('PLAT 7.60E',), ('PALET BRETON',)]\n",
      " Counting itemsets of length 2.\n",
      "  Found 2628 candidate itemsets of length 2.\n",
      "   [('BAGUETTE', 'BAGUETTE GRAINE'), ('BAGUETTE', 'BANETTE'), ('BAGUETTE', 'BANETTINE'), ('BAGUETTE', 'BOISSON 33CL'), ('BAGUETTE', 'BOULE 200G'), ('BAGUETTE', 'BOULE 400G'), ('BAGUETTE', 'BOULE POLKA'), ('BAGUETTE', 'BRIOCHE'), ('BAGUETTE', 'CAFE OU EAU'), ('BAGUETTE', 'CAMPAGNE'), ('BAGUETTE', 'CEREAL BAGUETTE'), ('BAGUETTE', 'CHAUSSON AUX POMMES'), ('BAGUETTE', 'CHOU CHANTILLY'), ('BAGUETTE', 'COMPLET'), ('BAGUETTE', 'COOKIE'), ('BAGUETTE', 'COUPE'), ('BAGUETTE', 'CROISSANT'), ('BAGUETTE', 'CROISSANT AMANDES'), ('BAGUETTE', 'DEMI BAGUETTE'), ('BAGUETTE', 'DEMI PAIN'), ('BAGUETTE', 'DIVERS BOULANGERIE'), ('BAGUETTE', 'DIVERS CONFISERIE'), ('BAGUETTE', 'DIVERS PATISSERIE'), ('BAGUETTE', 'DIVERS SANDWICHS'), ('BAGUETTE', 'DIVERS VIENNOISERIE'), ('BAGUETTE', 'ECLAIR'), ('BAGUETTE', 'FICELLE'), ('BAGUETTE', 'FINANCIER X5'), ('BAGUETTE', 'FLAN'), ('BAGUETTE', 'FLAN ABRICOT'), ('BAGUETTE', 'FONDANT CHOCOLAT'), ('BAGUETTE', 'FORMULE SANDWICH'), ('BAGUETTE', 'FRAISIER'), ('BAGUETTE', 'GAL FRANGIPANE 4P'), ('BAGUETTE', 'GD FAR BRETON'), ('BAGUETTE', 'GD KOUIGN AMANN'), ('BAGUETTE', 'GRAND FAR BRETON'), ('BAGUETTE', 'GRANDE SUCETTE'), ('BAGUETTE', 'KOUIGN AMANN'), ('BAGUETTE', 'MILLES FEUILLES'), ('BAGUETTE', 'MOISSON'), ('BAGUETTE', 'NANTAIS'), ('BAGUETTE', 'NOIX JAPONAISE'), ('BAGUETTE', 'PAIN'), ('BAGUETTE', 'PAIN AU CHOCOLAT'), ('BAGUETTE', 'PAIN AUX RAISINS'), ('BAGUETTE', 'PAIN BANETTE'), ('BAGUETTE', 'PAIN CHOCO AMANDES'), ('BAGUETTE', 'PALET BRETON'), ('BAGUETTE', 'PARIS BREST'), ('BAGUETTE', 'PLAT 7.60E'), ('BAGUETTE', 'PT NANTAIS'), ('BAGUETTE', 'QUIM BREAD'), ('BAGUETTE', 'ROYAL'), ('BAGUETTE', 'SACHET VIENNOISERIE'), ('BAGUETTE', 'SAND JB EMMENTAL'), ('BAGUETTE', 'SANDWICH COMPLET'), ('BAGUETTE', 'SAVARIN'), ('BAGUETTE', 'SEIGLE'), ('BAGUETTE', 'SPECIAL BREAD'), ('BAGUETTE', 'SPECIAL BREAD KG'), ('BAGUETTE', 'SUCETTE'), ('BAGUETTE', 'TARTE FRAISE 4PER'), ('BAGUETTE', 'TARTE FRUITS 4P'), ('BAGUETTE', 'TARTE FRUITS 6P'), ('BAGUETTE', 'TARTELETTE'), ('BAGUETTE', 'TARTELETTE FRAISE'), ('BAGUETTE', 'TRADITIONAL BAGUETTE'), ('BAGUETTE', 'TRAITEUR'), ('BAGUETTE', 'TROPEZIENNE'), ('BAGUETTE', 'VIENNOISE'), ('BAGUETTE', 'VIK BREAD'), ('BAGUETTE GRAINE', 'BANETTE'), ('BAGUETTE GRAINE', 'BANETTINE'), ('BAGUETTE GRAINE', 'BOISSON 33CL'), ('BAGUETTE GRAINE', 'BOULE 200G'), ('BAGUETTE GRAINE', 'BOULE 400G'), ('BAGUETTE GRAINE', 'BOULE POLKA'), ('BAGUETTE GRAINE', 'BRIOCHE'), ('BAGUETTE GRAINE', 'CAFE OU EAU'), ('BAGUETTE GRAINE', 'CAMPAGNE'), ('BAGUETTE GRAINE', 'CEREAL BAGUETTE'), ('BAGUETTE GRAINE', 'CHAUSSON AUX POMMES'), ('BAGUETTE GRAINE', 'CHOU CHANTILLY'), ('BAGUETTE GRAINE', 'COMPLET'), ('BAGUETTE GRAINE', 'COOKIE'), ('BAGUETTE GRAINE', 'COUPE'), ('BAGUETTE GRAINE', 'CROISSANT'), ('BAGUETTE GRAINE', 'CROISSANT AMANDES'), ('BAGUETTE GRAINE', 'DEMI BAGUETTE'), ('BAGUETTE GRAINE', 'DEMI PAIN'), ('BAGUETTE GRAINE', 'DIVERS BOULANGERIE'), ('BAGUETTE GRAINE', 'DIVERS CONFISERIE'), ('BAGUETTE GRAINE', 'DIVERS PATISSERIE'), ('BAGUETTE GRAINE', 'DIVERS SANDWICHS'), ('BAGUETTE GRAINE', 'DIVERS VIENNOISERIE'), ('BAGUETTE GRAINE', 'ECLAIR'), ('BAGUETTE GRAINE', 'FICELLE'), ('BAGUETTE GRAINE', 'FINANCIER X5'), ('BAGUETTE GRAINE', 'FLAN'), ('BAGUETTE GRAINE', 'FLAN ABRICOT'), ('BAGUETTE GRAINE', 'FONDANT CHOCOLAT'), ('BAGUETTE GRAINE', 'FORMULE SANDWICH'), ('BAGUETTE GRAINE', 'FRAISIER'), ('BAGUETTE GRAINE', 'GAL FRANGIPANE 4P'), ('BAGUETTE GRAINE', 'GD FAR BRETON'), ('BAGUETTE GRAINE', 'GD KOUIGN AMANN'), ('BAGUETTE GRAINE', 'GRAND FAR BRETON'), ('BAGUETTE GRAINE', 'GRANDE SUCETTE'), ('BAGUETTE GRAINE', 'KOUIGN AMANN'), ('BAGUETTE GRAINE', 'MILLES FEUILLES'), ('BAGUETTE GRAINE', 'MOISSON'), ('BAGUETTE GRAINE', 'NANTAIS'), ('BAGUETTE GRAINE', 'NOIX JAPONAISE'), ('BAGUETTE GRAINE', 'PAIN'), ('BAGUETTE GRAINE', 'PAIN AU CHOCOLAT'), ('BAGUETTE GRAINE', 'PAIN AUX RAISINS'), ('BAGUETTE GRAINE', 'PAIN BANETTE'), ('BAGUETTE GRAINE', 'PAIN CHOCO AMANDES'), ('BAGUETTE GRAINE', 'PALET BRETON'), ('BAGUETTE GRAINE', 'PARIS BREST'), ('BAGUETTE GRAINE', 'PLAT 7.60E'), ('BAGUETTE GRAINE', 'PT NANTAIS'), ('BAGUETTE GRAINE', 'QUIM BREAD'), ('BAGUETTE GRAINE', 'ROYAL'), ('BAGUETTE GRAINE', 'SACHET VIENNOISERIE'), ('BAGUETTE GRAINE', 'SAND JB EMMENTAL'), ('BAGUETTE GRAINE', 'SANDWICH COMPLET'), ('BAGUETTE GRAINE', 'SAVARIN'), ('BAGUETTE GRAINE', 'SEIGLE'), ('BAGUETTE GRAINE', 'SPECIAL BREAD'), ('BAGUETTE GRAINE', 'SPECIAL BREAD KG'), ('BAGUETTE GRAINE', 'SUCETTE'), ('BAGUETTE GRAINE', 'TARTE FRAISE 4PER'), ('BAGUETTE GRAINE', 'TARTE FRUITS 4P'), ('BAGUETTE GRAINE', 'TARTE FRUITS 6P'), ('BAGUETTE GRAINE', 'TARTELETTE'), ('BAGUETTE GRAINE', 'TARTELETTE FRAISE'), ('BAGUETTE GRAINE', 'TRADITIONAL BAGUETTE'), ('BAGUETTE GRAINE', 'TRAITEUR'), ('BAGUETTE GRAINE', 'TROPEZIENNE'), ('BAGUETTE GRAINE', 'VIENNOISE'), ('BAGUETTE GRAINE', 'VIK BREAD'), ('BANETTE', 'BANETTINE'), ('BANETTE', 'BOISSON 33CL'), ('BANETTE', 'BOULE 200G'), ('BANETTE', 'BOULE 400G'), ('BANETTE', 'BOULE POLKA'), ('BANETTE', 'BRIOCHE'), ('BANETTE', 'CAFE OU EAU'), ('BANETTE', 'CAMPAGNE'), ('BANETTE', 'CEREAL BAGUETTE'), ('BANETTE', 'CHAUSSON AUX POMMES'), ('BANETTE', 'CHOU CHANTILLY'), ('BANETTE', 'COMPLET'), ('BANETTE', 'COOKIE'), ('BANETTE', 'COUPE'), ('BANETTE', 'CROISSANT'), ('BANETTE', 'CROISSANT AMANDES'), ('BANETTE', 'DEMI BAGUETTE'), ('BANETTE', 'DEMI PAIN'), ('BANETTE', 'DIVERS BOULANGERIE'), ('BANETTE', 'DIVERS CONFISERIE'), ('BANETTE', 'DIVERS PATISSERIE'), ('BANETTE', 'DIVERS SANDWICHS'), ('BANETTE', 'DIVERS VIENNOISERIE'), ('BANETTE', 'ECLAIR'), ('BANETTE', 'FICELLE'), ('BANETTE', 'FINANCIER X5'), ('BANETTE', 'FLAN'), ('BANETTE', 'FLAN ABRICOT'), ('BANETTE', 'FONDANT CHOCOLAT'), ('BANETTE', 'FORMULE SANDWICH'), ('BANETTE', 'FRAISIER'), ('BANETTE', 'GAL FRANGIPANE 4P'), ('BANETTE', 'GD FAR BRETON'), ('BANETTE', 'GD KOUIGN AMANN'), ('BANETTE', 'GRAND FAR BRETON'), ('BANETTE', 'GRANDE SUCETTE'), ('BANETTE', 'KOUIGN AMANN'), ('BANETTE', 'MILLES FEUILLES'), ('BANETTE', 'MOISSON'), ('BANETTE', 'NANTAIS'), ('BANETTE', 'NOIX JAPONAISE'), ('BANETTE', 'PAIN'), ('BANETTE', 'PAIN AU CHOCOLAT'), ('BANETTE', 'PAIN AUX RAISINS'), ('BANETTE', 'PAIN BANETTE'), ('BANETTE', 'PAIN CHOCO AMANDES'), ('BANETTE', 'PALET BRETON'), ('BANETTE', 'PARIS BREST'), ('BANETTE', 'PLAT 7.60E'), ('BANETTE', 'PT NANTAIS'), ('BANETTE', 'QUIM BREAD'), ('BANETTE', 'ROYAL'), ('BANETTE', 'SACHET VIENNOISERIE'), ('BANETTE', 'SAND JB EMMENTAL'), ('BANETTE', 'SANDWICH COMPLET'), ('BANETTE', 'SAVARIN'), ('BANETTE', 'SEIGLE'), ('BANETTE', 'SPECIAL BREAD'), ('BANETTE', 'SPECIAL BREAD KG'), ('BANETTE', 'SUCETTE'), ('BANETTE', 'TARTE FRAISE 4PER'), ('BANETTE', 'TARTE FRUITS 4P'), ('BANETTE', 'TARTE FRUITS 6P'), ('BANETTE', 'TARTELETTE'), ('BANETTE', 'TARTELETTE FRAISE'), ('BANETTE', 'TRADITIONAL BAGUETTE'), ('BANETTE', 'TRAITEUR'), ('BANETTE', 'TROPEZIENNE'), ('BANETTE', 'VIENNOISE'), ('BANETTE', 'VIK BREAD'), ('BANETTINE', 'BOISSON 33CL'), ('BANETTINE', 'BOULE 200G'), ('BANETTINE', 'BOULE 400G'), ('BANETTINE', 'BOULE POLKA'), ('BANETTINE', 'BRIOCHE'), ('BANETTINE', 'CAFE OU EAU'), ('BANETTINE', 'CAMPAGNE'), ('BANETTINE', 'CEREAL BAGUETTE'), ('BANETTINE', 'CHAUSSON AUX POMMES'), ('BANETTINE', 'CHOU CHANTILLY'), ('BANETTINE', 'COMPLET'), ('BANETTINE', 'COOKIE'), ('BANETTINE', 'COUPE'), ('BANETTINE', 'CROISSANT'), ('BANETTINE', 'CROISSANT AMANDES'), ('BANETTINE', 'DEMI BAGUETTE'), ('BANETTINE', 'DEMI PAIN'), ('BANETTINE', 'DIVERS BOULANGERIE'), ('BANETTINE', 'DIVERS CONFISERIE'), ('BANETTINE', 'DIVERS PATISSERIE'), ('BANETTINE', 'DIVERS SANDWICHS'), ('BANETTINE', 'DIVERS VIENNOISERIE'), ('BANETTINE', 'ECLAIR'), ('BANETTINE', 'FICELLE'), ('BANETTINE', 'FINANCIER X5'), ('BANETTINE', 'FLAN'), ('BANETTINE', 'FLAN ABRICOT'), ('BANETTINE', 'FONDANT CHOCOLAT'), ('BANETTINE', 'FORMULE SANDWICH'), ('BANETTINE', 'FRAISIER'), ('BANETTINE', 'GAL FRANGIPANE 4P'), ('BANETTINE', 'GD FAR BRETON'), ('BANETTINE', 'GD KOUIGN AMANN'), ('BANETTINE', 'GRAND FAR BRETON'), ('BANETTINE', 'GRANDE SUCETTE'), ('BANETTINE', 'KOUIGN AMANN'), ('BANETTINE', 'MILLES FEUILLES'), ('BANETTINE', 'MOISSON'), ('BANETTINE', 'NANTAIS'), ('BANETTINE', 'NOIX JAPONAISE'), ('BANETTINE', 'PAIN'), ('BANETTINE', 'PAIN AU CHOCOLAT'), ('BANETTINE', 'PAIN AUX RAISINS'), ('BANETTINE', 'PAIN BANETTE'), ('BANETTINE', 'PAIN CHOCO AMANDES'), ('BANETTINE', 'PALET BRETON'), ('BANETTINE', 'PARIS BREST'), ('BANETTINE', 'PLAT 7.60E'), ('BANETTINE', 'PT NANTAIS'), ('BANETTINE', 'QUIM BREAD'), ('BANETTINE', 'ROYAL'), ('BANETTINE', 'SACHET VIENNOISERIE'), ('BANETTINE', 'SAND JB EMMENTAL'), ('BANETTINE', 'SANDWICH COMPLET'), ('BANETTINE', 'SAVARIN'), ('BANETTINE', 'SEIGLE'), ('BANETTINE', 'SPECIAL BREAD'), ('BANETTINE', 'SPECIAL BREAD KG'), ('BANETTINE', 'SUCETTE'), ('BANETTINE', 'TARTE FRAISE 4PER'), ('BANETTINE', 'TARTE FRUITS 4P'), ('BANETTINE', 'TARTE FRUITS 6P'), ('BANETTINE', 'TARTELETTE'), ('BANETTINE', 'TARTELETTE FRAISE'), ('BANETTINE', 'TRADITIONAL BAGUETTE'), ('BANETTINE', 'TRAITEUR'), ('BANETTINE', 'TROPEZIENNE'), ('BANETTINE', 'VIENNOISE'), ('BANETTINE', 'VIK BREAD'), ('BOISSON 33CL', 'BOULE 200G'), ('BOISSON 33CL', 'BOULE 400G'), ('BOISSON 33CL', 'BOULE POLKA'), ('BOISSON 33CL', 'BRIOCHE'), ('BOISSON 33CL', 'CAFE OU EAU'), ('BOISSON 33CL', 'CAMPAGNE'), ('BOISSON 33CL', 'CEREAL BAGUETTE'), ('BOISSON 33CL', 'CHAUSSON AUX POMMES'), ('BOISSON 33CL', 'CHOU CHANTILLY'), ('BOISSON 33CL', 'COMPLET'), ('BOISSON 33CL', 'COOKIE'), ('BOISSON 33CL', 'COUPE'), ('BOISSON 33CL', 'CROISSANT'), ('BOISSON 33CL', 'CROISSANT AMANDES'), ('BOISSON 33CL', 'DEMI BAGUETTE'), ('BOISSON 33CL', 'DEMI PAIN'), ('BOISSON 33CL', 'DIVERS BOULANGERIE'), ('BOISSON 33CL', 'DIVERS CONFISERIE'), ('BOISSON 33CL', 'DIVERS PATISSERIE'), ('BOISSON 33CL', 'DIVERS SANDWICHS'), ('BOISSON 33CL', 'DIVERS VIENNOISERIE'), ('BOISSON 33CL', 'ECLAIR'), ('BOISSON 33CL', 'FICELLE'), ('BOISSON 33CL', 'FINANCIER X5'), ('BOISSON 33CL', 'FLAN'), ('BOISSON 33CL', 'FLAN ABRICOT'), ('BOISSON 33CL', 'FONDANT CHOCOLAT'), ('BOISSON 33CL', 'FORMULE SANDWICH'), ('BOISSON 33CL', 'FRAISIER'), ('BOISSON 33CL', 'GAL FRANGIPANE 4P'), ('BOISSON 33CL', 'GD FAR BRETON'), ('BOISSON 33CL', 'GD KOUIGN AMANN'), ('BOISSON 33CL', 'GRAND FAR BRETON'), ('BOISSON 33CL', 'GRANDE SUCETTE'), ('BOISSON 33CL', 'KOUIGN AMANN'), ('BOISSON 33CL', 'MILLES FEUILLES'), ('BOISSON 33CL', 'MOISSON'), ('BOISSON 33CL', 'NANTAIS'), ('BOISSON 33CL', 'NOIX JAPONAISE'), ('BOISSON 33CL', 'PAIN'), ('BOISSON 33CL', 'PAIN AU CHOCOLAT'), ('BOISSON 33CL', 'PAIN AUX RAISINS'), ('BOISSON 33CL', 'PAIN BANETTE'), ('BOISSON 33CL', 'PAIN CHOCO AMANDES'), ('BOISSON 33CL', 'PALET BRETON'), ('BOISSON 33CL', 'PARIS BREST'), ('BOISSON 33CL', 'PLAT 7.60E'), ('BOISSON 33CL', 'PT NANTAIS'), ('BOISSON 33CL', 'QUIM BREAD'), ('BOISSON 33CL', 'ROYAL'), ('BOISSON 33CL', 'SACHET VIENNOISERIE'), ('BOISSON 33CL', 'SAND JB EMMENTAL'), ('BOISSON 33CL', 'SANDWICH COMPLET'), ('BOISSON 33CL', 'SAVARIN'), ('BOISSON 33CL', 'SEIGLE'), ('BOISSON 33CL', 'SPECIAL BREAD'), ('BOISSON 33CL', 'SPECIAL BREAD KG'), ('BOISSON 33CL', 'SUCETTE'), ('BOISSON 33CL', 'TARTE FRAISE 4PER'), ('BOISSON 33CL', 'TARTE FRUITS 4P'), ('BOISSON 33CL', 'TARTE FRUITS 6P'), ('BOISSON 33CL', 'TARTELETTE'), ('BOISSON 33CL', 'TARTELETTE FRAISE'), ('BOISSON 33CL', 'TRADITIONAL BAGUETTE'), ('BOISSON 33CL', 'TRAITEUR'), ('BOISSON 33CL', 'TROPEZIENNE'), ('BOISSON 33CL', 'VIENNOISE'), ('BOISSON 33CL', 'VIK BREAD'), ('BOULE 200G', 'BOULE 400G'), ('BOULE 200G', 'BOULE POLKA'), ('BOULE 200G', 'BRIOCHE'), ('BOULE 200G', 'CAFE OU EAU'), ('BOULE 200G', 'CAMPAGNE'), ('BOULE 200G', 'CEREAL BAGUETTE'), ('BOULE 200G', 'CHAUSSON AUX POMMES'), ('BOULE 200G', 'CHOU CHANTILLY'), ('BOULE 200G', 'COMPLET'), ('BOULE 200G', 'COOKIE'), ('BOULE 200G', 'COUPE'), ('BOULE 200G', 'CROISSANT'), ('BOULE 200G', 'CROISSANT AMANDES'), ('BOULE 200G', 'DEMI BAGUETTE'), ('BOULE 200G', 'DEMI PAIN'), ('BOULE 200G', 'DIVERS BOULANGERIE'), ('BOULE 200G', 'DIVERS CONFISERIE'), ('BOULE 200G', 'DIVERS PATISSERIE'), ('BOULE 200G', 'DIVERS SANDWICHS'), ('BOULE 200G', 'DIVERS VIENNOISERIE'), ('BOULE 200G', 'ECLAIR'), ('BOULE 200G', 'FICELLE'), ('BOULE 200G', 'FINANCIER X5'), ('BOULE 200G', 'FLAN'), ('BOULE 200G', 'FLAN ABRICOT'), ('BOULE 200G', 'FONDANT CHOCOLAT'), ('BOULE 200G', 'FORMULE SANDWICH'), ('BOULE 200G', 'FRAISIER'), ('BOULE 200G', 'GAL FRANGIPANE 4P'), ('BOULE 200G', 'GD FAR BRETON'), ('BOULE 200G', 'GD KOUIGN AMANN'), ('BOULE 200G', 'GRAND FAR BRETON'), ('BOULE 200G', 'GRANDE SUCETTE'), ('BOULE 200G', 'KOUIGN AMANN'), ('BOULE 200G', 'MILLES FEUILLES'), ('BOULE 200G', 'MOISSON'), ('BOULE 200G', 'NANTAIS'), ('BOULE 200G', 'NOIX JAPONAISE'), ('BOULE 200G', 'PAIN'), ('BOULE 200G', 'PAIN AU CHOCOLAT'), ('BOULE 200G', 'PAIN AUX RAISINS'), ('BOULE 200G', 'PAIN BANETTE'), ('BOULE 200G', 'PAIN CHOCO AMANDES'), ('BOULE 200G', 'PALET BRETON'), ('BOULE 200G', 'PARIS BREST'), ('BOULE 200G', 'PLAT 7.60E'), ('BOULE 200G', 'PT NANTAIS'), ('BOULE 200G', 'QUIM BREAD'), ('BOULE 200G', 'ROYAL'), ('BOULE 200G', 'SACHET VIENNOISERIE'), ('BOULE 200G', 'SAND JB EMMENTAL'), ('BOULE 200G', 'SANDWICH COMPLET'), ('BOULE 200G', 'SAVARIN'), ('BOULE 200G', 'SEIGLE'), ('BOULE 200G', 'SPECIAL BREAD'), ('BOULE 200G', 'SPECIAL BREAD KG'), ('BOULE 200G', 'SUCETTE'), ('BOULE 200G', 'TARTE FRAISE 4PER'), ('BOULE 200G', 'TARTE FRUITS 4P'), ('BOULE 200G', 'TARTE FRUITS 6P'), ('BOULE 200G', 'TARTELETTE'), ('BOULE 200G', 'TARTELETTE FRAISE'), ('BOULE 200G', 'TRADITIONAL BAGUETTE'), ('BOULE 200G', 'TRAITEUR'), ('BOULE 200G', 'TROPEZIENNE'), ('BOULE 200G', 'VIENNOISE'), ('BOULE 200G', 'VIK BREAD'), ('BOULE 400G', 'BOULE POLKA'), ('BOULE 400G', 'BRIOCHE'), ('BOULE 400G', 'CAFE OU EAU'), ('BOULE 400G', 'CAMPAGNE'), ('BOULE 400G', 'CEREAL BAGUETTE'), ('BOULE 400G', 'CHAUSSON AUX POMMES'), ('BOULE 400G', 'CHOU CHANTILLY'), ('BOULE 400G', 'COMPLET'), ('BOULE 400G', 'COOKIE'), ('BOULE 400G', 'COUPE'), ('BOULE 400G', 'CROISSANT'), ('BOULE 400G', 'CROISSANT AMANDES'), ('BOULE 400G', 'DEMI BAGUETTE'), ('BOULE 400G', 'DEMI PAIN'), ('BOULE 400G', 'DIVERS BOULANGERIE'), ('BOULE 400G', 'DIVERS CONFISERIE'), ('BOULE 400G', 'DIVERS PATISSERIE'), ('BOULE 400G', 'DIVERS SANDWICHS'), ('BOULE 400G', 'DIVERS VIENNOISERIE'), ('BOULE 400G', 'ECLAIR'), ('BOULE 400G', 'FICELLE'), ('BOULE 400G', 'FINANCIER X5'), ('BOULE 400G', 'FLAN'), ('BOULE 400G', 'FLAN ABRICOT'), ('BOULE 400G', 'FONDANT CHOCOLAT'), ('BOULE 400G', 'FORMULE SANDWICH'), ('BOULE 400G', 'FRAISIER'), ('BOULE 400G', 'GAL FRANGIPANE 4P'), ('BOULE 400G', 'GD FAR BRETON'), ('BOULE 400G', 'GD KOUIGN AMANN'), ('BOULE 400G', 'GRAND FAR BRETON'), ('BOULE 400G', 'GRANDE SUCETTE'), ('BOULE 400G', 'KOUIGN AMANN'), ('BOULE 400G', 'MILLES FEUILLES'), ('BOULE 400G', 'MOISSON'), ('BOULE 400G', 'NANTAIS'), ('BOULE 400G', 'NOIX JAPONAISE'), ('BOULE 400G', 'PAIN'), ('BOULE 400G', 'PAIN AU CHOCOLAT'), ('BOULE 400G', 'PAIN AUX RAISINS'), ('BOULE 400G', 'PAIN BANETTE'), ('BOULE 400G', 'PAIN CHOCO AMANDES'), ('BOULE 400G', 'PALET BRETON'), ('BOULE 400G', 'PARIS BREST'), ('BOULE 400G', 'PLAT 7.60E'), ('BOULE 400G', 'PT NANTAIS'), ('BOULE 400G', 'QUIM BREAD'), ('BOULE 400G', 'ROYAL'), ('BOULE 400G', 'SACHET VIENNOISERIE'), ('BOULE 400G', 'SAND JB EMMENTAL'), ('BOULE 400G', 'SANDWICH COMPLET'), ('BOULE 400G', 'SAVARIN'), ('BOULE 400G', 'SEIGLE'), ('BOULE 400G', 'SPECIAL BREAD'), ('BOULE 400G', 'SPECIAL BREAD KG'), ('BOULE 400G', 'SUCETTE'), ('BOULE 400G', 'TARTE FRAISE 4PER'), ('BOULE 400G', 'TARTE FRUITS 4P'), ('BOULE 400G', 'TARTE FRUITS 6P'), ('BOULE 400G', 'TARTELETTE'), ('BOULE 400G', 'TARTELETTE FRAISE'), ('BOULE 400G', 'TRADITIONAL BAGUETTE'), ('BOULE 400G', 'TRAITEUR'), ('BOULE 400G', 'TROPEZIENNE'), ('BOULE 400G', 'VIENNOISE'), ('BOULE 400G', 'VIK BREAD'), ('BOULE POLKA', 'BRIOCHE'), ('BOULE POLKA', 'CAFE OU EAU'), ('BOULE POLKA', 'CAMPAGNE'), ('BOULE POLKA', 'CEREAL BAGUETTE'), ('BOULE POLKA', 'CHAUSSON AUX POMMES'), ('BOULE POLKA', 'CHOU CHANTILLY'), ('BOULE POLKA', 'COMPLET'), ('BOULE POLKA', 'COOKIE'), ('BOULE POLKA', 'COUPE'), ('BOULE POLKA', 'CROISSANT'), ('BOULE POLKA', 'CROISSANT AMANDES'), ('BOULE POLKA', 'DEMI BAGUETTE'), ('BOULE POLKA', 'DEMI PAIN'), ('BOULE POLKA', 'DIVERS BOULANGERIE'), ('BOULE POLKA', 'DIVERS CONFISERIE'), ('BOULE POLKA', 'DIVERS PATISSERIE'), ('BOULE POLKA', 'DIVERS SANDWICHS'), ('BOULE POLKA', 'DIVERS VIENNOISERIE'), ('BOULE POLKA', 'ECLAIR'), ('BOULE POLKA', 'FICELLE'), ('BOULE POLKA', 'FINANCIER X5'), ('BOULE POLKA', 'FLAN'), ('BOULE POLKA', 'FLAN ABRICOT'), ('BOULE POLKA', 'FONDANT CHOCOLAT'), ('BOULE POLKA', 'FORMULE SANDWICH'), ('BOULE POLKA', 'FRAISIER'), ('BOULE POLKA', 'GAL FRANGIPANE 4P'), ('BOULE POLKA', 'GD FAR BRETON'), ('BOULE POLKA', 'GD KOUIGN AMANN'), ('BOULE POLKA', 'GRAND FAR BRETON'), ('BOULE POLKA', 'GRANDE SUCETTE'), ('BOULE POLKA', 'KOUIGN AMANN'), ('BOULE POLKA', 'MILLES FEUILLES'), ('BOULE POLKA', 'MOISSON'), ('BOULE POLKA', 'NANTAIS'), ('BOULE POLKA', 'NOIX JAPONAISE'), ('BOULE POLKA', 'PAIN'), ('BOULE POLKA', 'PAIN AU CHOCOLAT'), ('BOULE POLKA', 'PAIN AUX RAISINS'), ('BOULE POLKA', 'PAIN BANETTE'), ('BOULE POLKA', 'PAIN CHOCO AMANDES'), ('BOULE POLKA', 'PALET BRETON'), ('BOULE POLKA', 'PARIS BREST'), ('BOULE POLKA', 'PLAT 7.60E'), ('BOULE POLKA', 'PT NANTAIS'), ('BOULE POLKA', 'QUIM BREAD'), ('BOULE POLKA', 'ROYAL'), ('BOULE POLKA', 'SACHET VIENNOISERIE'), ('BOULE POLKA', 'SAND JB EMMENTAL'), ('BOULE POLKA', 'SANDWICH COMPLET'), ('BOULE POLKA', 'SAVARIN'), ('BOULE POLKA', 'SEIGLE'), ('BOULE POLKA', 'SPECIAL BREAD'), ('BOULE POLKA', 'SPECIAL BREAD KG'), ('BOULE POLKA', 'SUCETTE'), ('BOULE POLKA', 'TARTE FRAISE 4PER'), ('BOULE POLKA', 'TARTE FRUITS 4P'), ('BOULE POLKA', 'TARTE FRUITS 6P'), ('BOULE POLKA', 'TARTELETTE'), ('BOULE POLKA', 'TARTELETTE FRAISE'), ('BOULE POLKA', 'TRADITIONAL BAGUETTE'), ('BOULE POLKA', 'TRAITEUR'), ('BOULE POLKA', 'TROPEZIENNE'), ('BOULE POLKA', 'VIENNOISE'), ('BOULE POLKA', 'VIK BREAD'), ('BRIOCHE', 'CAFE OU EAU'), ('BRIOCHE', 'CAMPAGNE'), ('BRIOCHE', 'CEREAL BAGUETTE'), ('BRIOCHE', 'CHAUSSON AUX POMMES'), ('BRIOCHE', 'CHOU CHANTILLY'), ('BRIOCHE', 'COMPLET'), ('BRIOCHE', 'COOKIE'), ('BRIOCHE', 'COUPE'), ('BRIOCHE', 'CROISSANT'), ('BRIOCHE', 'CROISSANT AMANDES'), ('BRIOCHE', 'DEMI BAGUETTE'), ('BRIOCHE', 'DEMI PAIN'), ('BRIOCHE', 'DIVERS BOULANGERIE'), ('BRIOCHE', 'DIVERS CONFISERIE'), ('BRIOCHE', 'DIVERS PATISSERIE'), ('BRIOCHE', 'DIVERS SANDWICHS'), ('BRIOCHE', 'DIVERS VIENNOISERIE'), ('BRIOCHE', 'ECLAIR'), ('BRIOCHE', 'FICELLE'), ('BRIOCHE', 'FINANCIER X5'), ('BRIOCHE', 'FLAN'), ('BRIOCHE', 'FLAN ABRICOT'), ('BRIOCHE', 'FONDANT CHOCOLAT'), ('BRIOCHE', 'FORMULE SANDWICH'), ('BRIOCHE', 'FRAISIER'), ('BRIOCHE', 'GAL FRANGIPANE 4P'), ('BRIOCHE', 'GD FAR BRETON'), ('BRIOCHE', 'GD KOUIGN AMANN'), ('BRIOCHE', 'GRAND FAR BRETON'), ('BRIOCHE', 'GRANDE SUCETTE'), ('BRIOCHE', 'KOUIGN AMANN'), ('BRIOCHE', 'MILLES FEUILLES'), ('BRIOCHE', 'MOISSON'), ('BRIOCHE', 'NANTAIS'), ('BRIOCHE', 'NOIX JAPONAISE'), ('BRIOCHE', 'PAIN'), ('BRIOCHE', 'PAIN AU CHOCOLAT'), ('BRIOCHE', 'PAIN AUX RAISINS'), ('BRIOCHE', 'PAIN BANETTE'), ('BRIOCHE', 'PAIN CHOCO AMANDES'), ('BRIOCHE', 'PALET BRETON'), ('BRIOCHE', 'PARIS BREST'), ('BRIOCHE', 'PLAT 7.60E'), ('BRIOCHE', 'PT NANTAIS'), ('BRIOCHE', 'QUIM BREAD'), ('BRIOCHE', 'ROYAL'), ('BRIOCHE', 'SACHET VIENNOISERIE'), ('BRIOCHE', 'SAND JB EMMENTAL'), ('BRIOCHE', 'SANDWICH COMPLET'), ('BRIOCHE', 'SAVARIN'), ('BRIOCHE', 'SEIGLE'), ('BRIOCHE', 'SPECIAL BREAD'), ('BRIOCHE', 'SPECIAL BREAD KG'), ('BRIOCHE', 'SUCETTE'), ('BRIOCHE', 'TARTE FRAISE 4PER'), ('BRIOCHE', 'TARTE FRUITS 4P'), ('BRIOCHE', 'TARTE FRUITS 6P'), ('BRIOCHE', 'TARTELETTE'), ('BRIOCHE', 'TARTELETTE FRAISE'), ('BRIOCHE', 'TRADITIONAL BAGUETTE'), ('BRIOCHE', 'TRAITEUR'), ('BRIOCHE', 'TROPEZIENNE'), ('BRIOCHE', 'VIENNOISE'), ('BRIOCHE', 'VIK BREAD'), ('CAFE OU EAU', 'CAMPAGNE'), ('CAFE OU EAU', 'CEREAL BAGUETTE'), ('CAFE OU EAU', 'CHAUSSON AUX POMMES'), ('CAFE OU EAU', 'CHOU CHANTILLY'), ('CAFE OU EAU', 'COMPLET'), ('CAFE OU EAU', 'COOKIE'), ('CAFE OU EAU', 'COUPE'), ('CAFE OU EAU', 'CROISSANT'), ('CAFE OU EAU', 'CROISSANT AMANDES'), ('CAFE OU EAU', 'DEMI BAGUETTE'), ('CAFE OU EAU', 'DEMI PAIN'), ('CAFE OU EAU', 'DIVERS BOULANGERIE'), ('CAFE OU EAU', 'DIVERS CONFISERIE'), ('CAFE OU EAU', 'DIVERS PATISSERIE'), ('CAFE OU EAU', 'DIVERS SANDWICHS'), ('CAFE OU EAU', 'DIVERS VIENNOISERIE'), ('CAFE OU EAU', 'ECLAIR'), ('CAFE OU EAU', 'FICELLE'), ('CAFE OU EAU', 'FINANCIER X5'), ('CAFE OU EAU', 'FLAN'), ('CAFE OU EAU', 'FLAN ABRICOT'), ('CAFE OU EAU', 'FONDANT CHOCOLAT'), ('CAFE OU EAU', 'FORMULE SANDWICH'), ('CAFE OU EAU', 'FRAISIER'), ('CAFE OU EAU', 'GAL FRANGIPANE 4P'), ('CAFE OU EAU', 'GD FAR BRETON'), ('CAFE OU EAU', 'GD KOUIGN AMANN'), ('CAFE OU EAU', 'GRAND FAR BRETON'), ('CAFE OU EAU', 'GRANDE SUCETTE'), ('CAFE OU EAU', 'KOUIGN AMANN'), ('CAFE OU EAU', 'MILLES FEUILLES'), ('CAFE OU EAU', 'MOISSON'), ('CAFE OU EAU', 'NANTAIS'), ('CAFE OU EAU', 'NOIX JAPONAISE'), ('CAFE OU EAU', 'PAIN'), ('CAFE OU EAU', 'PAIN AU CHOCOLAT'), ('CAFE OU EAU', 'PAIN AUX RAISINS'), ('CAFE OU EAU', 'PAIN BANETTE'), ('CAFE OU EAU', 'PAIN CHOCO AMANDES'), ('CAFE OU EAU', 'PALET BRETON'), ('CAFE OU EAU', 'PARIS BREST'), ('CAFE OU EAU', 'PLAT 7.60E'), ('CAFE OU EAU', 'PT NANTAIS'), ('CAFE OU EAU', 'QUIM BREAD'), ('CAFE OU EAU', 'ROYAL'), ('CAFE OU EAU', 'SACHET VIENNOISERIE'), ('CAFE OU EAU', 'SAND JB EMMENTAL'), ('CAFE OU EAU', 'SANDWICH COMPLET'), ('CAFE OU EAU', 'SAVARIN'), ('CAFE OU EAU', 'SEIGLE'), ('CAFE OU EAU', 'SPECIAL BREAD'), ('CAFE OU EAU', 'SPECIAL BREAD KG'), ('CAFE OU EAU', 'SUCETTE'), ('CAFE OU EAU', 'TARTE FRAISE 4PER'), ('CAFE OU EAU', 'TARTE FRUITS 4P'), ('CAFE OU EAU', 'TARTE FRUITS 6P'), ('CAFE OU EAU', 'TARTELETTE'), ('CAFE OU EAU', 'TARTELETTE FRAISE'), ('CAFE OU EAU', 'TRADITIONAL BAGUETTE'), ('CAFE OU EAU', 'TRAITEUR'), ('CAFE OU EAU', 'TROPEZIENNE'), ('CAFE OU EAU', 'VIENNOISE'), ('CAFE OU EAU', 'VIK BREAD'), ('CAMPAGNE', 'CEREAL BAGUETTE'), ('CAMPAGNE', 'CHAUSSON AUX POMMES'), ('CAMPAGNE', 'CHOU CHANTILLY'), ('CAMPAGNE', 'COMPLET'), ('CAMPAGNE', 'COOKIE'), ('CAMPAGNE', 'COUPE'), ('CAMPAGNE', 'CROISSANT'), ('CAMPAGNE', 'CROISSANT AMANDES'), ('CAMPAGNE', 'DEMI BAGUETTE'), ('CAMPAGNE', 'DEMI PAIN'), ('CAMPAGNE', 'DIVERS BOULANGERIE'), ('CAMPAGNE', 'DIVERS CONFISERIE'), ('CAMPAGNE', 'DIVERS PATISSERIE'), ('CAMPAGNE', 'DIVERS SANDWICHS'), ('CAMPAGNE', 'DIVERS VIENNOISERIE'), ('CAMPAGNE', 'ECLAIR'), ('CAMPAGNE', 'FICELLE'), ('CAMPAGNE', 'FINANCIER X5'), ('CAMPAGNE', 'FLAN'), ('CAMPAGNE', 'FLAN ABRICOT'), ('CAMPAGNE', 'FONDANT CHOCOLAT'), ('CAMPAGNE', 'FORMULE SANDWICH'), ('CAMPAGNE', 'FRAISIER'), ('CAMPAGNE', 'GAL FRANGIPANE 4P'), ('CAMPAGNE', 'GD FAR BRETON'), ('CAMPAGNE', 'GD KOUIGN AMANN'), ('CAMPAGNE', 'GRAND FAR BRETON'), ('CAMPAGNE', 'GRANDE SUCETTE'), ('CAMPAGNE', 'KOUIGN AMANN'), ('CAMPAGNE', 'MILLES FEUILLES'), ('CAMPAGNE', 'MOISSON'), ('CAMPAGNE', 'NANTAIS'), ('CAMPAGNE', 'NOIX JAPONAISE'), ('CAMPAGNE', 'PAIN'), ('CAMPAGNE', 'PAIN AU CHOCOLAT'), ('CAMPAGNE', 'PAIN AUX RAISINS'), ('CAMPAGNE', 'PAIN BANETTE'), ('CAMPAGNE', 'PAIN CHOCO AMANDES'), ('CAMPAGNE', 'PALET BRETON'), ('CAMPAGNE', 'PARIS BREST'), ('CAMPAGNE', 'PLAT 7.60E'), ('CAMPAGNE', 'PT NANTAIS'), ('CAMPAGNE', 'QUIM BREAD'), ('CAMPAGNE', 'ROYAL'), ('CAMPAGNE', 'SACHET VIENNOISERIE'), ('CAMPAGNE', 'SAND JB EMMENTAL'), ('CAMPAGNE', 'SANDWICH COMPLET'), ('CAMPAGNE', 'SAVARIN'), ('CAMPAGNE', 'SEIGLE'), ('CAMPAGNE', 'SPECIAL BREAD'), ('CAMPAGNE', 'SPECIAL BREAD KG'), ('CAMPAGNE', 'SUCETTE'), ('CAMPAGNE', 'TARTE FRAISE 4PER'), ('CAMPAGNE', 'TARTE FRUITS 4P'), ('CAMPAGNE', 'TARTE FRUITS 6P'), ('CAMPAGNE', 'TARTELETTE'), ('CAMPAGNE', 'TARTELETTE FRAISE'), ('CAMPAGNE', 'TRADITIONAL BAGUETTE'), ('CAMPAGNE', 'TRAITEUR'), ('CAMPAGNE', 'TROPEZIENNE'), ('CAMPAGNE', 'VIENNOISE'), ('CAMPAGNE', 'VIK BREAD'), ('CEREAL BAGUETTE', 'CHAUSSON AUX POMMES'), ('CEREAL BAGUETTE', 'CHOU CHANTILLY'), ('CEREAL BAGUETTE', 'COMPLET'), ('CEREAL BAGUETTE', 'COOKIE'), ('CEREAL BAGUETTE', 'COUPE'), ('CEREAL BAGUETTE', 'CROISSANT'), ('CEREAL BAGUETTE', 'CROISSANT AMANDES'), ('CEREAL BAGUETTE', 'DEMI BAGUETTE'), ('CEREAL BAGUETTE', 'DEMI PAIN'), ('CEREAL BAGUETTE', 'DIVERS BOULANGERIE'), ('CEREAL BAGUETTE', 'DIVERS CONFISERIE'), ('CEREAL BAGUETTE', 'DIVERS PATISSERIE'), ('CEREAL BAGUETTE', 'DIVERS SANDWICHS'), ('CEREAL BAGUETTE', 'DIVERS VIENNOISERIE'), ('CEREAL BAGUETTE', 'ECLAIR'), ('CEREAL BAGUETTE', 'FICELLE'), ('CEREAL BAGUETTE', 'FINANCIER X5'), ('CEREAL BAGUETTE', 'FLAN'), ('CEREAL BAGUETTE', 'FLAN ABRICOT'), ('CEREAL BAGUETTE', 'FONDANT CHOCOLAT'), ('CEREAL BAGUETTE', 'FORMULE SANDWICH'), ('CEREAL BAGUETTE', 'FRAISIER'), ('CEREAL BAGUETTE', 'GAL FRANGIPANE 4P'), ('CEREAL BAGUETTE', 'GD FAR BRETON'), ('CEREAL BAGUETTE', 'GD KOUIGN AMANN'), ('CEREAL BAGUETTE', 'GRAND FAR BRETON'), ('CEREAL BAGUETTE', 'GRANDE SUCETTE'), ('CEREAL BAGUETTE', 'KOUIGN AMANN'), ('CEREAL BAGUETTE', 'MILLES FEUILLES'), ('CEREAL BAGUETTE', 'MOISSON'), ('CEREAL BAGUETTE', 'NANTAIS'), ('CEREAL BAGUETTE', 'NOIX JAPONAISE'), ('CEREAL BAGUETTE', 'PAIN'), ('CEREAL BAGUETTE', 'PAIN AU CHOCOLAT'), ('CEREAL BAGUETTE', 'PAIN AUX RAISINS'), ('CEREAL BAGUETTE', 'PAIN BANETTE'), ('CEREAL BAGUETTE', 'PAIN CHOCO AMANDES'), ('CEREAL BAGUETTE', 'PALET BRETON'), ('CEREAL BAGUETTE', 'PARIS BREST'), ('CEREAL BAGUETTE', 'PLAT 7.60E'), ('CEREAL BAGUETTE', 'PT NANTAIS'), ('CEREAL BAGUETTE', 'QUIM BREAD'), ('CEREAL BAGUETTE', 'ROYAL'), ('CEREAL BAGUETTE', 'SACHET VIENNOISERIE'), ('CEREAL BAGUETTE', 'SAND JB EMMENTAL'), ('CEREAL BAGUETTE', 'SANDWICH COMPLET'), ('CEREAL BAGUETTE', 'SAVARIN'), ('CEREAL BAGUETTE', 'SEIGLE'), ('CEREAL BAGUETTE', 'SPECIAL BREAD'), ('CEREAL BAGUETTE', 'SPECIAL BREAD KG'), ('CEREAL BAGUETTE', 'SUCETTE'), ('CEREAL BAGUETTE', 'TARTE FRAISE 4PER'), ('CEREAL BAGUETTE', 'TARTE FRUITS 4P'), ('CEREAL BAGUETTE', 'TARTE FRUITS 6P'), ('CEREAL BAGUETTE', 'TARTELETTE'), ('CEREAL BAGUETTE', 'TARTELETTE FRAISE'), ('CEREAL BAGUETTE', 'TRADITIONAL BAGUETTE'), ('CEREAL BAGUETTE', 'TRAITEUR'), ('CEREAL BAGUETTE', 'TROPEZIENNE'), ('CEREAL BAGUETTE', 'VIENNOISE'), ('CEREAL BAGUETTE', 'VIK BREAD'), ('CHAUSSON AUX POMMES', 'CHOU CHANTILLY'), ('CHAUSSON AUX POMMES', 'COMPLET'), ('CHAUSSON AUX POMMES', 'COOKIE'), ('CHAUSSON AUX POMMES', 'COUPE'), ('CHAUSSON AUX POMMES', 'CROISSANT'), ('CHAUSSON AUX POMMES', 'CROISSANT AMANDES'), ('CHAUSSON AUX POMMES', 'DEMI BAGUETTE'), ('CHAUSSON AUX POMMES', 'DEMI PAIN'), ('CHAUSSON AUX POMMES', 'DIVERS BOULANGERIE'), ('CHAUSSON AUX POMMES', 'DIVERS CONFISERIE'), ('CHAUSSON AUX POMMES', 'DIVERS PATISSERIE'), ('CHAUSSON AUX POMMES', 'DIVERS SANDWICHS'), ('CHAUSSON AUX POMMES', 'DIVERS VIENNOISERIE'), ('CHAUSSON AUX POMMES', 'ECLAIR'), ('CHAUSSON AUX POMMES', 'FICELLE'), ('CHAUSSON AUX POMMES', 'FINANCIER X5'), ('CHAUSSON AUX POMMES', 'FLAN'), ('CHAUSSON AUX POMMES', 'FLAN ABRICOT'), ('CHAUSSON AUX POMMES', 'FONDANT CHOCOLAT'), ('CHAUSSON AUX POMMES', 'FORMULE SANDWICH'), ('CHAUSSON AUX POMMES', 'FRAISIER'), ('CHAUSSON AUX POMMES', 'GAL FRANGIPANE 4P'), ('CHAUSSON AUX POMMES', 'GD FAR BRETON'), ('CHAUSSON AUX POMMES', 'GD KOUIGN AMANN'), ('CHAUSSON AUX POMMES', 'GRAND FAR BRETON'), ('CHAUSSON AUX POMMES', 'GRANDE SUCETTE'), ('CHAUSSON AUX POMMES', 'KOUIGN AMANN'), ('CHAUSSON AUX POMMES', 'MILLES FEUILLES'), ('CHAUSSON AUX POMMES', 'MOISSON'), ('CHAUSSON AUX POMMES', 'NANTAIS'), ('CHAUSSON AUX POMMES', 'NOIX JAPONAISE'), ('CHAUSSON AUX POMMES', 'PAIN'), ('CHAUSSON AUX POMMES', 'PAIN AU CHOCOLAT'), ('CHAUSSON AUX POMMES', 'PAIN AUX RAISINS'), ('CHAUSSON AUX POMMES', 'PAIN BANETTE'), ('CHAUSSON AUX POMMES', 'PAIN CHOCO AMANDES'), ('CHAUSSON AUX POMMES', 'PALET BRETON'), ('CHAUSSON AUX POMMES', 'PARIS BREST'), ('CHAUSSON AUX POMMES', 'PLAT 7.60E'), ('CHAUSSON AUX POMMES', 'PT NANTAIS'), ('CHAUSSON AUX POMMES', 'QUIM BREAD'), ('CHAUSSON AUX POMMES', 'ROYAL'), ('CHAUSSON AUX POMMES', 'SACHET VIENNOISERIE'), ('CHAUSSON AUX POMMES', 'SAND JB EMMENTAL'), ('CHAUSSON AUX POMMES', 'SANDWICH COMPLET'), ('CHAUSSON AUX POMMES', 'SAVARIN'), ('CHAUSSON AUX POMMES', 'SEIGLE'), ('CHAUSSON AUX POMMES', 'SPECIAL BREAD'), ('CHAUSSON AUX POMMES', 'SPECIAL BREAD KG'), ('CHAUSSON AUX POMMES', 'SUCETTE'), ('CHAUSSON AUX POMMES', 'TARTE FRAISE 4PER'), ('CHAUSSON AUX POMMES', 'TARTE FRUITS 4P'), ('CHAUSSON AUX POMMES', 'TARTE FRUITS 6P'), ('CHAUSSON AUX POMMES', 'TARTELETTE'), ('CHAUSSON AUX POMMES', 'TARTELETTE FRAISE'), ('CHAUSSON AUX POMMES', 'TRADITIONAL BAGUETTE'), ('CHAUSSON AUX POMMES', 'TRAITEUR'), ('CHAUSSON AUX POMMES', 'TROPEZIENNE'), ('CHAUSSON AUX POMMES', 'VIENNOISE'), ('CHAUSSON AUX POMMES', 'VIK BREAD'), ('CHOU CHANTILLY', 'COMPLET'), ('CHOU CHANTILLY', 'COOKIE'), ('CHOU CHANTILLY', 'COUPE'), ('CHOU CHANTILLY', 'CROISSANT'), ('CHOU CHANTILLY', 'CROISSANT AMANDES'), ('CHOU CHANTILLY', 'DEMI BAGUETTE'), ('CHOU CHANTILLY', 'DEMI PAIN'), ('CHOU CHANTILLY', 'DIVERS BOULANGERIE'), ('CHOU CHANTILLY', 'DIVERS CONFISERIE'), ('CHOU CHANTILLY', 'DIVERS PATISSERIE'), ('CHOU CHANTILLY', 'DIVERS SANDWICHS'), ('CHOU CHANTILLY', 'DIVERS VIENNOISERIE'), ('CHOU CHANTILLY', 'ECLAIR'), ('CHOU CHANTILLY', 'FICELLE'), ('CHOU CHANTILLY', 'FINANCIER X5'), ('CHOU CHANTILLY', 'FLAN'), ('CHOU CHANTILLY', 'FLAN ABRICOT'), ('CHOU CHANTILLY', 'FONDANT CHOCOLAT'), ('CHOU CHANTILLY', 'FORMULE SANDWICH'), ('CHOU CHANTILLY', 'FRAISIER'), ('CHOU CHANTILLY', 'GAL FRANGIPANE 4P'), ('CHOU CHANTILLY', 'GD FAR BRETON'), ('CHOU CHANTILLY', 'GD KOUIGN AMANN'), ('CHOU CHANTILLY', 'GRAND FAR BRETON'), ('CHOU CHANTILLY', 'GRANDE SUCETTE'), ('CHOU CHANTILLY', 'KOUIGN AMANN'), ('CHOU CHANTILLY', 'MILLES FEUILLES'), ('CHOU CHANTILLY', 'MOISSON'), ('CHOU CHANTILLY', 'NANTAIS'), ('CHOU CHANTILLY', 'NOIX JAPONAISE'), ('CHOU CHANTILLY', 'PAIN'), ('CHOU CHANTILLY', 'PAIN AU CHOCOLAT'), ('CHOU CHANTILLY', 'PAIN AUX RAISINS'), ('CHOU CHANTILLY', 'PAIN BANETTE'), ('CHOU CHANTILLY', 'PAIN CHOCO AMANDES'), ('CHOU CHANTILLY', 'PALET BRETON'), ('CHOU CHANTILLY', 'PARIS BREST'), ('CHOU CHANTILLY', 'PLAT 7.60E'), ('CHOU CHANTILLY', 'PT NANTAIS'), ('CHOU CHANTILLY', 'QUIM BREAD'), ('CHOU CHANTILLY', 'ROYAL'), ('CHOU CHANTILLY', 'SACHET VIENNOISERIE'), ('CHOU CHANTILLY', 'SAND JB EMMENTAL'), ('CHOU CHANTILLY', 'SANDWICH COMPLET'), ('CHOU CHANTILLY', 'SAVARIN'), ('CHOU CHANTILLY', 'SEIGLE'), ('CHOU CHANTILLY', 'SPECIAL BREAD'), ('CHOU CHANTILLY', 'SPECIAL BREAD KG'), ('CHOU CHANTILLY', 'SUCETTE'), ('CHOU CHANTILLY', 'TARTE FRAISE 4PER'), ('CHOU CHANTILLY', 'TARTE FRUITS 4P'), ('CHOU CHANTILLY', 'TARTE FRUITS 6P'), ('CHOU CHANTILLY', 'TARTELETTE'), ('CHOU CHANTILLY', 'TARTELETTE FRAISE'), ('CHOU CHANTILLY', 'TRADITIONAL BAGUETTE'), ('CHOU CHANTILLY', 'TRAITEUR'), ('CHOU CHANTILLY', 'TROPEZIENNE'), ('CHOU CHANTILLY', 'VIENNOISE'), ('CHOU CHANTILLY', 'VIK BREAD'), ('COMPLET', 'COOKIE'), ('COMPLET', 'COUPE'), ('COMPLET', 'CROISSANT'), ('COMPLET', 'CROISSANT AMANDES'), ('COMPLET', 'DEMI BAGUETTE'), ('COMPLET', 'DEMI PAIN'), ('COMPLET', 'DIVERS BOULANGERIE'), ('COMPLET', 'DIVERS CONFISERIE'), ('COMPLET', 'DIVERS PATISSERIE'), ('COMPLET', 'DIVERS SANDWICHS'), ('COMPLET', 'DIVERS VIENNOISERIE'), ('COMPLET', 'ECLAIR'), ('COMPLET', 'FICELLE'), ('COMPLET', 'FINANCIER X5'), ('COMPLET', 'FLAN'), ('COMPLET', 'FLAN ABRICOT'), ('COMPLET', 'FONDANT CHOCOLAT'), ('COMPLET', 'FORMULE SANDWICH'), ('COMPLET', 'FRAISIER'), ('COMPLET', 'GAL FRANGIPANE 4P'), ('COMPLET', 'GD FAR BRETON'), ('COMPLET', 'GD KOUIGN AMANN'), ('COMPLET', 'GRAND FAR BRETON'), ('COMPLET', 'GRANDE SUCETTE'), ('COMPLET', 'KOUIGN AMANN'), ('COMPLET', 'MILLES FEUILLES'), ('COMPLET', 'MOISSON'), ('COMPLET', 'NANTAIS'), ('COMPLET', 'NOIX JAPONAISE'), ('COMPLET', 'PAIN'), ('COMPLET', 'PAIN AU CHOCOLAT'), ('COMPLET', 'PAIN AUX RAISINS'), ('COMPLET', 'PAIN BANETTE'), ('COMPLET', 'PAIN CHOCO AMANDES'), ('COMPLET', 'PALET BRETON'), ('COMPLET', 'PARIS BREST'), ('COMPLET', 'PLAT 7.60E'), ('COMPLET', 'PT NANTAIS'), ('COMPLET', 'QUIM BREAD'), ('COMPLET', 'ROYAL'), ('COMPLET', 'SACHET VIENNOISERIE'), ('COMPLET', 'SAND JB EMMENTAL'), ('COMPLET', 'SANDWICH COMPLET'), ('COMPLET', 'SAVARIN'), ('COMPLET', 'SEIGLE'), ('COMPLET', 'SPECIAL BREAD'), ('COMPLET', 'SPECIAL BREAD KG'), ('COMPLET', 'SUCETTE'), ('COMPLET', 'TARTE FRAISE 4PER'), ('COMPLET', 'TARTE FRUITS 4P'), ('COMPLET', 'TARTE FRUITS 6P'), ('COMPLET', 'TARTELETTE'), ('COMPLET', 'TARTELETTE FRAISE'), ('COMPLET', 'TRADITIONAL BAGUETTE'), ('COMPLET', 'TRAITEUR'), ('COMPLET', 'TROPEZIENNE'), ('COMPLET', 'VIENNOISE'), ('COMPLET', 'VIK BREAD'), ('COOKIE', 'COUPE'), ('COOKIE', 'CROISSANT'), ('COOKIE', 'CROISSANT AMANDES'), ('COOKIE', 'DEMI BAGUETTE'), ('COOKIE', 'DEMI PAIN'), ('COOKIE', 'DIVERS BOULANGERIE'), ('COOKIE', 'DIVERS CONFISERIE'), ('COOKIE', 'DIVERS PATISSERIE'), ('COOKIE', 'DIVERS SANDWICHS'), ('COOKIE', 'DIVERS VIENNOISERIE'), ('COOKIE', 'ECLAIR'), ('COOKIE', 'FICELLE'), ('COOKIE', 'FINANCIER X5'), ('COOKIE', 'FLAN'), ('COOKIE', 'FLAN ABRICOT'), ('COOKIE', 'FONDANT CHOCOLAT'), ('COOKIE', 'FORMULE SANDWICH'), ('COOKIE', 'FRAISIER'), ('COOKIE', 'GAL FRANGIPANE 4P'), ('COOKIE', 'GD FAR BRETON'), ('COOKIE', 'GD KOUIGN AMANN'), ('COOKIE', 'GRAND FAR BRETON'), ('COOKIE', 'GRANDE SUCETTE'), ('COOKIE', 'KOUIGN AMANN'), ('COOKIE', 'MILLES FEUILLES'), ('COOKIE', 'MOISSON'), ('COOKIE', 'NANTAIS'), ('COOKIE', 'NOIX JAPONAISE'), ('COOKIE', 'PAIN'), ('COOKIE', 'PAIN AU CHOCOLAT'), ('COOKIE', 'PAIN AUX RAISINS'), ('COOKIE', 'PAIN BANETTE'), ('COOKIE', 'PAIN CHOCO AMANDES'), ('COOKIE', 'PALET BRETON'), ('COOKIE', 'PARIS BREST'), ('COOKIE', 'PLAT 7.60E'), ('COOKIE', 'PT NANTAIS'), ('COOKIE', 'QUIM BREAD'), ('COOKIE', 'ROYAL'), ('COOKIE', 'SACHET VIENNOISERIE'), ('COOKIE', 'SAND JB EMMENTAL'), ('COOKIE', 'SANDWICH COMPLET'), ('COOKIE', 'SAVARIN'), ('COOKIE', 'SEIGLE'), ('COOKIE', 'SPECIAL BREAD'), ('COOKIE', 'SPECIAL BREAD KG'), ('COOKIE', 'SUCETTE'), ('COOKIE', 'TARTE FRAISE 4PER'), ('COOKIE', 'TARTE FRUITS 4P'), ('COOKIE', 'TARTE FRUITS 6P'), ('COOKIE', 'TARTELETTE'), ('COOKIE', 'TARTELETTE FRAISE'), ('COOKIE', 'TRADITIONAL BAGUETTE'), ('COOKIE', 'TRAITEUR'), ('COOKIE', 'TROPEZIENNE'), ('COOKIE', 'VIENNOISE'), ('COOKIE', 'VIK BREAD'), ('COUPE', 'CROISSANT'), ('COUPE', 'CROISSANT AMANDES'), ('COUPE', 'DEMI BAGUETTE'), ('COUPE', 'DEMI PAIN'), ('COUPE', 'DIVERS BOULANGERIE'), ('COUPE', 'DIVERS CONFISERIE'), ('COUPE', 'DIVERS PATISSERIE'), ('COUPE', 'DIVERS SANDWICHS'), ('COUPE', 'DIVERS VIENNOISERIE'), ('COUPE', 'ECLAIR'), ('COUPE', 'FICELLE'), ('COUPE', 'FINANCIER X5'), ('COUPE', 'FLAN'), ('COUPE', 'FLAN ABRICOT'), ('COUPE', 'FONDANT CHOCOLAT'), ('COUPE', 'FORMULE SANDWICH'), ('COUPE', 'FRAISIER'), ('COUPE', 'GAL FRANGIPANE 4P'), ('COUPE', 'GD FAR BRETON'), ('COUPE', 'GD KOUIGN AMANN'), ('COUPE', 'GRAND FAR BRETON'), ('COUPE', 'GRANDE SUCETTE'), ('COUPE', 'KOUIGN AMANN'), ('COUPE', 'MILLES FEUILLES'), ('COUPE', 'MOISSON'), ('COUPE', 'NANTAIS'), ('COUPE', 'NOIX JAPONAISE'), ('COUPE', 'PAIN'), ('COUPE', 'PAIN AU CHOCOLAT'), ('COUPE', 'PAIN AUX RAISINS'), ('COUPE', 'PAIN BANETTE'), ('COUPE', 'PAIN CHOCO AMANDES'), ('COUPE', 'PALET BRETON'), ('COUPE', 'PARIS BREST'), ('COUPE', 'PLAT 7.60E'), ('COUPE', 'PT NANTAIS'), ('COUPE', 'QUIM BREAD'), ('COUPE', 'ROYAL'), ('COUPE', 'SACHET VIENNOISERIE'), ('COUPE', 'SAND JB EMMENTAL'), ('COUPE', 'SANDWICH COMPLET'), ('COUPE', 'SAVARIN'), ('COUPE', 'SEIGLE'), ('COUPE', 'SPECIAL BREAD'), ('COUPE', 'SPECIAL BREAD KG'), ('COUPE', 'SUCETTE'), ('COUPE', 'TARTE FRAISE 4PER'), ('COUPE', 'TARTE FRUITS 4P'), ('COUPE', 'TARTE FRUITS 6P'), ('COUPE', 'TARTELETTE'), ('COUPE', 'TARTELETTE FRAISE'), ('COUPE', 'TRADITIONAL BAGUETTE'), ('COUPE', 'TRAITEUR'), ('COUPE', 'TROPEZIENNE'), ('COUPE', 'VIENNOISE'), ('COUPE', 'VIK BREAD'), ('CROISSANT', 'CROISSANT AMANDES'), ('CROISSANT', 'DEMI BAGUETTE'), ('CROISSANT', 'DEMI PAIN'), ('CROISSANT', 'DIVERS BOULANGERIE'), ('CROISSANT', 'DIVERS CONFISERIE'), ('CROISSANT', 'DIVERS PATISSERIE'), ('CROISSANT', 'DIVERS SANDWICHS'), ('CROISSANT', 'DIVERS VIENNOISERIE'), ('CROISSANT', 'ECLAIR'), ('CROISSANT', 'FICELLE'), ('CROISSANT', 'FINANCIER X5'), ('CROISSANT', 'FLAN'), ('CROISSANT', 'FLAN ABRICOT'), ('CROISSANT', 'FONDANT CHOCOLAT'), ('CROISSANT', 'FORMULE SANDWICH'), ('CROISSANT', 'FRAISIER'), ('CROISSANT', 'GAL FRANGIPANE 4P'), ('CROISSANT', 'GD FAR BRETON'), ('CROISSANT', 'GD KOUIGN AMANN'), ('CROISSANT', 'GRAND FAR BRETON'), ('CROISSANT', 'GRANDE SUCETTE'), ('CROISSANT', 'KOUIGN AMANN'), ('CROISSANT', 'MILLES FEUILLES'), ('CROISSANT', 'MOISSON'), ('CROISSANT', 'NANTAIS'), ('CROISSANT', 'NOIX JAPONAISE'), ('CROISSANT', 'PAIN'), ('CROISSANT', 'PAIN AU CHOCOLAT'), ('CROISSANT', 'PAIN AUX RAISINS'), ('CROISSANT', 'PAIN BANETTE'), ('CROISSANT', 'PAIN CHOCO AMANDES'), ('CROISSANT', 'PALET BRETON'), ('CROISSANT', 'PARIS BREST'), ('CROISSANT', 'PLAT 7.60E'), ('CROISSANT', 'PT NANTAIS'), ('CROISSANT', 'QUIM BREAD'), ('CROISSANT', 'ROYAL'), ('CROISSANT', 'SACHET VIENNOISERIE'), ('CROISSANT', 'SAND JB EMMENTAL'), ('CROISSANT', 'SANDWICH COMPLET'), ('CROISSANT', 'SAVARIN'), ('CROISSANT', 'SEIGLE'), ('CROISSANT', 'SPECIAL BREAD'), ('CROISSANT', 'SPECIAL BREAD KG'), ('CROISSANT', 'SUCETTE'), ('CROISSANT', 'TARTE FRAISE 4PER'), ('CROISSANT', 'TARTE FRUITS 4P'), ('CROISSANT', 'TARTE FRUITS 6P'), ('CROISSANT', 'TARTELETTE'), ('CROISSANT', 'TARTELETTE FRAISE'), ('CROISSANT', 'TRADITIONAL BAGUETTE'), ('CROISSANT', 'TRAITEUR'), ('CROISSANT', 'TROPEZIENNE'), ('CROISSANT', 'VIENNOISE'), ('CROISSANT', 'VIK BREAD'), ('CROISSANT AMANDES', 'DEMI BAGUETTE'), ('CROISSANT AMANDES', 'DEMI PAIN'), ('CROISSANT AMANDES', 'DIVERS BOULANGERIE'), ('CROISSANT AMANDES', 'DIVERS CONFISERIE'), ('CROISSANT AMANDES', 'DIVERS PATISSERIE'), ('CROISSANT AMANDES', 'DIVERS SANDWICHS'), ('CROISSANT AMANDES', 'DIVERS VIENNOISERIE'), ('CROISSANT AMANDES', 'ECLAIR'), ('CROISSANT AMANDES', 'FICELLE'), ('CROISSANT AMANDES', 'FINANCIER X5'), ('CROISSANT AMANDES', 'FLAN'), ('CROISSANT AMANDES', 'FLAN ABRICOT'), ('CROISSANT AMANDES', 'FONDANT CHOCOLAT'), ('CROISSANT AMANDES', 'FORMULE SANDWICH'), ('CROISSANT AMANDES', 'FRAISIER'), ('CROISSANT AMANDES', 'GAL FRANGIPANE 4P'), ('CROISSANT AMANDES', 'GD FAR BRETON'), ('CROISSANT AMANDES', 'GD KOUIGN AMANN'), ('CROISSANT AMANDES', 'GRAND FAR BRETON'), ('CROISSANT AMANDES', 'GRANDE SUCETTE'), ('CROISSANT AMANDES', 'KOUIGN AMANN'), ('CROISSANT AMANDES', 'MILLES FEUILLES'), ('CROISSANT AMANDES', 'MOISSON'), ('CROISSANT AMANDES', 'NANTAIS'), ('CROISSANT AMANDES', 'NOIX JAPONAISE'), ('CROISSANT AMANDES', 'PAIN'), ('CROISSANT AMANDES', 'PAIN AU CHOCOLAT'), ('CROISSANT AMANDES', 'PAIN AUX RAISINS'), ('CROISSANT AMANDES', 'PAIN BANETTE'), ('CROISSANT AMANDES', 'PAIN CHOCO AMANDES'), ('CROISSANT AMANDES', 'PALET BRETON'), ('CROISSANT AMANDES', 'PARIS BREST'), ('CROISSANT AMANDES', 'PLAT 7.60E'), ('CROISSANT AMANDES', 'PT NANTAIS'), ('CROISSANT AMANDES', 'QUIM BREAD'), ('CROISSANT AMANDES', 'ROYAL'), ('CROISSANT AMANDES', 'SACHET VIENNOISERIE'), ('CROISSANT AMANDES', 'SAND JB EMMENTAL'), ('CROISSANT AMANDES', 'SANDWICH COMPLET'), ('CROISSANT AMANDES', 'SAVARIN'), ('CROISSANT AMANDES', 'SEIGLE'), ('CROISSANT AMANDES', 'SPECIAL BREAD'), ('CROISSANT AMANDES', 'SPECIAL BREAD KG'), ('CROISSANT AMANDES', 'SUCETTE'), ('CROISSANT AMANDES', 'TARTE FRAISE 4PER'), ('CROISSANT AMANDES', 'TARTE FRUITS 4P'), ('CROISSANT AMANDES', 'TARTE FRUITS 6P'), ('CROISSANT AMANDES', 'TARTELETTE'), ('CROISSANT AMANDES', 'TARTELETTE FRAISE'), ('CROISSANT AMANDES', 'TRADITIONAL BAGUETTE'), ('CROISSANT AMANDES', 'TRAITEUR'), ('CROISSANT AMANDES', 'TROPEZIENNE'), ('CROISSANT AMANDES', 'VIENNOISE'), ('CROISSANT AMANDES', 'VIK BREAD'), ('DEMI BAGUETTE', 'DEMI PAIN'), ('DEMI BAGUETTE', 'DIVERS BOULANGERIE'), ('DEMI BAGUETTE', 'DIVERS CONFISERIE'), ('DEMI BAGUETTE', 'DIVERS PATISSERIE'), ('DEMI BAGUETTE', 'DIVERS SANDWICHS'), ('DEMI BAGUETTE', 'DIVERS VIENNOISERIE'), ('DEMI BAGUETTE', 'ECLAIR'), ('DEMI BAGUETTE', 'FICELLE'), ('DEMI BAGUETTE', 'FINANCIER X5'), ('DEMI BAGUETTE', 'FLAN'), ('DEMI BAGUETTE', 'FLAN ABRICOT'), ('DEMI BAGUETTE', 'FONDANT CHOCOLAT'), ('DEMI BAGUETTE', 'FORMULE SANDWICH'), ('DEMI BAGUETTE', 'FRAISIER'), ('DEMI BAGUETTE', 'GAL FRANGIPANE 4P'), ('DEMI BAGUETTE', 'GD FAR BRETON'), ('DEMI BAGUETTE', 'GD KOUIGN AMANN'), ('DEMI BAGUETTE', 'GRAND FAR BRETON'), ('DEMI BAGUETTE', 'GRANDE SUCETTE'), ('DEMI BAGUETTE', 'KOUIGN AMANN'), ('DEMI BAGUETTE', 'MILLES FEUILLES'), ('DEMI BAGUETTE', 'MOISSON'), ('DEMI BAGUETTE', 'NANTAIS'), ('DEMI BAGUETTE', 'NOIX JAPONAISE'), ('DEMI BAGUETTE', 'PAIN'), ('DEMI BAGUETTE', 'PAIN AU CHOCOLAT'), ('DEMI BAGUETTE', 'PAIN AUX RAISINS'), ('DEMI BAGUETTE', 'PAIN BANETTE'), ('DEMI BAGUETTE', 'PAIN CHOCO AMANDES'), ('DEMI BAGUETTE', 'PALET BRETON'), ('DEMI BAGUETTE', 'PARIS BREST'), ('DEMI BAGUETTE', 'PLAT 7.60E'), ('DEMI BAGUETTE', 'PT NANTAIS'), ('DEMI BAGUETTE', 'QUIM BREAD'), ('DEMI BAGUETTE', 'ROYAL'), ('DEMI BAGUETTE', 'SACHET VIENNOISERIE'), ('DEMI BAGUETTE', 'SAND JB EMMENTAL'), ('DEMI BAGUETTE', 'SANDWICH COMPLET'), ('DEMI BAGUETTE', 'SAVARIN'), ('DEMI BAGUETTE', 'SEIGLE'), ('DEMI BAGUETTE', 'SPECIAL BREAD'), ('DEMI BAGUETTE', 'SPECIAL BREAD KG'), ('DEMI BAGUETTE', 'SUCETTE'), ('DEMI BAGUETTE', 'TARTE FRAISE 4PER'), ('DEMI BAGUETTE', 'TARTE FRUITS 4P'), ('DEMI BAGUETTE', 'TARTE FRUITS 6P'), ('DEMI BAGUETTE', 'TARTELETTE'), ('DEMI BAGUETTE', 'TARTELETTE FRAISE'), ('DEMI BAGUETTE', 'TRADITIONAL BAGUETTE'), ('DEMI BAGUETTE', 'TRAITEUR'), ('DEMI BAGUETTE', 'TROPEZIENNE'), ('DEMI BAGUETTE', 'VIENNOISE'), ('DEMI BAGUETTE', 'VIK BREAD'), ('DEMI PAIN', 'DIVERS BOULANGERIE'), ('DEMI PAIN', 'DIVERS CONFISERIE'), ('DEMI PAIN', 'DIVERS PATISSERIE'), ('DEMI PAIN', 'DIVERS SANDWICHS'), ('DEMI PAIN', 'DIVERS VIENNOISERIE'), ('DEMI PAIN', 'ECLAIR'), ('DEMI PAIN', 'FICELLE'), ('DEMI PAIN', 'FINANCIER X5'), ('DEMI PAIN', 'FLAN'), ('DEMI PAIN', 'FLAN ABRICOT'), ('DEMI PAIN', 'FONDANT CHOCOLAT'), ('DEMI PAIN', 'FORMULE SANDWICH'), ('DEMI PAIN', 'FRAISIER'), ('DEMI PAIN', 'GAL FRANGIPANE 4P'), ('DEMI PAIN', 'GD FAR BRETON'), ('DEMI PAIN', 'GD KOUIGN AMANN'), ('DEMI PAIN', 'GRAND FAR BRETON'), ('DEMI PAIN', 'GRANDE SUCETTE'), ('DEMI PAIN', 'KOUIGN AMANN'), ('DEMI PAIN', 'MILLES FEUILLES'), ('DEMI PAIN', 'MOISSON'), ('DEMI PAIN', 'NANTAIS'), ('DEMI PAIN', 'NOIX JAPONAISE'), ('DEMI PAIN', 'PAIN'), ('DEMI PAIN', 'PAIN AU CHOCOLAT'), ('DEMI PAIN', 'PAIN AUX RAISINS'), ('DEMI PAIN', 'PAIN BANETTE'), ('DEMI PAIN', 'PAIN CHOCO AMANDES'), ('DEMI PAIN', 'PALET BRETON'), ('DEMI PAIN', 'PARIS BREST'), ('DEMI PAIN', 'PLAT 7.60E'), ('DEMI PAIN', 'PT NANTAIS'), ('DEMI PAIN', 'QUIM BREAD'), ('DEMI PAIN', 'ROYAL'), ('DEMI PAIN', 'SACHET VIENNOISERIE'), ('DEMI PAIN', 'SAND JB EMMENTAL'), ('DEMI PAIN', 'SANDWICH COMPLET'), ('DEMI PAIN', 'SAVARIN'), ('DEMI PAIN', 'SEIGLE'), ('DEMI PAIN', 'SPECIAL BREAD'), ('DEMI PAIN', 'SPECIAL BREAD KG'), ('DEMI PAIN', 'SUCETTE'), ('DEMI PAIN', 'TARTE FRAISE 4PER'), ('DEMI PAIN', 'TARTE FRUITS 4P'), ('DEMI PAIN', 'TARTE FRUITS 6P'), ('DEMI PAIN', 'TARTELETTE'), ('DEMI PAIN', 'TARTELETTE FRAISE'), ('DEMI PAIN', 'TRADITIONAL BAGUETTE'), ('DEMI PAIN', 'TRAITEUR'), ('DEMI PAIN', 'TROPEZIENNE'), ('DEMI PAIN', 'VIENNOISE'), ('DEMI PAIN', 'VIK BREAD'), ('DIVERS BOULANGERIE', 'DIVERS CONFISERIE'), ('DIVERS BOULANGERIE', 'DIVERS PATISSERIE'), ('DIVERS BOULANGERIE', 'DIVERS SANDWICHS'), ('DIVERS BOULANGERIE', 'DIVERS VIENNOISERIE'), ('DIVERS BOULANGERIE', 'ECLAIR'), ('DIVERS BOULANGERIE', 'FICELLE'), ('DIVERS BOULANGERIE', 'FINANCIER X5'), ('DIVERS BOULANGERIE', 'FLAN'), ('DIVERS BOULANGERIE', 'FLAN ABRICOT'), ('DIVERS BOULANGERIE', 'FONDANT CHOCOLAT'), ('DIVERS BOULANGERIE', 'FORMULE SANDWICH'), ('DIVERS BOULANGERIE', 'FRAISIER'), ('DIVERS BOULANGERIE', 'GAL FRANGIPANE 4P'), ('DIVERS BOULANGERIE', 'GD FAR BRETON'), ('DIVERS BOULANGERIE', 'GD KOUIGN AMANN'), ('DIVERS BOULANGERIE', 'GRAND FAR BRETON'), ('DIVERS BOULANGERIE', 'GRANDE SUCETTE'), ('DIVERS BOULANGERIE', 'KOUIGN AMANN'), ('DIVERS BOULANGERIE', 'MILLES FEUILLES'), ('DIVERS BOULANGERIE', 'MOISSON'), ('DIVERS BOULANGERIE', 'NANTAIS'), ('DIVERS BOULANGERIE', 'NOIX JAPONAISE'), ('DIVERS BOULANGERIE', 'PAIN'), ('DIVERS BOULANGERIE', 'PAIN AU CHOCOLAT'), ('DIVERS BOULANGERIE', 'PAIN AUX RAISINS'), ('DIVERS BOULANGERIE', 'PAIN BANETTE'), ('DIVERS BOULANGERIE', 'PAIN CHOCO AMANDES'), ('DIVERS BOULANGERIE', 'PALET BRETON'), ('DIVERS BOULANGERIE', 'PARIS BREST'), ('DIVERS BOULANGERIE', 'PLAT 7.60E'), ('DIVERS BOULANGERIE', 'PT NANTAIS'), ('DIVERS BOULANGERIE', 'QUIM BREAD'), ('DIVERS BOULANGERIE', 'ROYAL'), ('DIVERS BOULANGERIE', 'SACHET VIENNOISERIE'), ('DIVERS BOULANGERIE', 'SAND JB EMMENTAL'), ('DIVERS BOULANGERIE', 'SANDWICH COMPLET'), ('DIVERS BOULANGERIE', 'SAVARIN'), ('DIVERS BOULANGERIE', 'SEIGLE'), ('DIVERS BOULANGERIE', 'SPECIAL BREAD'), ('DIVERS BOULANGERIE', 'SPECIAL BREAD KG'), ('DIVERS BOULANGERIE', 'SUCETTE'), ('DIVERS BOULANGERIE', 'TARTE FRAISE 4PER'), ('DIVERS BOULANGERIE', 'TARTE FRUITS 4P'), ('DIVERS BOULANGERIE', 'TARTE FRUITS 6P'), ('DIVERS BOULANGERIE', 'TARTELETTE'), ('DIVERS BOULANGERIE', 'TARTELETTE FRAISE'), ('DIVERS BOULANGERIE', 'TRADITIONAL BAGUETTE'), ('DIVERS BOULANGERIE', 'TRAITEUR'), ('DIVERS BOULANGERIE', 'TROPEZIENNE'), ('DIVERS BOULANGERIE', 'VIENNOISE'), ('DIVERS BOULANGERIE', 'VIK BREAD'), ('DIVERS CONFISERIE', 'DIVERS PATISSERIE'), ('DIVERS CONFISERIE', 'DIVERS SANDWICHS'), ('DIVERS CONFISERIE', 'DIVERS VIENNOISERIE'), ('DIVERS CONFISERIE', 'ECLAIR'), ('DIVERS CONFISERIE', 'FICELLE'), ('DIVERS CONFISERIE', 'FINANCIER X5'), ('DIVERS CONFISERIE', 'FLAN'), ('DIVERS CONFISERIE', 'FLAN ABRICOT'), ('DIVERS CONFISERIE', 'FONDANT CHOCOLAT'), ('DIVERS CONFISERIE', 'FORMULE SANDWICH'), ('DIVERS CONFISERIE', 'FRAISIER'), ('DIVERS CONFISERIE', 'GAL FRANGIPANE 4P'), ('DIVERS CONFISERIE', 'GD FAR BRETON'), ('DIVERS CONFISERIE', 'GD KOUIGN AMANN'), ('DIVERS CONFISERIE', 'GRAND FAR BRETON'), ('DIVERS CONFISERIE', 'GRANDE SUCETTE'), ('DIVERS CONFISERIE', 'KOUIGN AMANN'), ('DIVERS CONFISERIE', 'MILLES FEUILLES'), ('DIVERS CONFISERIE', 'MOISSON'), ('DIVERS CONFISERIE', 'NANTAIS'), ('DIVERS CONFISERIE', 'NOIX JAPONAISE'), ('DIVERS CONFISERIE', 'PAIN'), ('DIVERS CONFISERIE', 'PAIN AU CHOCOLAT'), ('DIVERS CONFISERIE', 'PAIN AUX RAISINS'), ('DIVERS CONFISERIE', 'PAIN BANETTE'), ('DIVERS CONFISERIE', 'PAIN CHOCO AMANDES'), ('DIVERS CONFISERIE', 'PALET BRETON'), ('DIVERS CONFISERIE', 'PARIS BREST'), ('DIVERS CONFISERIE', 'PLAT 7.60E'), ('DIVERS CONFISERIE', 'PT NANTAIS'), ('DIVERS CONFISERIE', 'QUIM BREAD'), ('DIVERS CONFISERIE', 'ROYAL'), ('DIVERS CONFISERIE', 'SACHET VIENNOISERIE'), ('DIVERS CONFISERIE', 'SAND JB EMMENTAL'), ('DIVERS CONFISERIE', 'SANDWICH COMPLET'), ('DIVERS CONFISERIE', 'SAVARIN'), ('DIVERS CONFISERIE', 'SEIGLE'), ('DIVERS CONFISERIE', 'SPECIAL BREAD'), ('DIVERS CONFISERIE', 'SPECIAL BREAD KG'), ('DIVERS CONFISERIE', 'SUCETTE'), ('DIVERS CONFISERIE', 'TARTE FRAISE 4PER'), ('DIVERS CONFISERIE', 'TARTE FRUITS 4P'), ('DIVERS CONFISERIE', 'TARTE FRUITS 6P'), ('DIVERS CONFISERIE', 'TARTELETTE'), ('DIVERS CONFISERIE', 'TARTELETTE FRAISE'), ('DIVERS CONFISERIE', 'TRADITIONAL BAGUETTE'), ('DIVERS CONFISERIE', 'TRAITEUR'), ('DIVERS CONFISERIE', 'TROPEZIENNE'), ('DIVERS CONFISERIE', 'VIENNOISE'), ('DIVERS CONFISERIE', 'VIK BREAD'), ('DIVERS PATISSERIE', 'DIVERS SANDWICHS'), ('DIVERS PATISSERIE', 'DIVERS VIENNOISERIE'), ('DIVERS PATISSERIE', 'ECLAIR'), ('DIVERS PATISSERIE', 'FICELLE'), ('DIVERS PATISSERIE', 'FINANCIER X5'), ('DIVERS PATISSERIE', 'FLAN'), ('DIVERS PATISSERIE', 'FLAN ABRICOT'), ('DIVERS PATISSERIE', 'FONDANT CHOCOLAT'), ('DIVERS PATISSERIE', 'FORMULE SANDWICH'), ('DIVERS PATISSERIE', 'FRAISIER'), ('DIVERS PATISSERIE', 'GAL FRANGIPANE 4P'), ('DIVERS PATISSERIE', 'GD FAR BRETON'), ('DIVERS PATISSERIE', 'GD KOUIGN AMANN'), ('DIVERS PATISSERIE', 'GRAND FAR BRETON'), ('DIVERS PATISSERIE', 'GRANDE SUCETTE'), ('DIVERS PATISSERIE', 'KOUIGN AMANN'), ('DIVERS PATISSERIE', 'MILLES FEUILLES'), ('DIVERS PATISSERIE', 'MOISSON'), ('DIVERS PATISSERIE', 'NANTAIS'), ('DIVERS PATISSERIE', 'NOIX JAPONAISE'), ('DIVERS PATISSERIE', 'PAIN'), ('DIVERS PATISSERIE', 'PAIN AU CHOCOLAT'), ('DIVERS PATISSERIE', 'PAIN AUX RAISINS'), ('DIVERS PATISSERIE', 'PAIN BANETTE'), ('DIVERS PATISSERIE', 'PAIN CHOCO AMANDES'), ('DIVERS PATISSERIE', 'PALET BRETON'), ('DIVERS PATISSERIE', 'PARIS BREST'), ('DIVERS PATISSERIE', 'PLAT 7.60E'), ('DIVERS PATISSERIE', 'PT NANTAIS'), ('DIVERS PATISSERIE', 'QUIM BREAD'), ('DIVERS PATISSERIE', 'ROYAL'), ('DIVERS PATISSERIE', 'SACHET VIENNOISERIE'), ('DIVERS PATISSERIE', 'SAND JB EMMENTAL'), ('DIVERS PATISSERIE', 'SANDWICH COMPLET'), ('DIVERS PATISSERIE', 'SAVARIN'), ('DIVERS PATISSERIE', 'SEIGLE'), ('DIVERS PATISSERIE', 'SPECIAL BREAD'), ('DIVERS PATISSERIE', 'SPECIAL BREAD KG'), ('DIVERS PATISSERIE', 'SUCETTE'), ('DIVERS PATISSERIE', 'TARTE FRAISE 4PER'), ('DIVERS PATISSERIE', 'TARTE FRUITS 4P'), ('DIVERS PATISSERIE', 'TARTE FRUITS 6P'), ('DIVERS PATISSERIE', 'TARTELETTE'), ('DIVERS PATISSERIE', 'TARTELETTE FRAISE'), ('DIVERS PATISSERIE', 'TRADITIONAL BAGUETTE'), ('DIVERS PATISSERIE', 'TRAITEUR'), ('DIVERS PATISSERIE', 'TROPEZIENNE'), ('DIVERS PATISSERIE', 'VIENNOISE'), ('DIVERS PATISSERIE', 'VIK BREAD'), ('DIVERS SANDWICHS', 'DIVERS VIENNOISERIE'), ('DIVERS SANDWICHS', 'ECLAIR'), ('DIVERS SANDWICHS', 'FICELLE'), ('DIVERS SANDWICHS', 'FINANCIER X5'), ('DIVERS SANDWICHS', 'FLAN'), ('DIVERS SANDWICHS', 'FLAN ABRICOT'), ('DIVERS SANDWICHS', 'FONDANT CHOCOLAT'), ('DIVERS SANDWICHS', 'FORMULE SANDWICH'), ('DIVERS SANDWICHS', 'FRAISIER'), ('DIVERS SANDWICHS', 'GAL FRANGIPANE 4P'), ('DIVERS SANDWICHS', 'GD FAR BRETON'), ('DIVERS SANDWICHS', 'GD KOUIGN AMANN'), ('DIVERS SANDWICHS', 'GRAND FAR BRETON'), ('DIVERS SANDWICHS', 'GRANDE SUCETTE'), ('DIVERS SANDWICHS', 'KOUIGN AMANN'), ('DIVERS SANDWICHS', 'MILLES FEUILLES'), ('DIVERS SANDWICHS', 'MOISSON'), ('DIVERS SANDWICHS', 'NANTAIS'), ('DIVERS SANDWICHS', 'NOIX JAPONAISE'), ('DIVERS SANDWICHS', 'PAIN'), ('DIVERS SANDWICHS', 'PAIN AU CHOCOLAT'), ('DIVERS SANDWICHS', 'PAIN AUX RAISINS'), ('DIVERS SANDWICHS', 'PAIN BANETTE'), ('DIVERS SANDWICHS', 'PAIN CHOCO AMANDES'), ('DIVERS SANDWICHS', 'PALET BRETON'), ('DIVERS SANDWICHS', 'PARIS BREST'), ('DIVERS SANDWICHS', 'PLAT 7.60E'), ('DIVERS SANDWICHS', 'PT NANTAIS'), ('DIVERS SANDWICHS', 'QUIM BREAD'), ('DIVERS SANDWICHS', 'ROYAL'), ('DIVERS SANDWICHS', 'SACHET VIENNOISERIE'), ('DIVERS SANDWICHS', 'SAND JB EMMENTAL'), ('DIVERS SANDWICHS', 'SANDWICH COMPLET'), ('DIVERS SANDWICHS', 'SAVARIN'), ('DIVERS SANDWICHS', 'SEIGLE'), ('DIVERS SANDWICHS', 'SPECIAL BREAD'), ('DIVERS SANDWICHS', 'SPECIAL BREAD KG'), ('DIVERS SANDWICHS', 'SUCETTE'), ('DIVERS SANDWICHS', 'TARTE FRAISE 4PER'), ('DIVERS SANDWICHS', 'TARTE FRUITS 4P'), ('DIVERS SANDWICHS', 'TARTE FRUITS 6P'), ('DIVERS SANDWICHS', 'TARTELETTE'), ('DIVERS SANDWICHS', 'TARTELETTE FRAISE'), ('DIVERS SANDWICHS', 'TRADITIONAL BAGUETTE'), ('DIVERS SANDWICHS', 'TRAITEUR'), ('DIVERS SANDWICHS', 'TROPEZIENNE'), ('DIVERS SANDWICHS', 'VIENNOISE'), ('DIVERS SANDWICHS', 'VIK BREAD'), ('DIVERS VIENNOISERIE', 'ECLAIR'), ('DIVERS VIENNOISERIE', 'FICELLE'), ('DIVERS VIENNOISERIE', 'FINANCIER X5'), ('DIVERS VIENNOISERIE', 'FLAN'), ('DIVERS VIENNOISERIE', 'FLAN ABRICOT'), ('DIVERS VIENNOISERIE', 'FONDANT CHOCOLAT'), ('DIVERS VIENNOISERIE', 'FORMULE SANDWICH'), ('DIVERS VIENNOISERIE', 'FRAISIER'), ('DIVERS VIENNOISERIE', 'GAL FRANGIPANE 4P'), ('DIVERS VIENNOISERIE', 'GD FAR BRETON'), ('DIVERS VIENNOISERIE', 'GD KOUIGN AMANN'), ('DIVERS VIENNOISERIE', 'GRAND FAR BRETON'), ('DIVERS VIENNOISERIE', 'GRANDE SUCETTE'), ('DIVERS VIENNOISERIE', 'KOUIGN AMANN'), ('DIVERS VIENNOISERIE', 'MILLES FEUILLES'), ('DIVERS VIENNOISERIE', 'MOISSON'), ('DIVERS VIENNOISERIE', 'NANTAIS'), ('DIVERS VIENNOISERIE', 'NOIX JAPONAISE'), ('DIVERS VIENNOISERIE', 'PAIN'), ('DIVERS VIENNOISERIE', 'PAIN AU CHOCOLAT'), ('DIVERS VIENNOISERIE', 'PAIN AUX RAISINS'), ('DIVERS VIENNOISERIE', 'PAIN BANETTE'), ('DIVERS VIENNOISERIE', 'PAIN CHOCO AMANDES'), ('DIVERS VIENNOISERIE', 'PALET BRETON'), ('DIVERS VIENNOISERIE', 'PARIS BREST'), ('DIVERS VIENNOISERIE', 'PLAT 7.60E'), ('DIVERS VIENNOISERIE', 'PT NANTAIS'), ('DIVERS VIENNOISERIE', 'QUIM BREAD'), ('DIVERS VIENNOISERIE', 'ROYAL'), ('DIVERS VIENNOISERIE', 'SACHET VIENNOISERIE'), ('DIVERS VIENNOISERIE', 'SAND JB EMMENTAL'), ('DIVERS VIENNOISERIE', 'SANDWICH COMPLET'), ('DIVERS VIENNOISERIE', 'SAVARIN'), ('DIVERS VIENNOISERIE', 'SEIGLE'), ('DIVERS VIENNOISERIE', 'SPECIAL BREAD'), ('DIVERS VIENNOISERIE', 'SPECIAL BREAD KG'), ('DIVERS VIENNOISERIE', 'SUCETTE'), ('DIVERS VIENNOISERIE', 'TARTE FRAISE 4PER'), ('DIVERS VIENNOISERIE', 'TARTE FRUITS 4P'), ('DIVERS VIENNOISERIE', 'TARTE FRUITS 6P'), ('DIVERS VIENNOISERIE', 'TARTELETTE'), ('DIVERS VIENNOISERIE', 'TARTELETTE FRAISE'), ('DIVERS VIENNOISERIE', 'TRADITIONAL BAGUETTE'), ('DIVERS VIENNOISERIE', 'TRAITEUR'), ('DIVERS VIENNOISERIE', 'TROPEZIENNE'), ('DIVERS VIENNOISERIE', 'VIENNOISE'), ('DIVERS VIENNOISERIE', 'VIK BREAD'), ('ECLAIR', 'FICELLE'), ('ECLAIR', 'FINANCIER X5'), ('ECLAIR', 'FLAN'), ('ECLAIR', 'FLAN ABRICOT'), ('ECLAIR', 'FONDANT CHOCOLAT'), ('ECLAIR', 'FORMULE SANDWICH'), ('ECLAIR', 'FRAISIER'), ('ECLAIR', 'GAL FRANGIPANE 4P'), ('ECLAIR', 'GD FAR BRETON'), ('ECLAIR', 'GD KOUIGN AMANN'), ('ECLAIR', 'GRAND FAR BRETON'), ('ECLAIR', 'GRANDE SUCETTE'), ('ECLAIR', 'KOUIGN AMANN'), ('ECLAIR', 'MILLES FEUILLES'), ('ECLAIR', 'MOISSON'), ('ECLAIR', 'NANTAIS'), ('ECLAIR', 'NOIX JAPONAISE'), ('ECLAIR', 'PAIN'), ('ECLAIR', 'PAIN AU CHOCOLAT'), ('ECLAIR', 'PAIN AUX RAISINS'), ('ECLAIR', 'PAIN BANETTE'), ('ECLAIR', 'PAIN CHOCO AMANDES'), ('ECLAIR', 'PALET BRETON'), ('ECLAIR', 'PARIS BREST'), ('ECLAIR', 'PLAT 7.60E'), ('ECLAIR', 'PT NANTAIS'), ('ECLAIR', 'QUIM BREAD'), ('ECLAIR', 'ROYAL'), ('ECLAIR', 'SACHET VIENNOISERIE'), ('ECLAIR', 'SAND JB EMMENTAL'), ('ECLAIR', 'SANDWICH COMPLET'), ('ECLAIR', 'SAVARIN'), ('ECLAIR', 'SEIGLE'), ('ECLAIR', 'SPECIAL BREAD'), ('ECLAIR', 'SPECIAL BREAD KG'), ('ECLAIR', 'SUCETTE'), ('ECLAIR', 'TARTE FRAISE 4PER'), ('ECLAIR', 'TARTE FRUITS 4P'), ('ECLAIR', 'TARTE FRUITS 6P'), ('ECLAIR', 'TARTELETTE'), ('ECLAIR', 'TARTELETTE FRAISE'), ('ECLAIR', 'TRADITIONAL BAGUETTE'), ('ECLAIR', 'TRAITEUR'), ('ECLAIR', 'TROPEZIENNE'), ('ECLAIR', 'VIENNOISE'), ('ECLAIR', 'VIK BREAD'), ('FICELLE', 'FINANCIER X5'), ('FICELLE', 'FLAN'), ('FICELLE', 'FLAN ABRICOT'), ('FICELLE', 'FONDANT CHOCOLAT'), ('FICELLE', 'FORMULE SANDWICH'), ('FICELLE', 'FRAISIER'), ('FICELLE', 'GAL FRANGIPANE 4P'), ('FICELLE', 'GD FAR BRETON'), ('FICELLE', 'GD KOUIGN AMANN'), ('FICELLE', 'GRAND FAR BRETON'), ('FICELLE', 'GRANDE SUCETTE'), ('FICELLE', 'KOUIGN AMANN'), ('FICELLE', 'MILLES FEUILLES'), ('FICELLE', 'MOISSON'), ('FICELLE', 'NANTAIS'), ('FICELLE', 'NOIX JAPONAISE'), ('FICELLE', 'PAIN'), ('FICELLE', 'PAIN AU CHOCOLAT'), ('FICELLE', 'PAIN AUX RAISINS'), ('FICELLE', 'PAIN BANETTE'), ('FICELLE', 'PAIN CHOCO AMANDES'), ('FICELLE', 'PALET BRETON'), ('FICELLE', 'PARIS BREST'), ('FICELLE', 'PLAT 7.60E'), ('FICELLE', 'PT NANTAIS'), ('FICELLE', 'QUIM BREAD'), ('FICELLE', 'ROYAL'), ('FICELLE', 'SACHET VIENNOISERIE'), ('FICELLE', 'SAND JB EMMENTAL'), ('FICELLE', 'SANDWICH COMPLET'), ('FICELLE', 'SAVARIN'), ('FICELLE', 'SEIGLE'), ('FICELLE', 'SPECIAL BREAD'), ('FICELLE', 'SPECIAL BREAD KG'), ('FICELLE', 'SUCETTE'), ('FICELLE', 'TARTE FRAISE 4PER'), ('FICELLE', 'TARTE FRUITS 4P'), ('FICELLE', 'TARTE FRUITS 6P'), ('FICELLE', 'TARTELETTE'), ('FICELLE', 'TARTELETTE FRAISE'), ('FICELLE', 'TRADITIONAL BAGUETTE'), ('FICELLE', 'TRAITEUR'), ('FICELLE', 'TROPEZIENNE'), ('FICELLE', 'VIENNOISE'), ('FICELLE', 'VIK BREAD'), ('FINANCIER X5', 'FLAN'), ('FINANCIER X5', 'FLAN ABRICOT'), ('FINANCIER X5', 'FONDANT CHOCOLAT'), ('FINANCIER X5', 'FORMULE SANDWICH'), ('FINANCIER X5', 'FRAISIER'), ('FINANCIER X5', 'GAL FRANGIPANE 4P'), ('FINANCIER X5', 'GD FAR BRETON'), ('FINANCIER X5', 'GD KOUIGN AMANN'), ('FINANCIER X5', 'GRAND FAR BRETON'), ('FINANCIER X5', 'GRANDE SUCETTE'), ('FINANCIER X5', 'KOUIGN AMANN'), ('FINANCIER X5', 'MILLES FEUILLES'), ('FINANCIER X5', 'MOISSON'), ('FINANCIER X5', 'NANTAIS'), ('FINANCIER X5', 'NOIX JAPONAISE'), ('FINANCIER X5', 'PAIN'), ('FINANCIER X5', 'PAIN AU CHOCOLAT'), ('FINANCIER X5', 'PAIN AUX RAISINS'), ('FINANCIER X5', 'PAIN BANETTE'), ('FINANCIER X5', 'PAIN CHOCO AMANDES'), ('FINANCIER X5', 'PALET BRETON'), ('FINANCIER X5', 'PARIS BREST'), ('FINANCIER X5', 'PLAT 7.60E'), ('FINANCIER X5', 'PT NANTAIS'), ('FINANCIER X5', 'QUIM BREAD'), ('FINANCIER X5', 'ROYAL'), ('FINANCIER X5', 'SACHET VIENNOISERIE'), ('FINANCIER X5', 'SAND JB EMMENTAL'), ('FINANCIER X5', 'SANDWICH COMPLET'), ('FINANCIER X5', 'SAVARIN'), ('FINANCIER X5', 'SEIGLE'), ('FINANCIER X5', 'SPECIAL BREAD'), ('FINANCIER X5', 'SPECIAL BREAD KG'), ('FINANCIER X5', 'SUCETTE'), ('FINANCIER X5', 'TARTE FRAISE 4PER'), ('FINANCIER X5', 'TARTE FRUITS 4P'), ('FINANCIER X5', 'TARTE FRUITS 6P'), ('FINANCIER X5', 'TARTELETTE'), ('FINANCIER X5', 'TARTELETTE FRAISE'), ('FINANCIER X5', 'TRADITIONAL BAGUETTE'), ('FINANCIER X5', 'TRAITEUR'), ('FINANCIER X5', 'TROPEZIENNE'), ('FINANCIER X5', 'VIENNOISE'), ('FINANCIER X5', 'VIK BREAD'), ('FLAN', 'FLAN ABRICOT'), ('FLAN', 'FONDANT CHOCOLAT'), ('FLAN', 'FORMULE SANDWICH'), ('FLAN', 'FRAISIER'), ('FLAN', 'GAL FRANGIPANE 4P'), ('FLAN', 'GD FAR BRETON'), ('FLAN', 'GD KOUIGN AMANN'), ('FLAN', 'GRAND FAR BRETON'), ('FLAN', 'GRANDE SUCETTE'), ('FLAN', 'KOUIGN AMANN'), ('FLAN', 'MILLES FEUILLES'), ('FLAN', 'MOISSON'), ('FLAN', 'NANTAIS'), ('FLAN', 'NOIX JAPONAISE'), ('FLAN', 'PAIN'), ('FLAN', 'PAIN AU CHOCOLAT'), ('FLAN', 'PAIN AUX RAISINS'), ('FLAN', 'PAIN BANETTE'), ('FLAN', 'PAIN CHOCO AMANDES'), ('FLAN', 'PALET BRETON'), ('FLAN', 'PARIS BREST'), ('FLAN', 'PLAT 7.60E'), ('FLAN', 'PT NANTAIS'), ('FLAN', 'QUIM BREAD'), ('FLAN', 'ROYAL'), ('FLAN', 'SACHET VIENNOISERIE'), ('FLAN', 'SAND JB EMMENTAL'), ('FLAN', 'SANDWICH COMPLET'), ('FLAN', 'SAVARIN'), ('FLAN', 'SEIGLE'), ('FLAN', 'SPECIAL BREAD'), ('FLAN', 'SPECIAL BREAD KG'), ('FLAN', 'SUCETTE'), ('FLAN', 'TARTE FRAISE 4PER'), ('FLAN', 'TARTE FRUITS 4P'), ('FLAN', 'TARTE FRUITS 6P'), ('FLAN', 'TARTELETTE'), ('FLAN', 'TARTELETTE FRAISE'), ('FLAN', 'TRADITIONAL BAGUETTE'), ('FLAN', 'TRAITEUR'), ('FLAN', 'TROPEZIENNE'), ('FLAN', 'VIENNOISE'), ('FLAN', 'VIK BREAD'), ('FLAN ABRICOT', 'FONDANT CHOCOLAT'), ('FLAN ABRICOT', 'FORMULE SANDWICH'), ('FLAN ABRICOT', 'FRAISIER'), ('FLAN ABRICOT', 'GAL FRANGIPANE 4P'), ('FLAN ABRICOT', 'GD FAR BRETON'), ('FLAN ABRICOT', 'GD KOUIGN AMANN'), ('FLAN ABRICOT', 'GRAND FAR BRETON'), ('FLAN ABRICOT', 'GRANDE SUCETTE'), ('FLAN ABRICOT', 'KOUIGN AMANN'), ('FLAN ABRICOT', 'MILLES FEUILLES'), ('FLAN ABRICOT', 'MOISSON'), ('FLAN ABRICOT', 'NANTAIS'), ('FLAN ABRICOT', 'NOIX JAPONAISE'), ('FLAN ABRICOT', 'PAIN'), ('FLAN ABRICOT', 'PAIN AU CHOCOLAT'), ('FLAN ABRICOT', 'PAIN AUX RAISINS'), ('FLAN ABRICOT', 'PAIN BANETTE'), ('FLAN ABRICOT', 'PAIN CHOCO AMANDES'), ('FLAN ABRICOT', 'PALET BRETON'), ('FLAN ABRICOT', 'PARIS BREST'), ('FLAN ABRICOT', 'PLAT 7.60E'), ('FLAN ABRICOT', 'PT NANTAIS'), ('FLAN ABRICOT', 'QUIM BREAD'), ('FLAN ABRICOT', 'ROYAL'), ('FLAN ABRICOT', 'SACHET VIENNOISERIE'), ('FLAN ABRICOT', 'SAND JB EMMENTAL'), ('FLAN ABRICOT', 'SANDWICH COMPLET'), ('FLAN ABRICOT', 'SAVARIN'), ('FLAN ABRICOT', 'SEIGLE'), ('FLAN ABRICOT', 'SPECIAL BREAD'), ('FLAN ABRICOT', 'SPECIAL BREAD KG'), ('FLAN ABRICOT', 'SUCETTE'), ('FLAN ABRICOT', 'TARTE FRAISE 4PER'), ('FLAN ABRICOT', 'TARTE FRUITS 4P'), ('FLAN ABRICOT', 'TARTE FRUITS 6P'), ('FLAN ABRICOT', 'TARTELETTE'), ('FLAN ABRICOT', 'TARTELETTE FRAISE'), ('FLAN ABRICOT', 'TRADITIONAL BAGUETTE'), ('FLAN ABRICOT', 'TRAITEUR'), ('FLAN ABRICOT', 'TROPEZIENNE'), ('FLAN ABRICOT', 'VIENNOISE'), ('FLAN ABRICOT', 'VIK BREAD'), ('FONDANT CHOCOLAT', 'FORMULE SANDWICH'), ('FONDANT CHOCOLAT', 'FRAISIER'), ('FONDANT CHOCOLAT', 'GAL FRANGIPANE 4P'), ('FONDANT CHOCOLAT', 'GD FAR BRETON'), ('FONDANT CHOCOLAT', 'GD KOUIGN AMANN'), ('FONDANT CHOCOLAT', 'GRAND FAR BRETON'), ('FONDANT CHOCOLAT', 'GRANDE SUCETTE'), ('FONDANT CHOCOLAT', 'KOUIGN AMANN'), ('FONDANT CHOCOLAT', 'MILLES FEUILLES'), ('FONDANT CHOCOLAT', 'MOISSON'), ('FONDANT CHOCOLAT', 'NANTAIS'), ('FONDANT CHOCOLAT', 'NOIX JAPONAISE'), ('FONDANT CHOCOLAT', 'PAIN'), ('FONDANT CHOCOLAT', 'PAIN AU CHOCOLAT'), ('FONDANT CHOCOLAT', 'PAIN AUX RAISINS'), ('FONDANT CHOCOLAT', 'PAIN BANETTE'), ('FONDANT CHOCOLAT', 'PAIN CHOCO AMANDES'), ('FONDANT CHOCOLAT', 'PALET BRETON'), ('FONDANT CHOCOLAT', 'PARIS BREST'), ('FONDANT CHOCOLAT', 'PLAT 7.60E'), ('FONDANT CHOCOLAT', 'PT NANTAIS'), ('FONDANT CHOCOLAT', 'QUIM BREAD'), ('FONDANT CHOCOLAT', 'ROYAL'), ('FONDANT CHOCOLAT', 'SACHET VIENNOISERIE'), ('FONDANT CHOCOLAT', 'SAND JB EMMENTAL'), ('FONDANT CHOCOLAT', 'SANDWICH COMPLET'), ('FONDANT CHOCOLAT', 'SAVARIN'), ('FONDANT CHOCOLAT', 'SEIGLE'), ('FONDANT CHOCOLAT', 'SPECIAL BREAD'), ('FONDANT CHOCOLAT', 'SPECIAL BREAD KG'), ('FONDANT CHOCOLAT', 'SUCETTE'), ('FONDANT CHOCOLAT', 'TARTE FRAISE 4PER'), ('FONDANT CHOCOLAT', 'TARTE FRUITS 4P'), ('FONDANT CHOCOLAT', 'TARTE FRUITS 6P'), ('FONDANT CHOCOLAT', 'TARTELETTE'), ('FONDANT CHOCOLAT', 'TARTELETTE FRAISE'), ('FONDANT CHOCOLAT', 'TRADITIONAL BAGUETTE'), ('FONDANT CHOCOLAT', 'TRAITEUR'), ('FONDANT CHOCOLAT', 'TROPEZIENNE'), ('FONDANT CHOCOLAT', 'VIENNOISE'), ('FONDANT CHOCOLAT', 'VIK BREAD'), ('FORMULE SANDWICH', 'FRAISIER'), ('FORMULE SANDWICH', 'GAL FRANGIPANE 4P'), ('FORMULE SANDWICH', 'GD FAR BRETON'), ('FORMULE SANDWICH', 'GD KOUIGN AMANN'), ('FORMULE SANDWICH', 'GRAND FAR BRETON'), ('FORMULE SANDWICH', 'GRANDE SUCETTE'), ('FORMULE SANDWICH', 'KOUIGN AMANN'), ('FORMULE SANDWICH', 'MILLES FEUILLES'), ('FORMULE SANDWICH', 'MOISSON'), ('FORMULE SANDWICH', 'NANTAIS'), ('FORMULE SANDWICH', 'NOIX JAPONAISE'), ('FORMULE SANDWICH', 'PAIN'), ('FORMULE SANDWICH', 'PAIN AU CHOCOLAT'), ('FORMULE SANDWICH', 'PAIN AUX RAISINS'), ('FORMULE SANDWICH', 'PAIN BANETTE'), ('FORMULE SANDWICH', 'PAIN CHOCO AMANDES'), ('FORMULE SANDWICH', 'PALET BRETON'), ('FORMULE SANDWICH', 'PARIS BREST'), ('FORMULE SANDWICH', 'PLAT 7.60E'), ('FORMULE SANDWICH', 'PT NANTAIS'), ('FORMULE SANDWICH', 'QUIM BREAD'), ('FORMULE SANDWICH', 'ROYAL'), ('FORMULE SANDWICH', 'SACHET VIENNOISERIE'), ('FORMULE SANDWICH', 'SAND JB EMMENTAL'), ('FORMULE SANDWICH', 'SANDWICH COMPLET'), ('FORMULE SANDWICH', 'SAVARIN'), ('FORMULE SANDWICH', 'SEIGLE'), ('FORMULE SANDWICH', 'SPECIAL BREAD'), ('FORMULE SANDWICH', 'SPECIAL BREAD KG'), ('FORMULE SANDWICH', 'SUCETTE'), ('FORMULE SANDWICH', 'TARTE FRAISE 4PER'), ('FORMULE SANDWICH', 'TARTE FRUITS 4P'), ('FORMULE SANDWICH', 'TARTE FRUITS 6P'), ('FORMULE SANDWICH', 'TARTELETTE'), ('FORMULE SANDWICH', 'TARTELETTE FRAISE'), ('FORMULE SANDWICH', 'TRADITIONAL BAGUETTE'), ('FORMULE SANDWICH', 'TRAITEUR'), ('FORMULE SANDWICH', 'TROPEZIENNE'), ('FORMULE SANDWICH', 'VIENNOISE'), ('FORMULE SANDWICH', 'VIK BREAD'), ('FRAISIER', 'GAL FRANGIPANE 4P'), ('FRAISIER', 'GD FAR BRETON'), ('FRAISIER', 'GD KOUIGN AMANN'), ('FRAISIER', 'GRAND FAR BRETON'), ('FRAISIER', 'GRANDE SUCETTE'), ('FRAISIER', 'KOUIGN AMANN'), ('FRAISIER', 'MILLES FEUILLES'), ('FRAISIER', 'MOISSON'), ('FRAISIER', 'NANTAIS'), ('FRAISIER', 'NOIX JAPONAISE'), ('FRAISIER', 'PAIN'), ('FRAISIER', 'PAIN AU CHOCOLAT'), ('FRAISIER', 'PAIN AUX RAISINS'), ('FRAISIER', 'PAIN BANETTE'), ('FRAISIER', 'PAIN CHOCO AMANDES'), ('FRAISIER', 'PALET BRETON'), ('FRAISIER', 'PARIS BREST'), ('FRAISIER', 'PLAT 7.60E'), ('FRAISIER', 'PT NANTAIS'), ('FRAISIER', 'QUIM BREAD'), ('FRAISIER', 'ROYAL'), ('FRAISIER', 'SACHET VIENNOISERIE'), ('FRAISIER', 'SAND JB EMMENTAL'), ('FRAISIER', 'SANDWICH COMPLET'), ('FRAISIER', 'SAVARIN'), ('FRAISIER', 'SEIGLE'), ('FRAISIER', 'SPECIAL BREAD'), ('FRAISIER', 'SPECIAL BREAD KG'), ('FRAISIER', 'SUCETTE'), ('FRAISIER', 'TARTE FRAISE 4PER'), ('FRAISIER', 'TARTE FRUITS 4P'), ('FRAISIER', 'TARTE FRUITS 6P'), ('FRAISIER', 'TARTELETTE'), ('FRAISIER', 'TARTELETTE FRAISE'), ('FRAISIER', 'TRADITIONAL BAGUETTE'), ('FRAISIER', 'TRAITEUR'), ('FRAISIER', 'TROPEZIENNE'), ('FRAISIER', 'VIENNOISE'), ('FRAISIER', 'VIK BREAD'), ('GAL FRANGIPANE 4P', 'GD FAR BRETON'), ('GAL FRANGIPANE 4P', 'GD KOUIGN AMANN'), ('GAL FRANGIPANE 4P', 'GRAND FAR BRETON'), ('GAL FRANGIPANE 4P', 'GRANDE SUCETTE'), ('GAL FRANGIPANE 4P', 'KOUIGN AMANN'), ('GAL FRANGIPANE 4P', 'MILLES FEUILLES'), ('GAL FRANGIPANE 4P', 'MOISSON'), ('GAL FRANGIPANE 4P', 'NANTAIS'), ('GAL FRANGIPANE 4P', 'NOIX JAPONAISE'), ('GAL FRANGIPANE 4P', 'PAIN'), ('GAL FRANGIPANE 4P', 'PAIN AU CHOCOLAT'), ('GAL FRANGIPANE 4P', 'PAIN AUX RAISINS'), ('GAL FRANGIPANE 4P', 'PAIN BANETTE'), ('GAL FRANGIPANE 4P', 'PAIN CHOCO AMANDES'), ('GAL FRANGIPANE 4P', 'PALET BRETON'), ('GAL FRANGIPANE 4P', 'PARIS BREST'), ('GAL FRANGIPANE 4P', 'PLAT 7.60E'), ('GAL FRANGIPANE 4P', 'PT NANTAIS'), ('GAL FRANGIPANE 4P', 'QUIM BREAD'), ('GAL FRANGIPANE 4P', 'ROYAL'), ('GAL FRANGIPANE 4P', 'SACHET VIENNOISERIE'), ('GAL FRANGIPANE 4P', 'SAND JB EMMENTAL'), ('GAL FRANGIPANE 4P', 'SANDWICH COMPLET'), ('GAL FRANGIPANE 4P', 'SAVARIN'), ('GAL FRANGIPANE 4P', 'SEIGLE'), ('GAL FRANGIPANE 4P', 'SPECIAL BREAD'), ('GAL FRANGIPANE 4P', 'SPECIAL BREAD KG'), ('GAL FRANGIPANE 4P', 'SUCETTE'), ('GAL FRANGIPANE 4P', 'TARTE FRAISE 4PER'), ('GAL FRANGIPANE 4P', 'TARTE FRUITS 4P'), ('GAL FRANGIPANE 4P', 'TARTE FRUITS 6P'), ('GAL FRANGIPANE 4P', 'TARTELETTE'), ('GAL FRANGIPANE 4P', 'TARTELETTE FRAISE'), ('GAL FRANGIPANE 4P', 'TRADITIONAL BAGUETTE'), ('GAL FRANGIPANE 4P', 'TRAITEUR'), ('GAL FRANGIPANE 4P', 'TROPEZIENNE'), ('GAL FRANGIPANE 4P', 'VIENNOISE'), ('GAL FRANGIPANE 4P', 'VIK BREAD'), ('GD FAR BRETON', 'GD KOUIGN AMANN'), ('GD FAR BRETON', 'GRAND FAR BRETON'), ('GD FAR BRETON', 'GRANDE SUCETTE'), ('GD FAR BRETON', 'KOUIGN AMANN'), ('GD FAR BRETON', 'MILLES FEUILLES'), ('GD FAR BRETON', 'MOISSON'), ('GD FAR BRETON', 'NANTAIS'), ('GD FAR BRETON', 'NOIX JAPONAISE'), ('GD FAR BRETON', 'PAIN'), ('GD FAR BRETON', 'PAIN AU CHOCOLAT'), ('GD FAR BRETON', 'PAIN AUX RAISINS'), ('GD FAR BRETON', 'PAIN BANETTE'), ('GD FAR BRETON', 'PAIN CHOCO AMANDES'), ('GD FAR BRETON', 'PALET BRETON'), ('GD FAR BRETON', 'PARIS BREST'), ('GD FAR BRETON', 'PLAT 7.60E'), ('GD FAR BRETON', 'PT NANTAIS'), ('GD FAR BRETON', 'QUIM BREAD'), ('GD FAR BRETON', 'ROYAL'), ('GD FAR BRETON', 'SACHET VIENNOISERIE'), ('GD FAR BRETON', 'SAND JB EMMENTAL'), ('GD FAR BRETON', 'SANDWICH COMPLET'), ('GD FAR BRETON', 'SAVARIN'), ('GD FAR BRETON', 'SEIGLE'), ('GD FAR BRETON', 'SPECIAL BREAD'), ('GD FAR BRETON', 'SPECIAL BREAD KG'), ('GD FAR BRETON', 'SUCETTE'), ('GD FAR BRETON', 'TARTE FRAISE 4PER'), ('GD FAR BRETON', 'TARTE FRUITS 4P'), ('GD FAR BRETON', 'TARTE FRUITS 6P'), ('GD FAR BRETON', 'TARTELETTE'), ('GD FAR BRETON', 'TARTELETTE FRAISE'), ('GD FAR BRETON', 'TRADITIONAL BAGUETTE'), ('GD FAR BRETON', 'TRAITEUR'), ('GD FAR BRETON', 'TROPEZIENNE'), ('GD FAR BRETON', 'VIENNOISE'), ('GD FAR BRETON', 'VIK BREAD'), ('GD KOUIGN AMANN', 'GRAND FAR BRETON'), ('GD KOUIGN AMANN', 'GRANDE SUCETTE'), ('GD KOUIGN AMANN', 'KOUIGN AMANN'), ('GD KOUIGN AMANN', 'MILLES FEUILLES'), ('GD KOUIGN AMANN', 'MOISSON'), ('GD KOUIGN AMANN', 'NANTAIS'), ('GD KOUIGN AMANN', 'NOIX JAPONAISE'), ('GD KOUIGN AMANN', 'PAIN'), ('GD KOUIGN AMANN', 'PAIN AU CHOCOLAT'), ('GD KOUIGN AMANN', 'PAIN AUX RAISINS'), ('GD KOUIGN AMANN', 'PAIN BANETTE'), ('GD KOUIGN AMANN', 'PAIN CHOCO AMANDES'), ('GD KOUIGN AMANN', 'PALET BRETON'), ('GD KOUIGN AMANN', 'PARIS BREST'), ('GD KOUIGN AMANN', 'PLAT 7.60E'), ('GD KOUIGN AMANN', 'PT NANTAIS'), ('GD KOUIGN AMANN', 'QUIM BREAD'), ('GD KOUIGN AMANN', 'ROYAL'), ('GD KOUIGN AMANN', 'SACHET VIENNOISERIE'), ('GD KOUIGN AMANN', 'SAND JB EMMENTAL'), ('GD KOUIGN AMANN', 'SANDWICH COMPLET'), ('GD KOUIGN AMANN', 'SAVARIN'), ('GD KOUIGN AMANN', 'SEIGLE'), ('GD KOUIGN AMANN', 'SPECIAL BREAD'), ('GD KOUIGN AMANN', 'SPECIAL BREAD KG'), ('GD KOUIGN AMANN', 'SUCETTE'), ('GD KOUIGN AMANN', 'TARTE FRAISE 4PER'), ('GD KOUIGN AMANN', 'TARTE FRUITS 4P'), ('GD KOUIGN AMANN', 'TARTE FRUITS 6P'), ('GD KOUIGN AMANN', 'TARTELETTE'), ('GD KOUIGN AMANN', 'TARTELETTE FRAISE'), ('GD KOUIGN AMANN', 'TRADITIONAL BAGUETTE'), ('GD KOUIGN AMANN', 'TRAITEUR'), ('GD KOUIGN AMANN', 'TROPEZIENNE'), ('GD KOUIGN AMANN', 'VIENNOISE'), ('GD KOUIGN AMANN', 'VIK BREAD'), ('GRAND FAR BRETON', 'GRANDE SUCETTE'), ('GRAND FAR BRETON', 'KOUIGN AMANN'), ('GRAND FAR BRETON', 'MILLES FEUILLES'), ('GRAND FAR BRETON', 'MOISSON'), ('GRAND FAR BRETON', 'NANTAIS'), ('GRAND FAR BRETON', 'NOIX JAPONAISE'), ('GRAND FAR BRETON', 'PAIN'), ('GRAND FAR BRETON', 'PAIN AU CHOCOLAT'), ('GRAND FAR BRETON', 'PAIN AUX RAISINS'), ('GRAND FAR BRETON', 'PAIN BANETTE'), ('GRAND FAR BRETON', 'PAIN CHOCO AMANDES'), ('GRAND FAR BRETON', 'PALET BRETON'), ('GRAND FAR BRETON', 'PARIS BREST'), ('GRAND FAR BRETON', 'PLAT 7.60E'), ('GRAND FAR BRETON', 'PT NANTAIS'), ('GRAND FAR BRETON', 'QUIM BREAD'), ('GRAND FAR BRETON', 'ROYAL'), ('GRAND FAR BRETON', 'SACHET VIENNOISERIE'), ('GRAND FAR BRETON', 'SAND JB EMMENTAL'), ('GRAND FAR BRETON', 'SANDWICH COMPLET'), ('GRAND FAR BRETON', 'SAVARIN'), ('GRAND FAR BRETON', 'SEIGLE'), ('GRAND FAR BRETON', 'SPECIAL BREAD'), ('GRAND FAR BRETON', 'SPECIAL BREAD KG'), ('GRAND FAR BRETON', 'SUCETTE'), ('GRAND FAR BRETON', 'TARTE FRAISE 4PER'), ('GRAND FAR BRETON', 'TARTE FRUITS 4P'), ('GRAND FAR BRETON', 'TARTE FRUITS 6P'), ('GRAND FAR BRETON', 'TARTELETTE'), ('GRAND FAR BRETON', 'TARTELETTE FRAISE'), ('GRAND FAR BRETON', 'TRADITIONAL BAGUETTE'), ('GRAND FAR BRETON', 'TRAITEUR'), ('GRAND FAR BRETON', 'TROPEZIENNE'), ('GRAND FAR BRETON', 'VIENNOISE'), ('GRAND FAR BRETON', 'VIK BREAD'), ('GRANDE SUCETTE', 'KOUIGN AMANN'), ('GRANDE SUCETTE', 'MILLES FEUILLES'), ('GRANDE SUCETTE', 'MOISSON'), ('GRANDE SUCETTE', 'NANTAIS'), ('GRANDE SUCETTE', 'NOIX JAPONAISE'), ('GRANDE SUCETTE', 'PAIN'), ('GRANDE SUCETTE', 'PAIN AU CHOCOLAT'), ('GRANDE SUCETTE', 'PAIN AUX RAISINS'), ('GRANDE SUCETTE', 'PAIN BANETTE'), ('GRANDE SUCETTE', 'PAIN CHOCO AMANDES'), ('GRANDE SUCETTE', 'PALET BRETON'), ('GRANDE SUCETTE', 'PARIS BREST'), ('GRANDE SUCETTE', 'PLAT 7.60E'), ('GRANDE SUCETTE', 'PT NANTAIS'), ('GRANDE SUCETTE', 'QUIM BREAD'), ('GRANDE SUCETTE', 'ROYAL'), ('GRANDE SUCETTE', 'SACHET VIENNOISERIE'), ('GRANDE SUCETTE', 'SAND JB EMMENTAL'), ('GRANDE SUCETTE', 'SANDWICH COMPLET'), ('GRANDE SUCETTE', 'SAVARIN'), ('GRANDE SUCETTE', 'SEIGLE'), ('GRANDE SUCETTE', 'SPECIAL BREAD'), ('GRANDE SUCETTE', 'SPECIAL BREAD KG'), ('GRANDE SUCETTE', 'SUCETTE'), ('GRANDE SUCETTE', 'TARTE FRAISE 4PER'), ('GRANDE SUCETTE', 'TARTE FRUITS 4P'), ('GRANDE SUCETTE', 'TARTE FRUITS 6P'), ('GRANDE SUCETTE', 'TARTELETTE'), ('GRANDE SUCETTE', 'TARTELETTE FRAISE'), ('GRANDE SUCETTE', 'TRADITIONAL BAGUETTE'), ('GRANDE SUCETTE', 'TRAITEUR'), ('GRANDE SUCETTE', 'TROPEZIENNE'), ('GRANDE SUCETTE', 'VIENNOISE'), ('GRANDE SUCETTE', 'VIK BREAD'), ('KOUIGN AMANN', 'MILLES FEUILLES'), ('KOUIGN AMANN', 'MOISSON'), ('KOUIGN AMANN', 'NANTAIS'), ('KOUIGN AMANN', 'NOIX JAPONAISE'), ('KOUIGN AMANN', 'PAIN'), ('KOUIGN AMANN', 'PAIN AU CHOCOLAT'), ('KOUIGN AMANN', 'PAIN AUX RAISINS'), ('KOUIGN AMANN', 'PAIN BANETTE'), ('KOUIGN AMANN', 'PAIN CHOCO AMANDES'), ('KOUIGN AMANN', 'PALET BRETON'), ('KOUIGN AMANN', 'PARIS BREST'), ('KOUIGN AMANN', 'PLAT 7.60E'), ('KOUIGN AMANN', 'PT NANTAIS'), ('KOUIGN AMANN', 'QUIM BREAD'), ('KOUIGN AMANN', 'ROYAL'), ('KOUIGN AMANN', 'SACHET VIENNOISERIE'), ('KOUIGN AMANN', 'SAND JB EMMENTAL'), ('KOUIGN AMANN', 'SANDWICH COMPLET'), ('KOUIGN AMANN', 'SAVARIN'), ('KOUIGN AMANN', 'SEIGLE'), ('KOUIGN AMANN', 'SPECIAL BREAD'), ('KOUIGN AMANN', 'SPECIAL BREAD KG'), ('KOUIGN AMANN', 'SUCETTE'), ('KOUIGN AMANN', 'TARTE FRAISE 4PER'), ('KOUIGN AMANN', 'TARTE FRUITS 4P'), ('KOUIGN AMANN', 'TARTE FRUITS 6P'), ('KOUIGN AMANN', 'TARTELETTE'), ('KOUIGN AMANN', 'TARTELETTE FRAISE'), ('KOUIGN AMANN', 'TRADITIONAL BAGUETTE'), ('KOUIGN AMANN', 'TRAITEUR'), ('KOUIGN AMANN', 'TROPEZIENNE'), ('KOUIGN AMANN', 'VIENNOISE'), ('KOUIGN AMANN', 'VIK BREAD'), ('MILLES FEUILLES', 'MOISSON'), ('MILLES FEUILLES', 'NANTAIS'), ('MILLES FEUILLES', 'NOIX JAPONAISE'), ('MILLES FEUILLES', 'PAIN'), ('MILLES FEUILLES', 'PAIN AU CHOCOLAT'), ('MILLES FEUILLES', 'PAIN AUX RAISINS'), ('MILLES FEUILLES', 'PAIN BANETTE'), ('MILLES FEUILLES', 'PAIN CHOCO AMANDES'), ('MILLES FEUILLES', 'PALET BRETON'), ('MILLES FEUILLES', 'PARIS BREST'), ('MILLES FEUILLES', 'PLAT 7.60E'), ('MILLES FEUILLES', 'PT NANTAIS'), ('MILLES FEUILLES', 'QUIM BREAD'), ('MILLES FEUILLES', 'ROYAL'), ('MILLES FEUILLES', 'SACHET VIENNOISERIE'), ('MILLES FEUILLES', 'SAND JB EMMENTAL'), ('MILLES FEUILLES', 'SANDWICH COMPLET'), ('MILLES FEUILLES', 'SAVARIN'), ('MILLES FEUILLES', 'SEIGLE'), ('MILLES FEUILLES', 'SPECIAL BREAD'), ('MILLES FEUILLES', 'SPECIAL BREAD KG'), ('MILLES FEUILLES', 'SUCETTE'), ('MILLES FEUILLES', 'TARTE FRAISE 4PER'), ('MILLES FEUILLES', 'TARTE FRUITS 4P'), ('MILLES FEUILLES', 'TARTE FRUITS 6P'), ('MILLES FEUILLES', 'TARTELETTE'), ('MILLES FEUILLES', 'TARTELETTE FRAISE'), ('MILLES FEUILLES', 'TRADITIONAL BAGUETTE'), ('MILLES FEUILLES', 'TRAITEUR'), ('MILLES FEUILLES', 'TROPEZIENNE'), ('MILLES FEUILLES', 'VIENNOISE'), ('MILLES FEUILLES', 'VIK BREAD'), ('MOISSON', 'NANTAIS'), ('MOISSON', 'NOIX JAPONAISE'), ('MOISSON', 'PAIN'), ('MOISSON', 'PAIN AU CHOCOLAT'), ('MOISSON', 'PAIN AUX RAISINS'), ('MOISSON', 'PAIN BANETTE'), ('MOISSON', 'PAIN CHOCO AMANDES'), ('MOISSON', 'PALET BRETON'), ('MOISSON', 'PARIS BREST'), ('MOISSON', 'PLAT 7.60E'), ('MOISSON', 'PT NANTAIS'), ('MOISSON', 'QUIM BREAD'), ('MOISSON', 'ROYAL'), ('MOISSON', 'SACHET VIENNOISERIE'), ('MOISSON', 'SAND JB EMMENTAL'), ('MOISSON', 'SANDWICH COMPLET'), ('MOISSON', 'SAVARIN'), ('MOISSON', 'SEIGLE'), ('MOISSON', 'SPECIAL BREAD'), ('MOISSON', 'SPECIAL BREAD KG'), ('MOISSON', 'SUCETTE'), ('MOISSON', 'TARTE FRAISE 4PER'), ('MOISSON', 'TARTE FRUITS 4P'), ('MOISSON', 'TARTE FRUITS 6P'), ('MOISSON', 'TARTELETTE'), ('MOISSON', 'TARTELETTE FRAISE'), ('MOISSON', 'TRADITIONAL BAGUETTE'), ('MOISSON', 'TRAITEUR'), ('MOISSON', 'TROPEZIENNE'), ('MOISSON', 'VIENNOISE'), ('MOISSON', 'VIK BREAD'), ('NANTAIS', 'NOIX JAPONAISE'), ('NANTAIS', 'PAIN'), ('NANTAIS', 'PAIN AU CHOCOLAT'), ('NANTAIS', 'PAIN AUX RAISINS'), ('NANTAIS', 'PAIN BANETTE'), ('NANTAIS', 'PAIN CHOCO AMANDES'), ('NANTAIS', 'PALET BRETON'), ('NANTAIS', 'PARIS BREST'), ('NANTAIS', 'PLAT 7.60E'), ('NANTAIS', 'PT NANTAIS'), ('NANTAIS', 'QUIM BREAD'), ('NANTAIS', 'ROYAL'), ('NANTAIS', 'SACHET VIENNOISERIE'), ('NANTAIS', 'SAND JB EMMENTAL'), ('NANTAIS', 'SANDWICH COMPLET'), ('NANTAIS', 'SAVARIN'), ('NANTAIS', 'SEIGLE'), ('NANTAIS', 'SPECIAL BREAD'), ('NANTAIS', 'SPECIAL BREAD KG'), ('NANTAIS', 'SUCETTE'), ('NANTAIS', 'TARTE FRAISE 4PER'), ('NANTAIS', 'TARTE FRUITS 4P'), ('NANTAIS', 'TARTE FRUITS 6P'), ('NANTAIS', 'TARTELETTE'), ('NANTAIS', 'TARTELETTE FRAISE'), ('NANTAIS', 'TRADITIONAL BAGUETTE'), ('NANTAIS', 'TRAITEUR'), ('NANTAIS', 'TROPEZIENNE'), ('NANTAIS', 'VIENNOISE'), ('NANTAIS', 'VIK BREAD'), ('NOIX JAPONAISE', 'PAIN'), ('NOIX JAPONAISE', 'PAIN AU CHOCOLAT'), ('NOIX JAPONAISE', 'PAIN AUX RAISINS'), ('NOIX JAPONAISE', 'PAIN BANETTE'), ('NOIX JAPONAISE', 'PAIN CHOCO AMANDES'), ('NOIX JAPONAISE', 'PALET BRETON'), ('NOIX JAPONAISE', 'PARIS BREST'), ('NOIX JAPONAISE', 'PLAT 7.60E'), ('NOIX JAPONAISE', 'PT NANTAIS'), ('NOIX JAPONAISE', 'QUIM BREAD'), ('NOIX JAPONAISE', 'ROYAL'), ('NOIX JAPONAISE', 'SACHET VIENNOISERIE'), ('NOIX JAPONAISE', 'SAND JB EMMENTAL'), ('NOIX JAPONAISE', 'SANDWICH COMPLET'), ('NOIX JAPONAISE', 'SAVARIN'), ('NOIX JAPONAISE', 'SEIGLE'), ('NOIX JAPONAISE', 'SPECIAL BREAD'), ('NOIX JAPONAISE', 'SPECIAL BREAD KG'), ('NOIX JAPONAISE', 'SUCETTE'), ('NOIX JAPONAISE', 'TARTE FRAISE 4PER'), ('NOIX JAPONAISE', 'TARTE FRUITS 4P'), ('NOIX JAPONAISE', 'TARTE FRUITS 6P'), ('NOIX JAPONAISE', 'TARTELETTE'), ('NOIX JAPONAISE', 'TARTELETTE FRAISE'), ('NOIX JAPONAISE', 'TRADITIONAL BAGUETTE'), ('NOIX JAPONAISE', 'TRAITEUR'), ('NOIX JAPONAISE', 'TROPEZIENNE'), ('NOIX JAPONAISE', 'VIENNOISE'), ('NOIX JAPONAISE', 'VIK BREAD'), ('PAIN', 'PAIN AU CHOCOLAT'), ('PAIN', 'PAIN AUX RAISINS'), ('PAIN', 'PAIN BANETTE'), ('PAIN', 'PAIN CHOCO AMANDES'), ('PAIN', 'PALET BRETON'), ('PAIN', 'PARIS BREST'), ('PAIN', 'PLAT 7.60E'), ('PAIN', 'PT NANTAIS'), ('PAIN', 'QUIM BREAD'), ('PAIN', 'ROYAL'), ('PAIN', 'SACHET VIENNOISERIE'), ('PAIN', 'SAND JB EMMENTAL'), ('PAIN', 'SANDWICH COMPLET'), ('PAIN', 'SAVARIN'), ('PAIN', 'SEIGLE'), ('PAIN', 'SPECIAL BREAD'), ('PAIN', 'SPECIAL BREAD KG'), ('PAIN', 'SUCETTE'), ('PAIN', 'TARTE FRAISE 4PER'), ('PAIN', 'TARTE FRUITS 4P'), ('PAIN', 'TARTE FRUITS 6P'), ('PAIN', 'TARTELETTE'), ('PAIN', 'TARTELETTE FRAISE'), ('PAIN', 'TRADITIONAL BAGUETTE'), ('PAIN', 'TRAITEUR'), ('PAIN', 'TROPEZIENNE'), ('PAIN', 'VIENNOISE'), ('PAIN', 'VIK BREAD'), ('PAIN AU CHOCOLAT', 'PAIN AUX RAISINS'), ('PAIN AU CHOCOLAT', 'PAIN BANETTE'), ('PAIN AU CHOCOLAT', 'PAIN CHOCO AMANDES'), ('PAIN AU CHOCOLAT', 'PALET BRETON'), ('PAIN AU CHOCOLAT', 'PARIS BREST'), ('PAIN AU CHOCOLAT', 'PLAT 7.60E'), ('PAIN AU CHOCOLAT', 'PT NANTAIS'), ('PAIN AU CHOCOLAT', 'QUIM BREAD'), ('PAIN AU CHOCOLAT', 'ROYAL'), ('PAIN AU CHOCOLAT', 'SACHET VIENNOISERIE'), ('PAIN AU CHOCOLAT', 'SAND JB EMMENTAL'), ('PAIN AU CHOCOLAT', 'SANDWICH COMPLET'), ('PAIN AU CHOCOLAT', 'SAVARIN'), ('PAIN AU CHOCOLAT', 'SEIGLE'), ('PAIN AU CHOCOLAT', 'SPECIAL BREAD'), ('PAIN AU CHOCOLAT', 'SPECIAL BREAD KG'), ('PAIN AU CHOCOLAT', 'SUCETTE'), ('PAIN AU CHOCOLAT', 'TARTE FRAISE 4PER'), ('PAIN AU CHOCOLAT', 'TARTE FRUITS 4P'), ('PAIN AU CHOCOLAT', 'TARTE FRUITS 6P'), ('PAIN AU CHOCOLAT', 'TARTELETTE'), ('PAIN AU CHOCOLAT', 'TARTELETTE FRAISE'), ('PAIN AU CHOCOLAT', 'TRADITIONAL BAGUETTE'), ('PAIN AU CHOCOLAT', 'TRAITEUR'), ('PAIN AU CHOCOLAT', 'TROPEZIENNE'), ('PAIN AU CHOCOLAT', 'VIENNOISE'), ('PAIN AU CHOCOLAT', 'VIK BREAD'), ('PAIN AUX RAISINS', 'PAIN BANETTE'), ('PAIN AUX RAISINS', 'PAIN CHOCO AMANDES'), ('PAIN AUX RAISINS', 'PALET BRETON'), ('PAIN AUX RAISINS', 'PARIS BREST'), ('PAIN AUX RAISINS', 'PLAT 7.60E'), ('PAIN AUX RAISINS', 'PT NANTAIS'), ('PAIN AUX RAISINS', 'QUIM BREAD'), ('PAIN AUX RAISINS', 'ROYAL'), ('PAIN AUX RAISINS', 'SACHET VIENNOISERIE'), ('PAIN AUX RAISINS', 'SAND JB EMMENTAL'), ('PAIN AUX RAISINS', 'SANDWICH COMPLET'), ('PAIN AUX RAISINS', 'SAVARIN'), ('PAIN AUX RAISINS', 'SEIGLE'), ('PAIN AUX RAISINS', 'SPECIAL BREAD'), ('PAIN AUX RAISINS', 'SPECIAL BREAD KG'), ('PAIN AUX RAISINS', 'SUCETTE'), ('PAIN AUX RAISINS', 'TARTE FRAISE 4PER'), ('PAIN AUX RAISINS', 'TARTE FRUITS 4P'), ('PAIN AUX RAISINS', 'TARTE FRUITS 6P'), ('PAIN AUX RAISINS', 'TARTELETTE'), ('PAIN AUX RAISINS', 'TARTELETTE FRAISE'), ('PAIN AUX RAISINS', 'TRADITIONAL BAGUETTE'), ('PAIN AUX RAISINS', 'TRAITEUR'), ('PAIN AUX RAISINS', 'TROPEZIENNE'), ('PAIN AUX RAISINS', 'VIENNOISE'), ('PAIN AUX RAISINS', 'VIK BREAD'), ('PAIN BANETTE', 'PAIN CHOCO AMANDES'), ('PAIN BANETTE', 'PALET BRETON'), ('PAIN BANETTE', 'PARIS BREST'), ('PAIN BANETTE', 'PLAT 7.60E'), ('PAIN BANETTE', 'PT NANTAIS'), ('PAIN BANETTE', 'QUIM BREAD'), ('PAIN BANETTE', 'ROYAL'), ('PAIN BANETTE', 'SACHET VIENNOISERIE'), ('PAIN BANETTE', 'SAND JB EMMENTAL'), ('PAIN BANETTE', 'SANDWICH COMPLET'), ('PAIN BANETTE', 'SAVARIN'), ('PAIN BANETTE', 'SEIGLE'), ('PAIN BANETTE', 'SPECIAL BREAD'), ('PAIN BANETTE', 'SPECIAL BREAD KG'), ('PAIN BANETTE', 'SUCETTE'), ('PAIN BANETTE', 'TARTE FRAISE 4PER'), ('PAIN BANETTE', 'TARTE FRUITS 4P'), ('PAIN BANETTE', 'TARTE FRUITS 6P'), ('PAIN BANETTE', 'TARTELETTE'), ('PAIN BANETTE', 'TARTELETTE FRAISE'), ('PAIN BANETTE', 'TRADITIONAL BAGUETTE'), ('PAIN BANETTE', 'TRAITEUR'), ('PAIN BANETTE', 'TROPEZIENNE'), ('PAIN BANETTE', 'VIENNOISE'), ('PAIN BANETTE', 'VIK BREAD'), ('PAIN CHOCO AMANDES', 'PALET BRETON'), ('PAIN CHOCO AMANDES', 'PARIS BREST'), ('PAIN CHOCO AMANDES', 'PLAT 7.60E'), ('PAIN CHOCO AMANDES', 'PT NANTAIS'), ('PAIN CHOCO AMANDES', 'QUIM BREAD'), ('PAIN CHOCO AMANDES', 'ROYAL'), ('PAIN CHOCO AMANDES', 'SACHET VIENNOISERIE'), ('PAIN CHOCO AMANDES', 'SAND JB EMMENTAL'), ('PAIN CHOCO AMANDES', 'SANDWICH COMPLET'), ('PAIN CHOCO AMANDES', 'SAVARIN'), ('PAIN CHOCO AMANDES', 'SEIGLE'), ('PAIN CHOCO AMANDES', 'SPECIAL BREAD'), ('PAIN CHOCO AMANDES', 'SPECIAL BREAD KG'), ('PAIN CHOCO AMANDES', 'SUCETTE'), ('PAIN CHOCO AMANDES', 'TARTE FRAISE 4PER'), ('PAIN CHOCO AMANDES', 'TARTE FRUITS 4P'), ('PAIN CHOCO AMANDES', 'TARTE FRUITS 6P'), ('PAIN CHOCO AMANDES', 'TARTELETTE'), ('PAIN CHOCO AMANDES', 'TARTELETTE FRAISE'), ('PAIN CHOCO AMANDES', 'TRADITIONAL BAGUETTE'), ('PAIN CHOCO AMANDES', 'TRAITEUR'), ('PAIN CHOCO AMANDES', 'TROPEZIENNE'), ('PAIN CHOCO AMANDES', 'VIENNOISE'), ('PAIN CHOCO AMANDES', 'VIK BREAD'), ('PALET BRETON', 'PARIS BREST'), ('PALET BRETON', 'PLAT 7.60E'), ('PALET BRETON', 'PT NANTAIS'), ('PALET BRETON', 'QUIM BREAD'), ('PALET BRETON', 'ROYAL'), ('PALET BRETON', 'SACHET VIENNOISERIE'), ('PALET BRETON', 'SAND JB EMMENTAL'), ('PALET BRETON', 'SANDWICH COMPLET'), ('PALET BRETON', 'SAVARIN'), ('PALET BRETON', 'SEIGLE'), ('PALET BRETON', 'SPECIAL BREAD'), ('PALET BRETON', 'SPECIAL BREAD KG'), ('PALET BRETON', 'SUCETTE'), ('PALET BRETON', 'TARTE FRAISE 4PER'), ('PALET BRETON', 'TARTE FRUITS 4P'), ('PALET BRETON', 'TARTE FRUITS 6P'), ('PALET BRETON', 'TARTELETTE'), ('PALET BRETON', 'TARTELETTE FRAISE'), ('PALET BRETON', 'TRADITIONAL BAGUETTE'), ('PALET BRETON', 'TRAITEUR'), ('PALET BRETON', 'TROPEZIENNE'), ('PALET BRETON', 'VIENNOISE'), ('PALET BRETON', 'VIK BREAD'), ('PARIS BREST', 'PLAT 7.60E'), ('PARIS BREST', 'PT NANTAIS'), ('PARIS BREST', 'QUIM BREAD'), ('PARIS BREST', 'ROYAL'), ('PARIS BREST', 'SACHET VIENNOISERIE'), ('PARIS BREST', 'SAND JB EMMENTAL'), ('PARIS BREST', 'SANDWICH COMPLET'), ('PARIS BREST', 'SAVARIN'), ('PARIS BREST', 'SEIGLE'), ('PARIS BREST', 'SPECIAL BREAD'), ('PARIS BREST', 'SPECIAL BREAD KG'), ('PARIS BREST', 'SUCETTE'), ('PARIS BREST', 'TARTE FRAISE 4PER'), ('PARIS BREST', 'TARTE FRUITS 4P'), ('PARIS BREST', 'TARTE FRUITS 6P'), ('PARIS BREST', 'TARTELETTE'), ('PARIS BREST', 'TARTELETTE FRAISE'), ('PARIS BREST', 'TRADITIONAL BAGUETTE'), ('PARIS BREST', 'TRAITEUR'), ('PARIS BREST', 'TROPEZIENNE'), ('PARIS BREST', 'VIENNOISE'), ('PARIS BREST', 'VIK BREAD'), ('PLAT 7.60E', 'PT NANTAIS'), ('PLAT 7.60E', 'QUIM BREAD'), ('PLAT 7.60E', 'ROYAL'), ('PLAT 7.60E', 'SACHET VIENNOISERIE'), ('PLAT 7.60E', 'SAND JB EMMENTAL'), ('PLAT 7.60E', 'SANDWICH COMPLET'), ('PLAT 7.60E', 'SAVARIN'), ('PLAT 7.60E', 'SEIGLE'), ('PLAT 7.60E', 'SPECIAL BREAD'), ('PLAT 7.60E', 'SPECIAL BREAD KG'), ('PLAT 7.60E', 'SUCETTE'), ('PLAT 7.60E', 'TARTE FRAISE 4PER'), ('PLAT 7.60E', 'TARTE FRUITS 4P'), ('PLAT 7.60E', 'TARTE FRUITS 6P'), ('PLAT 7.60E', 'TARTELETTE'), ('PLAT 7.60E', 'TARTELETTE FRAISE'), ('PLAT 7.60E', 'TRADITIONAL BAGUETTE'), ('PLAT 7.60E', 'TRAITEUR'), ('PLAT 7.60E', 'TROPEZIENNE'), ('PLAT 7.60E', 'VIENNOISE'), ('PLAT 7.60E', 'VIK BREAD'), ('PT NANTAIS', 'QUIM BREAD'), ('PT NANTAIS', 'ROYAL'), ('PT NANTAIS', 'SACHET VIENNOISERIE'), ('PT NANTAIS', 'SAND JB EMMENTAL'), ('PT NANTAIS', 'SANDWICH COMPLET'), ('PT NANTAIS', 'SAVARIN'), ('PT NANTAIS', 'SEIGLE'), ('PT NANTAIS', 'SPECIAL BREAD'), ('PT NANTAIS', 'SPECIAL BREAD KG'), ('PT NANTAIS', 'SUCETTE'), ('PT NANTAIS', 'TARTE FRAISE 4PER'), ('PT NANTAIS', 'TARTE FRUITS 4P'), ('PT NANTAIS', 'TARTE FRUITS 6P'), ('PT NANTAIS', 'TARTELETTE'), ('PT NANTAIS', 'TARTELETTE FRAISE'), ('PT NANTAIS', 'TRADITIONAL BAGUETTE'), ('PT NANTAIS', 'TRAITEUR'), ('PT NANTAIS', 'TROPEZIENNE'), ('PT NANTAIS', 'VIENNOISE'), ('PT NANTAIS', 'VIK BREAD'), ('QUIM BREAD', 'ROYAL'), ('QUIM BREAD', 'SACHET VIENNOISERIE'), ('QUIM BREAD', 'SAND JB EMMENTAL'), ('QUIM BREAD', 'SANDWICH COMPLET'), ('QUIM BREAD', 'SAVARIN'), ('QUIM BREAD', 'SEIGLE'), ('QUIM BREAD', 'SPECIAL BREAD'), ('QUIM BREAD', 'SPECIAL BREAD KG'), ('QUIM BREAD', 'SUCETTE'), ('QUIM BREAD', 'TARTE FRAISE 4PER'), ('QUIM BREAD', 'TARTE FRUITS 4P'), ('QUIM BREAD', 'TARTE FRUITS 6P'), ('QUIM BREAD', 'TARTELETTE'), ('QUIM BREAD', 'TARTELETTE FRAISE'), ('QUIM BREAD', 'TRADITIONAL BAGUETTE'), ('QUIM BREAD', 'TRAITEUR'), ('QUIM BREAD', 'TROPEZIENNE'), ('QUIM BREAD', 'VIENNOISE'), ('QUIM BREAD', 'VIK BREAD'), ('ROYAL', 'SACHET VIENNOISERIE'), ('ROYAL', 'SAND JB EMMENTAL'), ('ROYAL', 'SANDWICH COMPLET'), ('ROYAL', 'SAVARIN'), ('ROYAL', 'SEIGLE'), ('ROYAL', 'SPECIAL BREAD'), ('ROYAL', 'SPECIAL BREAD KG'), ('ROYAL', 'SUCETTE'), ('ROYAL', 'TARTE FRAISE 4PER'), ('ROYAL', 'TARTE FRUITS 4P'), ('ROYAL', 'TARTE FRUITS 6P'), ('ROYAL', 'TARTELETTE'), ('ROYAL', 'TARTELETTE FRAISE'), ('ROYAL', 'TRADITIONAL BAGUETTE'), ('ROYAL', 'TRAITEUR'), ('ROYAL', 'TROPEZIENNE'), ('ROYAL', 'VIENNOISE'), ('ROYAL', 'VIK BREAD'), ('SACHET VIENNOISERIE', 'SAND JB EMMENTAL'), ('SACHET VIENNOISERIE', 'SANDWICH COMPLET'), ('SACHET VIENNOISERIE', 'SAVARIN'), ('SACHET VIENNOISERIE', 'SEIGLE'), ('SACHET VIENNOISERIE', 'SPECIAL BREAD'), ('SACHET VIENNOISERIE', 'SPECIAL BREAD KG'), ('SACHET VIENNOISERIE', 'SUCETTE'), ('SACHET VIENNOISERIE', 'TARTE FRAISE 4PER'), ('SACHET VIENNOISERIE', 'TARTE FRUITS 4P'), ('SACHET VIENNOISERIE', 'TARTE FRUITS 6P'), ('SACHET VIENNOISERIE', 'TARTELETTE'), ('SACHET VIENNOISERIE', 'TARTELETTE FRAISE'), ('SACHET VIENNOISERIE', 'TRADITIONAL BAGUETTE'), ('SACHET VIENNOISERIE', 'TRAITEUR'), ('SACHET VIENNOISERIE', 'TROPEZIENNE'), ('SACHET VIENNOISERIE', 'VIENNOISE'), ('SACHET VIENNOISERIE', 'VIK BREAD'), ('SAND JB EMMENTAL', 'SANDWICH COMPLET'), ('SAND JB EMMENTAL', 'SAVARIN'), ('SAND JB EMMENTAL', 'SEIGLE'), ('SAND JB EMMENTAL', 'SPECIAL BREAD'), ('SAND JB EMMENTAL', 'SPECIAL BREAD KG'), ('SAND JB EMMENTAL', 'SUCETTE'), ('SAND JB EMMENTAL', 'TARTE FRAISE 4PER'), ('SAND JB EMMENTAL', 'TARTE FRUITS 4P'), ('SAND JB EMMENTAL', 'TARTE FRUITS 6P'), ('SAND JB EMMENTAL', 'TARTELETTE'), ('SAND JB EMMENTAL', 'TARTELETTE FRAISE'), ('SAND JB EMMENTAL', 'TRADITIONAL BAGUETTE'), ('SAND JB EMMENTAL', 'TRAITEUR'), ('SAND JB EMMENTAL', 'TROPEZIENNE'), ('SAND JB EMMENTAL', 'VIENNOISE'), ('SAND JB EMMENTAL', 'VIK BREAD'), ('SANDWICH COMPLET', 'SAVARIN'), ('SANDWICH COMPLET', 'SEIGLE'), ('SANDWICH COMPLET', 'SPECIAL BREAD'), ('SANDWICH COMPLET', 'SPECIAL BREAD KG'), ('SANDWICH COMPLET', 'SUCETTE'), ('SANDWICH COMPLET', 'TARTE FRAISE 4PER'), ('SANDWICH COMPLET', 'TARTE FRUITS 4P'), ('SANDWICH COMPLET', 'TARTE FRUITS 6P'), ('SANDWICH COMPLET', 'TARTELETTE'), ('SANDWICH COMPLET', 'TARTELETTE FRAISE'), ('SANDWICH COMPLET', 'TRADITIONAL BAGUETTE'), ('SANDWICH COMPLET', 'TRAITEUR'), ('SANDWICH COMPLET', 'TROPEZIENNE'), ('SANDWICH COMPLET', 'VIENNOISE'), ('SANDWICH COMPLET', 'VIK BREAD'), ('SAVARIN', 'SEIGLE'), ('SAVARIN', 'SPECIAL BREAD'), ('SAVARIN', 'SPECIAL BREAD KG'), ('SAVARIN', 'SUCETTE'), ('SAVARIN', 'TARTE FRAISE 4PER'), ('SAVARIN', 'TARTE FRUITS 4P'), ('SAVARIN', 'TARTE FRUITS 6P'), ('SAVARIN', 'TARTELETTE'), ('SAVARIN', 'TARTELETTE FRAISE'), ('SAVARIN', 'TRADITIONAL BAGUETTE'), ('SAVARIN', 'TRAITEUR'), ('SAVARIN', 'TROPEZIENNE'), ('SAVARIN', 'VIENNOISE'), ('SAVARIN', 'VIK BREAD'), ('SEIGLE', 'SPECIAL BREAD'), ('SEIGLE', 'SPECIAL BREAD KG'), ('SEIGLE', 'SUCETTE'), ('SEIGLE', 'TARTE FRAISE 4PER'), ('SEIGLE', 'TARTE FRUITS 4P'), ('SEIGLE', 'TARTE FRUITS 6P'), ('SEIGLE', 'TARTELETTE'), ('SEIGLE', 'TARTELETTE FRAISE'), ('SEIGLE', 'TRADITIONAL BAGUETTE'), ('SEIGLE', 'TRAITEUR'), ('SEIGLE', 'TROPEZIENNE'), ('SEIGLE', 'VIENNOISE'), ('SEIGLE', 'VIK BREAD'), ('SPECIAL BREAD', 'SPECIAL BREAD KG'), ('SPECIAL BREAD', 'SUCETTE'), ('SPECIAL BREAD', 'TARTE FRAISE 4PER'), ('SPECIAL BREAD', 'TARTE FRUITS 4P'), ('SPECIAL BREAD', 'TARTE FRUITS 6P'), ('SPECIAL BREAD', 'TARTELETTE'), ('SPECIAL BREAD', 'TARTELETTE FRAISE'), ('SPECIAL BREAD', 'TRADITIONAL BAGUETTE'), ('SPECIAL BREAD', 'TRAITEUR'), ('SPECIAL BREAD', 'TROPEZIENNE'), ('SPECIAL BREAD', 'VIENNOISE'), ('SPECIAL BREAD', 'VIK BREAD'), ('SPECIAL BREAD KG', 'SUCETTE'), ('SPECIAL BREAD KG', 'TARTE FRAISE 4PER'), ('SPECIAL BREAD KG', 'TARTE FRUITS 4P'), ('SPECIAL BREAD KG', 'TARTE FRUITS 6P'), ('SPECIAL BREAD KG', 'TARTELETTE'), ('SPECIAL BREAD KG', 'TARTELETTE FRAISE'), ('SPECIAL BREAD KG', 'TRADITIONAL BAGUETTE'), ('SPECIAL BREAD KG', 'TRAITEUR'), ('SPECIAL BREAD KG', 'TROPEZIENNE'), ('SPECIAL BREAD KG', 'VIENNOISE'), ('SPECIAL BREAD KG', 'VIK BREAD'), ('SUCETTE', 'TARTE FRAISE 4PER'), ('SUCETTE', 'TARTE FRUITS 4P'), ('SUCETTE', 'TARTE FRUITS 6P'), ('SUCETTE', 'TARTELETTE'), ('SUCETTE', 'TARTELETTE FRAISE'), ('SUCETTE', 'TRADITIONAL BAGUETTE'), ('SUCETTE', 'TRAITEUR'), ('SUCETTE', 'TROPEZIENNE'), ('SUCETTE', 'VIENNOISE'), ('SUCETTE', 'VIK BREAD'), ('TARTE FRAISE 4PER', 'TARTE FRUITS 4P'), ('TARTE FRAISE 4PER', 'TARTE FRUITS 6P'), ('TARTE FRAISE 4PER', 'TARTELETTE'), ('TARTE FRAISE 4PER', 'TARTELETTE FRAISE'), ('TARTE FRAISE 4PER', 'TRADITIONAL BAGUETTE'), ('TARTE FRAISE 4PER', 'TRAITEUR'), ('TARTE FRAISE 4PER', 'TROPEZIENNE'), ('TARTE FRAISE 4PER', 'VIENNOISE'), ('TARTE FRAISE 4PER', 'VIK BREAD'), ('TARTE FRUITS 4P', 'TARTE FRUITS 6P'), ('TARTE FRUITS 4P', 'TARTELETTE'), ('TARTE FRUITS 4P', 'TARTELETTE FRAISE'), ('TARTE FRUITS 4P', 'TRADITIONAL BAGUETTE'), ('TARTE FRUITS 4P', 'TRAITEUR'), ('TARTE FRUITS 4P', 'TROPEZIENNE'), ('TARTE FRUITS 4P', 'VIENNOISE'), ('TARTE FRUITS 4P', 'VIK BREAD'), ('TARTE FRUITS 6P', 'TARTELETTE'), ('TARTE FRUITS 6P', 'TARTELETTE FRAISE'), ('TARTE FRUITS 6P', 'TRADITIONAL BAGUETTE'), ('TARTE FRUITS 6P', 'TRAITEUR'), ('TARTE FRUITS 6P', 'TROPEZIENNE'), ('TARTE FRUITS 6P', 'VIENNOISE'), ('TARTE FRUITS 6P', 'VIK BREAD'), ('TARTELETTE', 'TARTELETTE FRAISE'), ('TARTELETTE', 'TRADITIONAL BAGUETTE'), ('TARTELETTE', 'TRAITEUR'), ('TARTELETTE', 'TROPEZIENNE'), ('TARTELETTE', 'VIENNOISE'), ('TARTELETTE', 'VIK BREAD'), ('TARTELETTE FRAISE', 'TRADITIONAL BAGUETTE'), ('TARTELETTE FRAISE', 'TRAITEUR'), ('TARTELETTE FRAISE', 'TROPEZIENNE'), ('TARTELETTE FRAISE', 'VIENNOISE'), ('TARTELETTE FRAISE', 'VIK BREAD'), ('TRADITIONAL BAGUETTE', 'TRAITEUR'), ('TRADITIONAL BAGUETTE', 'TROPEZIENNE'), ('TRADITIONAL BAGUETTE', 'VIENNOISE'), ('TRADITIONAL BAGUETTE', 'VIK BREAD'), ('TRAITEUR', 'TROPEZIENNE'), ('TRAITEUR', 'VIENNOISE'), ('TRAITEUR', 'VIK BREAD'), ('TROPEZIENNE', 'VIENNOISE'), ('TROPEZIENNE', 'VIK BREAD'), ('VIENNOISE', 'VIK BREAD')]\n",
      "    Iterating over transactions.\n",
      "  Found 178 large itemsets of length 2.\n",
      "   [('BAGUETTE', 'BANETTE'), ('BAGUETTE', 'BANETTINE'), ('BAGUETTE', 'BOULE 200G'), ('BAGUETTE', 'BOULE 400G'), ('BAGUETTE', 'CAMPAGNE'), ('BAGUETTE', 'CEREAL BAGUETTE'), ('BAGUETTE', 'CHAUSSON AUX POMMES'), ('BAGUETTE', 'COMPLET'), ('BAGUETTE', 'COUPE'), ('BAGUETTE', 'CROISSANT'), ('BAGUETTE', 'DEMI BAGUETTE'), ('BAGUETTE', 'ECLAIR'), ('BAGUETTE', 'FICELLE'), ('BAGUETTE', 'PAIN AU CHOCOLAT'), ('BAGUETTE', 'PAIN BANETTE'), ('BAGUETTE', 'SPECIAL BREAD'), ('BAGUETTE', 'TARTELETTE'), ('BAGUETTE', 'TRADITIONAL BAGUETTE'), ('BAGUETTE GRAINE', 'CEREAL BAGUETTE'), ('BAGUETTE GRAINE', 'COUPE'), ('BAGUETTE GRAINE', 'CROISSANT'), ('BAGUETTE GRAINE', 'PAIN AU CHOCOLAT'), ('BAGUETTE GRAINE', 'TRADITIONAL BAGUETTE'), ('BANETTE', 'BANETTINE'), ('BANETTE', 'BOULE 200G'), ('BANETTE', 'BOULE 400G'), ('BANETTE', 'BRIOCHE'), ('BANETTE', 'CAMPAGNE'), ('BANETTE', 'CEREAL BAGUETTE'), ('BANETTE', 'COMPLET'), ('BANETTE', 'COUPE'), ('BANETTE', 'CROISSANT'), ('BANETTE', 'ECLAIR'), ('BANETTE', 'FICELLE'), ('BANETTE', 'MOISSON'), ('BANETTE', 'PAIN AU CHOCOLAT'), ('BANETTE', 'PAIN AUX RAISINS'), ('BANETTE', 'PAIN BANETTE'), ('BANETTE', 'SPECIAL BREAD'), ('BANETTE', 'TARTELETTE'), ('BANETTE', 'TRADITIONAL BAGUETTE'), ('BANETTE', 'VIK BREAD'), ('BANETTINE', 'COUPE'), ('BANETTINE', 'CROISSANT'), ('BANETTINE', 'FICELLE'), ('BANETTINE', 'TRADITIONAL BAGUETTE'), ('BOISSON 33CL', 'CROISSANT'), ('BOISSON 33CL', 'PAIN AU CHOCOLAT'), ('BOISSON 33CL', 'SAND JB EMMENTAL'), ('BOISSON 33CL', 'SANDWICH COMPLET'), ('BOISSON 33CL', 'TRADITIONAL BAGUETTE'), ('BOISSON 33CL', 'TRAITEUR'), ('BOULE 200G', 'COUPE'), ('BOULE 200G', 'CROISSANT'), ('BOULE 200G', 'TRADITIONAL BAGUETTE'), ('BOULE 400G', 'COUPE'), ('BOULE 400G', 'CROISSANT'), ('BOULE 400G', 'PAIN AU CHOCOLAT'), ('BOULE 400G', 'TRADITIONAL BAGUETTE'), ('BOULE POLKA', 'COUPE'), ('BRIOCHE', 'COUPE'), ('BRIOCHE', 'CROISSANT'), ('BRIOCHE', 'PAIN AU CHOCOLAT'), ('BRIOCHE', 'TRADITIONAL BAGUETTE'), ('CAFE OU EAU', 'CROISSANT'), ('CAFE OU EAU', 'PAIN AU CHOCOLAT'), ('CAMPAGNE', 'COUPE'), ('CAMPAGNE', 'CROISSANT'), ('CAMPAGNE', 'PAIN AU CHOCOLAT'), ('CAMPAGNE', 'TRADITIONAL BAGUETTE'), ('CEREAL BAGUETTE', 'COUPE'), ('CEREAL BAGUETTE', 'CROISSANT'), ('CEREAL BAGUETTE', 'PAIN AU CHOCOLAT'), ('CEREAL BAGUETTE', 'TRADITIONAL BAGUETTE'), ('CEREAL BAGUETTE', 'VIK BREAD'), ('CHAUSSON AUX POMMES', 'CROISSANT'), ('CHAUSSON AUX POMMES', 'PAIN AU CHOCOLAT'), ('CHAUSSON AUX POMMES', 'PAIN AUX RAISINS'), ('CHAUSSON AUX POMMES', 'TRADITIONAL BAGUETTE'), ('COMPLET', 'COUPE'), ('COMPLET', 'CROISSANT'), ('COMPLET', 'PAIN AU CHOCOLAT'), ('COMPLET', 'TRADITIONAL BAGUETTE'), ('COOKIE', 'COUPE'), ('COOKIE', 'CROISSANT'), ('COOKIE', 'PAIN AU CHOCOLAT'), ('COOKIE', 'QUIM BREAD'), ('COOKIE', 'TRADITIONAL BAGUETTE'), ('COUPE', 'CROISSANT'), ('COUPE', 'CROISSANT AMANDES'), ('COUPE', 'DIVERS VIENNOISERIE'), ('COUPE', 'ECLAIR'), ('COUPE', 'FICELLE'), ('COUPE', 'FINANCIER X5'), ('COUPE', 'GRAND FAR BRETON'), ('COUPE', 'KOUIGN AMANN'), ('COUPE', 'MOISSON'), ('COUPE', 'PAIN AU CHOCOLAT'), ('COUPE', 'PAIN AUX RAISINS'), ('COUPE', 'PAIN BANETTE'), ('COUPE', 'QUIM BREAD'), ('COUPE', 'SEIGLE'), ('COUPE', 'SPECIAL BREAD'), ('COUPE', 'SPECIAL BREAD KG'), ('COUPE', 'TARTELETTE'), ('COUPE', 'TRADITIONAL BAGUETTE'), ('COUPE', 'VIK BREAD'), ('CROISSANT', 'CROISSANT AMANDES'), ('CROISSANT', 'FICELLE'), ('CROISSANT', 'KOUIGN AMANN'), ('CROISSANT', 'MOISSON'), ('CROISSANT', 'PAIN AU CHOCOLAT'), ('CROISSANT', 'PAIN AUX RAISINS'), ('CROISSANT', 'PAIN CHOCO AMANDES'), ('CROISSANT', 'QUIM BREAD'), ('CROISSANT', 'SPECIAL BREAD'), ('CROISSANT', 'TARTELETTE'), ('CROISSANT', 'TRADITIONAL BAGUETTE'), ('CROISSANT', 'VIK BREAD'), ('CROISSANT AMANDES', 'PAIN AU CHOCOLAT'), ('CROISSANT AMANDES', 'PAIN CHOCO AMANDES'), ('CROISSANT AMANDES', 'TRADITIONAL BAGUETTE'), ('DEMI BAGUETTE', 'TRADITIONAL BAGUETTE'), ('DIVERS CONFISERIE', 'TRADITIONAL BAGUETTE'), ('DIVERS PATISSERIE', 'TRADITIONAL BAGUETTE'), ('DIVERS VIENNOISERIE', 'TRADITIONAL BAGUETTE'), ('ECLAIR', 'MILLES FEUILLES'), ('ECLAIR', 'PAIN AU CHOCOLAT'), ('ECLAIR', 'PARIS BREST'), ('ECLAIR', 'TARTELETTE'), ('ECLAIR', 'TRADITIONAL BAGUETTE'), ('FICELLE', 'PAIN AU CHOCOLAT'), ('FICELLE', 'TRADITIONAL BAGUETTE'), ('FINANCIER X5', 'TRADITIONAL BAGUETTE'), ('FLAN', 'TARTELETTE'), ('FLAN', 'TRADITIONAL BAGUETTE'), ('FLAN ABRICOT', 'TRADITIONAL BAGUETTE'), ('FORMULE SANDWICH', 'PAIN AU CHOCOLAT'), ('FORMULE SANDWICH', 'TRADITIONAL BAGUETTE'), ('FRAISIER', 'TRADITIONAL BAGUETTE'), ('GD KOUIGN AMANN', 'TRADITIONAL BAGUETTE'), ('GRAND FAR BRETON', 'TRADITIONAL BAGUETTE'), ('KOUIGN AMANN', 'PAIN AU CHOCOLAT'), ('KOUIGN AMANN', 'TRADITIONAL BAGUETTE'), ('MILLES FEUILLES', 'TARTELETTE'), ('MILLES FEUILLES', 'TRADITIONAL BAGUETTE'), ('MOISSON', 'PAIN AU CHOCOLAT'), ('MOISSON', 'TRADITIONAL BAGUETTE'), ('MOISSON', 'VIK BREAD'), ('NANTAIS', 'TRADITIONAL BAGUETTE'), ('PAIN AU CHOCOLAT', 'PAIN AUX RAISINS'), ('PAIN AU CHOCOLAT', 'PAIN CHOCO AMANDES'), ('PAIN AU CHOCOLAT', 'QUIM BREAD'), ('PAIN AU CHOCOLAT', 'SPECIAL BREAD'), ('PAIN AU CHOCOLAT', 'TARTELETTE'), ('PAIN AU CHOCOLAT', 'TRADITIONAL BAGUETTE'), ('PAIN AU CHOCOLAT', 'VIK BREAD'), ('PAIN AUX RAISINS', 'TRADITIONAL BAGUETTE'), ('PAIN BANETTE', 'TRADITIONAL BAGUETTE'), ('PAIN CHOCO AMANDES', 'TRADITIONAL BAGUETTE'), ('PARIS BREST', 'TARTELETTE'), ('PARIS BREST', 'TRADITIONAL BAGUETTE'), ('PT NANTAIS', 'TRADITIONAL BAGUETTE'), ('QUIM BREAD', 'TRADITIONAL BAGUETTE'), ('SACHET VIENNOISERIE', 'TRADITIONAL BAGUETTE'), ('SAND JB EMMENTAL', 'SANDWICH COMPLET'), ('SAND JB EMMENTAL', 'TRADITIONAL BAGUETTE'), ('SANDWICH COMPLET', 'TRADITIONAL BAGUETTE'), ('SAVARIN', 'TRADITIONAL BAGUETTE'), ('SEIGLE', 'TRADITIONAL BAGUETTE'), ('SPECIAL BREAD', 'TRADITIONAL BAGUETTE'), ('SUCETTE', 'TRADITIONAL BAGUETTE'), ('TARTE FRUITS 4P', 'TRADITIONAL BAGUETTE'), ('TARTELETTE', 'TRADITIONAL BAGUETTE'), ('TARTELETTE FRAISE', 'TRADITIONAL BAGUETTE'), ('TRADITIONAL BAGUETTE', 'TRAITEUR'), ('TRADITIONAL BAGUETTE', 'TROPEZIENNE'), ('TRADITIONAL BAGUETTE', 'VIK BREAD')]\n",
      " Counting itemsets of length 3.\n",
      "  Found 296 candidate itemsets of length 3.\n",
      "   [('BAGUETTE', 'BANETTE', 'BANETTINE'), ('BAGUETTE', 'BANETTE', 'BOULE 200G'), ('BAGUETTE', 'BANETTE', 'BOULE 400G'), ('BAGUETTE', 'BANETTE', 'CAMPAGNE'), ('BAGUETTE', 'BANETTE', 'CEREAL BAGUETTE'), ('BAGUETTE', 'BANETTE', 'COMPLET'), ('BAGUETTE', 'BANETTE', 'COUPE'), ('BAGUETTE', 'BANETTE', 'CROISSANT'), ('BAGUETTE', 'BANETTE', 'ECLAIR'), ('BAGUETTE', 'BANETTE', 'FICELLE'), ('BAGUETTE', 'BANETTE', 'PAIN AU CHOCOLAT'), ('BAGUETTE', 'BANETTE', 'PAIN BANETTE'), ('BAGUETTE', 'BANETTE', 'SPECIAL BREAD'), ('BAGUETTE', 'BANETTE', 'TARTELETTE'), ('BAGUETTE', 'BANETTE', 'TRADITIONAL BAGUETTE'), ('BAGUETTE', 'BANETTINE', 'COUPE'), ('BAGUETTE', 'BANETTINE', 'CROISSANT'), ('BAGUETTE', 'BANETTINE', 'FICELLE'), ('BAGUETTE', 'BANETTINE', 'TRADITIONAL BAGUETTE'), ('BAGUETTE', 'BOULE 200G', 'COUPE'), ('BAGUETTE', 'BOULE 200G', 'CROISSANT'), ('BAGUETTE', 'BOULE 200G', 'TRADITIONAL BAGUETTE'), ('BAGUETTE', 'BOULE 400G', 'COUPE'), ('BAGUETTE', 'BOULE 400G', 'CROISSANT'), ('BAGUETTE', 'BOULE 400G', 'PAIN AU CHOCOLAT'), ('BAGUETTE', 'BOULE 400G', 'TRADITIONAL BAGUETTE'), ('BAGUETTE', 'CAMPAGNE', 'COUPE'), ('BAGUETTE', 'CAMPAGNE', 'CROISSANT'), ('BAGUETTE', 'CAMPAGNE', 'PAIN AU CHOCOLAT'), ('BAGUETTE', 'CAMPAGNE', 'TRADITIONAL BAGUETTE'), ('BAGUETTE', 'CEREAL BAGUETTE', 'COUPE'), ('BAGUETTE', 'CEREAL BAGUETTE', 'CROISSANT'), ('BAGUETTE', 'CEREAL BAGUETTE', 'PAIN AU CHOCOLAT'), ('BAGUETTE', 'CEREAL BAGUETTE', 'TRADITIONAL BAGUETTE'), ('BAGUETTE', 'CHAUSSON AUX POMMES', 'CROISSANT'), ('BAGUETTE', 'CHAUSSON AUX POMMES', 'PAIN AU CHOCOLAT'), ('BAGUETTE', 'CHAUSSON AUX POMMES', 'TRADITIONAL BAGUETTE'), ('BAGUETTE', 'COMPLET', 'COUPE'), ('BAGUETTE', 'COMPLET', 'CROISSANT'), ('BAGUETTE', 'COMPLET', 'PAIN AU CHOCOLAT'), ('BAGUETTE', 'COMPLET', 'TRADITIONAL BAGUETTE'), ('BAGUETTE', 'COUPE', 'CROISSANT'), ('BAGUETTE', 'COUPE', 'ECLAIR'), ('BAGUETTE', 'COUPE', 'FICELLE'), ('BAGUETTE', 'COUPE', 'PAIN AU CHOCOLAT'), ('BAGUETTE', 'COUPE', 'PAIN BANETTE'), ('BAGUETTE', 'COUPE', 'SPECIAL BREAD'), ('BAGUETTE', 'COUPE', 'TARTELETTE'), ('BAGUETTE', 'COUPE', 'TRADITIONAL BAGUETTE'), ('BAGUETTE', 'CROISSANT', 'FICELLE'), ('BAGUETTE', 'CROISSANT', 'PAIN AU CHOCOLAT'), ('BAGUETTE', 'CROISSANT', 'SPECIAL BREAD'), ('BAGUETTE', 'CROISSANT', 'TARTELETTE'), ('BAGUETTE', 'CROISSANT', 'TRADITIONAL BAGUETTE'), ('BAGUETTE', 'DEMI BAGUETTE', 'TRADITIONAL BAGUETTE'), ('BAGUETTE', 'ECLAIR', 'PAIN AU CHOCOLAT'), ('BAGUETTE', 'ECLAIR', 'TARTELETTE'), ('BAGUETTE', 'ECLAIR', 'TRADITIONAL BAGUETTE'), ('BAGUETTE', 'FICELLE', 'PAIN AU CHOCOLAT'), ('BAGUETTE', 'FICELLE', 'TRADITIONAL BAGUETTE'), ('BAGUETTE', 'PAIN AU CHOCOLAT', 'SPECIAL BREAD'), ('BAGUETTE', 'PAIN AU CHOCOLAT', 'TARTELETTE'), ('BAGUETTE', 'PAIN AU CHOCOLAT', 'TRADITIONAL BAGUETTE'), ('BAGUETTE', 'PAIN BANETTE', 'TRADITIONAL BAGUETTE'), ('BAGUETTE', 'SPECIAL BREAD', 'TRADITIONAL BAGUETTE'), ('BAGUETTE', 'TARTELETTE', 'TRADITIONAL BAGUETTE'), ('BAGUETTE GRAINE', 'CEREAL BAGUETTE', 'COUPE'), ('BAGUETTE GRAINE', 'CEREAL BAGUETTE', 'CROISSANT'), ('BAGUETTE GRAINE', 'CEREAL BAGUETTE', 'PAIN AU CHOCOLAT'), ('BAGUETTE GRAINE', 'CEREAL BAGUETTE', 'TRADITIONAL BAGUETTE'), ('BAGUETTE GRAINE', 'COUPE', 'CROISSANT'), ('BAGUETTE GRAINE', 'COUPE', 'PAIN AU CHOCOLAT'), ('BAGUETTE GRAINE', 'COUPE', 'TRADITIONAL BAGUETTE'), ('BAGUETTE GRAINE', 'CROISSANT', 'PAIN AU CHOCOLAT'), ('BAGUETTE GRAINE', 'CROISSANT', 'TRADITIONAL BAGUETTE'), ('BAGUETTE GRAINE', 'PAIN AU CHOCOLAT', 'TRADITIONAL BAGUETTE'), ('BANETTE', 'BANETTINE', 'COUPE'), ('BANETTE', 'BANETTINE', 'CROISSANT'), ('BANETTE', 'BANETTINE', 'FICELLE'), ('BANETTE', 'BANETTINE', 'TRADITIONAL BAGUETTE'), ('BANETTE', 'BOULE 200G', 'COUPE'), ('BANETTE', 'BOULE 200G', 'CROISSANT'), ('BANETTE', 'BOULE 200G', 'TRADITIONAL BAGUETTE'), ('BANETTE', 'BOULE 400G', 'COUPE'), ('BANETTE', 'BOULE 400G', 'CROISSANT'), ('BANETTE', 'BOULE 400G', 'PAIN AU CHOCOLAT'), ('BANETTE', 'BOULE 400G', 'TRADITIONAL BAGUETTE'), ('BANETTE', 'BRIOCHE', 'COUPE'), ('BANETTE', 'BRIOCHE', 'CROISSANT'), ('BANETTE', 'BRIOCHE', 'PAIN AU CHOCOLAT'), ('BANETTE', 'BRIOCHE', 'TRADITIONAL BAGUETTE'), ('BANETTE', 'CAMPAGNE', 'COUPE'), ('BANETTE', 'CAMPAGNE', 'CROISSANT'), ('BANETTE', 'CAMPAGNE', 'PAIN AU CHOCOLAT'), ('BANETTE', 'CAMPAGNE', 'TRADITIONAL BAGUETTE'), ('BANETTE', 'CEREAL BAGUETTE', 'COUPE'), ('BANETTE', 'CEREAL BAGUETTE', 'CROISSANT'), ('BANETTE', 'CEREAL BAGUETTE', 'PAIN AU CHOCOLAT'), ('BANETTE', 'CEREAL BAGUETTE', 'TRADITIONAL BAGUETTE'), ('BANETTE', 'CEREAL BAGUETTE', 'VIK BREAD'), ('BANETTE', 'COMPLET', 'COUPE'), ('BANETTE', 'COMPLET', 'CROISSANT'), ('BANETTE', 'COMPLET', 'PAIN AU CHOCOLAT'), ('BANETTE', 'COMPLET', 'TRADITIONAL BAGUETTE'), ('BANETTE', 'COUPE', 'CROISSANT'), ('BANETTE', 'COUPE', 'ECLAIR'), ('BANETTE', 'COUPE', 'FICELLE'), ('BANETTE', 'COUPE', 'MOISSON'), ('BANETTE', 'COUPE', 'PAIN AU CHOCOLAT'), ('BANETTE', 'COUPE', 'PAIN AUX RAISINS'), ('BANETTE', 'COUPE', 'PAIN BANETTE'), ('BANETTE', 'COUPE', 'SPECIAL BREAD'), ('BANETTE', 'COUPE', 'TARTELETTE'), ('BANETTE', 'COUPE', 'TRADITIONAL BAGUETTE'), ('BANETTE', 'COUPE', 'VIK BREAD'), ('BANETTE', 'CROISSANT', 'FICELLE'), ('BANETTE', 'CROISSANT', 'MOISSON'), ('BANETTE', 'CROISSANT', 'PAIN AU CHOCOLAT'), ('BANETTE', 'CROISSANT', 'PAIN AUX RAISINS'), ('BANETTE', 'CROISSANT', 'SPECIAL BREAD'), ('BANETTE', 'CROISSANT', 'TARTELETTE'), ('BANETTE', 'CROISSANT', 'TRADITIONAL BAGUETTE'), ('BANETTE', 'CROISSANT', 'VIK BREAD'), ('BANETTE', 'ECLAIR', 'PAIN AU CHOCOLAT'), ('BANETTE', 'ECLAIR', 'TARTELETTE'), ('BANETTE', 'ECLAIR', 'TRADITIONAL BAGUETTE'), ('BANETTE', 'FICELLE', 'PAIN AU CHOCOLAT'), ('BANETTE', 'FICELLE', 'TRADITIONAL BAGUETTE'), ('BANETTE', 'MOISSON', 'PAIN AU CHOCOLAT'), ('BANETTE', 'MOISSON', 'TRADITIONAL BAGUETTE'), ('BANETTE', 'MOISSON', 'VIK BREAD'), ('BANETTE', 'PAIN AU CHOCOLAT', 'PAIN AUX RAISINS'), ('BANETTE', 'PAIN AU CHOCOLAT', 'SPECIAL BREAD'), ('BANETTE', 'PAIN AU CHOCOLAT', 'TARTELETTE'), ('BANETTE', 'PAIN AU CHOCOLAT', 'TRADITIONAL BAGUETTE'), ('BANETTE', 'PAIN AU CHOCOLAT', 'VIK BREAD'), ('BANETTE', 'PAIN AUX RAISINS', 'TRADITIONAL BAGUETTE'), ('BANETTE', 'PAIN BANETTE', 'TRADITIONAL BAGUETTE'), ('BANETTE', 'SPECIAL BREAD', 'TRADITIONAL BAGUETTE'), ('BANETTE', 'TARTELETTE', 'TRADITIONAL BAGUETTE'), ('BANETTE', 'TRADITIONAL BAGUETTE', 'VIK BREAD'), ('BANETTINE', 'COUPE', 'CROISSANT'), ('BANETTINE', 'COUPE', 'FICELLE'), ('BANETTINE', 'COUPE', 'TRADITIONAL BAGUETTE'), ('BANETTINE', 'CROISSANT', 'FICELLE'), ('BANETTINE', 'CROISSANT', 'TRADITIONAL BAGUETTE'), ('BANETTINE', 'FICELLE', 'TRADITIONAL BAGUETTE'), ('BOISSON 33CL', 'CROISSANT', 'PAIN AU CHOCOLAT'), ('BOISSON 33CL', 'CROISSANT', 'TRADITIONAL BAGUETTE'), ('BOISSON 33CL', 'PAIN AU CHOCOLAT', 'TRADITIONAL BAGUETTE'), ('BOISSON 33CL', 'SAND JB EMMENTAL', 'SANDWICH COMPLET'), ('BOISSON 33CL', 'SAND JB EMMENTAL', 'TRADITIONAL BAGUETTE'), ('BOISSON 33CL', 'SANDWICH COMPLET', 'TRADITIONAL BAGUETTE'), ('BOISSON 33CL', 'TRADITIONAL BAGUETTE', 'TRAITEUR'), ('BOULE 200G', 'COUPE', 'CROISSANT'), ('BOULE 200G', 'COUPE', 'TRADITIONAL BAGUETTE'), ('BOULE 200G', 'CROISSANT', 'TRADITIONAL BAGUETTE'), ('BOULE 400G', 'COUPE', 'CROISSANT'), ('BOULE 400G', 'COUPE', 'PAIN AU CHOCOLAT'), ('BOULE 400G', 'COUPE', 'TRADITIONAL BAGUETTE'), ('BOULE 400G', 'CROISSANT', 'PAIN AU CHOCOLAT'), ('BOULE 400G', 'CROISSANT', 'TRADITIONAL BAGUETTE'), ('BOULE 400G', 'PAIN AU CHOCOLAT', 'TRADITIONAL BAGUETTE'), ('BRIOCHE', 'COUPE', 'CROISSANT'), ('BRIOCHE', 'COUPE', 'PAIN AU CHOCOLAT'), ('BRIOCHE', 'COUPE', 'TRADITIONAL BAGUETTE'), ('BRIOCHE', 'CROISSANT', 'PAIN AU CHOCOLAT'), ('BRIOCHE', 'CROISSANT', 'TRADITIONAL BAGUETTE'), ('BRIOCHE', 'PAIN AU CHOCOLAT', 'TRADITIONAL BAGUETTE'), ('CAFE OU EAU', 'CROISSANT', 'PAIN AU CHOCOLAT'), ('CAMPAGNE', 'COUPE', 'CROISSANT'), ('CAMPAGNE', 'COUPE', 'PAIN AU CHOCOLAT'), ('CAMPAGNE', 'COUPE', 'TRADITIONAL BAGUETTE'), ('CAMPAGNE', 'CROISSANT', 'PAIN AU CHOCOLAT'), ('CAMPAGNE', 'CROISSANT', 'TRADITIONAL BAGUETTE'), ('CAMPAGNE', 'PAIN AU CHOCOLAT', 'TRADITIONAL BAGUETTE'), ('CEREAL BAGUETTE', 'COUPE', 'CROISSANT'), ('CEREAL BAGUETTE', 'COUPE', 'PAIN AU CHOCOLAT'), ('CEREAL BAGUETTE', 'COUPE', 'TRADITIONAL BAGUETTE'), ('CEREAL BAGUETTE', 'COUPE', 'VIK BREAD'), ('CEREAL BAGUETTE', 'CROISSANT', 'PAIN AU CHOCOLAT'), ('CEREAL BAGUETTE', 'CROISSANT', 'TRADITIONAL BAGUETTE'), ('CEREAL BAGUETTE', 'CROISSANT', 'VIK BREAD'), ('CEREAL BAGUETTE', 'PAIN AU CHOCOLAT', 'TRADITIONAL BAGUETTE'), ('CEREAL BAGUETTE', 'PAIN AU CHOCOLAT', 'VIK BREAD'), ('CEREAL BAGUETTE', 'TRADITIONAL BAGUETTE', 'VIK BREAD'), ('CHAUSSON AUX POMMES', 'CROISSANT', 'PAIN AU CHOCOLAT'), ('CHAUSSON AUX POMMES', 'CROISSANT', 'PAIN AUX RAISINS'), ('CHAUSSON AUX POMMES', 'CROISSANT', 'TRADITIONAL BAGUETTE'), ('CHAUSSON AUX POMMES', 'PAIN AU CHOCOLAT', 'PAIN AUX RAISINS'), ('CHAUSSON AUX POMMES', 'PAIN AU CHOCOLAT', 'TRADITIONAL BAGUETTE'), ('CHAUSSON AUX POMMES', 'PAIN AUX RAISINS', 'TRADITIONAL BAGUETTE'), ('COMPLET', 'COUPE', 'CROISSANT'), ('COMPLET', 'COUPE', 'PAIN AU CHOCOLAT'), ('COMPLET', 'COUPE', 'TRADITIONAL BAGUETTE'), ('COMPLET', 'CROISSANT', 'PAIN AU CHOCOLAT'), ('COMPLET', 'CROISSANT', 'TRADITIONAL BAGUETTE'), ('COMPLET', 'PAIN AU CHOCOLAT', 'TRADITIONAL BAGUETTE'), ('COOKIE', 'COUPE', 'CROISSANT'), ('COOKIE', 'COUPE', 'PAIN AU CHOCOLAT'), ('COOKIE', 'COUPE', 'QUIM BREAD'), ('COOKIE', 'COUPE', 'TRADITIONAL BAGUETTE'), ('COOKIE', 'CROISSANT', 'PAIN AU CHOCOLAT'), ('COOKIE', 'CROISSANT', 'QUIM BREAD'), ('COOKIE', 'CROISSANT', 'TRADITIONAL BAGUETTE'), ('COOKIE', 'PAIN AU CHOCOLAT', 'QUIM BREAD'), ('COOKIE', 'PAIN AU CHOCOLAT', 'TRADITIONAL BAGUETTE'), ('COOKIE', 'QUIM BREAD', 'TRADITIONAL BAGUETTE'), ('COUPE', 'CROISSANT', 'CROISSANT AMANDES'), ('COUPE', 'CROISSANT', 'FICELLE'), ('COUPE', 'CROISSANT', 'KOUIGN AMANN'), ('COUPE', 'CROISSANT', 'MOISSON'), ('COUPE', 'CROISSANT', 'PAIN AU CHOCOLAT'), ('COUPE', 'CROISSANT', 'PAIN AUX RAISINS'), ('COUPE', 'CROISSANT', 'QUIM BREAD'), ('COUPE', 'CROISSANT', 'SPECIAL BREAD'), ('COUPE', 'CROISSANT', 'TARTELETTE'), ('COUPE', 'CROISSANT', 'TRADITIONAL BAGUETTE'), ('COUPE', 'CROISSANT', 'VIK BREAD'), ('COUPE', 'CROISSANT AMANDES', 'PAIN AU CHOCOLAT'), ('COUPE', 'CROISSANT AMANDES', 'TRADITIONAL BAGUETTE'), ('COUPE', 'DIVERS VIENNOISERIE', 'TRADITIONAL BAGUETTE'), ('COUPE', 'ECLAIR', 'PAIN AU CHOCOLAT'), ('COUPE', 'ECLAIR', 'TARTELETTE'), ('COUPE', 'ECLAIR', 'TRADITIONAL BAGUETTE'), ('COUPE', 'FICELLE', 'PAIN AU CHOCOLAT'), ('COUPE', 'FICELLE', 'TRADITIONAL BAGUETTE'), ('COUPE', 'FINANCIER X5', 'TRADITIONAL BAGUETTE'), ('COUPE', 'GRAND FAR BRETON', 'TRADITIONAL BAGUETTE'), ('COUPE', 'KOUIGN AMANN', 'PAIN AU CHOCOLAT'), ('COUPE', 'KOUIGN AMANN', 'TRADITIONAL BAGUETTE'), ('COUPE', 'MOISSON', 'PAIN AU CHOCOLAT'), ('COUPE', 'MOISSON', 'TRADITIONAL BAGUETTE'), ('COUPE', 'MOISSON', 'VIK BREAD'), ('COUPE', 'PAIN AU CHOCOLAT', 'PAIN AUX RAISINS'), ('COUPE', 'PAIN AU CHOCOLAT', 'QUIM BREAD'), ('COUPE', 'PAIN AU CHOCOLAT', 'SPECIAL BREAD'), ('COUPE', 'PAIN AU CHOCOLAT', 'TARTELETTE'), ('COUPE', 'PAIN AU CHOCOLAT', 'TRADITIONAL BAGUETTE'), ('COUPE', 'PAIN AU CHOCOLAT', 'VIK BREAD'), ('COUPE', 'PAIN AUX RAISINS', 'TRADITIONAL BAGUETTE'), ('COUPE', 'PAIN BANETTE', 'TRADITIONAL BAGUETTE'), ('COUPE', 'QUIM BREAD', 'TRADITIONAL BAGUETTE'), ('COUPE', 'SEIGLE', 'TRADITIONAL BAGUETTE'), ('COUPE', 'SPECIAL BREAD', 'TRADITIONAL BAGUETTE'), ('COUPE', 'TARTELETTE', 'TRADITIONAL BAGUETTE'), ('COUPE', 'TRADITIONAL BAGUETTE', 'VIK BREAD'), ('CROISSANT', 'CROISSANT AMANDES', 'PAIN AU CHOCOLAT'), ('CROISSANT', 'CROISSANT AMANDES', 'PAIN CHOCO AMANDES'), ('CROISSANT', 'CROISSANT AMANDES', 'TRADITIONAL BAGUETTE'), ('CROISSANT', 'FICELLE', 'PAIN AU CHOCOLAT'), ('CROISSANT', 'FICELLE', 'TRADITIONAL BAGUETTE'), ('CROISSANT', 'KOUIGN AMANN', 'PAIN AU CHOCOLAT'), ('CROISSANT', 'KOUIGN AMANN', 'TRADITIONAL BAGUETTE'), ('CROISSANT', 'MOISSON', 'PAIN AU CHOCOLAT'), ('CROISSANT', 'MOISSON', 'TRADITIONAL BAGUETTE'), ('CROISSANT', 'MOISSON', 'VIK BREAD'), ('CROISSANT', 'PAIN AU CHOCOLAT', 'PAIN AUX RAISINS'), ('CROISSANT', 'PAIN AU CHOCOLAT', 'PAIN CHOCO AMANDES'), ('CROISSANT', 'PAIN AU CHOCOLAT', 'QUIM BREAD'), ('CROISSANT', 'PAIN AU CHOCOLAT', 'SPECIAL BREAD'), ('CROISSANT', 'PAIN AU CHOCOLAT', 'TARTELETTE'), ('CROISSANT', 'PAIN AU CHOCOLAT', 'TRADITIONAL BAGUETTE'), ('CROISSANT', 'PAIN AU CHOCOLAT', 'VIK BREAD'), ('CROISSANT', 'PAIN AUX RAISINS', 'TRADITIONAL BAGUETTE'), ('CROISSANT', 'PAIN CHOCO AMANDES', 'TRADITIONAL BAGUETTE'), ('CROISSANT', 'QUIM BREAD', 'TRADITIONAL BAGUETTE'), ('CROISSANT', 'SPECIAL BREAD', 'TRADITIONAL BAGUETTE'), ('CROISSANT', 'TARTELETTE', 'TRADITIONAL BAGUETTE'), ('CROISSANT', 'TRADITIONAL BAGUETTE', 'VIK BREAD'), ('CROISSANT AMANDES', 'PAIN AU CHOCOLAT', 'PAIN CHOCO AMANDES'), ('CROISSANT AMANDES', 'PAIN AU CHOCOLAT', 'TRADITIONAL BAGUETTE'), ('CROISSANT AMANDES', 'PAIN CHOCO AMANDES', 'TRADITIONAL BAGUETTE'), ('ECLAIR', 'MILLES FEUILLES', 'TARTELETTE'), ('ECLAIR', 'MILLES FEUILLES', 'TRADITIONAL BAGUETTE'), ('ECLAIR', 'PAIN AU CHOCOLAT', 'TARTELETTE'), ('ECLAIR', 'PAIN AU CHOCOLAT', 'TRADITIONAL BAGUETTE'), ('ECLAIR', 'PARIS BREST', 'TARTELETTE'), ('ECLAIR', 'PARIS BREST', 'TRADITIONAL BAGUETTE'), ('ECLAIR', 'TARTELETTE', 'TRADITIONAL BAGUETTE'), ('FICELLE', 'PAIN AU CHOCOLAT', 'TRADITIONAL BAGUETTE'), ('FLAN', 'TARTELETTE', 'TRADITIONAL BAGUETTE'), ('FORMULE SANDWICH', 'PAIN AU CHOCOLAT', 'TRADITIONAL BAGUETTE'), ('KOUIGN AMANN', 'PAIN AU CHOCOLAT', 'TRADITIONAL BAGUETTE'), ('MILLES FEUILLES', 'TARTELETTE', 'TRADITIONAL BAGUETTE'), ('MOISSON', 'PAIN AU CHOCOLAT', 'TRADITIONAL BAGUETTE'), ('MOISSON', 'PAIN AU CHOCOLAT', 'VIK BREAD'), ('MOISSON', 'TRADITIONAL BAGUETTE', 'VIK BREAD'), ('PAIN AU CHOCOLAT', 'PAIN AUX RAISINS', 'TRADITIONAL BAGUETTE'), ('PAIN AU CHOCOLAT', 'PAIN CHOCO AMANDES', 'TRADITIONAL BAGUETTE'), ('PAIN AU CHOCOLAT', 'QUIM BREAD', 'TRADITIONAL BAGUETTE'), ('PAIN AU CHOCOLAT', 'SPECIAL BREAD', 'TRADITIONAL BAGUETTE'), ('PAIN AU CHOCOLAT', 'TARTELETTE', 'TRADITIONAL BAGUETTE'), ('PAIN AU CHOCOLAT', 'TRADITIONAL BAGUETTE', 'VIK BREAD'), ('PARIS BREST', 'TARTELETTE', 'TRADITIONAL BAGUETTE'), ('SAND JB EMMENTAL', 'SANDWICH COMPLET', 'TRADITIONAL BAGUETTE')]\n",
      "    Iterating over transactions.\n",
      "  Found 50 large itemsets of length 3.\n",
      "   [('BAGUETTE', 'BOULE 200G', 'COUPE'), ('BAGUETTE', 'BOULE 400G', 'COUPE'), ('BAGUETTE', 'CAMPAGNE', 'COUPE'), ('BAGUETTE', 'COMPLET', 'COUPE'), ('BAGUETTE', 'COUPE', 'SPECIAL BREAD'), ('BAGUETTE', 'COUPE', 'TRADITIONAL BAGUETTE'), ('BAGUETTE', 'CROISSANT', 'PAIN AU CHOCOLAT'), ('BAGUETTE', 'CROISSANT', 'TRADITIONAL BAGUETTE'), ('BAGUETTE', 'PAIN AU CHOCOLAT', 'TRADITIONAL BAGUETTE'), ('BANETTE', 'BOULE 200G', 'COUPE'), ('BANETTE', 'BOULE 400G', 'COUPE'), ('BANETTE', 'CAMPAGNE', 'COUPE'), ('BANETTE', 'COMPLET', 'COUPE'), ('BANETTE', 'COUPE', 'MOISSON'), ('BANETTE', 'COUPE', 'SPECIAL BREAD'), ('BANETTE', 'CROISSANT', 'PAIN AU CHOCOLAT'), ('BOULE 200G', 'COUPE', 'CROISSANT'), ('BOULE 200G', 'COUPE', 'TRADITIONAL BAGUETTE'), ('BOULE 400G', 'COUPE', 'CROISSANT'), ('BOULE 400G', 'COUPE', 'TRADITIONAL BAGUETTE'), ('BRIOCHE', 'COUPE', 'TRADITIONAL BAGUETTE'), ('CAMPAGNE', 'COUPE', 'TRADITIONAL BAGUETTE'), ('CEREAL BAGUETTE', 'CROISSANT', 'PAIN AU CHOCOLAT'), ('CHAUSSON AUX POMMES', 'CROISSANT', 'PAIN AU CHOCOLAT'), ('CHAUSSON AUX POMMES', 'CROISSANT', 'TRADITIONAL BAGUETTE'), ('CHAUSSON AUX POMMES', 'PAIN AU CHOCOLAT', 'TRADITIONAL BAGUETTE'), ('COMPLET', 'COUPE', 'TRADITIONAL BAGUETTE'), ('COOKIE', 'CROISSANT', 'PAIN AU CHOCOLAT'), ('COOKIE', 'PAIN AU CHOCOLAT', 'TRADITIONAL BAGUETTE'), ('COUPE', 'CROISSANT', 'PAIN AU CHOCOLAT'), ('COUPE', 'CROISSANT', 'SPECIAL BREAD'), ('COUPE', 'CROISSANT', 'TRADITIONAL BAGUETTE'), ('COUPE', 'CROISSANT', 'VIK BREAD'), ('COUPE', 'MOISSON', 'TRADITIONAL BAGUETTE'), ('COUPE', 'PAIN AU CHOCOLAT', 'SPECIAL BREAD'), ('COUPE', 'PAIN AU CHOCOLAT', 'TRADITIONAL BAGUETTE'), ('COUPE', 'SEIGLE', 'TRADITIONAL BAGUETTE'), ('COUPE', 'SPECIAL BREAD', 'TRADITIONAL BAGUETTE'), ('COUPE', 'TRADITIONAL BAGUETTE', 'VIK BREAD'), ('CROISSANT', 'CROISSANT AMANDES', 'PAIN AU CHOCOLAT'), ('CROISSANT', 'CROISSANT AMANDES', 'TRADITIONAL BAGUETTE'), ('CROISSANT', 'FICELLE', 'PAIN AU CHOCOLAT'), ('CROISSANT', 'FICELLE', 'TRADITIONAL BAGUETTE'), ('CROISSANT', 'PAIN AU CHOCOLAT', 'PAIN AUX RAISINS'), ('CROISSANT', 'PAIN AU CHOCOLAT', 'TRADITIONAL BAGUETTE'), ('CROISSANT', 'PAIN AUX RAISINS', 'TRADITIONAL BAGUETTE'), ('CROISSANT AMANDES', 'PAIN AU CHOCOLAT', 'TRADITIONAL BAGUETTE'), ('ECLAIR', 'TARTELETTE', 'TRADITIONAL BAGUETTE'), ('PAIN AU CHOCOLAT', 'PAIN AUX RAISINS', 'TRADITIONAL BAGUETTE'), ('PARIS BREST', 'TARTELETTE', 'TRADITIONAL BAGUETTE')]\n",
      " Counting itemsets of length 4.\n",
      "  Found 5 candidate itemsets of length 4.\n",
      "   [('BAGUETTE', 'CROISSANT', 'PAIN AU CHOCOLAT', 'TRADITIONAL BAGUETTE'), ('CHAUSSON AUX POMMES', 'CROISSANT', 'PAIN AU CHOCOLAT', 'TRADITIONAL BAGUETTE'), ('COUPE', 'CROISSANT', 'PAIN AU CHOCOLAT', 'TRADITIONAL BAGUETTE'), ('CROISSANT', 'CROISSANT AMANDES', 'PAIN AU CHOCOLAT', 'TRADITIONAL BAGUETTE'), ('CROISSANT', 'PAIN AU CHOCOLAT', 'PAIN AUX RAISINS', 'TRADITIONAL BAGUETTE')]\n",
      "    Iterating over transactions.\n",
      "  Found 3 large itemsets of length 4.\n",
      "   [('BAGUETTE', 'CROISSANT', 'PAIN AU CHOCOLAT', 'TRADITIONAL BAGUETTE'), ('COUPE', 'CROISSANT', 'PAIN AU CHOCOLAT', 'TRADITIONAL BAGUETTE'), ('CROISSANT', 'PAIN AU CHOCOLAT', 'PAIN AUX RAISINS', 'TRADITIONAL BAGUETTE')]\n",
      " Counting itemsets of length 5.\n",
      "  Found 0 candidate itemsets of length 5.\n",
      "   []\n",
      "Itemset generation terminated.\n",
      "\n",
      "Generating rules from itemsets.\n",
      " Generating rules of size 2.\n",
      " Generating rules of size 3.\n",
      " Generating rules of size 4.\n",
      "Rule generation terminated.\n",
      "\n"
     ]
    }
   ],
   "source": [
    "itemset, _ = apriori(list(grouped_data.values()), min_support = min_support, verbosity=2)"
   ]
  },
  {
   "cell_type": "code",
   "execution_count": 15,
   "metadata": {},
   "outputs": [
    {
     "data": {
      "text/plain": [
       "{1: {('BAGUETTE',): 15273,\n",
       "  ('BAGUETTE GRAINE',): 1500,\n",
       "  ('BANETTE',): 15107,\n",
       "  ('BANETTINE',): 2815,\n",
       "  ('BOISSON 33CL',): 1468,\n",
       "  ('BOULE 200G',): 2685,\n",
       "  ('BOULE 400G',): 4082,\n",
       "  ('BOULE POLKA',): 502,\n",
       "  ('BRIOCHE',): 1656,\n",
       "  ('CAFE OU EAU',): 1429,\n",
       "  ('CAMPAGNE',): 3892,\n",
       "  ('CEREAL BAGUETTE',): 4950,\n",
       "  ('CHAUSSON AUX POMMES',): 1440,\n",
       "  ('CHOU CHANTILLY',): 205,\n",
       "  ('COMPLET',): 3133,\n",
       "  ('COOKIE',): 1989,\n",
       "  ('COUPE',): 19424,\n",
       "  ('CROISSANT',): 11446,\n",
       "  ('CROISSANT AMANDES',): 1802,\n",
       "  ('DEMI BAGUETTE',): 1144,\n",
       "  ('DEMI PAIN',): 163,\n",
       "  ('DIVERS BOULANGERIE',): 311,\n",
       "  ('DIVERS CONFISERIE',): 471,\n",
       "  ('DIVERS PATISSERIE',): 480,\n",
       "  ('DIVERS SANDWICHS',): 234,\n",
       "  ('DIVERS VIENNOISERIE',): 818,\n",
       "  ('ECLAIR',): 2002,\n",
       "  ('FICELLE',): 2644,\n",
       "  ('FINANCIER X5',): 1017,\n",
       "  ('FLAN',): 830,\n",
       "  ('FLAN ABRICOT',): 568,\n",
       "  ('FONDANT CHOCOLAT',): 218,\n",
       "  ('FORMULE SANDWICH',): 4180,\n",
       "  ('FRAISIER',): 355,\n",
       "  ('GAL FRANGIPANE 4P',): 203,\n",
       "  ('GD FAR BRETON',): 161,\n",
       "  ('GD KOUIGN AMANN',): 832,\n",
       "  ('GRAND FAR BRETON',): 1378,\n",
       "  ('GRANDE SUCETTE',): 192,\n",
       "  ('KOUIGN AMANN',): 1330,\n",
       "  ('MILLES FEUILLES',): 764,\n",
       "  ('MOISSON',): 3095,\n",
       "  ('NANTAIS',): 389,\n",
       "  ('NOIX JAPONAISE',): 334,\n",
       "  ('PAIN',): 1917,\n",
       "  ('PAIN AU CHOCOLAT',): 10529,\n",
       "  ('PAIN AUX RAISINS',): 1986,\n",
       "  ('PAIN BANETTE',): 2725,\n",
       "  ('PAIN CHOCO AMANDES',): 1482,\n",
       "  ('PALET BRETON',): 154,\n",
       "  ('PARIS BREST',): 913,\n",
       "  ('PLAT 7.60E',): 244,\n",
       "  ('PT NANTAIS',): 476,\n",
       "  ('QUIM BREAD',): 1302,\n",
       "  ('ROYAL',): 174,\n",
       "  ('SACHET VIENNOISERIE',): 497,\n",
       "  ('SAND JB EMMENTAL',): 1502,\n",
       "  ('SANDWICH COMPLET',): 2205,\n",
       "  ('SAVARIN',): 337,\n",
       "  ('SEIGLE',): 1325,\n",
       "  ('SPECIAL BREAD',): 5182,\n",
       "  ('SPECIAL BREAD KG',): 460,\n",
       "  ('SUCETTE',): 523,\n",
       "  ('TARTE FRAISE 4PER',): 149,\n",
       "  ('TARTE FRUITS 4P',): 358,\n",
       "  ('TARTE FRUITS 6P',): 272,\n",
       "  ('TARTELETTE',): 2830,\n",
       "  ('TARTELETTE FRAISE',): 488,\n",
       "  ('TRADITIONAL BAGUETTE',): 67535,\n",
       "  ('TRAITEUR',): 1126,\n",
       "  ('TROPEZIENNE',): 357,\n",
       "  ('VIENNOISE',): 183,\n",
       "  ('VIK BREAD',): 3126},\n",
       " 2: {('BAGUETTE', 'BANETTE'): 894,\n",
       "  ('BAGUETTE', 'BANETTINE'): 182,\n",
       "  ('BAGUETTE', 'BOULE 200G'): 270,\n",
       "  ('BAGUETTE', 'BOULE 400G'): 441,\n",
       "  ('BAGUETTE', 'CAMPAGNE'): 313,\n",
       "  ('BAGUETTE', 'CEREAL BAGUETTE'): 244,\n",
       "  ('BAGUETTE', 'CHAUSSON AUX POMMES'): 143,\n",
       "  ('BAGUETTE', 'COMPLET'): 226,\n",
       "  ('BAGUETTE', 'COUPE'): 1538,\n",
       "  ('BAGUETTE', 'CROISSANT'): 1472,\n",
       "  ('BAGUETTE', 'DEMI BAGUETTE'): 193,\n",
       "  ('BAGUETTE', 'ECLAIR'): 182,\n",
       "  ('BAGUETTE', 'FICELLE'): 316,\n",
       "  ('BAGUETTE', 'PAIN AU CHOCOLAT'): 1198,\n",
       "  ('BAGUETTE', 'PAIN BANETTE'): 167,\n",
       "  ('BAGUETTE', 'SPECIAL BREAD'): 246,\n",
       "  ('BAGUETTE', 'TARTELETTE'): 197,\n",
       "  ('BAGUETTE', 'TRADITIONAL BAGUETTE'): 2037,\n",
       "  ('BAGUETTE GRAINE', 'CEREAL BAGUETTE'): 149,\n",
       "  ('BAGUETTE GRAINE', 'COUPE'): 227,\n",
       "  ('BAGUETTE GRAINE', 'CROISSANT'): 146,\n",
       "  ('BAGUETTE GRAINE', 'PAIN AU CHOCOLAT'): 151,\n",
       "  ('BAGUETTE GRAINE', 'TRADITIONAL BAGUETTE'): 511,\n",
       "  ('BANETTE', 'BANETTINE'): 270,\n",
       "  ('BANETTE', 'BOULE 200G'): 170,\n",
       "  ('BANETTE', 'BOULE 400G'): 318,\n",
       "  ('BANETTE', 'BRIOCHE'): 140,\n",
       "  ('BANETTE', 'CAMPAGNE'): 249,\n",
       "  ('BANETTE', 'CEREAL BAGUETTE'): 189,\n",
       "  ('BANETTE', 'COMPLET'): 230,\n",
       "  ('BANETTE', 'COUPE'): 1271,\n",
       "  ('BANETTE', 'CROISSANT'): 961,\n",
       "  ('BANETTE', 'ECLAIR'): 154,\n",
       "  ('BANETTE', 'FICELLE'): 302,\n",
       "  ('BANETTE', 'MOISSON'): 217,\n",
       "  ('BANETTE', 'PAIN AU CHOCOLAT'): 731,\n",
       "  ('BANETTE', 'PAIN AUX RAISINS'): 148,\n",
       "  ('BANETTE', 'PAIN BANETTE'): 181,\n",
       "  ('BANETTE', 'SPECIAL BREAD'): 250,\n",
       "  ('BANETTE', 'TARTELETTE'): 247,\n",
       "  ('BANETTE', 'TRADITIONAL BAGUETTE'): 1222,\n",
       "  ('BANETTE', 'VIK BREAD'): 204,\n",
       "  ('BANETTINE', 'COUPE'): 313,\n",
       "  ('BANETTINE', 'CROISSANT'): 179,\n",
       "  ('BANETTINE', 'FICELLE'): 240,\n",
       "  ('BANETTINE', 'TRADITIONAL BAGUETTE'): 702,\n",
       "  ('BOISSON 33CL', 'CROISSANT'): 157,\n",
       "  ('BOISSON 33CL', 'PAIN AU CHOCOLAT'): 279,\n",
       "  ('BOISSON 33CL', 'SAND JB EMMENTAL'): 163,\n",
       "  ('BOISSON 33CL', 'SANDWICH COMPLET'): 170,\n",
       "  ('BOISSON 33CL', 'TRADITIONAL BAGUETTE'): 170,\n",
       "  ('BOISSON 33CL', 'TRAITEUR'): 157,\n",
       "  ('BOULE 200G', 'COUPE'): 2385,\n",
       "  ('BOULE 200G', 'CROISSANT'): 245,\n",
       "  ('BOULE 200G', 'TRADITIONAL BAGUETTE'): 568,\n",
       "  ('BOULE 400G', 'COUPE'): 3242,\n",
       "  ('BOULE 400G', 'CROISSANT'): 204,\n",
       "  ('BOULE 400G', 'PAIN AU CHOCOLAT'): 145,\n",
       "  ('BOULE 400G', 'TRADITIONAL BAGUETTE'): 970,\n",
       "  ('BOULE POLKA', 'COUPE'): 386,\n",
       "  ('BRIOCHE', 'COUPE'): 369,\n",
       "  ('BRIOCHE', 'CROISSANT'): 245,\n",
       "  ('BRIOCHE', 'PAIN AU CHOCOLAT'): 182,\n",
       "  ('BRIOCHE', 'TRADITIONAL BAGUETTE'): 872,\n",
       "  ('CAFE OU EAU', 'CROISSANT'): 266,\n",
       "  ('CAFE OU EAU', 'PAIN AU CHOCOLAT'): 304,\n",
       "  ('CAMPAGNE', 'COUPE'): 3112,\n",
       "  ('CAMPAGNE', 'CROISSANT'): 164,\n",
       "  ('CAMPAGNE', 'PAIN AU CHOCOLAT'): 151,\n",
       "  ('CAMPAGNE', 'TRADITIONAL BAGUETTE'): 935,\n",
       "  ('CEREAL BAGUETTE', 'COUPE'): 575,\n",
       "  ('CEREAL BAGUETTE', 'CROISSANT'): 497,\n",
       "  ('CEREAL BAGUETTE', 'PAIN AU CHOCOLAT'): 437,\n",
       "  ('CEREAL BAGUETTE', 'TRADITIONAL BAGUETTE'): 596,\n",
       "  ('CEREAL BAGUETTE', 'VIK BREAD'): 141,\n",
       "  ('CHAUSSON AUX POMMES', 'CROISSANT'): 365,\n",
       "  ('CHAUSSON AUX POMMES', 'PAIN AU CHOCOLAT'): 474,\n",
       "  ('CHAUSSON AUX POMMES', 'PAIN AUX RAISINS'): 209,\n",
       "  ('CHAUSSON AUX POMMES', 'TRADITIONAL BAGUETTE'): 517,\n",
       "  ('COMPLET', 'COUPE'): 2314,\n",
       "  ('COMPLET', 'CROISSANT'): 191,\n",
       "  ('COMPLET', 'PAIN AU CHOCOLAT'): 149,\n",
       "  ('COMPLET', 'TRADITIONAL BAGUETTE'): 1144,\n",
       "  ('COOKIE', 'COUPE'): 196,\n",
       "  ('COOKIE', 'CROISSANT'): 318,\n",
       "  ('COOKIE', 'PAIN AU CHOCOLAT'): 420,\n",
       "  ('COOKIE', 'QUIM BREAD'): 192,\n",
       "  ('COOKIE', 'TRADITIONAL BAGUETTE'): 708,\n",
       "  ('COUPE', 'CROISSANT'): 1196,\n",
       "  ('COUPE', 'CROISSANT AMANDES'): 154,\n",
       "  ('COUPE', 'DIVERS VIENNOISERIE'): 160,\n",
       "  ('COUPE', 'ECLAIR'): 297,\n",
       "  ('COUPE', 'FICELLE'): 363,\n",
       "  ('COUPE', 'FINANCIER X5'): 184,\n",
       "  ('COUPE', 'GRAND FAR BRETON'): 245,\n",
       "  ('COUPE', 'KOUIGN AMANN'): 141,\n",
       "  ('COUPE', 'MOISSON'): 2208,\n",
       "  ('COUPE', 'PAIN AU CHOCOLAT'): 823,\n",
       "  ('COUPE', 'PAIN AUX RAISINS'): 220,\n",
       "  ('COUPE', 'PAIN BANETTE'): 219,\n",
       "  ('COUPE', 'QUIM BREAD'): 168,\n",
       "  ('COUPE', 'SEIGLE'): 1067,\n",
       "  ('COUPE', 'SPECIAL BREAD'): 3049,\n",
       "  ('COUPE', 'SPECIAL BREAD KG'): 244,\n",
       "  ('COUPE', 'TARTELETTE'): 414,\n",
       "  ('COUPE', 'TRADITIONAL BAGUETTE'): 6116,\n",
       "  ('COUPE', 'VIK BREAD'): 2294,\n",
       "  ('CROISSANT', 'CROISSANT AMANDES'): 305,\n",
       "  ('CROISSANT', 'FICELLE'): 517,\n",
       "  ('CROISSANT', 'KOUIGN AMANN'): 172,\n",
       "  ('CROISSANT', 'MOISSON'): 170,\n",
       "  ('CROISSANT', 'PAIN AU CHOCOLAT'): 5394,\n",
       "  ('CROISSANT', 'PAIN AUX RAISINS'): 761,\n",
       "  ('CROISSANT', 'PAIN CHOCO AMANDES'): 232,\n",
       "  ('CROISSANT', 'QUIM BREAD'): 138,\n",
       "  ('CROISSANT', 'SPECIAL BREAD'): 319,\n",
       "  ('CROISSANT', 'TARTELETTE'): 157,\n",
       "  ('CROISSANT', 'TRADITIONAL BAGUETTE'): 4927,\n",
       "  ('CROISSANT', 'VIK BREAD'): 287,\n",
       "  ('CROISSANT AMANDES', 'PAIN AU CHOCOLAT'): 365,\n",
       "  ('CROISSANT AMANDES', 'PAIN CHOCO AMANDES'): 220,\n",
       "  ('CROISSANT AMANDES', 'TRADITIONAL BAGUETTE'): 657,\n",
       "  ('DEMI BAGUETTE', 'TRADITIONAL BAGUETTE'): 263,\n",
       "  ('DIVERS CONFISERIE', 'TRADITIONAL BAGUETTE'): 185,\n",
       "  ('DIVERS PATISSERIE', 'TRADITIONAL BAGUETTE'): 185,\n",
       "  ('DIVERS VIENNOISERIE', 'TRADITIONAL BAGUETTE'): 343,\n",
       "  ('ECLAIR', 'MILLES FEUILLES'): 149,\n",
       "  ('ECLAIR', 'PAIN AU CHOCOLAT'): 174,\n",
       "  ('ECLAIR', 'PARIS BREST'): 182,\n",
       "  ('ECLAIR', 'TARTELETTE'): 437,\n",
       "  ('ECLAIR', 'TRADITIONAL BAGUETTE'): 867,\n",
       "  ('FICELLE', 'PAIN AU CHOCOLAT'): 300,\n",
       "  ('FICELLE', 'TRADITIONAL BAGUETTE'): 698,\n",
       "  ('FINANCIER X5', 'TRADITIONAL BAGUETTE'): 437,\n",
       "  ('FLAN', 'TARTELETTE'): 174,\n",
       "  ('FLAN', 'TRADITIONAL BAGUETTE'): 367,\n",
       "  ('FLAN ABRICOT', 'TRADITIONAL BAGUETTE'): 212,\n",
       "  ('FORMULE SANDWICH', 'PAIN AU CHOCOLAT'): 146,\n",
       "  ('FORMULE SANDWICH', 'TRADITIONAL BAGUETTE'): 312,\n",
       "  ('FRAISIER', 'TRADITIONAL BAGUETTE'): 139,\n",
       "  ('GD KOUIGN AMANN', 'TRADITIONAL BAGUETTE'): 413,\n",
       "  ('GRAND FAR BRETON', 'TRADITIONAL BAGUETTE'): 757,\n",
       "  ('KOUIGN AMANN', 'PAIN AU CHOCOLAT'): 199,\n",
       "  ('KOUIGN AMANN', 'TRADITIONAL BAGUETTE'): 588,\n",
       "  ('MILLES FEUILLES', 'TARTELETTE'): 198,\n",
       "  ('MILLES FEUILLES', 'TRADITIONAL BAGUETTE'): 320,\n",
       "  ('MOISSON', 'PAIN AU CHOCOLAT'): 139,\n",
       "  ('MOISSON', 'TRADITIONAL BAGUETTE'): 1162,\n",
       "  ('MOISSON', 'VIK BREAD'): 156,\n",
       "  ('NANTAIS', 'TRADITIONAL BAGUETTE'): 163,\n",
       "  ('PAIN AU CHOCOLAT', 'PAIN AUX RAISINS'): 794,\n",
       "  ('PAIN AU CHOCOLAT', 'PAIN CHOCO AMANDES'): 308,\n",
       "  ('PAIN AU CHOCOLAT', 'QUIM BREAD'): 176,\n",
       "  ('PAIN AU CHOCOLAT', 'SPECIAL BREAD'): 229,\n",
       "  ('PAIN AU CHOCOLAT', 'TARTELETTE'): 159,\n",
       "  ('PAIN AU CHOCOLAT', 'TRADITIONAL BAGUETTE'): 4205,\n",
       "  ('PAIN AU CHOCOLAT', 'VIK BREAD'): 200,\n",
       "  ('PAIN AUX RAISINS', 'TRADITIONAL BAGUETTE'): 718,\n",
       "  ('PAIN BANETTE', 'TRADITIONAL BAGUETTE'): 297,\n",
       "  ('PAIN CHOCO AMANDES', 'TRADITIONAL BAGUETTE'): 434,\n",
       "  ('PARIS BREST', 'TARTELETTE'): 306,\n",
       "  ('PARIS BREST', 'TRADITIONAL BAGUETTE'): 420,\n",
       "  ('PT NANTAIS', 'TRADITIONAL BAGUETTE'): 227,\n",
       "  ('QUIM BREAD', 'TRADITIONAL BAGUETTE'): 510,\n",
       "  ('SACHET VIENNOISERIE', 'TRADITIONAL BAGUETTE'): 217,\n",
       "  ('SAND JB EMMENTAL', 'SANDWICH COMPLET'): 267,\n",
       "  ('SAND JB EMMENTAL', 'TRADITIONAL BAGUETTE'): 182,\n",
       "  ('SANDWICH COMPLET', 'TRADITIONAL BAGUETTE'): 271,\n",
       "  ('SAVARIN', 'TRADITIONAL BAGUETTE'): 137,\n",
       "  ('SEIGLE', 'TRADITIONAL BAGUETTE'): 664,\n",
       "  ('SPECIAL BREAD', 'TRADITIONAL BAGUETTE'): 1347,\n",
       "  ('SUCETTE', 'TRADITIONAL BAGUETTE'): 234,\n",
       "  ('TARTE FRUITS 4P', 'TRADITIONAL BAGUETTE'): 152,\n",
       "  ('TARTELETTE', 'TRADITIONAL BAGUETTE'): 1131,\n",
       "  ('TARTELETTE FRAISE', 'TRADITIONAL BAGUETTE'): 199,\n",
       "  ('TRADITIONAL BAGUETTE', 'TRAITEUR'): 308,\n",
       "  ('TRADITIONAL BAGUETTE', 'TROPEZIENNE'): 158,\n",
       "  ('TRADITIONAL BAGUETTE', 'VIK BREAD'): 1599},\n",
       " 3: {('BAGUETTE', 'BOULE 200G', 'COUPE'): 247,\n",
       "  ('BAGUETTE', 'BOULE 400G', 'COUPE'): 395,\n",
       "  ('BAGUETTE', 'CAMPAGNE', 'COUPE'): 296,\n",
       "  ('BAGUETTE', 'COMPLET', 'COUPE'): 160,\n",
       "  ('BAGUETTE', 'COUPE', 'SPECIAL BREAD'): 193,\n",
       "  ('BAGUETTE', 'COUPE', 'TRADITIONAL BAGUETTE'): 265,\n",
       "  ('BAGUETTE', 'CROISSANT', 'PAIN AU CHOCOLAT'): 707,\n",
       "  ('BAGUETTE', 'CROISSANT', 'TRADITIONAL BAGUETTE'): 254,\n",
       "  ('BAGUETTE', 'PAIN AU CHOCOLAT', 'TRADITIONAL BAGUETTE'): 242,\n",
       "  ('BANETTE', 'BOULE 200G', 'COUPE'): 141,\n",
       "  ('BANETTE', 'BOULE 400G', 'COUPE'): 275,\n",
       "  ('BANETTE', 'CAMPAGNE', 'COUPE'): 213,\n",
       "  ('BANETTE', 'COMPLET', 'COUPE'): 164,\n",
       "  ('BANETTE', 'COUPE', 'MOISSON'): 150,\n",
       "  ('BANETTE', 'COUPE', 'SPECIAL BREAD'): 158,\n",
       "  ('BANETTE', 'CROISSANT', 'PAIN AU CHOCOLAT'): 423,\n",
       "  ('BOULE 200G', 'COUPE', 'CROISSANT'): 230,\n",
       "  ('BOULE 200G', 'COUPE', 'TRADITIONAL BAGUETTE'): 516,\n",
       "  ('BOULE 400G', 'COUPE', 'CROISSANT'): 184,\n",
       "  ('BOULE 400G', 'COUPE', 'TRADITIONAL BAGUETTE'): 773,\n",
       "  ('BRIOCHE', 'COUPE', 'TRADITIONAL BAGUETTE'): 148,\n",
       "  ('CAMPAGNE', 'COUPE', 'TRADITIONAL BAGUETTE'): 744,\n",
       "  ('CEREAL BAGUETTE', 'CROISSANT', 'PAIN AU CHOCOLAT'): 290,\n",
       "  ('CHAUSSON AUX POMMES', 'CROISSANT', 'PAIN AU CHOCOLAT'): 229,\n",
       "  ('CHAUSSON AUX POMMES', 'CROISSANT', 'TRADITIONAL BAGUETTE'): 144,\n",
       "  ('CHAUSSON AUX POMMES', 'PAIN AU CHOCOLAT', 'TRADITIONAL BAGUETTE'): 170,\n",
       "  ('COMPLET', 'COUPE', 'TRADITIONAL BAGUETTE'): 838,\n",
       "  ('COOKIE', 'CROISSANT', 'PAIN AU CHOCOLAT'): 172,\n",
       "  ('COOKIE', 'PAIN AU CHOCOLAT', 'TRADITIONAL BAGUETTE'): 140,\n",
       "  ('COUPE', 'CROISSANT', 'PAIN AU CHOCOLAT'): 462,\n",
       "  ('COUPE', 'CROISSANT', 'SPECIAL BREAD'): 213,\n",
       "  ('COUPE', 'CROISSANT', 'TRADITIONAL BAGUETTE'): 365,\n",
       "  ('COUPE', 'CROISSANT', 'VIK BREAD'): 198,\n",
       "  ('COUPE', 'MOISSON', 'TRADITIONAL BAGUETTE'): 803,\n",
       "  ('COUPE', 'PAIN AU CHOCOLAT', 'SPECIAL BREAD'): 161,\n",
       "  ('COUPE', 'PAIN AU CHOCOLAT', 'TRADITIONAL BAGUETTE'): 291,\n",
       "  ('COUPE', 'SEIGLE', 'TRADITIONAL BAGUETTE'): 539,\n",
       "  ('COUPE', 'SPECIAL BREAD', 'TRADITIONAL BAGUETTE'): 741,\n",
       "  ('COUPE', 'TRADITIONAL BAGUETTE', 'VIK BREAD'): 1169,\n",
       "  ('CROISSANT', 'CROISSANT AMANDES', 'PAIN AU CHOCOLAT'): 178,\n",
       "  ('CROISSANT', 'CROISSANT AMANDES', 'TRADITIONAL BAGUETTE'): 140,\n",
       "  ('CROISSANT', 'FICELLE', 'PAIN AU CHOCOLAT'): 186,\n",
       "  ('CROISSANT', 'FICELLE', 'TRADITIONAL BAGUETTE'): 157,\n",
       "  ('CROISSANT', 'PAIN AU CHOCOLAT', 'PAIN AUX RAISINS'): 436,\n",
       "  ('CROISSANT', 'PAIN AU CHOCOLAT', 'TRADITIONAL BAGUETTE'): 2268,\n",
       "  ('CROISSANT', 'PAIN AUX RAISINS', 'TRADITIONAL BAGUETTE'): 284,\n",
       "  ('CROISSANT AMANDES', 'PAIN AU CHOCOLAT', 'TRADITIONAL BAGUETTE'): 156,\n",
       "  ('ECLAIR', 'TARTELETTE', 'TRADITIONAL BAGUETTE'): 196,\n",
       "  ('PAIN AU CHOCOLAT', 'PAIN AUX RAISINS', 'TRADITIONAL BAGUETTE'): 349,\n",
       "  ('PARIS BREST', 'TARTELETTE', 'TRADITIONAL BAGUETTE'): 147},\n",
       " 4: {('BAGUETTE',\n",
       "   'CROISSANT',\n",
       "   'PAIN AU CHOCOLAT',\n",
       "   'TRADITIONAL BAGUETTE'): 161,\n",
       "  ('COUPE', 'CROISSANT', 'PAIN AU CHOCOLAT', 'TRADITIONAL BAGUETTE'): 177,\n",
       "  ('CROISSANT',\n",
       "   'PAIN AU CHOCOLAT',\n",
       "   'PAIN AUX RAISINS',\n",
       "   'TRADITIONAL BAGUETTE'): 194}}"
      ]
     },
     "execution_count": 15,
     "metadata": {},
     "output_type": "execute_result"
    }
   ],
   "source": [
    "frequent_bakery_set"
   ]
  },
  {
   "cell_type": "code",
   "execution_count": 16,
   "metadata": {},
   "outputs": [
    {
     "data": {
      "text/plain": [
       "{1: {('BAGUETTE',): 15273,\n",
       "  ('PAIN AU CHOCOLAT',): 10529,\n",
       "  ('PAIN',): 1917,\n",
       "  ('TRADITIONAL BAGUETTE',): 67535,\n",
       "  ('CROISSANT',): 11446,\n",
       "  ('BANETTE',): 15107,\n",
       "  ('BANETTINE',): 2815,\n",
       "  ('SPECIAL BREAD',): 5182,\n",
       "  ('COUPE',): 19424,\n",
       "  ('SAND JB EMMENTAL',): 1502,\n",
       "  ('KOUIGN AMANN',): 1330,\n",
       "  ('BOULE 200G',): 2685,\n",
       "  ('BOULE 400G',): 4082,\n",
       "  ('CAMPAGNE',): 3892,\n",
       "  ('MOISSON',): 3095,\n",
       "  ('CAFE OU EAU',): 1429,\n",
       "  ('BRIOCHE',): 1656,\n",
       "  ('CEREAL BAGUETTE',): 4950,\n",
       "  ('SEIGLE',): 1325,\n",
       "  ('COMPLET',): 3133,\n",
       "  ('DIVERS PATISSERIE',): 480,\n",
       "  ('GAL FRANGIPANE 4P',): 203,\n",
       "  ('COOKIE',): 1989,\n",
       "  ('FICELLE',): 2644,\n",
       "  ('PAIN AUX RAISINS',): 1986,\n",
       "  ('FINANCIER X5',): 1017,\n",
       "  ('VIK BREAD',): 3126,\n",
       "  ('DIVERS VIENNOISERIE',): 818,\n",
       "  ('SANDWICH COMPLET',): 2205,\n",
       "  ('PAIN BANETTE',): 2725,\n",
       "  ('GRAND FAR BRETON',): 1378,\n",
       "  ('QUIM BREAD',): 1302,\n",
       "  ('SPECIAL BREAD KG',): 460,\n",
       "  ('GD KOUIGN AMANN',): 832,\n",
       "  ('BOULE POLKA',): 502,\n",
       "  ('DEMI BAGUETTE',): 1144,\n",
       "  ('CHAUSSON AUX POMMES',): 1440,\n",
       "  ('BAGUETTE GRAINE',): 1500,\n",
       "  ('DIVERS CONFISERIE',): 471,\n",
       "  ('SUCETTE',): 523,\n",
       "  ('DIVERS BOULANGERIE',): 311,\n",
       "  ('BOISSON 33CL',): 1468,\n",
       "  ('FORMULE SANDWICH',): 4180,\n",
       "  ('DIVERS SANDWICHS',): 234,\n",
       "  ('CROISSANT AMANDES',): 1802,\n",
       "  ('PAIN CHOCO AMANDES',): 1482,\n",
       "  ('SACHET VIENNOISERIE',): 497,\n",
       "  ('NANTAIS',): 389,\n",
       "  ('FONDANT CHOCOLAT',): 218,\n",
       "  ('GRANDE SUCETTE',): 192,\n",
       "  ('DEMI PAIN',): 163,\n",
       "  ('TARTELETTE',): 2830,\n",
       "  ('FLAN',): 830,\n",
       "  ('PARIS BREST',): 913,\n",
       "  ('SAVARIN',): 337,\n",
       "  ('FLAN ABRICOT',): 568,\n",
       "  ('MILLES FEUILLES',): 764,\n",
       "  ('CHOU CHANTILLY',): 205,\n",
       "  ('ECLAIR',): 2002,\n",
       "  ('TARTE FRUITS 6P',): 272,\n",
       "  ('TARTE FRUITS 4P',): 358,\n",
       "  ('NOIX JAPONAISE',): 334,\n",
       "  ('GD FAR BRETON',): 161,\n",
       "  ('TROPEZIENNE',): 357,\n",
       "  ('ROYAL',): 174,\n",
       "  ('TARTELETTE FRAISE',): 488,\n",
       "  ('TARTE FRAISE 4PER',): 149,\n",
       "  ('FRAISIER',): 355,\n",
       "  ('VIENNOISE',): 183,\n",
       "  ('TRAITEUR',): 1126,\n",
       "  ('PT NANTAIS',): 476,\n",
       "  ('PLAT 7.60E',): 244,\n",
       "  ('PALET BRETON',): 154},\n",
       " 2: {('BAGUETTE', 'BANETTE'): 894,\n",
       "  ('BAGUETTE', 'BANETTINE'): 182,\n",
       "  ('BAGUETTE', 'BOULE 200G'): 270,\n",
       "  ('BAGUETTE', 'BOULE 400G'): 441,\n",
       "  ('BAGUETTE', 'CAMPAGNE'): 313,\n",
       "  ('BAGUETTE', 'CEREAL BAGUETTE'): 244,\n",
       "  ('BAGUETTE', 'CHAUSSON AUX POMMES'): 143,\n",
       "  ('BAGUETTE', 'COMPLET'): 226,\n",
       "  ('BAGUETTE', 'COUPE'): 1538,\n",
       "  ('BAGUETTE', 'CROISSANT'): 1472,\n",
       "  ('BAGUETTE', 'DEMI BAGUETTE'): 193,\n",
       "  ('BAGUETTE', 'ECLAIR'): 182,\n",
       "  ('BAGUETTE', 'FICELLE'): 316,\n",
       "  ('BAGUETTE', 'PAIN AU CHOCOLAT'): 1198,\n",
       "  ('BAGUETTE', 'PAIN BANETTE'): 167,\n",
       "  ('BAGUETTE', 'SPECIAL BREAD'): 246,\n",
       "  ('BAGUETTE', 'TARTELETTE'): 197,\n",
       "  ('BAGUETTE', 'TRADITIONAL BAGUETTE'): 2037,\n",
       "  ('BAGUETTE GRAINE', 'CEREAL BAGUETTE'): 149,\n",
       "  ('BAGUETTE GRAINE', 'COUPE'): 227,\n",
       "  ('BAGUETTE GRAINE', 'CROISSANT'): 146,\n",
       "  ('BAGUETTE GRAINE', 'PAIN AU CHOCOLAT'): 151,\n",
       "  ('BAGUETTE GRAINE', 'TRADITIONAL BAGUETTE'): 511,\n",
       "  ('BANETTE', 'BANETTINE'): 270,\n",
       "  ('BANETTE', 'BOULE 200G'): 170,\n",
       "  ('BANETTE', 'BOULE 400G'): 318,\n",
       "  ('BANETTE', 'BRIOCHE'): 140,\n",
       "  ('BANETTE', 'CAMPAGNE'): 249,\n",
       "  ('BANETTE', 'CEREAL BAGUETTE'): 189,\n",
       "  ('BANETTE', 'COMPLET'): 230,\n",
       "  ('BANETTE', 'COUPE'): 1271,\n",
       "  ('BANETTE', 'CROISSANT'): 961,\n",
       "  ('BANETTE', 'ECLAIR'): 154,\n",
       "  ('BANETTE', 'FICELLE'): 302,\n",
       "  ('BANETTE', 'MOISSON'): 217,\n",
       "  ('BANETTE', 'PAIN AU CHOCOLAT'): 731,\n",
       "  ('BANETTE', 'PAIN AUX RAISINS'): 148,\n",
       "  ('BANETTE', 'PAIN BANETTE'): 181,\n",
       "  ('BANETTE', 'SPECIAL BREAD'): 250,\n",
       "  ('BANETTE', 'TARTELETTE'): 247,\n",
       "  ('BANETTE', 'TRADITIONAL BAGUETTE'): 1222,\n",
       "  ('BANETTE', 'VIK BREAD'): 204,\n",
       "  ('BANETTINE', 'COUPE'): 313,\n",
       "  ('BANETTINE', 'CROISSANT'): 179,\n",
       "  ('BANETTINE', 'FICELLE'): 240,\n",
       "  ('BANETTINE', 'TRADITIONAL BAGUETTE'): 702,\n",
       "  ('BOISSON 33CL', 'CROISSANT'): 157,\n",
       "  ('BOISSON 33CL', 'PAIN AU CHOCOLAT'): 279,\n",
       "  ('BOISSON 33CL', 'SAND JB EMMENTAL'): 163,\n",
       "  ('BOISSON 33CL', 'SANDWICH COMPLET'): 170,\n",
       "  ('BOISSON 33CL', 'TRADITIONAL BAGUETTE'): 170,\n",
       "  ('BOISSON 33CL', 'TRAITEUR'): 157,\n",
       "  ('BOULE 200G', 'COUPE'): 2385,\n",
       "  ('BOULE 200G', 'CROISSANT'): 245,\n",
       "  ('BOULE 200G', 'TRADITIONAL BAGUETTE'): 568,\n",
       "  ('BOULE 400G', 'COUPE'): 3242,\n",
       "  ('BOULE 400G', 'CROISSANT'): 204,\n",
       "  ('BOULE 400G', 'PAIN AU CHOCOLAT'): 145,\n",
       "  ('BOULE 400G', 'TRADITIONAL BAGUETTE'): 970,\n",
       "  ('BOULE POLKA', 'COUPE'): 386,\n",
       "  ('BRIOCHE', 'COUPE'): 369,\n",
       "  ('BRIOCHE', 'CROISSANT'): 245,\n",
       "  ('BRIOCHE', 'PAIN AU CHOCOLAT'): 182,\n",
       "  ('BRIOCHE', 'TRADITIONAL BAGUETTE'): 872,\n",
       "  ('CAFE OU EAU', 'CROISSANT'): 266,\n",
       "  ('CAFE OU EAU', 'PAIN AU CHOCOLAT'): 304,\n",
       "  ('CAMPAGNE', 'COUPE'): 3112,\n",
       "  ('CAMPAGNE', 'CROISSANT'): 164,\n",
       "  ('CAMPAGNE', 'PAIN AU CHOCOLAT'): 151,\n",
       "  ('CAMPAGNE', 'TRADITIONAL BAGUETTE'): 935,\n",
       "  ('CEREAL BAGUETTE', 'COUPE'): 575,\n",
       "  ('CEREAL BAGUETTE', 'CROISSANT'): 497,\n",
       "  ('CEREAL BAGUETTE', 'PAIN AU CHOCOLAT'): 437,\n",
       "  ('CEREAL BAGUETTE', 'TRADITIONAL BAGUETTE'): 596,\n",
       "  ('CEREAL BAGUETTE', 'VIK BREAD'): 141,\n",
       "  ('CHAUSSON AUX POMMES', 'CROISSANT'): 365,\n",
       "  ('CHAUSSON AUX POMMES', 'PAIN AU CHOCOLAT'): 474,\n",
       "  ('CHAUSSON AUX POMMES', 'PAIN AUX RAISINS'): 209,\n",
       "  ('CHAUSSON AUX POMMES', 'TRADITIONAL BAGUETTE'): 517,\n",
       "  ('COMPLET', 'COUPE'): 2314,\n",
       "  ('COMPLET', 'CROISSANT'): 191,\n",
       "  ('COMPLET', 'PAIN AU CHOCOLAT'): 149,\n",
       "  ('COMPLET', 'TRADITIONAL BAGUETTE'): 1144,\n",
       "  ('COOKIE', 'COUPE'): 196,\n",
       "  ('COOKIE', 'CROISSANT'): 318,\n",
       "  ('COOKIE', 'PAIN AU CHOCOLAT'): 420,\n",
       "  ('COOKIE', 'QUIM BREAD'): 192,\n",
       "  ('COOKIE', 'TRADITIONAL BAGUETTE'): 708,\n",
       "  ('COUPE', 'CROISSANT'): 1196,\n",
       "  ('COUPE', 'CROISSANT AMANDES'): 154,\n",
       "  ('COUPE', 'DIVERS VIENNOISERIE'): 160,\n",
       "  ('COUPE', 'ECLAIR'): 297,\n",
       "  ('COUPE', 'FICELLE'): 363,\n",
       "  ('COUPE', 'FINANCIER X5'): 184,\n",
       "  ('COUPE', 'GRAND FAR BRETON'): 245,\n",
       "  ('COUPE', 'KOUIGN AMANN'): 141,\n",
       "  ('COUPE', 'MOISSON'): 2208,\n",
       "  ('COUPE', 'PAIN AU CHOCOLAT'): 823,\n",
       "  ('COUPE', 'PAIN AUX RAISINS'): 220,\n",
       "  ('COUPE', 'PAIN BANETTE'): 219,\n",
       "  ('COUPE', 'QUIM BREAD'): 168,\n",
       "  ('COUPE', 'SEIGLE'): 1067,\n",
       "  ('COUPE', 'SPECIAL BREAD'): 3049,\n",
       "  ('COUPE', 'SPECIAL BREAD KG'): 244,\n",
       "  ('COUPE', 'TARTELETTE'): 414,\n",
       "  ('COUPE', 'TRADITIONAL BAGUETTE'): 6116,\n",
       "  ('COUPE', 'VIK BREAD'): 2294,\n",
       "  ('CROISSANT', 'CROISSANT AMANDES'): 305,\n",
       "  ('CROISSANT', 'FICELLE'): 517,\n",
       "  ('CROISSANT', 'KOUIGN AMANN'): 172,\n",
       "  ('CROISSANT', 'MOISSON'): 170,\n",
       "  ('CROISSANT', 'PAIN AU CHOCOLAT'): 5394,\n",
       "  ('CROISSANT', 'PAIN AUX RAISINS'): 761,\n",
       "  ('CROISSANT', 'PAIN CHOCO AMANDES'): 232,\n",
       "  ('CROISSANT', 'QUIM BREAD'): 138,\n",
       "  ('CROISSANT', 'SPECIAL BREAD'): 319,\n",
       "  ('CROISSANT', 'TARTELETTE'): 157,\n",
       "  ('CROISSANT', 'TRADITIONAL BAGUETTE'): 4927,\n",
       "  ('CROISSANT', 'VIK BREAD'): 287,\n",
       "  ('CROISSANT AMANDES', 'PAIN AU CHOCOLAT'): 365,\n",
       "  ('CROISSANT AMANDES', 'PAIN CHOCO AMANDES'): 220,\n",
       "  ('CROISSANT AMANDES', 'TRADITIONAL BAGUETTE'): 657,\n",
       "  ('DEMI BAGUETTE', 'TRADITIONAL BAGUETTE'): 263,\n",
       "  ('DIVERS CONFISERIE', 'TRADITIONAL BAGUETTE'): 185,\n",
       "  ('DIVERS PATISSERIE', 'TRADITIONAL BAGUETTE'): 185,\n",
       "  ('DIVERS VIENNOISERIE', 'TRADITIONAL BAGUETTE'): 343,\n",
       "  ('ECLAIR', 'MILLES FEUILLES'): 149,\n",
       "  ('ECLAIR', 'PAIN AU CHOCOLAT'): 174,\n",
       "  ('ECLAIR', 'PARIS BREST'): 182,\n",
       "  ('ECLAIR', 'TARTELETTE'): 437,\n",
       "  ('ECLAIR', 'TRADITIONAL BAGUETTE'): 867,\n",
       "  ('FICELLE', 'PAIN AU CHOCOLAT'): 300,\n",
       "  ('FICELLE', 'TRADITIONAL BAGUETTE'): 698,\n",
       "  ('FINANCIER X5', 'TRADITIONAL BAGUETTE'): 437,\n",
       "  ('FLAN', 'TARTELETTE'): 174,\n",
       "  ('FLAN', 'TRADITIONAL BAGUETTE'): 367,\n",
       "  ('FLAN ABRICOT', 'TRADITIONAL BAGUETTE'): 212,\n",
       "  ('FORMULE SANDWICH', 'PAIN AU CHOCOLAT'): 146,\n",
       "  ('FORMULE SANDWICH', 'TRADITIONAL BAGUETTE'): 312,\n",
       "  ('FRAISIER', 'TRADITIONAL BAGUETTE'): 139,\n",
       "  ('GD KOUIGN AMANN', 'TRADITIONAL BAGUETTE'): 413,\n",
       "  ('GRAND FAR BRETON', 'TRADITIONAL BAGUETTE'): 757,\n",
       "  ('KOUIGN AMANN', 'PAIN AU CHOCOLAT'): 199,\n",
       "  ('KOUIGN AMANN', 'TRADITIONAL BAGUETTE'): 588,\n",
       "  ('MILLES FEUILLES', 'TARTELETTE'): 198,\n",
       "  ('MILLES FEUILLES', 'TRADITIONAL BAGUETTE'): 320,\n",
       "  ('MOISSON', 'PAIN AU CHOCOLAT'): 139,\n",
       "  ('MOISSON', 'TRADITIONAL BAGUETTE'): 1162,\n",
       "  ('MOISSON', 'VIK BREAD'): 156,\n",
       "  ('NANTAIS', 'TRADITIONAL BAGUETTE'): 163,\n",
       "  ('PAIN AU CHOCOLAT', 'PAIN AUX RAISINS'): 794,\n",
       "  ('PAIN AU CHOCOLAT', 'PAIN CHOCO AMANDES'): 308,\n",
       "  ('PAIN AU CHOCOLAT', 'QUIM BREAD'): 176,\n",
       "  ('PAIN AU CHOCOLAT', 'SPECIAL BREAD'): 229,\n",
       "  ('PAIN AU CHOCOLAT', 'TARTELETTE'): 159,\n",
       "  ('PAIN AU CHOCOLAT', 'TRADITIONAL BAGUETTE'): 4205,\n",
       "  ('PAIN AU CHOCOLAT', 'VIK BREAD'): 200,\n",
       "  ('PAIN AUX RAISINS', 'TRADITIONAL BAGUETTE'): 718,\n",
       "  ('PAIN BANETTE', 'TRADITIONAL BAGUETTE'): 297,\n",
       "  ('PAIN CHOCO AMANDES', 'TRADITIONAL BAGUETTE'): 434,\n",
       "  ('PARIS BREST', 'TARTELETTE'): 306,\n",
       "  ('PARIS BREST', 'TRADITIONAL BAGUETTE'): 420,\n",
       "  ('PT NANTAIS', 'TRADITIONAL BAGUETTE'): 227,\n",
       "  ('QUIM BREAD', 'TRADITIONAL BAGUETTE'): 510,\n",
       "  ('SACHET VIENNOISERIE', 'TRADITIONAL BAGUETTE'): 217,\n",
       "  ('SAND JB EMMENTAL', 'SANDWICH COMPLET'): 267,\n",
       "  ('SAND JB EMMENTAL', 'TRADITIONAL BAGUETTE'): 182,\n",
       "  ('SANDWICH COMPLET', 'TRADITIONAL BAGUETTE'): 271,\n",
       "  ('SAVARIN', 'TRADITIONAL BAGUETTE'): 137,\n",
       "  ('SEIGLE', 'TRADITIONAL BAGUETTE'): 664,\n",
       "  ('SPECIAL BREAD', 'TRADITIONAL BAGUETTE'): 1347,\n",
       "  ('SUCETTE', 'TRADITIONAL BAGUETTE'): 234,\n",
       "  ('TARTE FRUITS 4P', 'TRADITIONAL BAGUETTE'): 152,\n",
       "  ('TARTELETTE', 'TRADITIONAL BAGUETTE'): 1131,\n",
       "  ('TARTELETTE FRAISE', 'TRADITIONAL BAGUETTE'): 199,\n",
       "  ('TRADITIONAL BAGUETTE', 'TRAITEUR'): 308,\n",
       "  ('TRADITIONAL BAGUETTE', 'TROPEZIENNE'): 158,\n",
       "  ('TRADITIONAL BAGUETTE', 'VIK BREAD'): 1599},\n",
       " 3: {('BAGUETTE', 'BOULE 200G', 'COUPE'): 247,\n",
       "  ('BAGUETTE', 'BOULE 400G', 'COUPE'): 395,\n",
       "  ('BAGUETTE', 'CAMPAGNE', 'COUPE'): 296,\n",
       "  ('BAGUETTE', 'COMPLET', 'COUPE'): 160,\n",
       "  ('BAGUETTE', 'COUPE', 'SPECIAL BREAD'): 193,\n",
       "  ('BAGUETTE', 'COUPE', 'TRADITIONAL BAGUETTE'): 265,\n",
       "  ('BAGUETTE', 'CROISSANT', 'PAIN AU CHOCOLAT'): 707,\n",
       "  ('BAGUETTE', 'CROISSANT', 'TRADITIONAL BAGUETTE'): 254,\n",
       "  ('BAGUETTE', 'PAIN AU CHOCOLAT', 'TRADITIONAL BAGUETTE'): 242,\n",
       "  ('BANETTE', 'BOULE 200G', 'COUPE'): 141,\n",
       "  ('BANETTE', 'BOULE 400G', 'COUPE'): 275,\n",
       "  ('BANETTE', 'CAMPAGNE', 'COUPE'): 213,\n",
       "  ('BANETTE', 'COMPLET', 'COUPE'): 164,\n",
       "  ('BANETTE', 'COUPE', 'MOISSON'): 150,\n",
       "  ('BANETTE', 'COUPE', 'SPECIAL BREAD'): 158,\n",
       "  ('BANETTE', 'CROISSANT', 'PAIN AU CHOCOLAT'): 423,\n",
       "  ('BOULE 200G', 'COUPE', 'CROISSANT'): 230,\n",
       "  ('BOULE 200G', 'COUPE', 'TRADITIONAL BAGUETTE'): 516,\n",
       "  ('BOULE 400G', 'COUPE', 'CROISSANT'): 184,\n",
       "  ('BOULE 400G', 'COUPE', 'TRADITIONAL BAGUETTE'): 773,\n",
       "  ('BRIOCHE', 'COUPE', 'TRADITIONAL BAGUETTE'): 148,\n",
       "  ('CAMPAGNE', 'COUPE', 'TRADITIONAL BAGUETTE'): 744,\n",
       "  ('CEREAL BAGUETTE', 'CROISSANT', 'PAIN AU CHOCOLAT'): 290,\n",
       "  ('CHAUSSON AUX POMMES', 'CROISSANT', 'PAIN AU CHOCOLAT'): 229,\n",
       "  ('CHAUSSON AUX POMMES', 'CROISSANT', 'TRADITIONAL BAGUETTE'): 144,\n",
       "  ('CHAUSSON AUX POMMES', 'PAIN AU CHOCOLAT', 'TRADITIONAL BAGUETTE'): 170,\n",
       "  ('COMPLET', 'COUPE', 'TRADITIONAL BAGUETTE'): 838,\n",
       "  ('COOKIE', 'CROISSANT', 'PAIN AU CHOCOLAT'): 172,\n",
       "  ('COOKIE', 'PAIN AU CHOCOLAT', 'TRADITIONAL BAGUETTE'): 140,\n",
       "  ('COUPE', 'CROISSANT', 'PAIN AU CHOCOLAT'): 462,\n",
       "  ('COUPE', 'CROISSANT', 'SPECIAL BREAD'): 213,\n",
       "  ('COUPE', 'CROISSANT', 'TRADITIONAL BAGUETTE'): 365,\n",
       "  ('COUPE', 'CROISSANT', 'VIK BREAD'): 198,\n",
       "  ('COUPE', 'MOISSON', 'TRADITIONAL BAGUETTE'): 803,\n",
       "  ('COUPE', 'PAIN AU CHOCOLAT', 'SPECIAL BREAD'): 161,\n",
       "  ('COUPE', 'PAIN AU CHOCOLAT', 'TRADITIONAL BAGUETTE'): 291,\n",
       "  ('COUPE', 'SEIGLE', 'TRADITIONAL BAGUETTE'): 539,\n",
       "  ('COUPE', 'SPECIAL BREAD', 'TRADITIONAL BAGUETTE'): 741,\n",
       "  ('COUPE', 'TRADITIONAL BAGUETTE', 'VIK BREAD'): 1169,\n",
       "  ('CROISSANT', 'CROISSANT AMANDES', 'PAIN AU CHOCOLAT'): 178,\n",
       "  ('CROISSANT', 'CROISSANT AMANDES', 'TRADITIONAL BAGUETTE'): 140,\n",
       "  ('CROISSANT', 'FICELLE', 'PAIN AU CHOCOLAT'): 186,\n",
       "  ('CROISSANT', 'FICELLE', 'TRADITIONAL BAGUETTE'): 157,\n",
       "  ('CROISSANT', 'PAIN AU CHOCOLAT', 'PAIN AUX RAISINS'): 436,\n",
       "  ('CROISSANT', 'PAIN AU CHOCOLAT', 'TRADITIONAL BAGUETTE'): 2268,\n",
       "  ('CROISSANT', 'PAIN AUX RAISINS', 'TRADITIONAL BAGUETTE'): 284,\n",
       "  ('CROISSANT AMANDES', 'PAIN AU CHOCOLAT', 'TRADITIONAL BAGUETTE'): 156,\n",
       "  ('ECLAIR', 'TARTELETTE', 'TRADITIONAL BAGUETTE'): 196,\n",
       "  ('PAIN AU CHOCOLAT', 'PAIN AUX RAISINS', 'TRADITIONAL BAGUETTE'): 349,\n",
       "  ('PARIS BREST', 'TARTELETTE', 'TRADITIONAL BAGUETTE'): 147},\n",
       " 4: {('BAGUETTE',\n",
       "   'CROISSANT',\n",
       "   'PAIN AU CHOCOLAT',\n",
       "   'TRADITIONAL BAGUETTE'): 161,\n",
       "  ('COUPE', 'CROISSANT', 'PAIN AU CHOCOLAT', 'TRADITIONAL BAGUETTE'): 177,\n",
       "  ('CROISSANT',\n",
       "   'PAIN AU CHOCOLAT',\n",
       "   'PAIN AUX RAISINS',\n",
       "   'TRADITIONAL BAGUETTE'): 194}}"
      ]
     },
     "execution_count": 16,
     "metadata": {},
     "output_type": "execute_result"
    }
   ],
   "source": [
    "itemset"
   ]
  }
 ],
 "metadata": {
  "kernelspec": {
   "display_name": "Python 3 (ipykernel)",
   "language": "python",
   "name": "python3"
  },
  "language_info": {
   "codemirror_mode": {
    "name": "ipython",
    "version": 3
   },
   "file_extension": ".py",
   "mimetype": "text/x-python",
   "name": "python",
   "nbconvert_exporter": "python",
   "pygments_lexer": "ipython3",
   "version": "3.8.17"
  }
 },
 "nbformat": 4,
 "nbformat_minor": 2
}
