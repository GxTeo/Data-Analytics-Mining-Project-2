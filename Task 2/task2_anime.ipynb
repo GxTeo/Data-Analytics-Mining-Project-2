{
 "cells": [
  {
   "cell_type": "code",
   "execution_count": 1,
   "metadata": {},
   "outputs": [],
   "source": [
    "import pandas as pd\n",
    "import numpy as np\n",
    "import matplotlib as plt\n",
    "import sys\n",
    "sys.path.append('../Task 1/')\n",
    "from efficient_apriori import apriori\n",
    "from improved_apriori import Improved_Apriori\n",
    "import json\n",
    "import time\n",
    "import os\n",
    "import itertools\n",
    "import ast\n",
    "from tqdm import tqdm\n",
    "import collections\n",
    "import math\n",
    "import random"
   ]
  },
  {
   "cell_type": "code",
   "execution_count": 2,
   "metadata": {},
   "outputs": [],
   "source": [
    "# Process the dataset by chunks into username and the list of animes the user watched\n",
    "def process_anime_chunk(df, carry_over):\n",
    "    if carry_over is not None:\n",
    "        df = pd.concat([carry_over, df])\n",
    "    groups = df.groupby('username')['title'].apply(list)\n",
    "    last_user = df.iloc[-1]['username']\n",
    "    if last_user in groups:\n",
    "        carry_over = df[df['username'] == last_user]\n",
    "        groups = groups.drop(last_user)\n",
    "    else:\n",
    "        carry_over = None\n",
    "    return groups, carry_over"
   ]
  },
  {
   "cell_type": "code",
   "execution_count": 3,
   "metadata": {},
   "outputs": [],
   "source": [
    "carry_over = None\n",
    "chunksize = 100000 # adjust this value depending on your available memory\n",
    "# Might have to figure out a way to shuffle the dataset \n",
    "if(not os.path.exists('dataset/processed_anime_output.txt')):\n",
    "    with open('dataset/processed_anime_output.txt', 'w') as f:\n",
    "        for chunk in pd.read_csv('dataset/final_animedataset.csv', chunksize=chunksize):\n",
    "            groups, carry_over = process_anime_chunk(chunk, carry_over)\n",
    "            for user, anime_list in groups.items():\n",
    "                f.write(f'{user} {anime_list}\\n')\n",
    "\n",
    "        # don't forget to process the last carry_over\n",
    "        if carry_over is not None:\n",
    "            groups, _ = process_anime_chunk(carry_over, None)\n",
    "            for user, anime_list in groups.items():\n",
    "                f.write(f'{user} {anime_list}\\n')"
   ]
  },
  {
   "cell_type": "code",
   "execution_count": 4,
   "metadata": {},
   "outputs": [],
   "source": [
    "# Shuffle the text in chunks \n",
    "def shuffle_large_file(file_name, output_file_name, chunk_size):\n",
    "    with open(file_name, 'r') as f:\n",
    "        while True:\n",
    "            lines = list(itertools.islice(f, chunk_size))\n",
    "            if not lines:\n",
    "                break\n",
    "            random.shuffle(lines)\n",
    "            with open(output_file_name, 'a') as out:\n",
    "                out.write(''.join(lines))\n",
    "\n",
    "\n",
    "# Call the function with your parameters\n",
    "if(not os.path.exists('dataset/processed_anime_output_shuffled.txt')):\n",
    "    shuffle_large_file('dataset/processed_anime_output.txt', 'dataset/processed_anime_output_shuffled.txt', 3000000)"
   ]
  },
  {
   "cell_type": "code",
   "execution_count": 5,
   "metadata": {},
   "outputs": [],
   "source": [
    "def read_file_in_partitions(file_path, partition_size):\n",
    "    with open(file_path, 'r') as file:\n",
    "        partition = []\n",
    "        for line in file:\n",
    "            partition.append(line)\n",
    "            if len(partition) >= partition_size:\n",
    "                yield partition\n",
    "                partition = []\n",
    "        if partition:  # yield any remaining lines\n",
    "            yield partition"
   ]
  },
  {
   "cell_type": "code",
   "execution_count": 6,
   "metadata": {},
   "outputs": [],
   "source": [
    "# Global variable to get the counts of all itemsets\n",
    "global_counts = {}\n",
    "def generate_global_counts(partition, global_candidates):\n",
    "\n",
    "    # For 1th itemset, generate the transaction id list for the ith partition \n",
    "    transaction_id_dict = collections.defaultdict(list)\n",
    "    for transaction_id in partition:\n",
    "        for item in partition[transaction_id]:\n",
    "            item_tuple = (item,)\n",
    "            transaction_id_dict[item_tuple].append(transaction_id)\n",
    "\n",
    "    # Filter based on the global candidates formed\n",
    "    transaction_ids_dict = {item: transaction_ids for item, transaction_ids in transaction_id_dict.items() if item in global_candidates[1]}\n",
    "\n",
    "    # Get the global count of all 1th itemset\n",
    "    for item in transaction_id_dict:\n",
    "        if(len(item) not in global_counts):\n",
    "            global_counts[len(item)] = {}\n",
    "        if(item not in global_counts[len(item)]):\n",
    "            global_counts[len(item)][item] = len(transaction_id_dict[item])\n",
    "        else:\n",
    "            global_counts[len(item)][item] += len(transaction_id_dict[item])\n",
    "\n",
    "    # Extend to find global count of all nth itemset from the global candidates\n",
    "    for i in tqdm(range(1, len(global_candidates))):\n",
    "        for itemset in global_candidates[i+1]:\n",
    "            transaction_ids = set(transaction_id_dict[(itemset[0],)])\n",
    "            for i in range(1, len(itemset)):\n",
    "                # We are only interested in the transactions where all items in itemset is present\n",
    "                transaction_ids = transaction_ids.intersection(set(transaction_ids_dict.get((itemset[i],), {})))\n",
    "            if(len(itemset) not in global_counts):\n",
    "                global_counts[len(itemset)] = {}\n",
    "\n",
    "            if(itemset not in global_counts[len(itemset)]):\n",
    "                global_counts[len(itemset)][itemset] = len(transaction_ids)\n",
    "            else:\n",
    "                global_counts[len(itemset)][itemset] += len(transaction_ids)\n",
    "\n"
   ]
  },
  {
   "cell_type": "code",
   "execution_count": 7,
   "metadata": {},
   "outputs": [
    {
     "name": "stdout",
     "output_type": "stream",
     "text": [
      "11\n",
      "Partition 1:\n"
     ]
    },
    {
     "name": "stderr",
     "output_type": "stream",
     "text": [
      "100%|██████████| 36315/36315 [00:14<00:00, 2501.75it/s]\n",
      "100%|██████████| 68582/68582 [01:02<00:00, 1091.33it/s]\n",
      "100%|██████████| 72529/72529 [01:47<00:00, 672.88it/s]\n",
      "100%|██████████| 38495/38495 [01:24<00:00, 455.68it/s]\n",
      "100%|██████████| 8633/8633 [00:25<00:00, 339.62it/s]\n",
      "100%|██████████| 605/605 [00:02<00:00, 281.91it/s]\n",
      "100%|██████████| 6/6 [00:00<00:00, 256.45it/s]\n"
     ]
    },
    {
     "name": "stdout",
     "output_type": "stream",
     "text": [
      "Partition 2:\n"
     ]
    },
    {
     "name": "stderr",
     "output_type": "stream",
     "text": [
      "100%|██████████| 39340/39340 [00:15<00:00, 2481.97it/s]\n",
      "100%|██████████| 76054/76054 [01:19<00:00, 958.78it/s] \n",
      "100%|██████████| 85345/85345 [02:09<00:00, 661.09it/s]\n",
      "100%|██████████| 50329/50329 [01:47<00:00, 466.10it/s]\n",
      "100%|██████████| 14263/14263 [00:38<00:00, 369.65it/s]\n",
      "100%|██████████| 1602/1602 [00:05<00:00, 304.86it/s]\n",
      "100%|██████████| 42/42 [00:00<00:00, 256.21it/s]\n",
      "0it [00:00, ?it/s]\n"
     ]
    },
    {
     "name": "stdout",
     "output_type": "stream",
     "text": [
      "Partition 3:\n"
     ]
    },
    {
     "name": "stderr",
     "output_type": "stream",
     "text": [
      "100%|██████████| 40186/40186 [00:16<00:00, 2507.70it/s]\n",
      "100%|██████████| 79851/79851 [01:20<00:00, 992.66it/s] \n",
      "100%|██████████| 91010/91010 [02:23<00:00, 632.39it/s]\n",
      "100%|██████████| 54081/54081 [01:54<00:00, 473.21it/s]\n",
      "100%|██████████| 15098/15098 [00:43<00:00, 350.63it/s]\n",
      "100%|██████████| 1549/1549 [00:05<00:00, 309.33it/s]\n",
      "100%|██████████| 39/39 [00:00<00:00, 253.37it/s]\n",
      "0it [00:00, ?it/s]\n"
     ]
    },
    {
     "name": "stdout",
     "output_type": "stream",
     "text": [
      "Partition 4:\n"
     ]
    },
    {
     "name": "stderr",
     "output_type": "stream",
     "text": [
      "100%|██████████| 39340/39340 [00:15<00:00, 2556.59it/s]\n",
      "100%|██████████| 75618/75618 [01:13<00:00, 1023.32it/s]\n",
      "100%|██████████| 84700/84700 [02:13<00:00, 633.90it/s]\n",
      "100%|██████████| 50276/50276 [01:48<00:00, 463.33it/s]\n",
      "100%|██████████| 13736/13736 [00:38<00:00, 354.13it/s]\n",
      "100%|██████████| 1406/1406 [00:04<00:00, 307.02it/s]\n",
      "100%|██████████| 31/31 [00:00<00:00, 253.60it/s]\n",
      "0it [00:00, ?it/s]\n"
     ]
    },
    {
     "name": "stdout",
     "output_type": "stream",
     "text": [
      "Partition 5:\n"
     ]
    },
    {
     "name": "stderr",
     "output_type": "stream",
     "text": [
      "100%|██████████| 42486/42486 [00:16<00:00, 2543.35it/s]\n",
      "100%|██████████| 85320/85320 [01:20<00:00, 1056.75it/s]\n",
      "100%|██████████| 101381/101381 [02:37<00:00, 643.68it/s]\n",
      "100%|██████████| 63695/63695 [02:13<00:00, 476.40it/s]\n",
      "100%|██████████| 19061/19061 [00:49<00:00, 382.70it/s]\n",
      "100%|██████████| 2252/2252 [00:08<00:00, 273.93it/s]\n",
      "100%|██████████| 61/61 [00:00<00:00, 240.93it/s]\n",
      "0it [00:00, ?it/s]\n"
     ]
    },
    {
     "name": "stdout",
     "output_type": "stream",
     "text": [
      "Partition 6:\n"
     ]
    },
    {
     "name": "stderr",
     "output_type": "stream",
     "text": [
      "100%|██████████| 38781/38781 [00:16<00:00, 2378.38it/s]\n",
      "100%|██████████| 74159/74159 [01:13<00:00, 1007.99it/s]\n",
      "100%|██████████| 81287/81287 [02:01<00:00, 667.70it/s]\n",
      "100%|██████████| 46639/46639 [01:36<00:00, 485.60it/s]\n",
      "100%|██████████| 12762/12762 [00:33<00:00, 378.85it/s]\n",
      "100%|██████████| 1377/1377 [00:05<00:00, 264.73it/s]\n",
      "100%|██████████| 29/29 [00:00<00:00, 264.87it/s]\n",
      "0it [00:00, ?it/s]\n"
     ]
    },
    {
     "name": "stdout",
     "output_type": "stream",
     "text": [
      "Partition 7:\n"
     ]
    },
    {
     "name": "stderr",
     "output_type": "stream",
     "text": [
      "100%|██████████| 39340/39340 [00:14<00:00, 2622.67it/s]\n",
      "100%|██████████| 70892/70892 [01:09<00:00, 1014.78it/s]\n",
      "100%|██████████| 76118/76118 [01:58<00:00, 641.65it/s]\n",
      "100%|██████████| 42094/42094 [01:28<00:00, 473.86it/s]\n",
      "100%|██████████| 10084/10084 [00:27<00:00, 364.34it/s]\n",
      "100%|██████████| 811/811 [00:02<00:00, 289.78it/s]\n",
      "100%|██████████| 13/13 [00:00<00:00, 267.64it/s]\n",
      "0it [00:00, ?it/s]\n"
     ]
    },
    {
     "name": "stdout",
     "output_type": "stream",
     "text": [
      "Partition 8:\n"
     ]
    },
    {
     "name": "stderr",
     "output_type": "stream",
     "text": [
      "100%|██████████| 39903/39903 [00:15<00:00, 2535.59it/s]\n",
      "100%|██████████| 72128/72128 [01:10<00:00, 1019.93it/s]\n",
      "100%|██████████| 76227/76227 [02:11<00:00, 581.18it/s]\n",
      "100%|██████████| 39665/39665 [02:09<00:00, 305.78it/s]\n",
      "100%|██████████| 9002/9002 [00:35<00:00, 253.04it/s]\n",
      "100%|██████████| 686/686 [00:03<00:00, 224.58it/s]\n",
      "100%|██████████| 6/6 [00:00<00:00, 198.54it/s]\n"
     ]
    },
    {
     "name": "stdout",
     "output_type": "stream",
     "text": [
      "Partition 9:\n"
     ]
    },
    {
     "name": "stderr",
     "output_type": "stream",
     "text": [
      "100%|██████████| 37950/37950 [00:20<00:00, 1870.49it/s]\n",
      "100%|██████████| 69096/69096 [01:33<00:00, 740.05it/s]\n",
      "100%|██████████| 73776/73776 [03:04<00:00, 399.22it/s]\n",
      "100%|██████████| 39919/39919 [02:56<00:00, 225.63it/s]\n",
      "100%|██████████| 9736/9736 [00:54<00:00, 178.44it/s]\n",
      "100%|██████████| 845/845 [00:04<00:00, 171.33it/s]\n",
      "100%|██████████| 11/11 [00:00<00:00, 205.40it/s]\n",
      "0it [00:00, ?it/s]\n"
     ]
    },
    {
     "name": "stdout",
     "output_type": "stream",
     "text": [
      "Partition 10:\n"
     ]
    },
    {
     "name": "stderr",
     "output_type": "stream",
     "text": [
      "100%|██████████| 39621/39621 [00:32<00:00, 1226.80it/s]\n",
      "100%|██████████| 71247/71247 [02:11<00:00, 542.61it/s]\n",
      "100%|██████████| 76556/76556 [02:47<00:00, 456.11it/s]\n",
      "100%|██████████| 42307/42307 [02:11<00:00, 321.01it/s]\n",
      "100%|██████████| 10389/10389 [00:49<00:00, 211.97it/s]\n",
      "100%|██████████| 876/876 [00:04<00:00, 176.56it/s]\n",
      "100%|██████████| 12/12 [00:00<00:00, 166.80it/s]\n",
      "0it [00:00, ?it/s]\n"
     ]
    },
    {
     "name": "stdout",
     "output_type": "stream",
     "text": [
      "Partition 11:\n"
     ]
    },
    {
     "name": "stderr",
     "output_type": "stream",
     "text": [
      "100%|██████████| 39903/39903 [00:26<00:00, 1526.50it/s]\n",
      "100%|██████████| 78057/78057 [02:00<00:00, 646.35it/s]\n",
      "100%|██████████| 89742/89742 [08:31<00:00, 175.36it/s]  \n",
      "100%|██████████| 53549/53549 [01:51<00:00, 480.26it/s]\n",
      "100%|██████████| 14339/14339 [00:37<00:00, 379.32it/s]\n",
      "100%|██████████| 1471/1471 [00:04<00:00, 323.47it/s]\n",
      "100%|██████████| 40/40 [00:00<00:00, 277.09it/s]\n",
      "0it [00:00, ?it/s]\n"
     ]
    },
    {
     "name": "stdout",
     "output_type": "stream",
     "text": [
      "Partition 12:\n"
     ]
    },
    {
     "name": "stderr",
     "output_type": "stream",
     "text": [
      "100%|██████████| 41041/41041 [00:09<00:00, 4306.68it/s]\n",
      "100%|██████████| 79967/79967 [00:47<00:00, 1694.05it/s]\n",
      "100%|██████████| 99023/99023 [01:52<00:00, 882.03it/s] \n",
      "100%|██████████| 65849/65849 [01:49<00:00, 599.59it/s]\n",
      "100%|██████████| 20163/20163 [01:10<00:00, 284.64it/s]\n",
      "100%|██████████| 2288/2288 [00:11<00:00, 190.75it/s]\n",
      "100%|██████████| 51/51 [00:00<00:00, 121.79it/s]\n",
      "0it [00:00, ?it/s]\n"
     ]
    },
    {
     "name": "stdout",
     "output_type": "stream",
     "text": [
      "Partition 1:\n"
     ]
    },
    {
     "name": "stderr",
     "output_type": "stream",
     "text": [
      "100%|██████████| 7/7 [05:40<00:00, 48.69s/it]\n"
     ]
    },
    {
     "name": "stdout",
     "output_type": "stream",
     "text": [
      "Partition 2:\n"
     ]
    },
    {
     "name": "stderr",
     "output_type": "stream",
     "text": [
      "100%|██████████| 7/7 [03:07<00:00, 26.73s/it]\n"
     ]
    },
    {
     "name": "stdout",
     "output_type": "stream",
     "text": [
      "Partition 3:\n"
     ]
    },
    {
     "name": "stderr",
     "output_type": "stream",
     "text": [
      "100%|██████████| 7/7 [03:07<00:00, 26.73s/it]\n"
     ]
    },
    {
     "name": "stdout",
     "output_type": "stream",
     "text": [
      "Partition 4:\n"
     ]
    },
    {
     "name": "stderr",
     "output_type": "stream",
     "text": [
      "100%|██████████| 7/7 [04:32<00:00, 38.88s/it]\n"
     ]
    },
    {
     "name": "stdout",
     "output_type": "stream",
     "text": [
      "Partition 5:\n"
     ]
    },
    {
     "name": "stderr",
     "output_type": "stream",
     "text": [
      "100%|██████████| 7/7 [05:59<00:00, 51.30s/it]\n"
     ]
    },
    {
     "name": "stdout",
     "output_type": "stream",
     "text": [
      "Partition 6:\n"
     ]
    },
    {
     "name": "stderr",
     "output_type": "stream",
     "text": [
      "100%|██████████| 7/7 [06:43<00:00, 57.66s/it] \n"
     ]
    },
    {
     "name": "stdout",
     "output_type": "stream",
     "text": [
      "Partition 7:\n"
     ]
    },
    {
     "name": "stderr",
     "output_type": "stream",
     "text": [
      "100%|██████████| 7/7 [07:20<00:00, 62.92s/it] \n"
     ]
    },
    {
     "name": "stdout",
     "output_type": "stream",
     "text": [
      "Partition 8:\n"
     ]
    },
    {
     "name": "stderr",
     "output_type": "stream",
     "text": [
      "100%|██████████| 7/7 [13:23<00:00, 114.77s/it]\n"
     ]
    },
    {
     "name": "stdout",
     "output_type": "stream",
     "text": [
      "Partition 9:\n"
     ]
    },
    {
     "name": "stderr",
     "output_type": "stream",
     "text": [
      "100%|██████████| 7/7 [04:03<00:00, 34.74s/it]\n"
     ]
    },
    {
     "name": "stdout",
     "output_type": "stream",
     "text": [
      "Partition 10:\n"
     ]
    },
    {
     "name": "stderr",
     "output_type": "stream",
     "text": [
      "100%|██████████| 7/7 [04:16<00:00, 36.63s/it]\n"
     ]
    },
    {
     "name": "stdout",
     "output_type": "stream",
     "text": [
      "Partition 11:\n"
     ]
    },
    {
     "name": "stderr",
     "output_type": "stream",
     "text": [
      "100%|██████████| 7/7 [03:16<00:00, 28.03s/it]\n"
     ]
    },
    {
     "name": "stdout",
     "output_type": "stream",
     "text": [
      "Partition 12:\n"
     ]
    },
    {
     "name": "stderr",
     "output_type": "stream",
     "text": [
      "100%|██████████| 7/7 [01:48<00:00, 15.45s/it]\n"
     ]
    },
    {
     "name": "stdout",
     "output_type": "stream",
     "text": [
      "Partition 1:\n"
     ]
    },
    {
     "name": "stderr",
     "output_type": "stream",
     "text": [
      "100%|██████████| 5565/5565 [00:03<00:00, 1840.83it/s]\n",
      "100%|██████████| 2796/2796 [00:03<00:00, 812.56it/s]\n",
      "100%|██████████| 437/437 [00:00<00:00, 531.81it/s]\n",
      "100%|██████████| 9/9 [00:00<00:00, 415.72it/s]\n"
     ]
    },
    {
     "name": "stdout",
     "output_type": "stream",
     "text": [
      "Partition 2:\n"
     ]
    },
    {
     "name": "stderr",
     "output_type": "stream",
     "text": [
      "100%|██████████| 6216/6216 [00:03<00:00, 1765.61it/s]\n",
      "100%|██████████| 3041/3041 [00:04<00:00, 717.44it/s]\n",
      "100%|██████████| 561/561 [00:01<00:00, 473.81it/s]\n",
      "100%|██████████| 20/20 [00:00<00:00, 358.35it/s]\n"
     ]
    },
    {
     "name": "stdout",
     "output_type": "stream",
     "text": [
      "Partition 3:\n"
     ]
    },
    {
     "name": "stderr",
     "output_type": "stream",
     "text": [
      "100%|██████████| 5995/5995 [00:03<00:00, 1812.49it/s]\n",
      "100%|██████████| 3101/3101 [00:03<00:00, 787.41it/s]\n",
      "100%|██████████| 593/593 [00:01<00:00, 514.03it/s]\n",
      "100%|██████████| 15/15 [00:00<00:00, 404.44it/s]\n"
     ]
    },
    {
     "name": "stdout",
     "output_type": "stream",
     "text": [
      "Partition 4:\n"
     ]
    },
    {
     "name": "stderr",
     "output_type": "stream",
     "text": [
      "100%|██████████| 6216/6216 [00:03<00:00, 1840.49it/s]\n",
      "100%|██████████| 3244/3244 [00:04<00:00, 780.69it/s]\n",
      "100%|██████████| 636/636 [00:01<00:00, 516.51it/s]\n",
      "100%|██████████| 17/17 [00:00<00:00, 402.85it/s]\n"
     ]
    },
    {
     "name": "stdout",
     "output_type": "stream",
     "text": [
      "Partition 5:\n"
     ]
    },
    {
     "name": "stderr",
     "output_type": "stream",
     "text": [
      "100%|██████████| 6328/6328 [00:03<00:00, 1845.71it/s]\n",
      "100%|██████████| 3340/3340 [00:04<00:00, 806.36it/s]\n",
      "100%|██████████| 675/675 [00:01<00:00, 529.49it/s]\n",
      "100%|██████████| 25/25 [00:00<00:00, 419.13it/s]\n"
     ]
    },
    {
     "name": "stdout",
     "output_type": "stream",
     "text": [
      "Partition 6:\n"
     ]
    },
    {
     "name": "stderr",
     "output_type": "stream",
     "text": [
      "100%|██████████| 5778/5778 [00:05<00:00, 997.39it/s] \n",
      "100%|██████████| 2975/2975 [00:05<00:00, 570.46it/s]\n",
      "100%|██████████| 516/516 [00:01<00:00, 428.42it/s]\n",
      "100%|██████████| 14/14 [00:00<00:00, 283.85it/s]\n"
     ]
    },
    {
     "name": "stdout",
     "output_type": "stream",
     "text": [
      "Partition 7:\n"
     ]
    },
    {
     "name": "stderr",
     "output_type": "stream",
     "text": [
      "100%|██████████| 5886/5886 [00:03<00:00, 1809.82it/s]\n",
      "100%|██████████| 2866/2866 [00:03<00:00, 750.18it/s]\n",
      "100%|██████████| 474/474 [00:00<00:00, 523.39it/s]\n",
      "100%|██████████| 10/10 [00:00<00:00, 412.26it/s]\n"
     ]
    },
    {
     "name": "stdout",
     "output_type": "stream",
     "text": [
      "Partition 8:\n"
     ]
    },
    {
     "name": "stderr",
     "output_type": "stream",
     "text": [
      "100%|██████████| 5460/5460 [00:03<00:00, 1776.96it/s]\n",
      "100%|██████████| 3045/3045 [00:04<00:00, 725.85it/s]\n",
      "100%|██████████| 445/445 [00:00<00:00, 500.74it/s]\n",
      "100%|██████████| 10/10 [00:00<00:00, 400.45it/s]\n"
     ]
    },
    {
     "name": "stdout",
     "output_type": "stream",
     "text": [
      "Partition 9:\n"
     ]
    },
    {
     "name": "stderr",
     "output_type": "stream",
     "text": [
      "100%|██████████| 5671/5671 [00:04<00:00, 1241.77it/s]\n",
      "100%|██████████| 2824/2824 [00:04<00:00, 705.68it/s]\n",
      "100%|██████████| 425/425 [00:00<00:00, 528.46it/s]\n",
      "100%|██████████| 8/8 [00:00<00:00, 425.98it/s]\n"
     ]
    },
    {
     "name": "stdout",
     "output_type": "stream",
     "text": [
      "Partition 10:\n"
     ]
    },
    {
     "name": "stderr",
     "output_type": "stream",
     "text": [
      "100%|██████████| 5671/5671 [00:03<00:00, 1828.40it/s]\n",
      "100%|██████████| 2984/2984 [00:03<00:00, 803.12it/s]\n",
      "100%|██████████| 478/478 [00:00<00:00, 526.38it/s]\n",
      "100%|██████████| 11/11 [00:00<00:00, 402.33it/s]\n"
     ]
    },
    {
     "name": "stdout",
     "output_type": "stream",
     "text": [
      "Partition 11:\n"
     ]
    },
    {
     "name": "stderr",
     "output_type": "stream",
     "text": [
      "100%|██████████| 6105/6105 [00:03<00:00, 1815.10it/s]\n",
      "100%|██████████| 3033/3033 [00:03<00:00, 800.69it/s]\n",
      "100%|██████████| 538/538 [00:01<00:00, 528.36it/s]\n",
      "100%|██████████| 13/13 [00:00<00:00, 422.49it/s]\n"
     ]
    },
    {
     "name": "stdout",
     "output_type": "stream",
     "text": [
      "Partition 12:\n"
     ]
    },
    {
     "name": "stderr",
     "output_type": "stream",
     "text": [
      "100%|██████████| 6105/6105 [00:01<00:00, 3214.46it/s]\n",
      "100%|██████████| 3156/3156 [00:02<00:00, 1369.55it/s]\n",
      "100%|██████████| 715/715 [00:00<00:00, 983.98it/s] \n",
      "100%|██████████| 20/20 [00:00<00:00, 741.95it/s]\n"
     ]
    },
    {
     "name": "stdout",
     "output_type": "stream",
     "text": [
      "Partition 1:\n"
     ]
    },
    {
     "name": "stderr",
     "output_type": "stream",
     "text": [
      "100%|██████████| 7/7 [03:20<00:00, 28.69s/it]\n"
     ]
    },
    {
     "name": "stdout",
     "output_type": "stream",
     "text": [
      "Partition 2:\n"
     ]
    },
    {
     "name": "stderr",
     "output_type": "stream",
     "text": [
      "100%|██████████| 7/7 [03:22<00:00, 28.96s/it]\n"
     ]
    },
    {
     "name": "stdout",
     "output_type": "stream",
     "text": [
      "Partition 3:\n"
     ]
    },
    {
     "name": "stderr",
     "output_type": "stream",
     "text": [
      "100%|██████████| 7/7 [03:29<00:00, 29.97s/it]\n"
     ]
    },
    {
     "name": "stdout",
     "output_type": "stream",
     "text": [
      "Partition 4:\n"
     ]
    },
    {
     "name": "stderr",
     "output_type": "stream",
     "text": [
      "100%|██████████| 7/7 [03:30<00:00, 30.06s/it]\n"
     ]
    },
    {
     "name": "stdout",
     "output_type": "stream",
     "text": [
      "Partition 5:\n"
     ]
    },
    {
     "name": "stderr",
     "output_type": "stream",
     "text": [
      "100%|██████████| 7/7 [03:27<00:00, 29.70s/it]\n"
     ]
    },
    {
     "name": "stdout",
     "output_type": "stream",
     "text": [
      "Partition 6:\n"
     ]
    },
    {
     "name": "stderr",
     "output_type": "stream",
     "text": [
      "100%|██████████| 7/7 [03:39<00:00, 31.29s/it]\n"
     ]
    },
    {
     "name": "stdout",
     "output_type": "stream",
     "text": [
      "Partition 7:\n"
     ]
    },
    {
     "name": "stderr",
     "output_type": "stream",
     "text": [
      "100%|██████████| 7/7 [03:23<00:00, 29.11s/it]\n"
     ]
    },
    {
     "name": "stdout",
     "output_type": "stream",
     "text": [
      "Partition 8:\n"
     ]
    },
    {
     "name": "stderr",
     "output_type": "stream",
     "text": [
      "100%|██████████| 7/7 [03:38<00:00, 31.17s/it]\n"
     ]
    },
    {
     "name": "stdout",
     "output_type": "stream",
     "text": [
      "Partition 9:\n"
     ]
    },
    {
     "name": "stderr",
     "output_type": "stream",
     "text": [
      "100%|██████████| 7/7 [03:10<00:00, 27.18s/it]\n"
     ]
    },
    {
     "name": "stdout",
     "output_type": "stream",
     "text": [
      "Partition 10:\n"
     ]
    },
    {
     "name": "stderr",
     "output_type": "stream",
     "text": [
      "100%|██████████| 7/7 [03:32<00:00, 30.38s/it]\n"
     ]
    },
    {
     "name": "stdout",
     "output_type": "stream",
     "text": [
      "Partition 11:\n"
     ]
    },
    {
     "name": "stderr",
     "output_type": "stream",
     "text": [
      "100%|██████████| 7/7 [03:16<00:00, 28.01s/it]\n"
     ]
    },
    {
     "name": "stdout",
     "output_type": "stream",
     "text": [
      "Partition 12:\n"
     ]
    },
    {
     "name": "stderr",
     "output_type": "stream",
     "text": [
      "100%|██████████| 7/7 [01:39<00:00, 14.26s/it]\n"
     ]
    },
    {
     "name": "stdout",
     "output_type": "stream",
     "text": [
      "Partition 1:\n"
     ]
    },
    {
     "name": "stderr",
     "output_type": "stream",
     "text": [
      "100%|██████████| 780/780 [00:00<00:00, 1300.31it/s]\n",
      "100%|██████████| 59/59 [00:00<00:00, 681.65it/s]\n",
      "0it [00:00, ?it/s]\n"
     ]
    },
    {
     "name": "stdout",
     "output_type": "stream",
     "text": [
      "Partition 2:\n"
     ]
    },
    {
     "name": "stderr",
     "output_type": "stream",
     "text": [
      "100%|██████████| 820/820 [00:00<00:00, 1279.82it/s]\n",
      "100%|██████████| 76/76 [00:00<00:00, 635.29it/s]\n",
      "0it [00:00, ?it/s]\n"
     ]
    },
    {
     "name": "stdout",
     "output_type": "stream",
     "text": [
      "Partition 3:\n"
     ]
    },
    {
     "name": "stderr",
     "output_type": "stream",
     "text": [
      "100%|██████████| 820/820 [00:00<00:00, 1404.10it/s]\n",
      "100%|██████████| 76/76 [00:00<00:00, 668.49it/s]\n",
      "0it [00:00, ?it/s]\n"
     ]
    },
    {
     "name": "stdout",
     "output_type": "stream",
     "text": [
      "Partition 4:\n"
     ]
    },
    {
     "name": "stderr",
     "output_type": "stream",
     "text": [
      "100%|██████████| 903/903 [00:00<00:00, 1313.35it/s]\n",
      "100%|██████████| 82/82 [00:00<00:00, 644.88it/s]\n",
      "0it [00:00, ?it/s]\n"
     ]
    },
    {
     "name": "stdout",
     "output_type": "stream",
     "text": [
      "Partition 5:\n"
     ]
    },
    {
     "name": "stderr",
     "output_type": "stream",
     "text": [
      "100%|██████████| 903/903 [00:00<00:00, 1387.06it/s]\n",
      "100%|██████████| 83/83 [00:00<00:00, 669.72it/s]\n",
      "0it [00:00, ?it/s]\n"
     ]
    },
    {
     "name": "stdout",
     "output_type": "stream",
     "text": [
      "Partition 6:\n"
     ]
    },
    {
     "name": "stderr",
     "output_type": "stream",
     "text": [
      "100%|██████████| 820/820 [00:00<00:00, 1272.32it/s]\n",
      "100%|██████████| 73/73 [00:00<00:00, 625.72it/s]\n",
      "0it [00:00, ?it/s]\n"
     ]
    },
    {
     "name": "stdout",
     "output_type": "stream",
     "text": [
      "Partition 7:\n"
     ]
    },
    {
     "name": "stderr",
     "output_type": "stream",
     "text": [
      "100%|██████████| 780/780 [00:00<00:00, 1345.56it/s]\n",
      "100%|██████████| 72/72 [00:00<00:00, 625.36it/s]\n",
      "0it [00:00, ?it/s]\n"
     ]
    },
    {
     "name": "stdout",
     "output_type": "stream",
     "text": [
      "Partition 8:\n"
     ]
    },
    {
     "name": "stderr",
     "output_type": "stream",
     "text": [
      "100%|██████████| 820/820 [00:00<00:00, 1365.53it/s]\n",
      "100%|██████████| 63/63 [00:00<00:00, 625.06it/s]\n",
      "0it [00:00, ?it/s]\n"
     ]
    },
    {
     "name": "stdout",
     "output_type": "stream",
     "text": [
      "Partition 9:\n"
     ]
    },
    {
     "name": "stderr",
     "output_type": "stream",
     "text": [
      "100%|██████████| 820/820 [00:00<00:00, 1413.32it/s]\n",
      "100%|██████████| 50/50 [00:00<00:00, 660.53it/s]\n",
      "0it [00:00, ?it/s]\n"
     ]
    },
    {
     "name": "stdout",
     "output_type": "stream",
     "text": [
      "Partition 10:\n"
     ]
    },
    {
     "name": "stderr",
     "output_type": "stream",
     "text": [
      "100%|██████████| 903/903 [00:00<00:00, 1358.87it/s]\n",
      "100%|██████████| 65/65 [00:00<00:00, 662.32it/s]\n",
      "0it [00:00, ?it/s]\n"
     ]
    },
    {
     "name": "stdout",
     "output_type": "stream",
     "text": [
      "Partition 11:\n"
     ]
    },
    {
     "name": "stderr",
     "output_type": "stream",
     "text": [
      "100%|██████████| 861/861 [00:00<00:00, 1367.59it/s]\n",
      "100%|██████████| 75/75 [00:00<00:00, 646.18it/s]\n",
      "0it [00:00, ?it/s]\n"
     ]
    },
    {
     "name": "stdout",
     "output_type": "stream",
     "text": [
      "Partition 12:\n"
     ]
    },
    {
     "name": "stderr",
     "output_type": "stream",
     "text": [
      "100%|██████████| 820/820 [00:00<00:00, 2555.86it/s]\n",
      "100%|██████████| 95/95 [00:00<00:00, 1317.96it/s]\n",
      "0it [00:00, ?it/s]\n"
     ]
    },
    {
     "name": "stdout",
     "output_type": "stream",
     "text": [
      "Partition 1:\n"
     ]
    },
    {
     "name": "stderr",
     "output_type": "stream",
     "text": [
      "100%|██████████| 7/7 [03:10<00:00, 27.26s/it]\n"
     ]
    },
    {
     "name": "stdout",
     "output_type": "stream",
     "text": [
      "Partition 2:\n"
     ]
    },
    {
     "name": "stderr",
     "output_type": "stream",
     "text": [
      "100%|██████████| 7/7 [03:26<00:00, 29.55s/it]\n"
     ]
    },
    {
     "name": "stdout",
     "output_type": "stream",
     "text": [
      "Partition 3:\n"
     ]
    },
    {
     "name": "stderr",
     "output_type": "stream",
     "text": [
      "100%|██████████| 7/7 [03:21<00:00, 28.85s/it]\n"
     ]
    },
    {
     "name": "stdout",
     "output_type": "stream",
     "text": [
      "Partition 4:\n"
     ]
    },
    {
     "name": "stderr",
     "output_type": "stream",
     "text": [
      "100%|██████████| 7/7 [03:22<00:00, 28.87s/it]\n"
     ]
    },
    {
     "name": "stdout",
     "output_type": "stream",
     "text": [
      "Partition 5:\n"
     ]
    },
    {
     "name": "stderr",
     "output_type": "stream",
     "text": [
      "100%|██████████| 7/7 [03:33<00:00, 30.44s/it]\n"
     ]
    },
    {
     "name": "stdout",
     "output_type": "stream",
     "text": [
      "Partition 6:\n"
     ]
    },
    {
     "name": "stderr",
     "output_type": "stream",
     "text": [
      "100%|██████████| 7/7 [03:23<00:00, 29.06s/it]\n"
     ]
    },
    {
     "name": "stdout",
     "output_type": "stream",
     "text": [
      "Partition 7:\n"
     ]
    },
    {
     "name": "stderr",
     "output_type": "stream",
     "text": [
      "100%|██████████| 7/7 [03:42<00:00, 31.72s/it]\n"
     ]
    },
    {
     "name": "stdout",
     "output_type": "stream",
     "text": [
      "Partition 8:\n"
     ]
    },
    {
     "name": "stderr",
     "output_type": "stream",
     "text": [
      "100%|██████████| 7/7 [03:20<00:00, 28.66s/it]\n"
     ]
    },
    {
     "name": "stdout",
     "output_type": "stream",
     "text": [
      "Partition 9:\n"
     ]
    },
    {
     "name": "stderr",
     "output_type": "stream",
     "text": [
      "100%|██████████| 7/7 [03:02<00:00, 26.05s/it]\n"
     ]
    },
    {
     "name": "stdout",
     "output_type": "stream",
     "text": [
      "Partition 10:\n"
     ]
    },
    {
     "name": "stderr",
     "output_type": "stream",
     "text": [
      "100%|██████████| 7/7 [03:07<00:00, 26.85s/it]\n"
     ]
    },
    {
     "name": "stdout",
     "output_type": "stream",
     "text": [
      "Partition 11:\n"
     ]
    },
    {
     "name": "stderr",
     "output_type": "stream",
     "text": [
      "100%|██████████| 7/7 [03:16<00:00, 28.12s/it]\n"
     ]
    },
    {
     "name": "stdout",
     "output_type": "stream",
     "text": [
      "Partition 12:\n"
     ]
    },
    {
     "name": "stderr",
     "output_type": "stream",
     "text": [
      "100%|██████████| 7/7 [11:39<00:00, 99.96s/it] \n"
     ]
    },
    {
     "name": "stdout",
     "output_type": "stream",
     "text": [
      "Partition 1:\n"
     ]
    },
    {
     "name": "stderr",
     "output_type": "stream",
     "text": [
      "100%|██████████| 153/153 [00:00<00:00, 1021.66it/s]\n",
      "0it [00:00, ?it/s]\n"
     ]
    },
    {
     "name": "stdout",
     "output_type": "stream",
     "text": [
      "Partition 2:\n"
     ]
    },
    {
     "name": "stderr",
     "output_type": "stream",
     "text": [
      "100%|██████████| 136/136 [00:00<00:00, 850.35it/s]\n",
      "0it [00:00, ?it/s]\n"
     ]
    },
    {
     "name": "stdout",
     "output_type": "stream",
     "text": [
      "Partition 3:\n"
     ]
    },
    {
     "name": "stderr",
     "output_type": "stream",
     "text": [
      "100%|██████████| 153/153 [00:00<00:00, 989.02it/s]\n",
      "0it [00:00, ?it/s]\n"
     ]
    },
    {
     "name": "stdout",
     "output_type": "stream",
     "text": [
      "Partition 4:\n"
     ]
    },
    {
     "name": "stderr",
     "output_type": "stream",
     "text": [
      "100%|██████████| 171/171 [00:00<00:00, 590.10it/s]\n",
      "0it [00:00, ?it/s]\n"
     ]
    },
    {
     "name": "stdout",
     "output_type": "stream",
     "text": [
      "Partition 5:\n"
     ]
    },
    {
     "name": "stderr",
     "output_type": "stream",
     "text": [
      "100%|██████████| 171/171 [00:00<00:00, 990.59it/s]\n",
      "0it [00:00, ?it/s]\n"
     ]
    },
    {
     "name": "stdout",
     "output_type": "stream",
     "text": [
      "Partition 6:\n"
     ]
    },
    {
     "name": "stderr",
     "output_type": "stream",
     "text": [
      "100%|██████████| 153/153 [00:00<00:00, 777.98it/s] \n",
      "0it [00:00, ?it/s]\n"
     ]
    },
    {
     "name": "stdout",
     "output_type": "stream",
     "text": [
      "Partition 7:\n"
     ]
    },
    {
     "name": "stderr",
     "output_type": "stream",
     "text": [
      "100%|██████████| 153/153 [00:00<00:00, 867.51it/s]\n",
      "0it [00:00, ?it/s]\n"
     ]
    },
    {
     "name": "stdout",
     "output_type": "stream",
     "text": [
      "Partition 8:\n"
     ]
    },
    {
     "name": "stderr",
     "output_type": "stream",
     "text": [
      "100%|██████████| 153/153 [00:00<00:00, 950.45it/s]\n",
      "0it [00:00, ?it/s]\n"
     ]
    },
    {
     "name": "stdout",
     "output_type": "stream",
     "text": [
      "Partition 9:\n"
     ]
    },
    {
     "name": "stderr",
     "output_type": "stream",
     "text": [
      "100%|██████████| 153/153 [00:00<00:00, 886.58it/s]\n",
      "0it [00:00, ?it/s]\n"
     ]
    },
    {
     "name": "stdout",
     "output_type": "stream",
     "text": [
      "Partition 10:\n"
     ]
    },
    {
     "name": "stderr",
     "output_type": "stream",
     "text": [
      "100%|██████████| 153/153 [00:00<00:00, 903.28it/s]\n",
      "0it [00:00, ?it/s]\n"
     ]
    },
    {
     "name": "stdout",
     "output_type": "stream",
     "text": [
      "Partition 11:\n"
     ]
    },
    {
     "name": "stderr",
     "output_type": "stream",
     "text": [
      "100%|██████████| 153/153 [00:00<00:00, 840.70it/s]\n",
      "0it [00:00, ?it/s]\n"
     ]
    },
    {
     "name": "stdout",
     "output_type": "stream",
     "text": [
      "Partition 12:\n"
     ]
    },
    {
     "name": "stderr",
     "output_type": "stream",
     "text": [
      "100%|██████████| 120/120 [00:00<00:00, 2235.34it/s]\n",
      "0it [00:00, ?it/s]\n"
     ]
    },
    {
     "name": "stdout",
     "output_type": "stream",
     "text": [
      "Partition 1:\n"
     ]
    },
    {
     "name": "stderr",
     "output_type": "stream",
     "text": [
      "100%|██████████| 7/7 [03:11<00:00, 27.41s/it]\n"
     ]
    },
    {
     "name": "stdout",
     "output_type": "stream",
     "text": [
      "Partition 2:\n"
     ]
    },
    {
     "name": "stderr",
     "output_type": "stream",
     "text": [
      "100%|██████████| 7/7 [03:27<00:00, 29.63s/it]\n"
     ]
    },
    {
     "name": "stdout",
     "output_type": "stream",
     "text": [
      "Partition 3:\n"
     ]
    },
    {
     "name": "stderr",
     "output_type": "stream",
     "text": [
      "100%|██████████| 7/7 [03:53<00:00, 33.29s/it]\n"
     ]
    },
    {
     "name": "stdout",
     "output_type": "stream",
     "text": [
      "Partition 4:\n"
     ]
    },
    {
     "name": "stderr",
     "output_type": "stream",
     "text": [
      "100%|██████████| 7/7 [03:10<00:00, 27.27s/it]\n"
     ]
    },
    {
     "name": "stdout",
     "output_type": "stream",
     "text": [
      "Partition 5:\n"
     ]
    },
    {
     "name": "stderr",
     "output_type": "stream",
     "text": [
      "100%|██████████| 7/7 [03:04<00:00, 26.36s/it]\n"
     ]
    },
    {
     "name": "stdout",
     "output_type": "stream",
     "text": [
      "Partition 6:\n"
     ]
    },
    {
     "name": "stderr",
     "output_type": "stream",
     "text": [
      "100%|██████████| 7/7 [03:16<00:00, 28.04s/it]\n"
     ]
    },
    {
     "name": "stdout",
     "output_type": "stream",
     "text": [
      "Partition 7:\n"
     ]
    },
    {
     "name": "stderr",
     "output_type": "stream",
     "text": [
      "100%|██████████| 7/7 [03:16<00:00, 28.07s/it]\n"
     ]
    },
    {
     "name": "stdout",
     "output_type": "stream",
     "text": [
      "Partition 8:\n"
     ]
    },
    {
     "name": "stderr",
     "output_type": "stream",
     "text": [
      "100%|██████████| 7/7 [03:18<00:00, 28.35s/it]\n"
     ]
    },
    {
     "name": "stdout",
     "output_type": "stream",
     "text": [
      "Partition 9:\n"
     ]
    },
    {
     "name": "stderr",
     "output_type": "stream",
     "text": [
      "100%|██████████| 7/7 [03:12<00:00, 27.48s/it]\n"
     ]
    },
    {
     "name": "stdout",
     "output_type": "stream",
     "text": [
      "Partition 10:\n"
     ]
    },
    {
     "name": "stderr",
     "output_type": "stream",
     "text": [
      "100%|██████████| 7/7 [03:13<00:00, 27.57s/it]\n"
     ]
    },
    {
     "name": "stdout",
     "output_type": "stream",
     "text": [
      "Partition 11:\n"
     ]
    },
    {
     "name": "stderr",
     "output_type": "stream",
     "text": [
      "100%|██████████| 7/7 [03:13<00:00, 27.61s/it]\n"
     ]
    },
    {
     "name": "stdout",
     "output_type": "stream",
     "text": [
      "Partition 12:\n"
     ]
    },
    {
     "name": "stderr",
     "output_type": "stream",
     "text": [
      "100%|██████████| 7/7 [01:40<00:00, 14.38s/it]\n"
     ]
    },
    {
     "name": "stdout",
     "output_type": "stream",
     "text": [
      "Partition 1:\n"
     ]
    },
    {
     "name": "stderr",
     "output_type": "stream",
     "text": [
      "100%|██████████| 1/1 [00:00<00:00, 838.36it/s]\n"
     ]
    },
    {
     "name": "stdout",
     "output_type": "stream",
     "text": [
      "Partition 2:\n"
     ]
    },
    {
     "name": "stderr",
     "output_type": "stream",
     "text": [
      "100%|██████████| 1/1 [00:00<00:00, 755.87it/s]\n"
     ]
    },
    {
     "name": "stdout",
     "output_type": "stream",
     "text": [
      "Partition 3:\n"
     ]
    },
    {
     "name": "stderr",
     "output_type": "stream",
     "text": [
      "100%|██████████| 1/1 [00:00<00:00, 808.31it/s]\n"
     ]
    },
    {
     "name": "stdout",
     "output_type": "stream",
     "text": [
      "Partition 4:\n"
     ]
    },
    {
     "name": "stderr",
     "output_type": "stream",
     "text": [
      "100%|██████████| 1/1 [00:00<00:00, 841.89it/s]\n"
     ]
    },
    {
     "name": "stdout",
     "output_type": "stream",
     "text": [
      "Partition 5:\n"
     ]
    },
    {
     "name": "stderr",
     "output_type": "stream",
     "text": [
      "100%|██████████| 1/1 [00:00<00:00, 815.70it/s]\n"
     ]
    },
    {
     "name": "stdout",
     "output_type": "stream",
     "text": [
      "Partition 6:\n"
     ]
    },
    {
     "name": "stderr",
     "output_type": "stream",
     "text": [
      "100%|██████████| 1/1 [00:00<00:00, 849.57it/s]\n"
     ]
    },
    {
     "name": "stdout",
     "output_type": "stream",
     "text": [
      "Partition 7:\n"
     ]
    },
    {
     "name": "stderr",
     "output_type": "stream",
     "text": [
      "100%|██████████| 1/1 [00:00<00:00, 755.46it/s]\n"
     ]
    },
    {
     "name": "stdout",
     "output_type": "stream",
     "text": [
      "Partition 8:\n"
     ]
    },
    {
     "name": "stderr",
     "output_type": "stream",
     "text": [
      "100%|██████████| 1/1 [00:00<00:00, 765.24it/s]\n"
     ]
    },
    {
     "name": "stdout",
     "output_type": "stream",
     "text": [
      "Partition 9:\n"
     ]
    },
    {
     "name": "stderr",
     "output_type": "stream",
     "text": [
      "100%|██████████| 1/1 [00:00<00:00, 750.19it/s]\n"
     ]
    },
    {
     "name": "stdout",
     "output_type": "stream",
     "text": [
      "Partition 10:\n"
     ]
    },
    {
     "name": "stderr",
     "output_type": "stream",
     "text": [
      "100%|██████████| 1/1 [00:00<00:00, 775.72it/s]\n"
     ]
    },
    {
     "name": "stdout",
     "output_type": "stream",
     "text": [
      "Partition 11:\n"
     ]
    },
    {
     "name": "stderr",
     "output_type": "stream",
     "text": [
      "100%|██████████| 1/1 [00:00<00:00, 854.76it/s]\n"
     ]
    },
    {
     "name": "stdout",
     "output_type": "stream",
     "text": [
      "Partition 12:\n"
     ]
    },
    {
     "name": "stderr",
     "output_type": "stream",
     "text": [
      "100%|██████████| 1/1 [00:00<00:00, 1736.05it/s]\n"
     ]
    },
    {
     "name": "stdout",
     "output_type": "stream",
     "text": [
      "Partition 1:\n"
     ]
    },
    {
     "name": "stderr",
     "output_type": "stream",
     "text": [
      "100%|██████████| 7/7 [03:11<00:00, 27.30s/it]\n"
     ]
    },
    {
     "name": "stdout",
     "output_type": "stream",
     "text": [
      "Partition 2:\n"
     ]
    },
    {
     "name": "stderr",
     "output_type": "stream",
     "text": [
      " 29%|██▊       | 2/7 [00:45<01:54, 22.93s/it]\n"
     ]
    },
    {
     "ename": "KeyboardInterrupt",
     "evalue": "",
     "output_type": "error",
     "traceback": [
      "\u001b[0;31m---------------------------------------------------------------------------\u001b[0m",
      "\u001b[0;31mKeyboardInterrupt\u001b[0m                         Traceback (most recent call last)",
      "\u001b[1;32m/Users/gx/Projects/Data-Analytics-Mining-Project-2/Task 2/task2_anime.ipynb Cell 7\u001b[0m line \u001b[0;36m5\n\u001b[1;32m     <a href='vscode-notebook-cell:/Users/gx/Projects/Data-Analytics-Mining-Project-2/Task%202/task2_anime.ipynb#W6sZmlsZQ%3D%3D?line=52'>53</a>\u001b[0m         dict_anime[user] \u001b[39m=\u001b[39m anime_list\n\u001b[1;32m     <a href='vscode-notebook-cell:/Users/gx/Projects/Data-Analytics-Mining-Project-2/Task%202/task2_anime.ipynb#W6sZmlsZQ%3D%3D?line=53'>54</a>\u001b[0m     \u001b[39m# Pure disk based implementation would probably require us to save the global candidates in disk \u001b[39;00m\n\u001b[0;32m---> <a href='vscode-notebook-cell:/Users/gx/Projects/Data-Analytics-Mining-Project-2/Task%202/task2_anime.ipynb#W6sZmlsZQ%3D%3D?line=54'>55</a>\u001b[0m     generate_global_counts(dict_anime, global_candidates)\n\u001b[1;32m     <a href='vscode-notebook-cell:/Users/gx/Projects/Data-Analytics-Mining-Project-2/Task%202/task2_anime.ipynb#W6sZmlsZQ%3D%3D?line=55'>56</a>\u001b[0m global_frequent_itemsets \u001b[39m=\u001b[39m {level: {itemset: count \u001b[39mfor\u001b[39;00m itemset, count \u001b[39min\u001b[39;00m itemsets\u001b[39m.\u001b[39mitems() \u001b[39mif\u001b[39;00m count \u001b[39m>\u001b[39m\u001b[39m=\u001b[39m min_support_count} \u001b[39mfor\u001b[39;00m level, itemsets \u001b[39min\u001b[39;00m global_counts\u001b[39m.\u001b[39mitems()}\n\u001b[1;32m     <a href='vscode-notebook-cell:/Users/gx/Projects/Data-Analytics-Mining-Project-2/Task%202/task2_anime.ipynb#W6sZmlsZQ%3D%3D?line=56'>57</a>\u001b[0m end \u001b[39m=\u001b[39m time\u001b[39m.\u001b[39mtime()\n",
      "\u001b[1;32m/Users/gx/Projects/Data-Analytics-Mining-Project-2/Task 2/task2_anime.ipynb Cell 7\u001b[0m line \u001b[0;36m3\n\u001b[1;32m     <a href='vscode-notebook-cell:/Users/gx/Projects/Data-Analytics-Mining-Project-2/Task%202/task2_anime.ipynb#W6sZmlsZQ%3D%3D?line=26'>27</a>\u001b[0m transaction_ids \u001b[39m=\u001b[39m \u001b[39mset\u001b[39m(transaction_id_dict[(itemset[\u001b[39m0\u001b[39m],)])\n\u001b[1;32m     <a href='vscode-notebook-cell:/Users/gx/Projects/Data-Analytics-Mining-Project-2/Task%202/task2_anime.ipynb#W6sZmlsZQ%3D%3D?line=27'>28</a>\u001b[0m \u001b[39mfor\u001b[39;00m i \u001b[39min\u001b[39;00m \u001b[39mrange\u001b[39m(\u001b[39m1\u001b[39m, \u001b[39mlen\u001b[39m(itemset)):\n\u001b[1;32m     <a href='vscode-notebook-cell:/Users/gx/Projects/Data-Analytics-Mining-Project-2/Task%202/task2_anime.ipynb#W6sZmlsZQ%3D%3D?line=28'>29</a>\u001b[0m     \u001b[39m# We are only interested in the transactions where all items in itemset is present\u001b[39;00m\n\u001b[0;32m---> <a href='vscode-notebook-cell:/Users/gx/Projects/Data-Analytics-Mining-Project-2/Task%202/task2_anime.ipynb#W6sZmlsZQ%3D%3D?line=29'>30</a>\u001b[0m     transaction_ids \u001b[39m=\u001b[39m transaction_ids\u001b[39m.\u001b[39mintersection(\u001b[39mset\u001b[39;49m(transaction_ids_dict\u001b[39m.\u001b[39;49mget((itemset[i],), {})))\n\u001b[1;32m     <a href='vscode-notebook-cell:/Users/gx/Projects/Data-Analytics-Mining-Project-2/Task%202/task2_anime.ipynb#W6sZmlsZQ%3D%3D?line=30'>31</a>\u001b[0m \u001b[39mif\u001b[39;00m(\u001b[39mlen\u001b[39m(itemset) \u001b[39mnot\u001b[39;00m \u001b[39min\u001b[39;00m global_counts):\n\u001b[1;32m     <a href='vscode-notebook-cell:/Users/gx/Projects/Data-Analytics-Mining-Project-2/Task%202/task2_anime.ipynb#W6sZmlsZQ%3D%3D?line=31'>32</a>\u001b[0m     global_counts[\u001b[39mlen\u001b[39m(itemset)] \u001b[39m=\u001b[39m {}\n",
      "\u001b[0;31mKeyboardInterrupt\u001b[0m: "
     ]
    }
   ],
   "source": [
    "file_path = 'dataset/processed_anime_output_shuffled.txt'\n",
    "size_of_data = sum(1 for line in open(file_path))\n",
    "\n",
    "partition_size = 10000\n",
    "if(partition_size < size_of_data):\n",
    "    num_partitions = size_of_data// partition_size\n",
    "else:\n",
    "    print('Size of partition exceeds size of data')\n",
    "print(num_partitions)\n",
    "partition_candidates = []\n",
    "global_candidates = collections.defaultdict(list)\n",
    "# Step 1: Partitioning\n",
    "min_support_range=np.arange(0.2, 0.7, 0.1)\n",
    "\n",
    "for min_support in min_support_range:\n",
    "    output = {}\n",
    "    global_min_support = math.ceil((min_support*size_of_data)/num_partitions)\n",
    "    start = time.time()\n",
    "    for i, partition in enumerate(read_file_in_partitions(file_path, partition_size)):\n",
    "        print(f'Partition {i+1}:')\n",
    "        dict_anime = {}\n",
    "        for line in partition:\n",
    "            user, anime_list_str = line.strip().split(' ', 1)\n",
    "            anime_list = ast.literal_eval(anime_list_str)\n",
    "            dict_anime[user] = anime_list\n",
    "    \n",
    "        improved_apriori = Improved_Apriori(dict_anime, min_support=min_support, min_confidence=1, verbose=0)\n",
    "        # Step 2: Retreieve frequent itemset per partition\n",
    "        partition_frequent_itemset = improved_apriori.apriori()\n",
    "        # Efficient Apriori for sanity check\n",
    "        # partition_frequent_itemset, _ = apriori(list(dict_anime.values()), min_support = min_support, verbosity=2)\n",
    "\n",
    "        # Form the global candidate set from the large itemset in each partitions\n",
    "        # In this space, we ignore the count of itemset in each partition as they are not useful in our global support count\n",
    "        # All they do is just show the itemset was large enough in the current partition\n",
    "        # Merging Phase\n",
    "        for level, itemset in partition_frequent_itemset.items():\n",
    "            for key in itemset.keys():\n",
    "                if(key not in global_candidates[level]):\n",
    "                    global_candidates[level].append(key)\n",
    "\n",
    "    min_support_count = min_support * size_of_data                \n",
    "    # Global counting phase\n",
    "    global_counts = {}\n",
    "    for i, partition in enumerate(read_file_in_partitions(file_path, partition_size)):\n",
    "        print(f'Partition {i+1}:')\n",
    "        # Hold the partition data in main memory\n",
    "        dict_anime = {}\n",
    "        for line in partition:\n",
    "            user, anime_list_str = line.strip().split(' ', 1)\n",
    "            anime_list = ast.literal_eval(anime_list_str)\n",
    "            dict_anime[user] = anime_list\n",
    "        # Pure disk based implementation would probably require us to save the global candidates in disk \n",
    "        generate_global_counts(dict_anime, global_candidates)\n",
    "    global_frequent_itemsets = {level: {itemset: count for itemset, count in itemsets.items() if count >= min_support_count} for level, itemsets in global_counts.items()}\n",
    "    end = time.time()\n",
    "    output[min_support]={}\n",
    "    for level, itemsets in global_frequent_itemsets.items():\n",
    "        output[min_support][f'Level {level}'] = []\n",
    "        for items, count in itemsets.items():\n",
    "            output[min_support][f'Level {level}'].append([(list(items), count)])\n",
    "\n",
    "    output[min_support]['Time Taken'] = end-start\n",
    "\n",
    "    # Save to JSON file\n",
    "    with open(f'anime_dataset_results/output_anime_{min_support}.json', 'w') as f:\n",
    "        json.dump(output, f)"
   ]
  },
  {
   "cell_type": "code",
   "execution_count": null,
   "metadata": {},
   "outputs": [],
   "source": [
    "# data = pd.read_csv('dataset/final_animedataset.csv')\n",
    "# data = data[['username', 'title']]\n",
    "# grouped_data = data.groupby('username')['title'].apply(list)\n",
    "# grouped_data = grouped_data.to_dict()"
   ]
  },
  {
   "cell_type": "code",
   "execution_count": null,
   "metadata": {},
   "outputs": [],
   "source": [
    "# frequent_anime_set"
   ]
  },
  {
   "cell_type": "code",
   "execution_count": null,
   "metadata": {},
   "outputs": [],
   "source": [
    "# itemset, _ = apriori(list(grouped_data.values()), min_support = min_support, verbosity=2)"
   ]
  },
  {
   "cell_type": "code",
   "execution_count": null,
   "metadata": {},
   "outputs": [],
   "source": []
  },
  {
   "cell_type": "code",
   "execution_count": null,
   "metadata": {},
   "outputs": [],
   "source": [
    "# itemset"
   ]
  }
 ],
 "metadata": {
  "kernelspec": {
   "display_name": "myenv",
   "language": "python",
   "name": "python3"
  },
  "language_info": {
   "codemirror_mode": {
    "name": "ipython",
    "version": 3
   },
   "file_extension": ".py",
   "mimetype": "text/x-python",
   "name": "python",
   "nbconvert_exporter": "python",
   "pygments_lexer": "ipython3",
   "version": "3.9.2"
  }
 },
 "nbformat": 4,
 "nbformat_minor": 2
}
