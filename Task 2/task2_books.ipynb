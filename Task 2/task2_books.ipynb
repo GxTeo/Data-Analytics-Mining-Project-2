{
 "cells": [
  {
   "cell_type": "code",
   "execution_count": 10,
   "metadata": {},
   "outputs": [],
   "source": [
    "import pandas as pd\n",
    "import numpy as np\n",
    "import matplotlib as plt\n",
    "import sys\n",
    "sys.path.append('../Task 1/')\n",
    "from efficient_apriori import apriori\n",
    "from improved_apriori import Improved_Apriori\n",
    "import json\n",
    "import time\n",
    "import os\n",
    "import itertools\n",
    "import ast\n",
    "from tqdm import tqdm\n",
    "import collections\n",
    "import math\n",
    "import random\n",
    "import ijson"
   ]
  },
  {
   "cell_type": "code",
   "execution_count": 11,
   "metadata": {},
   "outputs": [],
   "source": [
    "# Process the dataset by chunks into username and the list of book the user watched\n",
    "def process_book_chunk(df, carry_over):\n",
    "    if carry_over is not None:\n",
    "        df = pd.concat([carry_over, df])\n",
    "    groups = df.groupby('User_id')['Title'].apply(list)\n",
    "    last_user = df.iloc[-1]['User_id']\n",
    "    if last_user in groups:\n",
    "        carry_over = df[df['User_id'] == last_user]\n",
    "        groups = groups.drop(last_user)\n",
    "    else:\n",
    "        carry_over = None\n",
    "    return groups, carry_over"
   ]
  },
  {
   "cell_type": "code",
   "execution_count": 12,
   "metadata": {},
   "outputs": [],
   "source": [
    "def isNotNan(array):\n",
    "    for item in array:\n",
    "        if not np.isnan(item):\n",
    "            return False\n",
    "    return True;"
   ]
  },
  {
   "cell_type": "code",
   "execution_count": 13,
   "metadata": {},
   "outputs": [],
   "source": [
    "carry_over = None\n",
    "chunksize = 10000 # adjust this value depending on your available memory\n",
    "csv_file_name = \"dataset/Books_rating.csv\"\n",
    "book_dict = {}\n",
    "# Might have to figure out a way to shuffle the dataset \n",
    "if(not os.path.exists('dataset/processed_book_output.txt')):\n",
    "    with open('dataset/processed_book_output.txt', 'w') as f:\n",
    "        for chunk in pd.read_csv(csv_file_name, chunksize=chunksize):\n",
    "            chunk.dropna(how='any',subset=['Title'], inplace=True)\n",
    "            groups, carry_over = process_book_chunk(chunk, carry_over)\n",
    "            for user, book_list in groups.items():\n",
    "                if user != \"nan\" and len(book_list) > 1:\n",
    "                    f.write(f'{user} {book_list}\\n')\n",
    "\n",
    "        # don't forget to process the last carry_over\n",
    "        if carry_over is not None:\n",
    "            groups, _ = process_book_chunk(carry_over, None)\n",
    "            for user, book_list in groups.items():\n",
    "                f.write(f'{user} {book_list}\\n')"
   ]
  },
  {
   "cell_type": "code",
   "execution_count": 14,
   "metadata": {},
   "outputs": [],
   "source": [
    "# Shuffle the text in chunks \n",
    "csv_file = 'dataset/Books_rating.csv'\n",
    "\n",
    "def shuffle_large_file(file_name, output_file_name, chunk_size):\n",
    "    with open(file_name, 'r') as f:\n",
    "        while True:\n",
    "            lines = list(itertools.islice(f, chunk_size))\n",
    "            if not lines:\n",
    "                break\n",
    "            random.shuffle(lines)\n",
    "            with open(output_file_name, 'a') as out:\n",
    "                out.write(''.join(lines))\n",
    "\n",
    "\n",
    "# Call the function with your parameters\n",
    "if(not os.path.exists('dataset/processed_book_output_shuffled.txt')):\n",
    "    shuffle_large_file('dataset/processed_book_output.txt', 'dataset/processed_book_output_shuffled.txt', 3000000)"
   ]
  },
  {
   "cell_type": "code",
   "execution_count": 15,
   "metadata": {},
   "outputs": [],
   "source": [
    "def read_file_in_partitions(file_path, partition_size):\n",
    "    with open(file_path, 'r') as file:\n",
    "        partition = []\n",
    "        for line in file:\n",
    "            partition.append(line)\n",
    "            if len(partition) >= partition_size:\n",
    "                yield partition\n",
    "                partition = []\n",
    "        if partition:  # yield any remaining lines\n",
    "            yield partition"
   ]
  },
  {
   "cell_type": "code",
   "execution_count": 16,
   "metadata": {},
   "outputs": [],
   "source": [
    "# Global variable to get the counts of all itemsets\n",
    "global_counts = {}\n",
    "def generate_global_counts(partition, global_candidates):\n",
    "\n",
    "    # For 1th itemset, generate the transaction id list for the ith partition \n",
    "    transaction_id_dict = collections.defaultdict(list)\n",
    "    for transaction_id in partition:\n",
    "        for item in partition[transaction_id]:\n",
    "            item_tuple = (item,)\n",
    "            transaction_id_dict[item_tuple].append(transaction_id)\n",
    "\n",
    "    # Filter based on the global candidates formed\n",
    "    transaction_ids_dict = {item: transaction_ids for item, transaction_ids in transaction_id_dict.items() if item in global_candidates[1]}\n",
    "\n",
    "    # Get the global count of all 1th itemset\n",
    "    for item in transaction_id_dict:\n",
    "        if(len(item) not in global_counts):\n",
    "            global_counts[len(item)] = {}\n",
    "        if(item not in global_counts[len(item)]):\n",
    "            global_counts[len(item)][item] = len(transaction_id_dict[item])\n",
    "        else:\n",
    "            global_counts[len(item)][item] += len(transaction_id_dict[item])\n",
    "\n",
    "    # Extend to find global count of all nth itemset from the global candidates\n",
    "    for i in tqdm(range(1, len(global_candidates))):\n",
    "        for itemset in global_candidates[i+1]:\n",
    "            transaction_ids = set(transaction_id_dict[(itemset[0],)])\n",
    "            for i in range(1, len(itemset)):\n",
    "                # We are only interested in the transactions where all items in itemset is present\n",
    "                transaction_ids = transaction_ids.intersection(set(transaction_ids_dict.get((itemset[i],), {})))\n",
    "            if(len(itemset) not in global_counts):\n",
    "                global_counts[len(itemset)] = {}\n",
    "\n",
    "            if(itemset not in global_counts[len(itemset)]):\n",
    "                global_counts[len(itemset)][itemset] = len(transaction_ids)\n",
    "            else:\n",
    "                global_counts[len(itemset)][itemset] += len(transaction_ids)\n",
    "\n"
   ]
  },
  {
   "cell_type": "code",
   "execution_count": 49,
   "metadata": {},
   "outputs": [
    {
     "name": "stdout",
     "output_type": "stream",
     "text": [
      "2\n",
      "Partition 1:\n",
      "Found 15617 candidate itemsets from 1st Level\n",
      "Found 1991 frequent itemsets from 1th item candidate sets\n",
      "Found 1981045 candidates for 2th item candidate sets\n",
      "Time taken to find 2th item candidate sets: 0.09640741348266602\n"
     ]
    },
    {
     "name": "stderr",
     "output_type": "stream",
     "text": [
      "100%|████████████████████████████████████████████████████████████████████| 1981045/1981045 [00:05<00:00, 352542.70it/s]\n"
     ]
    },
    {
     "name": "stdout",
     "output_type": "stream",
     "text": [
      "Found 393 frequent itemsets from 2th item candidate sets\n",
      "Found 24 candidates for 3th item candidate sets\n",
      "Time taken to find 3th item candidate sets: 0.026041269302368164\n"
     ]
    },
    {
     "name": "stderr",
     "output_type": "stream",
     "text": [
      "100%|██████████████████████████████████████████████████████████████████████████████████████████| 24/24 [00:00<?, ?it/s]\n"
     ]
    },
    {
     "name": "stdout",
     "output_type": "stream",
     "text": [
      "Found 19 frequent itemsets from 3th item candidate sets\n",
      "Found 2 candidates for 4th item candidate sets\n",
      "Time taken to find 4th item candidate sets: 0.0004787445068359375\n"
     ]
    },
    {
     "name": "stderr",
     "output_type": "stream",
     "text": [
      "100%|██████████████████████████████████████████████████████████████████████████████████| 2/2 [00:00<00:00, 1980.78it/s]\n"
     ]
    },
    {
     "name": "stdout",
     "output_type": "stream",
     "text": [
      "Found 2 frequent itemsets from 4th item candidate sets\n",
      "Found 0 candidates for 5th item candidate sets\n",
      "Time taken to find 5th item candidate sets: 0.0\n"
     ]
    },
    {
     "name": "stderr",
     "output_type": "stream",
     "text": [
      "0it [00:00, ?it/s]"
     ]
    },
    {
     "name": "stdout",
     "output_type": "stream",
     "text": [
      "Found 0 frequent itemsets from 5th item candidate sets\n",
      "Partition 2:\n"
     ]
    },
    {
     "name": "stderr",
     "output_type": "stream",
     "text": [
      "\n"
     ]
    },
    {
     "name": "stdout",
     "output_type": "stream",
     "text": [
      "Found 15522 candidate itemsets from 1st Level\n",
      "Found 1964 frequent itemsets from 1th item candidate sets\n",
      "Found 1927666 candidates for 2th item candidate sets\n",
      "Time taken to find 2th item candidate sets: 0.08793473243713379\n"
     ]
    },
    {
     "name": "stderr",
     "output_type": "stream",
     "text": [
      "100%|████████████████████████████████████████████████████████████████████| 1927666/1927666 [00:05<00:00, 369231.95it/s]\n"
     ]
    },
    {
     "name": "stdout",
     "output_type": "stream",
     "text": [
      "Found 375 frequent itemsets from 2th item candidate sets\n",
      "Found 27 candidates for 3th item candidate sets\n",
      "Time taken to find 3th item candidate sets: 0.01588582992553711\n"
     ]
    },
    {
     "name": "stderr",
     "output_type": "stream",
     "text": [
      "100%|██████████████████████████████████████████████████████████████████████████████████████████| 27/27 [00:00<?, ?it/s]\n"
     ]
    },
    {
     "name": "stdout",
     "output_type": "stream",
     "text": [
      "Found 21 frequent itemsets from 3th item candidate sets\n",
      "Found 2 candidates for 4th item candidate sets\n",
      "Time taken to find 4th item candidate sets: 0.0\n"
     ]
    },
    {
     "name": "stderr",
     "output_type": "stream",
     "text": [
      "100%|████████████████████████████████████████████████████████████████████████████████████████████| 2/2 [00:00<?, ?it/s]\n"
     ]
    },
    {
     "name": "stdout",
     "output_type": "stream",
     "text": [
      "Found 2 frequent itemsets from 4th item candidate sets\n",
      "Found 0 candidates for 5th item candidate sets\n",
      "Time taken to find 5th item candidate sets: 0.0\n"
     ]
    },
    {
     "name": "stderr",
     "output_type": "stream",
     "text": [
      "0it [00:00, ?it/s]"
     ]
    },
    {
     "name": "stdout",
     "output_type": "stream",
     "text": [
      "Found 0 frequent itemsets from 5th item candidate sets\n",
      "Partition 3:\n"
     ]
    },
    {
     "name": "stderr",
     "output_type": "stream",
     "text": [
      "\n"
     ]
    },
    {
     "name": "stdout",
     "output_type": "stream",
     "text": [
      "Found 7900 candidate itemsets from 1st Level\n",
      "Found 7900 frequent itemsets from 1th item candidate sets\n",
      "Found 31201050 candidates for 2th item candidate sets\n",
      "Time taken to find 2th item candidate sets: 1.5900294780731201\n"
     ]
    },
    {
     "name": "stderr",
     "output_type": "stream",
     "text": [
      "100%|██████████████████████████████████████████████████████████████████| 31201050/31201050 [01:16<00:00, 405565.93it/s]\n"
     ]
    },
    {
     "name": "stdout",
     "output_type": "stream",
     "text": [
      "Found 5162 frequent itemsets from 2th item candidate sets\n",
      "Found 3465 candidates for 3th item candidate sets\n",
      "Time taken to find 3th item candidate sets: 3.612609386444092\n"
     ]
    },
    {
     "name": "stderr",
     "output_type": "stream",
     "text": [
      "100%|██████████████████████████████████████████████████████████████████████████| 3465/3465 [00:00<00:00, 216188.37it/s]"
     ]
    },
    {
     "name": "stdout",
     "output_type": "stream",
     "text": [
      "Found 3438 frequent itemsets from 3th item candidate sets\n"
     ]
    },
    {
     "name": "stderr",
     "output_type": "stream",
     "text": [
      "\n"
     ]
    },
    {
     "name": "stdout",
     "output_type": "stream",
     "text": [
      "Found 12464 candidates for 4th item candidate sets\n",
      "Time taken to find 4th item candidate sets: 1.62320876121521\n"
     ]
    },
    {
     "name": "stderr",
     "output_type": "stream",
     "text": [
      "100%|████████████████████████████████████████████████████████████████████████| 12464/12464 [00:00<00:00, 398796.28it/s]"
     ]
    },
    {
     "name": "stdout",
     "output_type": "stream",
     "text": [
      "Found 12464 frequent itemsets from 4th item candidate sets\n"
     ]
    },
    {
     "name": "stderr",
     "output_type": "stream",
     "text": [
      "\n"
     ]
    },
    {
     "name": "stdout",
     "output_type": "stream",
     "text": [
      "Found 45825 candidates for 5th item candidate sets\n",
      "Time taken to find 5th item candidate sets: 27.477468013763428\n"
     ]
    },
    {
     "name": "stderr",
     "output_type": "stream",
     "text": [
      "100%|████████████████████████████████████████████████████████████████████████| 45825/45825 [00:00<00:00, 289427.65it/s]"
     ]
    },
    {
     "name": "stdout",
     "output_type": "stream",
     "text": [
      "Found 45825 frequent itemsets from 5th item candidate sets\n"
     ]
    },
    {
     "name": "stderr",
     "output_type": "stream",
     "text": [
      "\n"
     ]
    },
    {
     "name": "stdout",
     "output_type": "stream",
     "text": [
      "Found 139785 candidates for 6th item candidate sets\n",
      "Time taken to find 6th item candidate sets: 365.18333864212036\n"
     ]
    },
    {
     "name": "stderr",
     "output_type": "stream",
     "text": [
      "100%|██████████████████████████████████████████████████████████████████████| 139785/139785 [00:00<00:00, 236406.08it/s]\n"
     ]
    },
    {
     "name": "stdout",
     "output_type": "stream",
     "text": [
      "Found 139785 frequent itemsets from 6th item candidate sets\n",
      "Found 352613 candidates for 7th item candidate sets\n",
      "Time taken to find 7th item candidate sets: 3349.8560738563538\n"
     ]
    },
    {
     "name": "stderr",
     "output_type": "stream",
     "text": [
      "100%|██████████████████████████████████████████████████████████████████████| 352613/352613 [00:01<00:00, 209719.93it/s]\n"
     ]
    },
    {
     "name": "stdout",
     "output_type": "stream",
     "text": [
      "Found 352613 frequent itemsets from 7th item candidate sets\n"
     ]
    },
    {
     "ename": "KeyboardInterrupt",
     "evalue": "",
     "output_type": "error",
     "traceback": [
      "\u001b[1;31m---------------------------------------------------------------------------\u001b[0m",
      "\u001b[1;31mKeyboardInterrupt\u001b[0m                         Traceback (most recent call last)",
      "Cell \u001b[1;32mIn[49], line 23\u001b[0m\n\u001b[0;32m     21\u001b[0m improved_apriori \u001b[38;5;241m=\u001b[39m Improved_Apriori(dict_book, min_support\u001b[38;5;241m=\u001b[39mmin_support, min_confidence\u001b[38;5;241m=\u001b[39m\u001b[38;5;241m1\u001b[39m, verbose\u001b[38;5;241m=\u001b[39m\u001b[38;5;241m2\u001b[39m)\n\u001b[0;32m     22\u001b[0m \u001b[38;5;66;03m# Step 2: Retreieve frequent itemset per partition\u001b[39;00m\n\u001b[1;32m---> 23\u001b[0m partition_frequent_itemset \u001b[38;5;241m=\u001b[39m \u001b[43mimproved_apriori\u001b[49m\u001b[38;5;241;43m.\u001b[39;49m\u001b[43mapriori\u001b[49m\u001b[43m(\u001b[49m\u001b[43m)\u001b[49m\n\u001b[0;32m     24\u001b[0m \u001b[38;5;66;03m# Efficient Apriori for sanity check\u001b[39;00m\n\u001b[0;32m     25\u001b[0m \u001b[38;5;66;03m#partition_frequent_itemset, _ = apriori(list(dict_book.values()), min_support = min_support, verbosity=2)\u001b[39;00m\n\u001b[0;32m     26\u001b[0m \n\u001b[1;32m   (...)\u001b[0m\n\u001b[0;32m     29\u001b[0m \u001b[38;5;66;03m# All they do is just show the itemset was large enough in the current partition\u001b[39;00m\n\u001b[0;32m     30\u001b[0m \u001b[38;5;66;03m# Merging Phase\u001b[39;00m\n\u001b[0;32m     31\u001b[0m \u001b[38;5;28;01mfor\u001b[39;00m level, itemset \u001b[38;5;129;01min\u001b[39;00m partition_frequent_itemset\u001b[38;5;241m.\u001b[39mitems():\n",
      "File \u001b[1;32m~\\Documents\\Github\\Data-Analytics-Mining-Project-2\\Task 2\\../Task 1\\improved_apriori.py:142\u001b[0m, in \u001b[0;36mImproved_Apriori.apriori\u001b[1;34m(self)\u001b[0m\n\u001b[0;32m    139\u001b[0m \u001b[38;5;28;01melse\u001b[39;00m:\n\u001b[0;32m    140\u001b[0m     \u001b[38;5;66;03m#Generate candidates based of k-1 frequent itemsets instead of L1\u001b[39;00m\n\u001b[0;32m    141\u001b[0m     not_pruned_candidate_sets \u001b[38;5;241m=\u001b[39m \u001b[38;5;28mself\u001b[39m\u001b[38;5;241m.\u001b[39mgenerate_candidates(\u001b[38;5;28mlist\u001b[39m(L[k\u001b[38;5;241m-\u001b[39m\u001b[38;5;241m2\u001b[39m]\u001b[38;5;241m.\u001b[39mkeys()),k)\n\u001b[1;32m--> 142\u001b[0m     candidate_sets \u001b[38;5;241m=\u001b[39m \u001b[38;5;28;43mself\u001b[39;49m\u001b[38;5;241;43m.\u001b[39;49m\u001b[43mprune_candidates\u001b[49m\u001b[43m(\u001b[49m\u001b[38;5;28;43mlist\u001b[39;49m\u001b[43m(\u001b[49m\u001b[43mL\u001b[49m\u001b[43m[\u001b[49m\u001b[43mk\u001b[49m\u001b[38;5;241;43m-\u001b[39;49m\u001b[38;5;241;43m2\u001b[39;49m\u001b[43m]\u001b[49m\u001b[38;5;241;43m.\u001b[39;49m\u001b[43mkeys\u001b[49m\u001b[43m(\u001b[49m\u001b[43m)\u001b[49m\u001b[43m)\u001b[49m\u001b[43m,\u001b[49m\u001b[43mnot_pruned_candidate_sets\u001b[49m\u001b[43m)\u001b[49m\n\u001b[0;32m    143\u001b[0m \u001b[38;5;28;01mif\u001b[39;00m(\u001b[38;5;28mself\u001b[39m\u001b[38;5;241m.\u001b[39mverbose \u001b[38;5;241m>\u001b[39m \u001b[38;5;241m0\u001b[39m):\n\u001b[0;32m    144\u001b[0m     \u001b[38;5;28mprint\u001b[39m(\u001b[38;5;124mf\u001b[39m\u001b[38;5;124m\"\u001b[39m\u001b[38;5;124mFound \u001b[39m\u001b[38;5;132;01m{\u001b[39;00m\u001b[38;5;28mlen\u001b[39m(candidate_sets)\u001b[38;5;132;01m}\u001b[39;00m\u001b[38;5;124m candidates for \u001b[39m\u001b[38;5;132;01m{\u001b[39;00mk\u001b[38;5;132;01m}\u001b[39;00m\u001b[38;5;124mth item candidate sets\u001b[39m\u001b[38;5;124m\"\u001b[39m)\n",
      "File \u001b[1;32m~\\Documents\\Github\\Data-Analytics-Mining-Project-2\\Task 2\\../Task 1\\improved_apriori.py:92\u001b[0m, in \u001b[0;36mImproved_Apriori.prune_candidates\u001b[1;34m(self, Lk_minus_one, candidate_sets)\u001b[0m\n\u001b[0;32m     90\u001b[0m \u001b[38;5;28;01mfor\u001b[39;00m i \u001b[38;5;129;01min\u001b[39;00m \u001b[38;5;28mrange\u001b[39m(\u001b[38;5;28mlen\u001b[39m(candidate) \u001b[38;5;241m-\u001b[39m \u001b[38;5;241m2\u001b[39m):\n\u001b[0;32m     91\u001b[0m     removed \u001b[38;5;241m=\u001b[39m candidate[:i] \u001b[38;5;241m+\u001b[39m candidate[i \u001b[38;5;241m+\u001b[39m \u001b[38;5;241m1\u001b[39m :]\n\u001b[1;32m---> 92\u001b[0m     \u001b[38;5;28;01mif\u001b[39;00m removed \u001b[38;5;129;01mnot\u001b[39;00m \u001b[38;5;129;01min\u001b[39;00m Lk_minus_one:\n\u001b[0;32m     93\u001b[0m         \u001b[38;5;28;01mbreak\u001b[39;00m\n\u001b[0;32m     94\u001b[0m \u001b[38;5;28;01melse\u001b[39;00m:\n",
      "\u001b[1;31mKeyboardInterrupt\u001b[0m: "
     ]
    }
   ],
   "source": [
    "file_path = 'dataset/processed_book_output_shuffled.txt'\n",
    "\n",
    "size_of_data = sum(1 for line in open(file_path))\n",
    "min_support=0.0001\n",
    "partition_size = 50000\n",
    "num_partitions = size_of_data// partition_size\n",
    "print(num_partitions)\n",
    "partition_candidates = []\n",
    "global_candidates = collections.defaultdict(list)\n",
    "# Step 1: Partitioning\n",
    "global_min_support = math.ceil((min_support*size_of_data)/num_partitions)\n",
    "for i, partition in enumerate(read_file_in_partitions(file_path, partition_size)):\n",
    "    print(f'Partition {i+1}:')\n",
    "    dict_book = {}\n",
    "    for line in partition:\n",
    "        user, book_list_str = line.strip().split(' ', 1)\n",
    "        #print(book_list_str)\n",
    "        book_list = ast.literal_eval(book_list_str)\n",
    "        dict_book[user] = book_list\n",
    "   \n",
    "    improved_apriori = Improved_Apriori(dict_book, min_support=min_support, min_confidence=1, verbose=2)\n",
    "    # Step 2: Retreieve frequent itemset per partition\n",
    "    partition_frequent_itemset = improved_apriori.apriori()\n",
    "    # Efficient Apriori for sanity check\n",
    "    #partition_frequent_itemset, _ = apriori(list(dict_book.values()), min_support = min_support, verbosity=2)\n",
    "\n",
    "    # Form the global candidate set from the large itemset in each partitions\n",
    "    # In this space, we ignore the count of itemset in each partition as they are not useful in our global support count\n",
    "    # All they do is just show the itemset was large enough in the current partition\n",
    "    # Merging Phase\n",
    "    for level, itemset in partition_frequent_itemset.items():\n",
    "        for key in itemset.keys():\n",
    "            if(key not in global_candidates[level]):\n",
    "                global_candidates[level].append(key)"
   ]
  },
  {
   "cell_type": "code",
   "execution_count": 45,
   "metadata": {},
   "outputs": [
    {
     "name": "stdout",
     "output_type": "stream",
     "text": [
      "Partition 1:\n"
     ]
    },
    {
     "name": "stderr",
     "output_type": "stream",
     "text": [
      "100%|████████████████████████████████████████████████████████████████████████████████████████████| 3/3 [00:00<?, ?it/s]\n"
     ]
    },
    {
     "name": "stdout",
     "output_type": "stream",
     "text": [
      "Partition 2:\n"
     ]
    },
    {
     "name": "stderr",
     "output_type": "stream",
     "text": [
      "100%|████████████████████████████████████████████████████████████████████████████████████████████| 3/3 [00:00<?, ?it/s]\n"
     ]
    },
    {
     "name": "stdout",
     "output_type": "stream",
     "text": [
      "Partition 3:\n"
     ]
    },
    {
     "name": "stderr",
     "output_type": "stream",
     "text": [
      "100%|████████████████████████████████████████████████████████████████████████████████████████████| 3/3 [00:00<?, ?it/s]\n"
     ]
    },
    {
     "name": "stdout",
     "output_type": "stream",
     "text": [
      "Partition 4:\n"
     ]
    },
    {
     "name": "stderr",
     "output_type": "stream",
     "text": [
      "100%|████████████████████████████████████████████████████████████████████████████████████████████| 3/3 [00:00<?, ?it/s]\n"
     ]
    },
    {
     "name": "stdout",
     "output_type": "stream",
     "text": [
      "Partition 5:\n"
     ]
    },
    {
     "name": "stderr",
     "output_type": "stream",
     "text": [
      "100%|████████████████████████████████████████████████████████████████████████████████████████████| 3/3 [00:00<?, ?it/s]\n"
     ]
    },
    {
     "name": "stdout",
     "output_type": "stream",
     "text": [
      "Partition 6:\n"
     ]
    },
    {
     "name": "stderr",
     "output_type": "stream",
     "text": [
      "100%|████████████████████████████████████████████████████████████████████████████████████████████| 3/3 [00:00<?, ?it/s]\n"
     ]
    },
    {
     "name": "stdout",
     "output_type": "stream",
     "text": [
      "Partition 7:\n"
     ]
    },
    {
     "name": "stderr",
     "output_type": "stream",
     "text": [
      "100%|████████████████████████████████████████████████████████████████████████████████████████████| 3/3 [00:00<?, ?it/s]\n"
     ]
    },
    {
     "name": "stdout",
     "output_type": "stream",
     "text": [
      "Partition 8:\n"
     ]
    },
    {
     "name": "stderr",
     "output_type": "stream",
     "text": [
      "100%|████████████████████████████████████████████████████████████████████████████████████████████| 3/3 [00:00<?, ?it/s]\n"
     ]
    },
    {
     "name": "stdout",
     "output_type": "stream",
     "text": [
      "Partition 9:\n"
     ]
    },
    {
     "name": "stderr",
     "output_type": "stream",
     "text": [
      "100%|████████████████████████████████████████████████████████████████████████████████████████████| 3/3 [00:00<?, ?it/s]"
     ]
    },
    {
     "name": "stdout",
     "output_type": "stream",
     "text": [
      "Partition 10:\n"
     ]
    },
    {
     "name": "stderr",
     "output_type": "stream",
     "text": [
      "\n",
      "100%|████████████████████████████████████████████████████████████████████████████████████████████| 3/3 [00:00<?, ?it/s]\n"
     ]
    },
    {
     "name": "stdout",
     "output_type": "stream",
     "text": [
      "Partition 11:\n"
     ]
    },
    {
     "name": "stderr",
     "output_type": "stream",
     "text": [
      "100%|████████████████████████████████████████████████████████████████████████████████████████████| 3/3 [00:00<?, ?it/s]\n"
     ]
    },
    {
     "name": "stdout",
     "output_type": "stream",
     "text": [
      "Partition 12:\n"
     ]
    },
    {
     "name": "stderr",
     "output_type": "stream",
     "text": [
      "100%|████████████████████████████████████████████████████████████████████████████████████████████| 3/3 [00:00<?, ?it/s]\n"
     ]
    },
    {
     "name": "stdout",
     "output_type": "stream",
     "text": [
      "Partition 13:\n"
     ]
    },
    {
     "name": "stderr",
     "output_type": "stream",
     "text": [
      "100%|████████████████████████████████████████████████████████████████████████████████████████████| 3/3 [00:00<?, ?it/s]\n"
     ]
    },
    {
     "name": "stdout",
     "output_type": "stream",
     "text": [
      "Partition 14:\n"
     ]
    },
    {
     "name": "stderr",
     "output_type": "stream",
     "text": [
      "100%|████████████████████████████████████████████████████████████████████████████████████████████| 3/3 [00:00<?, ?it/s]\n"
     ]
    },
    {
     "name": "stdout",
     "output_type": "stream",
     "text": [
      "Partition 15:\n"
     ]
    },
    {
     "name": "stderr",
     "output_type": "stream",
     "text": [
      "100%|████████████████████████████████████████████████████████████████████████████████████████████| 3/3 [00:00<?, ?it/s]\n"
     ]
    },
    {
     "name": "stdout",
     "output_type": "stream",
     "text": [
      "Partition 16:\n"
     ]
    },
    {
     "name": "stderr",
     "output_type": "stream",
     "text": [
      "100%|████████████████████████████████████████████████████████████████████████████████████████████| 3/3 [00:00<?, ?it/s]\n"
     ]
    },
    {
     "name": "stdout",
     "output_type": "stream",
     "text": [
      "Partition 17:\n"
     ]
    },
    {
     "name": "stderr",
     "output_type": "stream",
     "text": [
      "100%|████████████████████████████████████████████████████████████████████████████████████████████| 3/3 [00:00<?, ?it/s]\n"
     ]
    },
    {
     "name": "stdout",
     "output_type": "stream",
     "text": [
      "Partition 18:\n"
     ]
    },
    {
     "name": "stderr",
     "output_type": "stream",
     "text": [
      "100%|████████████████████████████████████████████████████████████████████████████████████████████| 3/3 [00:00<?, ?it/s]\n"
     ]
    },
    {
     "name": "stdout",
     "output_type": "stream",
     "text": [
      "Partition 19:\n"
     ]
    },
    {
     "name": "stderr",
     "output_type": "stream",
     "text": [
      "100%|██████████████████████████████████████████████████████████████████████████████████| 3/3 [00:00<00:00, 1758.86it/s]\n"
     ]
    },
    {
     "name": "stdout",
     "output_type": "stream",
     "text": [
      "Partition 20:\n"
     ]
    },
    {
     "name": "stderr",
     "output_type": "stream",
     "text": [
      "100%|████████████████████████████████████████████████████████████████████████████████████████████| 3/3 [00:00<?, ?it/s]\n"
     ]
    },
    {
     "name": "stdout",
     "output_type": "stream",
     "text": [
      "Partition 21:\n"
     ]
    },
    {
     "name": "stderr",
     "output_type": "stream",
     "text": [
      "100%|██████████████████████████████████████████████████████████████████████████████████| 3/3 [00:00<00:00, 2840.39it/s]\n"
     ]
    },
    {
     "name": "stdout",
     "output_type": "stream",
     "text": [
      "Partition 22:\n"
     ]
    },
    {
     "name": "stderr",
     "output_type": "stream",
     "text": [
      "100%|████████████████████████████████████████████████████████████████████████████████████████████| 3/3 [00:00<?, ?it/s]\n"
     ]
    },
    {
     "name": "stdout",
     "output_type": "stream",
     "text": [
      "Partition 23:\n"
     ]
    },
    {
     "name": "stderr",
     "output_type": "stream",
     "text": [
      "100%|███████████████████████████████████████████████████████████████████████████████████| 3/3 [00:00<00:00, 209.79it/s]\n"
     ]
    }
   ],
   "source": [
    "# Now we have to read the lines in chunks for our disk-based operations\n",
    "min_support_count = min_support * size_of_data\n",
    "for i, partition in enumerate(read_file_in_partitions(file_path, partition_size)):\n",
    "    print(f'Partition {i+1}:')\n",
    "\n",
    "    # Hold the partition data in main memory\n",
    "    dict_book = {}\n",
    "    for line in partition:\n",
    "        user, book_list_str = line.strip().split(' ', 1)\n",
    "        book_list = ast.literal_eval(book_list_str)\n",
    "        dict_book[user] = book_list\n",
    "    # Pure disk based implementation would probably require us to save the global candidates in disk \n",
    "    generate_global_counts(dict_book, global_candidates)\n",
    "    \n",
    "        "
   ]
  },
  {
   "cell_type": "code",
   "execution_count": 50,
   "metadata": {},
   "outputs": [
    {
     "data": {
      "text/plain": [
       "{1: {('Lady Susan',): 171,\n",
       "  ('Lord of the Flies, a Novel',): 356,\n",
       "  ('Great Expectations',): 6287,\n",
       "  ('Pride and Prejudice',): 4561,\n",
       "  ('Adventures of Huckleberry Finn',): 458,\n",
       "  ('The Poisonwood Bible',): 374,\n",
       "  (\"Cat's Cradle\",): 3336,\n",
       "  ('Catch 22',): 661,\n",
       "  (\"Cat's cradle (A Dell book)\",): 165,\n",
       "  ('An inquiry into the nature and causes of the wealth of nations,',): 932,\n",
       "  ('An inquiry into the nature and causes of the wealth of nations',): 2695,\n",
       "  ('Of Mice And Men',): 507,\n",
       "  ('A Tree Grows in Brooklyn',): 661,\n",
       "  ('Brave New World',): 1994,\n",
       "  ('To Kill a Mocking Bird',): 3656,\n",
       "  ('To Kill a Mockingbird',): 3705,\n",
       "  ('And then there were none',): 258,\n",
       "  ('Cry, the beloved country',): 135,\n",
       "  ('Night',): 647,\n",
       "  ('Lion, the Witch, and the Wardrobe',): 123,\n",
       "  ('The Hobbit',): 4595,\n",
       "  ('Fahrenheit 451',): 1628,\n",
       "  ('Monte Cristo,',): 231,\n",
       "  ('Of Mice and Men',): 2548,\n",
       "  ('Dandelion Wine',): 235,\n",
       "  ('Trojan Odyssey: A Dirk Pitt Novel',): 1026,\n",
       "  ('Dracula (G. K. Hall (Large Print))',): 365,\n",
       "  (\"Alice's Adventures in Wonderland\",): 441,\n",
       "  ('1984',): 1004,\n",
       "  ('Animal Farm 50TH Anniversary Edition',): 445,\n",
       "  ('The road to serfdom,',): 170,\n",
       "  ('Of Mice & Men',): 561,\n",
       "  ('The Sisterhood',): 216,\n",
       "  ('Wuthering Heights (Signet classics)',): 566,\n",
       "  ('A separate peace;: A novel',): 225,\n",
       "  ('Jonathan Livingston Seagull: A Story',): 214,\n",
       "  ('Little women, or, Meg, Jo, Beth and Amy',): 2397,\n",
       "  ('Little Women',): 2934,\n",
       "  ('The Portrait of a Lady (The Classic Collection)',): 169,\n",
       "  ('The Portrait of a Lady (Classic Collection (Brilliance Audio))',): 154,\n",
       "  ('Girl in Hyacinth Blue',): 224,\n",
       "  ('Perfume: The Story of a Murderer',): 132,\n",
       "  ('The richest man in Babylon',): 285,\n",
       "  ('Great Expectations (Signet classics)',): 252,\n",
       "  ('Jane Eyre (New Windmill)',): 226,\n",
       "  ('The Silmarillion',): 399,\n",
       "  ('Great Expectations (Enriched Classics)',): 189,\n",
       "  ('The Autobiography of Benjamin Franklin',): 422,\n",
       "  ('A Christmas Carol, in Prose: Being a Ghost Story of Christmas (Collected Works of Charles Dickens)',): 192,\n",
       "  ('The great Gatsby (Leading English literature library)',): 442,\n",
       "  ('How I Write: Secrets of a Bestselling Author',): 412,\n",
       "  ('A Fine Balance',): 328,\n",
       "  ('Fahrenheit 451 (Cascades S.)',): 554,\n",
       "  ('Manhattan Stories From the Heart of a Great City',): 560,\n",
       "  ('Girl with a Pearl Earring',): 255,\n",
       "  ('Way of the Peaceful Warrior: A Book That Changes Lives',): 1223,\n",
       "  ('Way of the peaceful warrior : a basically true story',): 1223,\n",
       "  ('Foundation',): 1413,\n",
       "  (\"A Connecticut Yankee in King Arthur's Court\",): 1174,\n",
       "  (\"Uncle Tom's Cabin - Or, Life Among The Lowly\",): 162,\n",
       "  ('Old Man & the Sea',): 296,\n",
       "  ('The Martian Chronicles',): 366,\n",
       "  ('ANIMAL FARM - A Fairy Story (Time Reading Program Special Edition)',): 442,\n",
       "  ('For Whom the Bell Tolls',): 133,\n",
       "  ('Jane Eyre: Complete and Unabridged (Puffin Classics)',): 224,\n",
       "  ('On the Road',): 331,\n",
       "  ('East Of Eden',): 259,\n",
       "  ('Lonesome Dove',): 289,\n",
       "  ('Two years before the mast: A personal narrative : \"Housed on the wild sea, with wild usages.\" (The collection of biography and autobiography)',): 213,\n",
       "  ('Two years before the mast: A personal narrative of life at sea',): 440,\n",
       "  ('Moby Dick;: Or, The whale,',): 1672,\n",
       "  ('MOBY DICK or THE WHALE',): 1672,\n",
       "  ('Catch 22 (catch-22)',): 276,\n",
       "  (\"The grapes of wrath (The Collector's library of the world's best-loved books)\",): 191,\n",
       "  ('The Lincoln Lawyer',): 154,\n",
       "  ('The grapes of wrath, (The living library)',): 217,\n",
       "  ('The Jungle Book',): 180,\n",
       "  ('Waiting',): 187,\n",
       "  ('The Picture of Dorian Gray (The Classic Collection)',): 2218,\n",
       "  ('The Picture of Dorian Gray (Classic Collection (Brilliance Audio))',): 2370,\n",
       "  ('The Lord Of The Rings THREE VOLUME BOXED SET (The Fellowship Of The Ring, The Return of The King, The Two towers)',): 555,\n",
       "  ('Wuthering Heights',): 2848,\n",
       "  ('The Picture of Dorian Gray',): 1537,\n",
       "  ('Dreams from My Father: A Story of Race and Inheritance',): 150,\n",
       "  (\"Larry Bond's First Team\",): 162,\n",
       "  ('Without Remorse',): 265,\n",
       "  ('The Hunt for RED OCTOBER',): 127,\n",
       "  ('The Fountainhead',): 356,\n",
       "  ('Crime and Punishment',): 714,\n",
       "  ('Wuthering Heights.',): 256,\n",
       "  ('A tree grows in Brooklyn: A novel (Armed Services edition)',): 148,\n",
       "  ('The Hobbit; Or, There and Back Again',): 1809,\n",
       "  (\"Harry Potter and The Sorcerer's Stone\",): 729,\n",
       "  ('Lord of the flies: A novel',): 355,\n",
       "  ('Ulysses,',): 3632,\n",
       "  ('Who Moved My Cheese? An-Amazing Way to Deal with Change in Your Work and in Your Life',): 291,\n",
       "  ('Foundation And Empire',): 402,\n",
       "  ('The Tipping Point: How Little Things Can Make a Big Difference (Wheeler Compass)',): 176,\n",
       "  ('Wolves of the Calla: Dark Tower V',): 119,\n",
       "  ('Persuasion',): 4731,\n",
       "  ('Metaphors We Live By',): 316,\n",
       "  ('Guns, Germs, and Steel: The Fates of Human Societies',): 396,\n",
       "  ('ERAGON: INHERITANCE, BOOK ONE.',): 290,\n",
       "  ('Ulysses',): 1099,\n",
       "  ('Frankenstein (Running Press classics)',): 296,\n",
       "  ('Leaves of Grass',): 738,\n",
       "  ('The Wisdom of Crowds: Why the Many Are Smarter Than the Few and How Collective Wisdom Shapes Business, Economies, Societies and Nations',): 1632,\n",
       "  ('Outsiders',): 279,\n",
       "  ('Sloppy Firsts (Jessica Darling, Book 1)',): 271,\n",
       "  ('Second Helpings (Jessica Darling, Book 2)',): 200,\n",
       "  ('Silas Marner (The Classic Collection)',): 555,\n",
       "  ('Silas Marner (Classic Collection (Brilliance Audio))',): 555,\n",
       "  ('The Merry Adventures of Robin Hood',): 197,\n",
       "  ('The Merry Adventures of Robin Hood (Illustrated Classic Editions, 4513)',): 197,\n",
       "  (\"Robert Ludlum's The Lazarus Vendetta: A Covert One Novel\",): 168,\n",
       "  ('Upstate',): 603,\n",
       "  ('Slaughterhouse-Five',): 609,\n",
       "  ('Into the Storm (Troubleshooters, Book 10)',): 849,\n",
       "  (\"Left Behind - A Novel Of The Earth's Last Days\",): 272,\n",
       "  ('FOUNDATION',): 464,\n",
       "  ('A tale of two cities',): 218,\n",
       "  (\"The sun also rises (The Modern library of the world's best books)\",): 193,\n",
       "  ('Blink: The Power of Thinking Without Thinking',): 354,\n",
       "  ('Interview With The Vampire SIGNED First Edition',): 178,\n",
       "  ('Daughter of Fortune',): 177,\n",
       "  ('The white company',): 252,\n",
       "  ('Holes',): 505,\n",
       "  ('The Butlerian Jihad (Legends of Dune, Book 1)',): 207,\n",
       "  ('The Machine Crusade (Legends of Dune, Book 2)',): 129,\n",
       "  ('How to Win Friends & Influence People (Cardinal Editions, C 303)',): 161,\n",
       "  (\"Middlemarch: A Novel of Reform (Twayne's Masterwork Studies)\",): 649,\n",
       "  ('Middlemarch A Study of Provincial Life',): 649,\n",
       "  ('Christine',): 145,\n",
       "  ('The poisonwood Bible : a novel',): 238,\n",
       "  ('The Heart of the Matter',): 678,\n",
       "  ('A Town Like Alice',): 151,\n",
       "  ('Fellowship of the Ring 2ND Edition',): 325,\n",
       "  ('Howards End',): 142,\n",
       "  ('A journey to the centre of the earth',): 219,\n",
       "  ('Under the Banner of Heaven',): 266,\n",
       "  ('The Time Machine: An Invention',): 164,\n",
       "  ('Harry Potter and the Chamber of Secrets',): 388,\n",
       "  ('Hannibal',): 230,\n",
       "  ('Founding Brothers: The Revolutionary Generation',): 169,\n",
       "  ('Moreta: Dragonlady of Pern (Dragonriders of Pern Series)',): 334,\n",
       "  ('The Warlord of Mars',): 127,\n",
       "  ('A Princess of Mars',): 327,\n",
       "  ('The Scarlet Letter A Romance',): 5558,\n",
       "  ('The Two Towers',): 1732,\n",
       "  ('The Lord of the Rings Trilogy 3 Volumes',): 577,\n",
       "  ('THE LIFE AND DEATH OF THE MAYOR OF CASTERBRIDGE. A STORY OF A MAN OF CHARACTER',): 378,\n",
       "  ('The life and death of the mayor of Casterbridge;: The story of a man of character (The Riverside literature series)',): 378,\n",
       "  ('Blog: Understanding The Information Reformation',): 374,\n",
       "  ('The Hobbit There and Back Again',): 622,\n",
       "  ('The War of The Worlds',): 127,\n",
       "  ('Mother Night',): 119,\n",
       "  ('The Stand: The Complete and Uncut Edition (ISBN:0340358955)',): 270,\n",
       "  ('Never Cry Wolf',): 152,\n",
       "  ('The Great Gatsby',): 1415,\n",
       "  (\"Bridget Jones's Diary\",): 381,\n",
       "  ('Little Women or Meg, Jo, Beth, and Amy.',): 2480,\n",
       "  ('Little women, or, Meg, Jo, Beth, and Amy (The Little Women series)',): 2460,\n",
       "  ('Little women, or, Meg, Jo, Beth and Amy: Parts I and II',): 1910,\n",
       "  ('The Canterbury Tales',): 164,\n",
       "  ('Practical Magic',): 185,\n",
       "  ('The Adventures of Tom Sawyer (Courage Literary Classics)',): 344,\n",
       "  ('The time machine,: An invention,',): 229,\n",
       "  ('Northanger abbey: A novel',): 800,\n",
       "  ('Northanger Abbey: A novel (The select library of fiction)',): 800,\n",
       "  ('A Farewell to Arms',): 430,\n",
       "  ('The call of the wild',): 143,\n",
       "  ('STRANGER IN A STRANGE LAND',): 137,\n",
       "  ('Shadowland',): 422,\n",
       "  ('Mayor of Casterbridge, the',): 400,\n",
       "  ('The Mayor of Casterbridge',): 433,\n",
       "  ('The Color of Water',): 210,\n",
       "  ('The Golden Compass',): 283,\n",
       "  ('Writers Inc.: A Guide to Writing Thinking & Learning',): 220,\n",
       "  ('Writers Inc GT Writin (1990 publication)',): 220,\n",
       "  ('Up from slavery,: An autobiography',): 459,\n",
       "  ('Up from slavery;: An autobiography,',): 459,\n",
       "  ('The Bonfire of the Vanities',): 121,\n",
       "  (\"It's Not About the Bike: My Journey Back to Life\",): 358,\n",
       "  ('The Picture of Dorian Gray (Penguin Classics)',): 241,\n",
       "  ('Travels With Charley',): 166,\n",
       "  ('The Book of Mormon Another Testament of Jesus Christ (The Doctrine and Convenants of the Church of Jesus Christ of Latter-day Saints, The Pearl of Great Price)',): 252,\n",
       "  ('Apollyon: Left Behind, Volume 5',): 410,\n",
       "  ('Soul Harvest: Left Behind, Volume 4',): 412,\n",
       "  ('The Adventures of Robinson Crusoe',): 237,\n",
       "  ('Shane',): 219,\n",
       "  ('Crossfire Trail',): 132,\n",
       "  ('The Great Divorce',): 591,\n",
       "  ('Oliver Twist (Classics Collection)',): 124,\n",
       "  (\"Slaughterhouse-Five : Or the Children's Crusade\",): 350,\n",
       "  (\"The Hitchhiker's Guide to the Galaxy\",): 976,\n",
       "  ('Slaughter-House Five (First paperback edition)',): 256,\n",
       "  ('The Bluest Eye',): 210,\n",
       "  ('Amber Spyglass (10th Anniversary Ed)',): 223,\n",
       "  ('Under the Banner of Heaven: A Story of Violent Faith',): 266,\n",
       "  ('A Tale of Two Cities - Literary Touchstone Edition',): 223,\n",
       "  ('Dreamcatcher Movie-Tie In',): 174,\n",
       "  ('The Natural',): 117,\n",
       "  ('Deception Point',): 217,\n",
       "  ('Creepers',): 150,\n",
       "  ('Neverwhere',): 190,\n",
       "  ('God of Small Things 1ST Edition Us',): 133,\n",
       "  ('Speaker for the Dead',): 335,\n",
       "  ('To Kill A Mockingbird',): 477,\n",
       "  (\"The No. 1 Ladies' Detective Agency\",): 350,\n",
       "  (\"Tears of the Giraffe: More from the No. 1 Ladies' Detective Agency\",): 250,\n",
       "  ('Dune',): 802,\n",
       "  ('My side of the mountain',): 198,\n",
       "  ('Shutter Island',): 206,\n",
       "  ('Treasure Island (Classic Illustrated)',): 155,\n",
       "  ('Killing Time',): 144,\n",
       "  ('The Illustrated Man',): 146,\n",
       "  (\"Wizard's First Rule (Sword of Truth, Book 1)\",): 189,\n",
       "  ('Johnny Tremain',): 149,\n",
       "  ('The Two Towers: Part II of The Lord of the Rings (J.R.R. Tolkien)',): 603,\n",
       "  ('Heart of Darkness. (Heritage Club Series)',): 213,\n",
       "  ('Wuthering Heights (Riverside editions)',): 399,\n",
       "  ('Jane Eyre (Signet classics)',): 365,\n",
       "  ('A Death in the Family',): 238,\n",
       "  ('Jurassic Park',): 303,\n",
       "  ('The Giver',): 974,\n",
       "  ('Great Gatsby (Everyman)',): 499,\n",
       "  ('Interview With The Vampire',): 123,\n",
       "  ('Where the wild things are [by] Maurice Sendak (Novel units)',): 116,\n",
       "  ('Principles of Quantum Mechanics',): 464,\n",
       "  ('The Old Man and the Sea',): 569,\n",
       "  ('The Catcher in the Rye',): 897,\n",
       "  ('THE SUN ALSO RISES',): 293,\n",
       "  (\"Tess of the d'Urbervilles,: A pure woman faithfully presented\",): 123,\n",
       "  ('Alice\"s Adventures in Wonderland',): 209,\n",
       "  ('The Invisible Man',): 167,\n",
       "  ('Walden',): 189,\n",
       "  ('Treasure Island',): 411,\n",
       "  ('The Hobbitt, or there and back again; illustrated by the author.',): 520,\n",
       "  ('In Plain Sight (Ivy Malone Mysteries, Book 2)',): 172,\n",
       "  ('On the Run (Ivy Malone Mysteries, Book 3)',): 168,\n",
       "  ('Like Water for Chocolate',): 256,\n",
       "  ('The Adventures of Huckleberry Finn',): 233,\n",
       "  ('Holy Bible New International Version',): 818,\n",
       "  ('Moonstone, The',): 714,\n",
       "  ('The Moonstone (A Romance)',): 623,\n",
       "  ('OUT OF THE SILENT PLANET - The Perelandra Trilogy Book (1) One',): 116,\n",
       "  (\"Robert Louis Stevenson's Treasure island\",): 139,\n",
       "  ('Bleak House',): 161,\n",
       "  ('An American tragedy',): 127,\n",
       "  (\"Seeds of Deception: Exposing Industry and Government Lies about the Safety of the Genetically Engineered Foods You're Eating\",): 280,\n",
       "  (\"Seeds of Deception: Exposing Industry and Government Lies About the Safety of the Genetically Engineered Foods You're Eating\",): 280,\n",
       "  ('The Lord of the Rings - Boxed Set',): 546,\n",
       "  ('Middlesex',): 195,\n",
       "  ('The Adventures of Oliver Twist',): 149,\n",
       "  ('The Heir (Reid Family Series)',): 722,\n",
       "  (\"Harper Lee's To Kill a Mockingbird (Barron's Book Notes)\",): 475,\n",
       "  ('A Feast for Crows (A Song of Ice and Fire, Book Four)',): 136,\n",
       "  ('The castle of Llyr',): 160,\n",
       "  ('Alice in Wonderland and Through the Looking Glass',): 212,\n",
       "  ('The Dragon Reborn: Book Three of The Wheel of Time',): 433,\n",
       "  ('The Shadow Rising: Book Four of The Wheel of Time',): 422,\n",
       "  ('Prime Time',): 291,\n",
       "  ('A Portrait of the Artist As a Young Man',): 272,\n",
       "  ('Little women, or, Meg, Jo, Beth, and Amy',): 247,\n",
       "  ('The Turning Tide',): 120,\n",
       "  ('The Stranger Beside Me',): 288,\n",
       "  ('The Catcher in the Rye [Audiobook] [Cd] [Unabridged] (Audio CD)',): 679,\n",
       "  ('Ulysses.',): 322,\n",
       "  ('Wuthering Heights (The Franklin Library)',): 283,\n",
       "  ('Gone with the Wind',): 538,\n",
       "  ('Animal Farm',): 450,\n",
       "  ('Atlantis Found',): 2368,\n",
       "  ('The Rise and Fall of the Third Reich - 2 Volumes Eastern Press Leather (A History of Nazi Germany)',): 121,\n",
       "  ('Mansfield Park',): 159,\n",
       "  ('Slaughter-House Five',): 483,\n",
       "  ('Catch-22',): 774,\n",
       "  ('Stranger in a Strange Land',): 572,\n",
       "  ('THE PHANTOM OF THE OPERA',): 142,\n",
       "  ('The annotated Jules Verne, Twenty thousand leagues under the sea',): 146,\n",
       "  ('Up from Slavery',): 194,\n",
       "  ('Adventures of Huckleberry Finn (Simple English)',): 280,\n",
       "  ('He-Motions: Even Strong Men Struggle',): 328,\n",
       "  ('Tell Me Your Dreams',): 776,\n",
       "  ('The picture of Dorian Gray,',): 237,\n",
       "  ('The Electric Kool-Aid Acid Test',): 181,\n",
       "  ('Lord of the Flies',): 822,\n",
       "  ('Protocols of the Meetings of the Learned Elders of Zion',): 514,\n",
       "  ('The Fires Of Heaven (Turtleback School & Library Binding Edition) (Wheel of Time (Pb))',): 285,\n",
       "  ('The Great Hunt (Turtleback School & Library Binding Edition) (The Wheel of Time, Book 2)',): 289,\n",
       "  ('Technical analysis of stock trends,',): 240,\n",
       "  ('Technical Analysis of Stock Trends',): 232,\n",
       "  ('Adventures of Sherlock Holmes',): 127,\n",
       "  ('Great expectations',): 326,\n",
       "  ('Brave New World Revisited',): 360,\n",
       "  (\"Winter's Heart (The Wheel of Time, Book 9)\",): 245,\n",
       "  ('Zen and the Art of Motorcycle Maintenance',): 362,\n",
       "  ('Earth Abides',): 269,\n",
       "  ('Computational study of the aerodynamics and control of the asymmetric vortical flows over Delta wings (JIAA TR)',): 115,\n",
       "  ('The Awakening',): 365,\n",
       "  ('ONE HUNDRED YEARS OF SOLITUDE',): 205,\n",
       "  ('Wuthering Heights (Penguin Audiobooks)',): 214,\n",
       "  ('The Color Purple',): 183,\n",
       "  ('The Greatest Generation',): 262,\n",
       "  ('The Lord of the Rings (3 Volume Set)',): 590,\n",
       "  ('A Gathering of Spies',): 522,\n",
       "  ('A string in the harp',): 129,\n",
       "  ('Beyond the Highland Mist',): 208,\n",
       "  ('To Tame a Highland Warrior (The Highlander Series, Book 2)',): 195,\n",
       "  ('Frankenstein (Isis Large Print Fiction)',): 225,\n",
       "  ('Down Under: Complete & Unabridged',): 171,\n",
       "  ('The golden notebook',): 165,\n",
       "  ('The golden notebook (A Bantam book)',): 165,\n",
       "  (\"Toni Morrison's Beloved (Modern Critical Interpretations)\",): 153,\n",
       "  ('The Summons',): 188,\n",
       "  ('Cold Mountain A Novel',): 217,\n",
       "  ('Signature Classics - Great Expectations (Signature Classics Series)',): 277,\n",
       "  (\"Rolling Nowhere: Riding the Rails with America's Hoboes\",): 140,\n",
       "  ('Palindrome',): 240,\n",
       "  ('the Picture of Dorian Gray',): 182,\n",
       "  (\"ALICE'S ADVENTURES IN WONDERLAND & THROUGH THE LOOKING GLASS and What Alice Found There (2 volumes)\",): 121,\n",
       "  ('The Hobbit or There and Back Again',): 577,\n",
       "  ('The Nanny Diaries',): 237,\n",
       "  ('Hiroshima',): 484,\n",
       "  ('A Portrait of the Artist as a Young Man',): 352,\n",
       "  ('The Man from Stone Creek',): 299,\n",
       "  ('The Andromeda Strain',): 144,\n",
       "  ('Prey',): 211,\n",
       "  ('Atlas Shrugged',): 1786,\n",
       "  ('The Innocent',): 1513,\n",
       "  ('Moby Dick;: Or, The white whale (A Signet classic)',): 129,\n",
       "  ('The Godfather',): 218,\n",
       "  ('Sense And Sensibility (CH) (Jane Austen Collection)',): 238,\n",
       "  (\"An inquiry into the nature and causes of the wealth of nations, (Bohn's standard library)\",): 130,\n",
       "  ('The scarlet letter: a romance',): 153,\n",
       "  ('The Stranger',): 789,\n",
       "  ('Ulysses (International Collectors Library)',): 229,\n",
       "  ('The Hound of the Baskervilles',): 274,\n",
       "  ('The Mysterious Affair at Styles',): 135,\n",
       "  ('The Count of Monte Cristo',): 459,\n",
       "  ('Mere Christianity',): 1674,\n",
       "  ('Magical Thinking: True Stories',): 1580,\n",
       "  ('Saving Grace',): 154,\n",
       "  ('Leaves of grass,',): 568,\n",
       "  ('Little Women (Courage giant classics)',): 120,\n",
       "  ('The Reader',): 248,\n",
       "  ('Foundation and Empire',): 940,\n",
       "  ('Prelude To Foundation',): 120,\n",
       "  ('All quiet on the western front;',): 156,\n",
       "  ('The Genesis Wave, Book 3 (Star Trek: The Next Generation)',): 144,\n",
       "  ('A CHRISTMAS CAROL, BEING A GHOST STORY OF CHRISTMAS',): 175,\n",
       "  ('Twenty Thousand Leagues Under the Sea (Thorndike Press Large Print Perennial Bestsellers Series)',): 140,\n",
       "  ('The Empress File',): 181,\n",
       "  ('The empress file',): 181,\n",
       "  ('Tribulation Force: Left Behind, Volume 2',): 448,\n",
       "  ('Assassins: Left Behind, Volume 6',): 399,\n",
       "  ('A Raisin in the Sun',): 134,\n",
       "  ('The Fellowship of the Rings',): 376,\n",
       "  ('Rebecca',): 163,\n",
       "  ('Moby-Dick Or the Whale',): 191,\n",
       "  ('Animal Farm (Signet Classics, CT304)',): 440,\n",
       "  ('The War of the Worlds',): 384,\n",
       "  (\"Brave new world; (Harper's modern classics)\",): 297,\n",
       "  ('Rich Dad, Poor Dad',): 246,\n",
       "  ('Jane Eyre',): 371,\n",
       "  ('Coraline',): 242,\n",
       "  ('Little women: Or Meg, Jo, Beth, and Amy',): 150,\n",
       "  ('Count of Monte Cristo',): 191,\n",
       "  ('Huckleberry Finn,',): 206,\n",
       "  ('Breakfast of Champions',): 149,\n",
       "  ('A Prayer for Owen Meany (Franklin Library Signed First Edition)',): 149,\n",
       "  ('Economics in one lesson (Pocket book)',): 152,\n",
       "  ('The Gods of Mars',): 115,\n",
       "  ('Pirate (Hawke Series)',): 647,\n",
       "  ('Hamlet',): 146,\n",
       "  ('Sarah',): 237,\n",
       "  ('Sarah (Canaan Trilogy, Book 1)',): 237,\n",
       "  ('The Adventures of Huckleberry Finn (Courage Literary Classics)',): 360,\n",
       "  ('The Accusers (Marcus Didius Falco Mysteries)',): 146,\n",
       "  ('Vom Winde Verweht ( Gone With the Wind )',): 129,\n",
       "  ('Life on the Mississippi, (A Bantam Pathfinder)',): 664,\n",
       "  ('A Journey to the Center of the Earth',): 355,\n",
       "  ('Twenty Thousand Leagues Under the Sea',): 629,\n",
       "  ('The Notebook',): 239,\n",
       "  ('The merry adventures of Robin Hood of great renown in Nottinghamshire',): 412,\n",
       "  ('The Pearl',): 458,\n",
       "  ('Moby Dick',): 119,\n",
       "  ('The Terrible Hours: The Man Behind the Greatest Submarine Rescue in History',): 931,\n",
       "  (\"Emma (The World's Classics)\",): 177,\n",
       "  ('The Rise and Fall of the Third Reich',): 182,\n",
       "  ('THE CATCHER IN THE RYE',): 632,\n",
       "  ('The Pacific: And Other Stories',): 120,\n",
       "  ('The Pacific',): 120,\n",
       "  (\"Tess of the D'Urbervilles\",): 118,\n",
       "  ('The Last Juror',): 161,\n",
       "  ('Sister Carrie',): 527,\n",
       "  ('To kill a mockingbird',): 1008,\n",
       "  ('The adventures of Huckleberry Finn',): 215,\n",
       "  ('The Grapes of Wrath',): 373,\n",
       "  ('Moby-Dick or The Whale',): 125,\n",
       "  ('Life, the Universe and Everything',): 161,\n",
       "  ('We the Living',): 196,\n",
       "  ('Jungle (Pacemaker Classic Series)',): 131,\n",
       "  ('The Devil Wears Prada',): 155,\n",
       "  ('Black Creek Crossing',): 731,\n",
       "  ('Black Creek Crossing (Brilliance Audio on Compact Disc)',): 356,\n",
       "  ('The Red Badge of Courage: An Episode of the American Civil War',): 260,\n",
       "  ('It',): 131,\n",
       "  ('Barnaby Rudge',): 236,\n",
       "  (\"Angela's Ashes (Turtleback School & Library Binding Edition)\",): 242,\n",
       "  ('Lord of the flies',): 748,\n",
       "  ('Good to Great',): 115,\n",
       "  ('A Christmas Carol (Classic Fiction)',): 439,\n",
       "  (\"Slaughterhouse-five: Or, The children's crusade : a duty-dance with death\",): 189,\n",
       "  ('Night Play (Dark-Hunter, Book 6)',): 248,\n",
       "  ('Seize the Night (Dark-Hunter, Book 7)',): 229,\n",
       "  ('Song of Redemption (Chronicles of the Kings #2)',): 164,\n",
       "  ('The Strength of His Hand (Chronicles of the Kings #3)',): 177,\n",
       "  ('Faith of My Fathers (Chronicles of the Kings #4)',): 148,\n",
       "  ('Heart of Darkness (Everyman Classics)',): 217,\n",
       "  ('Pride & Prejudice (New Windmill)',): 363,\n",
       "  ('The sun also rises (The Greatest books of the twentieth century)',): 243,\n",
       "  ('My Life',): 183,\n",
       "  (\"Persuasion (World's Classics)\",): 116,\n",
       "  ('Frankenstein',): 533,\n",
       "  ('Cranford',): 137,\n",
       "  ('Zen And The Art of Motorcycle Maintenance',): 158,\n",
       "  ('God bless you, Mr. Rosewater;: Or, Pearls before swine (A Dell book)',): 119,\n",
       "  ('The crying of lot 49',): 126,\n",
       "  ('Little women: Or, Meg, Jo, Beth, and Amy',): 173,\n",
       "  ('Ella Enchanted',): 210,\n",
       "  (\"Robert Ludlum's The Paris Option : A Covert-One Novel\",): 204,\n",
       "  (\"Robert Ludlum's Paris Option\",): 204,\n",
       "  ('The Martian Way',): 476,\n",
       "  ('Pride & Prejudice (Classic Library)',): 510,\n",
       "  ('The Picture of Dorian Gray (Bantam Classics)',): 219,\n",
       "  ('Oryx and Crake',): 126,\n",
       "  ('Of Mice and Men (Penguin Audiobooks)',): 521,\n",
       "  ('Sister Carrie: A novel',): 473,\n",
       "  ('Anna Karenina',): 144,\n",
       "  ('Second Sight (The Arcane Society, Book 1)',): 581,\n",
       "  ('Three Nights in August: Strategy, Heartbreak, and Joy Inside the Mind of a Manager',): 447,\n",
       "  ('Three Nights in August: Strategy, Heartbreak, and Joy: Inside the Mind of a Manager',): 447,\n",
       "  ('In the Heart of the Sea : The Tragedy of the Whaleship Essex',): 147,\n",
       "  ('The Murder of Roger Ackroyd',): 278,\n",
       "  ('Beloved',): 116,\n",
       "  ('The Bean Trees',): 200,\n",
       "  ('A Tree Grows in Brooklyn by Smith, Betty',): 122,\n",
       "  ('Wuthering Heights (New Windmill)',): 355,\n",
       "  ('Emma',): 731,\n",
       "  ('The Outsiders',): 260,\n",
       "  ('The Peter Principle',): 166,\n",
       "  ('The Peter Principle: Why Things Always Go Wrong',): 166,\n",
       "  ('Life on the Mississippi',): 344,\n",
       "  ('The grapes of wrath',): 290,\n",
       "  ('Separate Peace',): 286,\n",
       "  ('The Color of Magic',): 147,\n",
       "  ('Anansi Boys',): 125,\n",
       "  ('The Abolition of Man',): 117,\n",
       "  ('Me Talk Pretty One Day',): 156,\n",
       "  ('George Orwell 1984',): 410,\n",
       "  ('Red Harvest',): 121,\n",
       "  ('The Quiet American',): 487,\n",
       "  ('The Sound and the Fury',): 159,\n",
       "  ('Twisted',): 209,\n",
       "  ('Twisted: The collected stories of Jeffery Deaver',): 189,\n",
       "  ('Cane River',): 122,\n",
       "  (\"The Pilot's Wife\",): 120,\n",
       "  ('The Scarlet Letter (Lake Illustrated Classics, Collection 2)',): 149,\n",
       "  ('Twenty thousand leagues under the sea',): 289,\n",
       "  ('everything on this page is for Treasure Island',): 193,\n",
       "  ('Newjack: Guarding Sing Sing',): 870,\n",
       "  ('Jane Eyre / Wuthering Heights',): 314,\n",
       "  ('The Mammoth Cheese',): 173,\n",
       "  (\"Emma (World's Classics)\",): 150,\n",
       "  (\"The Kalahari Typing School for Men: More from the No. 1 Ladies' Detective Agency\",): 186,\n",
       "  (\"Morality For Beautiful Girls: More from the No. 1 Ladies' Detective Agency\",): 224,\n",
       "  ('Leaves of grass',): 154,\n",
       "  ('Alfred Hitchcock Presents 12 Stories For Late Night',): 188,\n",
       "  ('Little women; or, Meg, Jo, Beth, and Amy,',): 240,\n",
       "  ('Executive Orders',): 174,\n",
       "  ('The Red Badge of Courage (Lake Illustrated Classics, Collection 1)',): 174,\n",
       "  ('The Lion, the Witch and the Wardrobe (Chronicles of Narnia, 1)',): 119,\n",
       "  ('Red Rabbit',): 150,\n",
       "  ('Little Women or Meg, Jo, Beth and Amy',): 311,\n",
       "  ('Something Wicked This Way Comes',): 117,\n",
       "  (\"Alice's Adventures in Wonderland and Through the Looking Glass (Classic Collection)\",): 1095,\n",
       "  (\"Alice's Adventures in Wonderland and Through the Looking Glass (Classic Collection (Brilliance Audio))\",): 2190,\n",
       "  ('Disgrace: Complete & Unabridged',): 156,\n",
       "  ('Catch-Twenty-Two',): 304,\n",
       "  ('Point of origin',): 222,\n",
       "  ('Harry Potter & the Prisoner of Azkaban',): 328,\n",
       "  ('The Lord of the Rings Trilogy: Three Volumes in Slipcase',): 592,\n",
       "  ('The Scarlet Letter',): 353,\n",
       "  ('Return of the King Being the Third Part of The Lord of the Rings',): 116,\n",
       "  ('Sense and Sensibility',): 402,\n",
       "  ('The Count of Monte Cristo: Golden Picture Classic',): 234,\n",
       "  ('Heart of Darkness',): 249,\n",
       "  ('In the Night Room: A Novel',): 342,\n",
       "  ('Emma (Summer Classics)',): 133,\n",
       "  ('His Dark Materials Trilogy',): 257,\n",
       "  ('A Lesson Before Dying (Library Edition Audio CDs) (Audio Theatre Collection)',): 122,\n",
       "  (\"Lady Chatterley's Lover\",): 127,\n",
       "  ('The Girl Who Loved Tom Gordon',): 135,\n",
       "  ('Seabiscuit: An American Legend (Trade Edition) (Turtleback School & Library Binding Edition)',): 199,\n",
       "  ('Of Mice and Men Hb (New Windmill)',): 748,\n",
       "  ('Lie by Moonlight',): 318,\n",
       "  ('Naked',): 228,\n",
       "  ('Holidays on Ice',): 160,\n",
       "  ('The complete works of Edgar Allan Poe',): 124,\n",
       "  ('The complete works of Edgar Allan Poe,',): 124,\n",
       "  ('House of Mirth',): 121,\n",
       "  ('The Big Sleep',): 266,\n",
       "  ('The Sigma Protocol',): 120,\n",
       "  ('East of Eden',): 953,\n",
       "  ('Ship of Fools',): 132,\n",
       "  ('Memoirs of a Geisha (Signed)',): 364,\n",
       "  ('Dragons of the Dwarven Depths: The Lost Chronicles, Volume I (Lost Chronicles Trilogy)',): 683,\n",
       "  ('Lucky Jim',): 132,\n",
       "  ('Blood meridian, or, The evening redness in the west (Picador)',): 154,\n",
       "  ('The Count Of Monte Cristo, Abridged',): 255,\n",
       "  ('Five People You Meet in Heaven',): 332,\n",
       "  ('The Lord of the Rings Box Set',): 444,\n",
       "  ('Riptide (FBI Thriller)',): 840,\n",
       "  ('Journey to the Center of the Earth',): 115,\n",
       "  ('The Screwtape letters',): 127,\n",
       "  ('FEAR AND LOATHING IN LAS VEGAS a Savage Journey to the Heart of the American Dream',): 228,\n",
       "  ('About a Boy',): 256,\n",
       "  ('Unfit for Command: Swift Boat Veterans Speak Out Against John Kerry',): 417,\n",
       "  ('The Red Tent (Bestselling Backlist)',): 224,\n",
       "  ('Tarzan of the Apes',): 184,\n",
       "  ('The Secret Garden',): 135,\n",
       "  (\"The hitchhiker's guide to the galaxy\",): 196,\n",
       "  ('The Alchemist: A Fable about Following Your Dream',): 364,\n",
       "  ('Crossroads of Twilight (The Wheel of Time, Book 10)',): 662,\n",
       "  ('A Room with a View',): 146,\n",
       "  ('Little Men',): 496,\n",
       "  ('Sense & Sensibility (Classic Library)',): 293,\n",
       "  (\"Charlotte's Web\",): 148,\n",
       "  ('For whom the bell tolls (Zephyr books)',): 154,\n",
       "  ('The Sea Wolf',): 211,\n",
       "  ('The Lord of the Rings: The Fellowship of the Ring (BBC Audio Collection)',): 316,\n",
       "  ('Moby Dick Or the Whale',): 137,\n",
       "  ('Journey to the Centre of the Earth',): 235,\n",
       "  ('Middlemarch',): 124,\n",
       "  (\"The Shadow of the Wind Bestseller's Choice Audio\",): 196,\n",
       "  ('1st to Die: A Novel',): 182,\n",
       "  ('OF MICE AND MEN',): 511,\n",
       "  ('Addicted',): 254,\n",
       "  ('Illusions: The Adventures of a Reluctant Messiah',): 178,\n",
       "  ('Emma (Letras Universales / Universal Writings) (Spanish Edition)',): 250,\n",
       "  ('The Princess Bride',): 338,\n",
       "  ('John Adams',): 218,\n",
       "  ('Romeo and Juliet',): 316,\n",
       "  ('Tell No One',): 139,\n",
       "  ('THE MALTESE FALCON - A Sam Spade Mystery',): 123,\n",
       "  ('Jude the Obscure',): 160,\n",
       "  (\"Man's Search for Meaning\",): 505,\n",
       "  (\"Kushiel's Dart\",): 393,\n",
       "  ('Silent Spring',): 152,\n",
       "  ('Nineteen Eighty-four',): 516,\n",
       "  ('The Corrections',): 222,\n",
       "  ('Full House',): 139,\n",
       "  ('Eleanor of Aquitaine and the Four Kings',): 236,\n",
       "  ('I, Robot',): 132,\n",
       "  ('Rainbow Six',): 269,\n",
       "  ('The Bear and the Dragon',): 548,\n",
       "  ('The Conspiracy Club',): 841,\n",
       "  ('Up from slavery;: An autobiography',): 477,\n",
       "  ('Up from slavery: An autobiography',): 563,\n",
       "  ('Gone with the Wind (The Margaret Mitchell Anniversary Edition)',): 122,\n",
       "  ('2001: A Space Odyssey',): 176,\n",
       "  (\"The Eater's Guide to Chinese Characters\",): 136,\n",
       "  ('THE RED BADGE OF COURAGE: AN EPISODE OF THE AMERICAN CIVIL WAR.',): 129,\n",
       "  (\"Kushiel's Chosen (Kushiel's Legacy)\",): 192,\n",
       "  ('The Happiest Baby on the Block: The New Way to Calm Crying and Help Your Newborn Baby Sleep Longer',): 137,\n",
       "  ('A Separate Peace',): 224,\n",
       "  ('Kiss of the Night (Dark-Hunter, Book 5)',): 193,\n",
       "  (\"Little men : life at Plumfield with Jo's boys\",): 246,\n",
       "  ('A Clockwork Orange',): 308,\n",
       "  ('America Alone: The End of the World as We Know It',): 139,\n",
       "  ('The great divorce',): 182,\n",
       "  ('Doomsday Book',): 120,\n",
       "  ('The egg and I',): 240,\n",
       "  ('The Egg and I',): 258,\n",
       "  ('Naked in Death',): 128,\n",
       "  ('The Time Machine : An Invention (Literary Texts Ser.)',): 153,\n",
       "  ('The Clan of the Cave Bear',): 208,\n",
       "  ('Something Wicked This Way Comes.',): 138,\n",
       "  ('Consciousness: An Introduction',): 142,\n",
       "  ('I know this much is true',): 144,\n",
       "  ('Caddie Woodlawn',): 264,\n",
       "  ('When Tomorrow Comes (Canadian West)',): 119,\n",
       "  ('When Tomorrow Comes (Canadian West #6)',): 122,\n",
       "  ('The Bell Jar (Great Books of the 20th Century)',): 140,\n",
       "  ('The Lord of the Rings Trilogy (The Fellowship of the Ring, The Two Towers, The Return of the King, I, II, III)',): 485,\n",
       "  ('Stone of Farewell: Book Two of Memory, Sorrow and Thorn',): 119,\n",
       "  ('Siege',): 115,\n",
       "  ('Starship Troopers',): 502,\n",
       "  ('The Call of the Wild (Dover Large Print Classics)',): 165,\n",
       "  ('A confederacy of dunces',): 186,\n",
       "  ('No man knows my history: The life of Joseph Smith, the Mormon prophet',): 140,\n",
       "  ('The Guns of August',): 196,\n",
       "  ('Hatchet',): 375,\n",
       "  ('A Room With a View',): 134,\n",
       "  ('The Adventures of Sherlock Holmes',): 180,\n",
       "  ('Nights In Rodanthe (Turtleback School & Library Binding Edition)',): 119,\n",
       "  ('Flatland: A Romance of Many Dimensions',): 211,\n",
       "  ('Pride & Prejudice (Penguin Classics)',): 296,\n",
       "  ('The Other Boleyn Girl',): 145,\n",
       "  ('The Wind In the Willows',): 117,\n",
       "  ('Gorky Park',): 121,\n",
       "  ('The Plot Against America',): 140,\n",
       "  ('Treasure Island; (Easy reading books: upper-grade interest)',): 174,\n",
       "  ('Shame on It All',): 164,\n",
       "  ('A separate peace',): 186,\n",
       "  ('Wuthering Heights (College classics in English)',): 223,\n",
       "  ('WATERSHIP DOWN - AVON #19810',): 237,\n",
       "  ('Little women;: Or, Meg, Jo, Beth, and Amy',): 145,\n",
       "  ('Cannery Row',): 163,\n",
       "  ('Player Piano',): 141,\n",
       "  ('Christmas Carol (Ladybird Classics)',): 178,\n",
       "  ('Red Tent',): 246,\n",
       "  ('Anne Frank: The Diary of a Young Girl',): 125,\n",
       "  ('Down Under; Abridged',): 159,\n",
       "  ('Bridges of Madison County',): 125,\n",
       "  ('The Postman Always Rings Twice',): 293,\n",
       "  (\"The Pilot's Wife (Oprah's Book Club Selection Ser. )\",): 140,\n",
       "  (\"One Flew Over the Cuckoo's Nest\",): 331,\n",
       "  ('The Scarlet Letter, A Romance',): 164,\n",
       "  ('The Call Of The Wild',): 163,\n",
       "  ('The Renegades of Pern (Dragonriders of Pern Series)',): 343,\n",
       "  ('Lost Horizon',): 177,\n",
       "  ('Empire Rising',): 129,\n",
       "  ('Dr Jekyll And Mr Hyde',): 182,\n",
       "  ('Year of Wonders (Turtleback School & Library Binding Edition)',): 125,\n",
       "  ('O is for Outlaw: A Kinsey Millhone Mystery',): 938,\n",
       "  ('The Good German',): 164,\n",
       "  ('The Outlaw Sea: A World of Freedom, Chaos, and Crime',): 382,\n",
       "  ('On the origin of species by means of natural selection, or The preservation of favoured races in the struggle for life',): 544,\n",
       "  ('Mrs Dalloway (Essential Penguin 2)',): 126,\n",
       "  ('Alfred Hitchcock Presents 12 Stories for Late At Night',): 200,\n",
       "  ('Roma Eterna (Gollancz Sf S.)',): 200,\n",
       "  ('A Christmas Carol [One Voice Recordings Edition]',): 218,\n",
       "  ('Evelina',): 125,\n",
       "  ('Murder on the Orient Express',): 194,\n",
       "  ('Point of Origin',): 210,\n",
       "  ('The count of Monte Cristo (The novels of Alexandre Dumas)',): 249,\n",
       "  ('Saucer',): 129,\n",
       "  ('Parenting an Only Child',): 208,\n",
       "  ('The Big Bad Wolf',): 119,\n",
       "  ('Crime & punishment;',): 156,\n",
       "  ('A Streetcar Named Desire',): 118,\n",
       "  ('MLA Handbook for Writers of Research Papers',): 287,\n",
       "  ('MLA Handbook for Writers of Research Papers (Sixth Edition Large Print)',): 287,\n",
       "  ('Stranger in a Strange Land : ( Science Fiction Book Club Ltd Edition )',): 119,\n",
       "  ('Arabic (Eastern)',): 128,\n",
       "  ('Brave new world,: A novel',): 272,\n",
       "  ('One Hundred Years of Solitude',): 211,\n",
       "  ('The Age of Innocence (Classic, 20th-Century, Audio)',): 184,\n",
       "  ('Jonathan Strange & Mr. Norrell',): 187,\n",
       "  ('Two years before the mast: A personal narrative of life at sea,',): 209,\n",
       "  (\"Alice's Adventures in Wonderland Throught the Looking Glass\",): 122,\n",
       "  ('The book of three',): 130,\n",
       "  ('The Castle of Llyr',): 142,\n",
       "  ('Heart of Darkness and the Secret Sharer',): 205,\n",
       "  ('Emma (CH) (Jane Austen Collection)',): 164,\n",
       "  ('HYPERION',): 138,\n",
       "  ('New Routledge Dutch Dictionary (Routledge Bilingual Dictionaries)',): 120,\n",
       "  ('Picture of Dorian Gray',): 181,\n",
       "  (\"The Handmaid's Tale\",): 147,\n",
       "  ('Jane Eyre (Simple English)',): 264,\n",
       "  ('The Burgess bird book for children',): 352,\n",
       "  ('Anna Karenina - translated from the Russian by Constance Garnett',): 215,\n",
       "  ('The Naked Sun',): 119,\n",
       "  (\"Jane Eyre (Everyman's Classics)\",): 364,\n",
       "  ('Me Talk Pretty One Day C',): 174,\n",
       "  (\"Alice's adventures in Wonderland and Through the looking glass\",): 122,\n",
       "  ('The Subtle Knife: His Dark Materials, Book 2',): 196,\n",
       "  ('Ethan Frome',): 124,\n",
       "  ('Crucible, The',): 174,\n",
       "  ('Little Women: or Meg, Jo, Beth, and Amy',): 115,\n",
       "  ('The Lion, the Witch and the Wardrobe Movie Tie-in Edition (The Chronicles of Narnia)',): 130,\n",
       "  ('Franny and Zooey',): 120,\n",
       "  (\"Tess of the d'Urbervilles\",): 124,\n",
       "  ('Angels in the Gloom (World War One Series)',): 210,\n",
       "  ('Twenty thousand leagues under the sea, (The Windermere series)',): 141,\n",
       "  ('The Jungle',): 120,\n",
       "  ('Middlesex [Unabridged Audiobook]',): 157,\n",
       "  ('And Then There Were None',): 190,\n",
       "  ('A Tale of Two Cities, Literary Touchstone Edition',): 179,\n",
       "  ('The Daughter of Time',): 172,\n",
       "  ('Fiesta [The Sun Also Rises].',): 257,\n",
       "  ('The Heart is a Lonely Hunter',): 236,\n",
       "  ('THE STORY OF FERDINAND',): 133,\n",
       "  ('Sense and Sensibility (Wordsworth Hardback Library)',): 190,\n",
       "  ('Black Rose (In the Garden Series)',): 219,\n",
       "  ('Red Lily (In the Garden Series)',): 182,\n",
       "  ('A Christmas Carol (Enriched Classics (Pocket))',): 197,\n",
       "  ('The Outsiders (Adapted for the Stage)',): 266,\n",
       "  ('The strange case of Dr. Jekyll and Mr. Hyde,',): 161,\n",
       "  ('The Killer Angels (Turtleback School & Library Binding Edition)',): 197,\n",
       "  ('A Christmas carol: In prose',): 218,\n",
       "  ('The Federalist Papers',): 172,\n",
       "  ('The Partner Audio Book on Tape',): 136,\n",
       "  (\"Alice's Adventures in Wonderland and Through the Looking Glass\",): 449,\n",
       "  ('Jonathan Strange & Mr. Norrell Signed',): 199,\n",
       "  ('Comes the Blind Fury',): 330,\n",
       "  ('Calder Promise',): 192,\n",
       "  ('Couple Skills: Making Your Relationship Work',): 150,\n",
       "  ('Dr. Jekyll and Mr. Hyde',): 168,\n",
       "  ('The 7 habits of highly effective people: Wisdom and insights from',): 119,\n",
       "  ('Cold Mountain',): 274,\n",
       "  ('Goodnight Moon',): 156,\n",
       "  (\"Northanger abbey (The World's classics)\",): 168,\n",
       "  ('Persuasion (French Edition)',): 183,\n",
       "  ('Me Talk Pretty One Day (Turtleback School & Library Binding Edition)',): 174,\n",
       "  ('Emma (Signet classics)',): 322,\n",
       "  ('Sense and sensibility',): 119,\n",
       "  ('Suzannes Diary For Nicholas',): 142,\n",
       "  ('Where the Heart is',): 268,\n",
       "  ('Wish You Well',): 132,\n",
       "  ('The Romanov Prophecy',): 124,\n",
       "  ('Picture of Dorian Grey (Classic Library)',): 141,\n",
       "  ('Twenty Thousand leagues Under the Sea',): 163,\n",
       "  ('Alice in Wonderland',): 238,\n",
       "  ('One for the Money',): 196,\n",
       "  ('Jane Eyre (Penguin Classics)',): 271,\n",
       "  ('Hiroshima (A Borzoi book)',): 136,\n",
       "  ('Cinderella Man: James J. Braddock, Max Baer and the Greatest Upset in Boxing History',): 232,\n",
       "  ('Forever',): 137,\n",
       "  ('The Good Earth',): 166,\n",
       "  ('We Should Never Meet: Stories',): 118,\n",
       "  ('Franny & Zooey',): 131,\n",
       "  ('The Scarlet Letter : A Romance',): 171,\n",
       "  ('The life and times of Jesus the Messiah',): 380,\n",
       "  ('The Tin Drum',): 174,\n",
       "  ('The Stand. The Complete and Uncut Edition',): 202,\n",
       "  ('The King of Torts',): 135,\n",
       "  ('Love In The Time Of Cholera',): 124,\n",
       "  ('The Return of the King',): 136,\n",
       "  ('The Screwtape letters,',): 118,\n",
       "  ('EAST OF EDEN',): 202,\n",
       "  ('I Am Legend',): 154,\n",
       "  ('The Grapes of Wrath (Steinbeck Essentials)',): 237,\n",
       "  ('The Crystal City',): 193,\n",
       "  ('The Crystal City: The Tales of Alvin Maker, Volume VI',): 193,\n",
       "  (\"The Lion's Game\",): 122,\n",
       "  ('THE BOOK OF MORMON: Another Testament of Jesus Christ',): 250,\n",
       "  ('THE VAMPIRE LESTAT',): 121,\n",
       "  ('RENDEZVOUS WITH RAMA',): 120,\n",
       "  ('The vicar of Wakefield',): 130,\n",
       "  ('A Quiet Strength (Prairie Legacy Series #3)',): 176,\n",
       "  (\"The Chronicles of Narnia: The Lion, The Witch and the Wardrobe (Collector's Edition)\",): 139,\n",
       "  (\"Gap Creek: The Story Of A Marriage (Oprah's Book Club)\",): 135,\n",
       "  ('The Palestine-Israel Conflict: A Basic Introduction',): 162,\n",
       "  ('THE MARTIAN CHRONICLES',): 122,\n",
       "  ('Tender Is the Night',): 208,\n",
       "  ('Enchantment',): 180,\n",
       "  ('Hannibal (Hannibal Lecter)',): 200,\n",
       "  ('The Dispossessed',): 137,\n",
       "  ('Manifesto of the Communist Party',): 124,\n",
       "  ('Flood Tide (Dirk Pitt)',): 135,\n",
       "  (\"Man's Search for Meaning; an Introduction to Logotherapy\",): 192,\n",
       "  ('Persuasion (Penguin Audio Classics)',): 223,\n",
       "  ('Sense & Sensibility Cds (Penguin Classics)',): 276,\n",
       "  ('Jonathan Livingston Seagull (20th Anniversary Ed.)',): 143,\n",
       "  (\"A Greek-English lexicon of the New Testament: Being Grimm's Wilke's Clavis Novi Testamenti\",): 198,\n",
       "  ('Like Water for Chocolate: a novel in monthly installments, withrecipes, romances, and home remedies',): 244,\n",
       "  ('The Once and Future King',): 149,\n",
       "  ('Anarchism and other essays',): 196,\n",
       "  ('In Cold Blood: A True Account of a Multiple Murder and Its Consequences',): 142,\n",
       "  (\"Player's Handbook: Core Rulebook I (Dungeons & Dragons)\",): 264,\n",
       "  ('Watchmen',): 283,\n",
       "  ('Batman: Year One',): 180,\n",
       "  ('The Dharma Bums',): 244,\n",
       "  ('Hard Times',): 171,\n",
       "  ('Mary Barton: A Tale of Manchester Life',): 178,\n",
       "  ('Watership Down',): 242,\n",
       "  ('The Call of the Wild (Library of America)',): 145,\n",
       "  ('Plainsong',): 269,\n",
       "  ('Summer Moon',): 191,\n",
       "  ('DR JEKYL AND MR HYDE (MEDALLION EDITION)',): 126,\n",
       "  ('The Fellowship of the Ring',): 390,\n",
       "  ('Portrait of a Killer: Jack the Ripper - Case Closed',): 156,\n",
       "  ('On liberty',): 130,\n",
       "  ('The Moonstone',): 124,\n",
       "  (\"We Can't Teach What We Don't Know: White Teachers, Multiracial Schools (Multicultural Education Series)\",): 120,\n",
       "  (\"We Can't Teach What We Don't Know: White Teachers, Multiracial Schools (Series on School Reform)\",): 120,\n",
       "  ('The Lion, the Witch and the Wardrobe',): 214,\n",
       "  ('Contact : a novel',): 208,\n",
       "  ('Contact',): 265,\n",
       "  ('The Scarlet Letter (Courage Unabridged Classics)',): 128,\n",
       "  (\"Stedman's Abbreviations, Acronyms & Symbols\",): 136,\n",
       "  (\"All the King's Men\",): 177,\n",
       "  ('Walden : or, Life in the woods',): 115,\n",
       "  (\"The white company, (Longmans' supplementary readers)\",): 127,\n",
       "  (\"The white company, (Longmans' simplified English series)\",): 127,\n",
       "  ('Sweet Hush',): 156,\n",
       "  ('P is for Peril (Abridged AudioBook)',): 130,\n",
       "  ('David Copperfield',): 136,\n",
       "  (\"Uncle Tom's cabin;: Or, Life among the lowly\",): 117,\n",
       "  ('Back When We Were Grownups: A Novel',): 119,\n",
       "  ('Jane Eyre (Large Print)',): 225,\n",
       "  ('The Bluest Eye (G K Hall Large Print Book Series)',): 240,\n",
       "  ('A Painted house: A novel (The Oxford American)',): 223,\n",
       "  ('Woman in White',): 146,\n",
       "  ('Guilty Pleasures (Anita Blake Vampire Hunter Ser.)',): 127,\n",
       "  ('Little Women (Junior Classics)',): 172,\n",
       "  ('A Tramp Abroad',): 197,\n",
       "  (\"A Room of One's Own\",): 171,\n",
       "  ('Stranger In A Strange Land: Library Edition',): 133,\n",
       "  ('Run Silent, Run Deep',): 126,\n",
       "  ('The fountainhead,',): 169,\n",
       "  ('Redwall: Redwall, Book 1',): 125,\n",
       "  ('In the Heart of the Sea: The Tragedy of the Whaleship Essex',): 148,\n",
       "  ('The Count of Monte Cristo, (The Rittenhouse classics)',): 177,\n",
       "  ('The Bell Jar : A Novel (Perennial Classics)',): 138,\n",
       "  ('Twenty Thousand Leagues Under the Sea (Caxton Edition)',): 117,\n",
       "  ('Italian in 10 Minutes a Day',): 152,\n",
       "  ('The Pact: A Love Story',): 171,\n",
       "  ('The Strange Case of Dr. Jekyll and Mr. Hyde and Other Stories',): 134,\n",
       "  ('Like Water for Chocolate: A Novel in Monthly Installments, With Recipes, Romances, and Home Remedies',): 257,\n",
       "  (\"Race To The Pole: Tragedy, Heroism, And Scott's Antarctic Quest\",): 128,\n",
       "  ('The once and future king (A laurel edition)',): 134,\n",
       "  (\"Dungeon Master's Guide: Core Rulebook II (Dungeons & Dragons)\",): 116,\n",
       "  ('Monster Manual: Core Rulebook III (Dungeons & Dragons)',): 128,\n",
       "  ('A princess of Mars',): 123,\n",
       "  (\"Everything's Eventual: 14 Dark Tales\",): 117,\n",
       "  ('Out of the Dust',): 171,\n",
       "  ('How to Win Friends & Influence People',): 157,\n",
       "  ('A JOURNEY TO THE CENTER OF THE EARTH',): 153,\n",
       "  ('Crime and Punishment (Penguin Classics)',): 119,\n",
       "  ('In the Heart of the Sea',): 156,\n",
       "  ('Call It Courage',): 118,\n",
       "  ('Oahu Revealed: The Ultimate Guide to Honolulu, Waikiki & Beyond',): 120,\n",
       "  ('Maui Revealed: The Ultimate Guidebook',): 128,\n",
       "  ('Airframe',): 139,\n",
       "  ('The Mormon Murders: A True Story of Greed, Forgery, Deceit, & Death',): 128,\n",
       "  ('The Problem of Pain',): 131,\n",
       "  ('Sharks of the World (Princeton Field Guides)',): 136,\n",
       "  ('The wind in the willows',): 119,\n",
       "  ('The ethics of ambiguity;',): 122,\n",
       "  ('Beyond the Yellow Brick Road: Our Children and Drugs',): 152,\n",
       "  ('Roses Are Red',): 115,\n",
       "  ('Tender is the Night',): 125,\n",
       "  ('20, 000 Leagues Under the Sea',): 161,\n",
       "  ('My Father the Spy: An Investigative Memoir',): 128,\n",
       "  ('Bridget Jones: The Edge of Reason',): 125,\n",
       "  ('Economics in one lesson',): 141,\n",
       "  (\"Alice's Adventures in Wonderland, and, Through the Looking-Glass\",): 133,\n",
       "  ('Sense & Sensibility',): 137,\n",
       "  ('Hearts in Atlantis',): 160,\n",
       "  ('Magic Kingdom for Sale - Sold! (Landover Series)',): 115,\n",
       "  ('The Golden Road',): 129,\n",
       "  ('Punish the Sinners',): 182,\n",
       "  ('Texas Sunrise (Texas Series)',): 138},\n",
       " 2: {('Silas Marner (Classic Collection (Brilliance Audio))',\n",
       "   'Silas Marner (The Classic Collection)'): 544,\n",
       "  ('The Picture of Dorian Gray (Classic Collection (Brilliance Audio))',\n",
       "   'The Picture of Dorian Gray (The Classic Collection)'): 2173,\n",
       "  ('To Kill a Mocking Bird', 'To Kill a Mockingbird'): 3398,\n",
       "  ('Little Women or Meg, Jo, Beth, and Amy.',\n",
       "   'Little women, or, Meg, Jo, Beth and Amy: Parts I and II'): 1802,\n",
       "  ('Little Women or Meg, Jo, Beth, and Amy.',\n",
       "   'Little women, or, Meg, Jo, Beth, and Amy (The Little Women series)'): 2367,\n",
       "  ('Little women, or, Meg, Jo, Beth and Amy: Parts I and II',\n",
       "   'Little women, or, Meg, Jo, Beth, and Amy (The Little Women series)'): 1782,\n",
       "  ('MOBY DICK or THE WHALE', 'Moby Dick;: Or, The whale,'): 1664,\n",
       "  ('Little Women', 'Little women, or, Meg, Jo, Beth and Amy'): 2352,\n",
       "  (\"Alice's Adventures in Wonderland and Through the Looking Glass (Classic Collection (Brilliance Audio))\",\n",
       "   \"Alice's Adventures in Wonderland and Through the Looking Glass (Classic Collection)\"): 1057,\n",
       "  ('Way of the Peaceful Warrior: A Book That Changes Lives',\n",
       "   'Way of the peaceful warrior : a basically true story'): 1215,\n",
       "  ('Moonstone, The', 'The Moonstone (A Romance)'): 611,\n",
       "  ('Northanger Abbey: A novel (The select library of fiction)',\n",
       "   'Northanger abbey: A novel'): 793,\n",
       "  ('An inquiry into the nature and causes of the wealth of nations',\n",
       "   'An inquiry into the nature and causes of the wealth of nations,'): 710,\n",
       "  ('Middlemarch A Study of Provincial Life',\n",
       "   \"Middlemarch: A Novel of Reform (Twayne's Masterwork Studies)\"): 637,\n",
       "  ('Pride & Prejudice (Classic Library)',\n",
       "   'Sense & Sensibility (Classic Library)'): 159,\n",
       "  ('Up from slavery: An autobiography',\n",
       "   'Up from slavery;: An autobiography'): 350,\n",
       "  (\"A Connecticut Yankee in King Arthur's Court\",\n",
       "   'Life on the Mississippi, (A Bantam Pathfinder)'): 471,\n",
       "  ('Leaves of Grass', 'Leaves of grass,'): 381,\n",
       "  ('Three Nights in August: Strategy, Heartbreak, and Joy Inside the Mind of a Manager',\n",
       "   'Three Nights in August: Strategy, Heartbreak, and Joy: Inside the Mind of a Manager'): 335,\n",
       "  ('The Dragon Reborn: Book Three of The Wheel of Time',\n",
       "   'The Shadow Rising: Book Four of The Wheel of Time'): 292,\n",
       "  ('Mayor of Casterbridge, the', 'The Mayor of Casterbridge'): 291,\n",
       "  ('THE LIFE AND DEATH OF THE MAYOR OF CASTERBRIDGE. A STORY OF A MAN OF CHARACTER',\n",
       "   'The life and death of the mayor of Casterbridge;: The story of a man of character (The Riverside literature series)'): 271,\n",
       "  ('Sister Carrie', 'Sister Carrie: A novel'): 308,\n",
       "  ('Catch-22', 'Slaughter-House Five'): 143,\n",
       "  ('Up from slavery,: An autobiography',\n",
       "   'Up from slavery;: An autobiography,'): 334,\n",
       "  (\"Robert Ludlum's Paris Option\",\n",
       "   \"Robert Ludlum's The Paris Option : A Covert-One Novel\"): 152,\n",
       "  ('The Fires Of Heaven (Turtleback School & Library Binding Edition) (Wheel of Time (Pb))',\n",
       "   'The Great Hunt (Turtleback School & Library Binding Edition) (The Wheel of Time, Book 2)'): 182,\n",
       "  ('1984', 'Fahrenheit 451'): 224,\n",
       "  ('The Merry Adventures of Robin Hood',\n",
       "   'The Merry Adventures of Robin Hood (Illustrated Classic Editions, 4513)'): 139,\n",
       "  ('Black Creek Crossing',\n",
       "   'Black Creek Crossing (Brilliance Audio on Compact Disc)'): 178,\n",
       "  ('MLA Handbook for Writers of Research Papers',\n",
       "   'MLA Handbook for Writers of Research Papers (Sixth Edition Large Print)'): 142,\n",
       "  (\"Seeds of Deception: Exposing Industry and Government Lies About the Safety of the Genetically Engineered Foods You're Eating\",\n",
       "   \"Seeds of Deception: Exposing Industry and Government Lies about the Safety of the Genetically Engineered Foods You're Eating\"): 140,\n",
       "  ('Apollyon: Left Behind, Volume 5',\n",
       "   'Assassins: Left Behind, Volume 6'): 135},\n",
       " 3: {('Little Women or Meg, Jo, Beth, and Amy.',\n",
       "   'Little women, or, Meg, Jo, Beth and Amy: Parts I and II',\n",
       "   'Little women, or, Meg, Jo, Beth, and Amy (The Little Women series)'): 1782},\n",
       " 4: {}}"
      ]
     },
     "execution_count": 50,
     "metadata": {},
     "output_type": "execute_result"
    }
   ],
   "source": [
    "global_frequent_itemsets = {level: {itemset: count for itemset, count in itemsets.items() if count >= min_support_count} for level, itemsets in global_counts.items()}\n",
    "global_frequent_itemsets"
   ]
  },
  {
   "cell_type": "code",
   "execution_count": 51,
   "metadata": {},
   "outputs": [
    {
     "name": "stdout",
     "output_type": "stream",
     "text": [
      "856\n",
      "33\n",
      "1\n",
      "0\n"
     ]
    }
   ],
   "source": [
    "for level in global_frequent_itemsets:\n",
    "    print(len(global_frequent_itemsets[level]))"
   ]
  },
  {
   "cell_type": "code",
   "execution_count": 52,
   "metadata": {},
   "outputs": [],
   "source": [
    "data = pd.read_csv('dataset/Books_rating.csv')\n",
    "data = data[['User_id', 'Title']]\n",
    "grouped_data = data.groupby('User_id')['Title'].apply(list)\n",
    "grouped_data = grouped_data.to_dict()"
   ]
  },
  {
   "cell_type": "code",
   "execution_count": 53,
   "metadata": {},
   "outputs": [
    {
     "name": "stdout",
     "output_type": "stream",
     "text": [
      "Found 206712 candidate itemsets from 1st Level\n"
     ]
    },
    {
     "ename": "TypeError",
     "evalue": "'<' not supported between instances of 'float' and 'str'",
     "output_type": "error",
     "traceback": [
      "\u001b[1;31m---------------------------------------------------------------------------\u001b[0m",
      "\u001b[1;31mTypeError\u001b[0m                                 Traceback (most recent call last)",
      "Cell \u001b[1;32mIn[53], line 2\u001b[0m\n\u001b[0;32m      1\u001b[0m improved_apriori \u001b[38;5;241m=\u001b[39m Improved_Apriori(grouped_data, min_support\u001b[38;5;241m=\u001b[39mmin_support, min_confidence\u001b[38;5;241m=\u001b[39m\u001b[38;5;241m1\u001b[39m, verbose\u001b[38;5;241m=\u001b[39m\u001b[38;5;241m2\u001b[39m)\n\u001b[1;32m----> 2\u001b[0m frequent_book_set \u001b[38;5;241m=\u001b[39m \u001b[43mimproved_apriori\u001b[49m\u001b[38;5;241;43m.\u001b[39;49m\u001b[43mapriori\u001b[49m\u001b[43m(\u001b[49m\u001b[43m)\u001b[49m\n",
      "File \u001b[1;32m~\\Documents\\Github\\Data-Analytics-Mining-Project-2\\Task 2\\../Task 1\\improved_apriori.py:126\u001b[0m, in \u001b[0;36mImproved_Apriori.apriori\u001b[1;34m(self)\u001b[0m\n\u001b[0;32m    124\u001b[0m \u001b[38;5;28;01mdef\u001b[39;00m \u001b[38;5;21mapriori\u001b[39m(\u001b[38;5;28mself\u001b[39m):\n\u001b[0;32m    125\u001b[0m     \u001b[38;5;66;03m# Retrieve the transaction ids once \u001b[39;00m\n\u001b[1;32m--> 126\u001b[0m     L1, transaction_ids_dict \u001b[38;5;241m=\u001b[39m \u001b[38;5;28;43mself\u001b[39;49m\u001b[38;5;241;43m.\u001b[39;49m\u001b[43mgenerate_L1_transaction_dict\u001b[49m\u001b[43m(\u001b[49m\u001b[43m)\u001b[49m\n\u001b[0;32m    127\u001b[0m     \u001b[38;5;28;01mif\u001b[39;00m(\u001b[38;5;28mself\u001b[39m\u001b[38;5;241m.\u001b[39mverbose \u001b[38;5;241m>\u001b[39m \u001b[38;5;241m0\u001b[39m):\n\u001b[0;32m    128\u001b[0m         \u001b[38;5;28mprint\u001b[39m(\u001b[38;5;124mf\u001b[39m\u001b[38;5;124m\"\u001b[39m\u001b[38;5;124mFound \u001b[39m\u001b[38;5;132;01m{\u001b[39;00m\u001b[38;5;28mlen\u001b[39m(L1)\u001b[38;5;132;01m}\u001b[39;00m\u001b[38;5;124m frequent itemsets from 1th item candidate sets\u001b[39m\u001b[38;5;124m\"\u001b[39m)\n",
      "File \u001b[1;32m~\\Documents\\Github\\Data-Analytics-Mining-Project-2\\Task 2\\../Task 1\\improved_apriori.py:40\u001b[0m, in \u001b[0;36mImproved_Apriori.generate_L1_transaction_dict\u001b[1;34m(self)\u001b[0m\n\u001b[0;32m     38\u001b[0m     \u001b[38;5;28mprint\u001b[39m(\u001b[38;5;124mf\u001b[39m\u001b[38;5;124m\"\u001b[39m\u001b[38;5;124mFound \u001b[39m\u001b[38;5;132;01m{\u001b[39;00m\u001b[38;5;28mlen\u001b[39m(L1)\u001b[38;5;132;01m}\u001b[39;00m\u001b[38;5;124m candidate itemsets from 1st Level\u001b[39m\u001b[38;5;124m\"\u001b[39m)\n\u001b[0;32m     39\u001b[0m L1 \u001b[38;5;241m=\u001b[39m {item: freq \u001b[38;5;28;01mfor\u001b[39;00m item, freq \u001b[38;5;129;01min\u001b[39;00m L1\u001b[38;5;241m.\u001b[39mitems() \u001b[38;5;28;01mif\u001b[39;00m freq\u001b[38;5;241m/\u001b[39m\u001b[38;5;28mlen\u001b[39m(\u001b[38;5;28mself\u001b[39m\u001b[38;5;241m.\u001b[39mdata) \u001b[38;5;241m>\u001b[39m\u001b[38;5;241m=\u001b[39m \u001b[38;5;28mself\u001b[39m\u001b[38;5;241m.\u001b[39mmin_support}\n\u001b[1;32m---> 40\u001b[0m L1 \u001b[38;5;241m=\u001b[39m {k: L1[k] \u001b[38;5;28;01mfor\u001b[39;00m k \u001b[38;5;129;01min\u001b[39;00m \u001b[38;5;28msorted\u001b[39m(L1)}\n\u001b[0;32m     42\u001b[0m \u001b[38;5;66;03m# Filter transaction_id_dict\u001b[39;00m\n\u001b[0;32m     43\u001b[0m transaction_id_dict \u001b[38;5;241m=\u001b[39m {item: transaction_ids \u001b[38;5;28;01mfor\u001b[39;00m item, transaction_ids \u001b[38;5;129;01min\u001b[39;00m transaction_id_dict\u001b[38;5;241m.\u001b[39mitems() \u001b[38;5;28;01mif\u001b[39;00m item \u001b[38;5;129;01min\u001b[39;00m L1}\n",
      "\u001b[1;31mTypeError\u001b[0m: '<' not supported between instances of 'float' and 'str'"
     ]
    }
   ],
   "source": [
    "improved_apriori = Improved_Apriori(grouped_data, min_support=min_support, min_confidence=1, verbose=2)\n",
    "frequent_book_set = improved_apriori.apriori()"
   ]
  },
  {
   "cell_type": "code",
   "execution_count": null,
   "metadata": {},
   "outputs": [],
   "source": [
    "itemset, _ = apriori(list(grouped_data.values()), min_support = min_support, verbosity=2)"
   ]
  },
  {
   "cell_type": "code",
   "execution_count": null,
   "metadata": {},
   "outputs": [],
   "source": [
    "frequent_book_set"
   ]
  },
  {
   "cell_type": "code",
   "execution_count": null,
   "metadata": {},
   "outputs": [],
   "source": [
    "itemset"
   ]
  },
  {
   "cell_type": "code",
   "execution_count": 55,
   "metadata": {},
   "outputs": [],
   "source": [
    "f = open(\"dataset/books_frequent_itemsets.txt\", \"w\")\n",
    "f.write(str(global_frequent_itemsets))\n",
    "f.close()"
   ]
  },
  {
   "cell_type": "code",
   "execution_count": null,
   "metadata": {},
   "outputs": [],
   "source": []
  }
 ],
 "metadata": {
  "kernelspec": {
   "display_name": "Python 3 (ipykernel)",
   "language": "python",
   "name": "python3"
  },
  "language_info": {
   "codemirror_mode": {
    "name": "ipython",
    "version": 3
   },
   "file_extension": ".py",
   "mimetype": "text/x-python",
   "name": "python",
   "nbconvert_exporter": "python",
   "pygments_lexer": "ipython3",
   "version": "3.11.4"
  }
 },
 "nbformat": 4,
 "nbformat_minor": 4
}
