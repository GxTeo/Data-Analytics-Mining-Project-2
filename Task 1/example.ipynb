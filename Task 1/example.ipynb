{
 "cells": [
  {
   "cell_type": "code",
   "execution_count": 1,
   "metadata": {},
   "outputs": [],
   "source": [
    "from apriori import Apriori\n",
    "from improved_apriori import Improved_Apriori\n",
    "import pandas as pd\n",
    "from efficient_apriori import apriori\n"
   ]
  },
  {
   "cell_type": "code",
   "execution_count": 2,
   "metadata": {},
   "outputs": [],
   "source": [
    "data = {'T1': ['I1', 'I2', 'I5'],\n",
    "        'T2': ['I2', 'I4'],\n",
    "        'T3': ['I2', 'I4'],\n",
    "        'T4': ['I1', 'I2', 'I4'],\n",
    "        'T5': ['I1', 'I3'],\n",
    "        'T6': ['I2', 'I3'],\n",
    "        'T7': ['I1', 'I3'],\n",
    "        'T8': ['I1', 'I2', 'I3', 'I5'],\n",
    "        'T9': ['I1', 'I2', 'I3']\n",
    "        }"
   ]
  },
  {
   "cell_type": "code",
   "execution_count": 3,
   "metadata": {},
   "outputs": [
    {
     "name": "stderr",
     "output_type": "stream",
     "text": [
      "6it [00:00, 72108.38it/s]\n"
     ]
    },
    {
     "name": "stdout",
     "output_type": "stream",
     "text": [
      "[('I1', 'I2'), ('I1', 'I3'), ('I2', 'I4'), ('I2', 'I3')]\n",
      "Candidate Sets: [('I1', 'I2', 'I3'), ('I2', 'I4', 'I3')]\n"
     ]
    },
    {
     "name": "stderr",
     "output_type": "stream",
     "text": [
      "2it [00:00, 43690.67it/s]\n"
     ]
    }
   ],
   "source": [
    "improved_apriori = Improved_Apriori(data, min_support=0.3, min_confidence=1)\n",
    "itemset = improved_apriori.apriori()"
   ]
  },
  {
   "cell_type": "code",
   "execution_count": 4,
   "metadata": {},
   "outputs": [
    {
     "data": {
      "text/plain": [
       "{('I1',): 6, ('I2',): 7, ('I4',): 3, ('I3',): 5}"
      ]
     },
     "execution_count": 4,
     "metadata": {},
     "output_type": "execute_result"
    }
   ],
   "source": [
    "L1 = improved_apriori.generate_L1_itemsets()\n",
    "L1"
   ]
  },
  {
   "cell_type": "code",
   "execution_count": null,
   "metadata": {},
   "outputs": [],
   "source": []
  },
  {
   "cell_type": "code",
   "execution_count": 5,
   "metadata": {},
   "outputs": [
    {
     "data": {
      "text/plain": [
       "[{('I1',): 6, ('I2',): 7, ('I4',): 3, ('I3',): 5},\n",
       " {('I1', 'I2'): 4, ('I1', 'I3'): 4, ('I2', 'I4'): 3, ('I2', 'I3'): 3},\n",
       " {}]"
      ]
     },
     "execution_count": 5,
     "metadata": {},
     "output_type": "execute_result"
    }
   ],
   "source": [
    "itemset"
   ]
  }
 ],
 "metadata": {
  "kernelspec": {
   "display_name": "myenv",
   "language": "python",
   "name": "myenv"
  },
  "language_info": {
   "codemirror_mode": {
    "name": "ipython",
    "version": 3
   },
   "file_extension": ".py",
   "mimetype": "text/x-python",
   "name": "python",
   "nbconvert_exporter": "python",
   "pygments_lexer": "ipython3",
   "version": "3.9.2"
  },
  "orig_nbformat": 4
 },
 "nbformat": 4,
 "nbformat_minor": 2
}
