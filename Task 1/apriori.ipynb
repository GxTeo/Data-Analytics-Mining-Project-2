{
 "cells": [
  {
   "cell_type": "code",
   "execution_count": 1,
   "metadata": {},
   "outputs": [],
   "source": [
    "from apriori import Apriori\n",
    "from improved_apriori import Improved_Apriori\n",
    "import pandas as pd\n",
    "import csv\n",
    "from efficient_apriori import apriori\n"
   ]
  },
  {
   "cell_type": "code",
   "execution_count": 2,
   "metadata": {},
   "outputs": [
    {
     "ename": "FileNotFoundError",
     "evalue": "[Errno 2] No such file or directory: 'test_dataset/test1.csv'",
     "output_type": "error",
     "traceback": [
      "\u001b[0;31m---------------------------------------------------------------------------\u001b[0m",
      "\u001b[0;31mFileNotFoundError\u001b[0m                         Traceback (most recent call last)",
      "\u001b[1;32m/Users/gx/Projects/Data-Analytics-Mining-Project-2/Task 1/apriori.ipynb Cell 2\u001b[0m line \u001b[0;36m3\n\u001b[1;32m      <a href='vscode-notebook-cell:/Users/gx/Projects/Data-Analytics-Mining-Project-2/Task%201/apriori.ipynb#W1sZmlsZQ%3D%3D?line=0'>1</a>\u001b[0m \u001b[39m# Test Dataset\u001b[39;00m\n\u001b[1;32m      <a href='vscode-notebook-cell:/Users/gx/Projects/Data-Analytics-Mining-Project-2/Task%201/apriori.ipynb#W1sZmlsZQ%3D%3D?line=1'>2</a>\u001b[0m \u001b[39m# Took this test dataset from apriori-python repo\u001b[39;00m\n\u001b[0;32m----> <a href='vscode-notebook-cell:/Users/gx/Projects/Data-Analytics-Mining-Project-2/Task%201/apriori.ipynb#W1sZmlsZQ%3D%3D?line=2'>3</a>\u001b[0m data \u001b[39m=\u001b[39m pd\u001b[39m.\u001b[39;49mread_csv(\u001b[39m'\u001b[39;49m\u001b[39mtest_dataset/test1.csv\u001b[39;49m\u001b[39m'\u001b[39;49m)\n\u001b[1;32m      <a href='vscode-notebook-cell:/Users/gx/Projects/Data-Analytics-Mining-Project-2/Task%201/apriori.ipynb#W1sZmlsZQ%3D%3D?line=3'>4</a>\u001b[0m data\u001b[39m.\u001b[39mhead(\u001b[39m10\u001b[39m)\n",
      "File \u001b[0;32m~/.pyenv/versions/3.9.2/lib/python3.9/site-packages/pandas/io/parsers/readers.py:948\u001b[0m, in \u001b[0;36mread_csv\u001b[0;34m(filepath_or_buffer, sep, delimiter, header, names, index_col, usecols, dtype, engine, converters, true_values, false_values, skipinitialspace, skiprows, skipfooter, nrows, na_values, keep_default_na, na_filter, verbose, skip_blank_lines, parse_dates, infer_datetime_format, keep_date_col, date_parser, date_format, dayfirst, cache_dates, iterator, chunksize, compression, thousands, decimal, lineterminator, quotechar, quoting, doublequote, escapechar, comment, encoding, encoding_errors, dialect, on_bad_lines, delim_whitespace, low_memory, memory_map, float_precision, storage_options, dtype_backend)\u001b[0m\n\u001b[1;32m    935\u001b[0m kwds_defaults \u001b[39m=\u001b[39m _refine_defaults_read(\n\u001b[1;32m    936\u001b[0m     dialect,\n\u001b[1;32m    937\u001b[0m     delimiter,\n\u001b[0;32m   (...)\u001b[0m\n\u001b[1;32m    944\u001b[0m     dtype_backend\u001b[39m=\u001b[39mdtype_backend,\n\u001b[1;32m    945\u001b[0m )\n\u001b[1;32m    946\u001b[0m kwds\u001b[39m.\u001b[39mupdate(kwds_defaults)\n\u001b[0;32m--> 948\u001b[0m \u001b[39mreturn\u001b[39;00m _read(filepath_or_buffer, kwds)\n",
      "File \u001b[0;32m~/.pyenv/versions/3.9.2/lib/python3.9/site-packages/pandas/io/parsers/readers.py:611\u001b[0m, in \u001b[0;36m_read\u001b[0;34m(filepath_or_buffer, kwds)\u001b[0m\n\u001b[1;32m    608\u001b[0m _validate_names(kwds\u001b[39m.\u001b[39mget(\u001b[39m\"\u001b[39m\u001b[39mnames\u001b[39m\u001b[39m\"\u001b[39m, \u001b[39mNone\u001b[39;00m))\n\u001b[1;32m    610\u001b[0m \u001b[39m# Create the parser.\u001b[39;00m\n\u001b[0;32m--> 611\u001b[0m parser \u001b[39m=\u001b[39m TextFileReader(filepath_or_buffer, \u001b[39m*\u001b[39;49m\u001b[39m*\u001b[39;49mkwds)\n\u001b[1;32m    613\u001b[0m \u001b[39mif\u001b[39;00m chunksize \u001b[39mor\u001b[39;00m iterator:\n\u001b[1;32m    614\u001b[0m     \u001b[39mreturn\u001b[39;00m parser\n",
      "File \u001b[0;32m~/.pyenv/versions/3.9.2/lib/python3.9/site-packages/pandas/io/parsers/readers.py:1448\u001b[0m, in \u001b[0;36mTextFileReader.__init__\u001b[0;34m(self, f, engine, **kwds)\u001b[0m\n\u001b[1;32m   1445\u001b[0m     \u001b[39mself\u001b[39m\u001b[39m.\u001b[39moptions[\u001b[39m\"\u001b[39m\u001b[39mhas_index_names\u001b[39m\u001b[39m\"\u001b[39m] \u001b[39m=\u001b[39m kwds[\u001b[39m\"\u001b[39m\u001b[39mhas_index_names\u001b[39m\u001b[39m\"\u001b[39m]\n\u001b[1;32m   1447\u001b[0m \u001b[39mself\u001b[39m\u001b[39m.\u001b[39mhandles: IOHandles \u001b[39m|\u001b[39m \u001b[39mNone\u001b[39;00m \u001b[39m=\u001b[39m \u001b[39mNone\u001b[39;00m\n\u001b[0;32m-> 1448\u001b[0m \u001b[39mself\u001b[39m\u001b[39m.\u001b[39m_engine \u001b[39m=\u001b[39m \u001b[39mself\u001b[39;49m\u001b[39m.\u001b[39;49m_make_engine(f, \u001b[39mself\u001b[39;49m\u001b[39m.\u001b[39;49mengine)\n",
      "File \u001b[0;32m~/.pyenv/versions/3.9.2/lib/python3.9/site-packages/pandas/io/parsers/readers.py:1705\u001b[0m, in \u001b[0;36mTextFileReader._make_engine\u001b[0;34m(self, f, engine)\u001b[0m\n\u001b[1;32m   1703\u001b[0m     \u001b[39mif\u001b[39;00m \u001b[39m\"\u001b[39m\u001b[39mb\u001b[39m\u001b[39m\"\u001b[39m \u001b[39mnot\u001b[39;00m \u001b[39min\u001b[39;00m mode:\n\u001b[1;32m   1704\u001b[0m         mode \u001b[39m+\u001b[39m\u001b[39m=\u001b[39m \u001b[39m\"\u001b[39m\u001b[39mb\u001b[39m\u001b[39m\"\u001b[39m\n\u001b[0;32m-> 1705\u001b[0m \u001b[39mself\u001b[39m\u001b[39m.\u001b[39mhandles \u001b[39m=\u001b[39m get_handle(\n\u001b[1;32m   1706\u001b[0m     f,\n\u001b[1;32m   1707\u001b[0m     mode,\n\u001b[1;32m   1708\u001b[0m     encoding\u001b[39m=\u001b[39;49m\u001b[39mself\u001b[39;49m\u001b[39m.\u001b[39;49moptions\u001b[39m.\u001b[39;49mget(\u001b[39m\"\u001b[39;49m\u001b[39mencoding\u001b[39;49m\u001b[39m\"\u001b[39;49m, \u001b[39mNone\u001b[39;49;00m),\n\u001b[1;32m   1709\u001b[0m     compression\u001b[39m=\u001b[39;49m\u001b[39mself\u001b[39;49m\u001b[39m.\u001b[39;49moptions\u001b[39m.\u001b[39;49mget(\u001b[39m\"\u001b[39;49m\u001b[39mcompression\u001b[39;49m\u001b[39m\"\u001b[39;49m, \u001b[39mNone\u001b[39;49;00m),\n\u001b[1;32m   1710\u001b[0m     memory_map\u001b[39m=\u001b[39;49m\u001b[39mself\u001b[39;49m\u001b[39m.\u001b[39;49moptions\u001b[39m.\u001b[39;49mget(\u001b[39m\"\u001b[39;49m\u001b[39mmemory_map\u001b[39;49m\u001b[39m\"\u001b[39;49m, \u001b[39mFalse\u001b[39;49;00m),\n\u001b[1;32m   1711\u001b[0m     is_text\u001b[39m=\u001b[39;49mis_text,\n\u001b[1;32m   1712\u001b[0m     errors\u001b[39m=\u001b[39;49m\u001b[39mself\u001b[39;49m\u001b[39m.\u001b[39;49moptions\u001b[39m.\u001b[39;49mget(\u001b[39m\"\u001b[39;49m\u001b[39mencoding_errors\u001b[39;49m\u001b[39m\"\u001b[39;49m, \u001b[39m\"\u001b[39;49m\u001b[39mstrict\u001b[39;49m\u001b[39m\"\u001b[39;49m),\n\u001b[1;32m   1713\u001b[0m     storage_options\u001b[39m=\u001b[39;49m\u001b[39mself\u001b[39;49m\u001b[39m.\u001b[39;49moptions\u001b[39m.\u001b[39;49mget(\u001b[39m\"\u001b[39;49m\u001b[39mstorage_options\u001b[39;49m\u001b[39m\"\u001b[39;49m, \u001b[39mNone\u001b[39;49;00m),\n\u001b[1;32m   1714\u001b[0m )\n\u001b[1;32m   1715\u001b[0m \u001b[39massert\u001b[39;00m \u001b[39mself\u001b[39m\u001b[39m.\u001b[39mhandles \u001b[39mis\u001b[39;00m \u001b[39mnot\u001b[39;00m \u001b[39mNone\u001b[39;00m\n\u001b[1;32m   1716\u001b[0m f \u001b[39m=\u001b[39m \u001b[39mself\u001b[39m\u001b[39m.\u001b[39mhandles\u001b[39m.\u001b[39mhandle\n",
      "File \u001b[0;32m~/.pyenv/versions/3.9.2/lib/python3.9/site-packages/pandas/io/common.py:863\u001b[0m, in \u001b[0;36mget_handle\u001b[0;34m(path_or_buf, mode, encoding, compression, memory_map, is_text, errors, storage_options)\u001b[0m\n\u001b[1;32m    858\u001b[0m \u001b[39melif\u001b[39;00m \u001b[39misinstance\u001b[39m(handle, \u001b[39mstr\u001b[39m):\n\u001b[1;32m    859\u001b[0m     \u001b[39m# Check whether the filename is to be opened in binary mode.\u001b[39;00m\n\u001b[1;32m    860\u001b[0m     \u001b[39m# Binary mode does not support 'encoding' and 'newline'.\u001b[39;00m\n\u001b[1;32m    861\u001b[0m     \u001b[39mif\u001b[39;00m ioargs\u001b[39m.\u001b[39mencoding \u001b[39mand\u001b[39;00m \u001b[39m\"\u001b[39m\u001b[39mb\u001b[39m\u001b[39m\"\u001b[39m \u001b[39mnot\u001b[39;00m \u001b[39min\u001b[39;00m ioargs\u001b[39m.\u001b[39mmode:\n\u001b[1;32m    862\u001b[0m         \u001b[39m# Encoding\u001b[39;00m\n\u001b[0;32m--> 863\u001b[0m         handle \u001b[39m=\u001b[39m \u001b[39mopen\u001b[39;49m(\n\u001b[1;32m    864\u001b[0m             handle,\n\u001b[1;32m    865\u001b[0m             ioargs\u001b[39m.\u001b[39;49mmode,\n\u001b[1;32m    866\u001b[0m             encoding\u001b[39m=\u001b[39;49mioargs\u001b[39m.\u001b[39;49mencoding,\n\u001b[1;32m    867\u001b[0m             errors\u001b[39m=\u001b[39;49merrors,\n\u001b[1;32m    868\u001b[0m             newline\u001b[39m=\u001b[39;49m\u001b[39m\"\u001b[39;49m\u001b[39m\"\u001b[39;49m,\n\u001b[1;32m    869\u001b[0m         )\n\u001b[1;32m    870\u001b[0m     \u001b[39melse\u001b[39;00m:\n\u001b[1;32m    871\u001b[0m         \u001b[39m# Binary mode\u001b[39;00m\n\u001b[1;32m    872\u001b[0m         handle \u001b[39m=\u001b[39m \u001b[39mopen\u001b[39m(handle, ioargs\u001b[39m.\u001b[39mmode)\n",
      "\u001b[0;31mFileNotFoundError\u001b[0m: [Errno 2] No such file or directory: 'test_dataset/test1.csv'"
     ]
    }
   ],
   "source": [
    "# Test Dataset\n",
    "# Took this test dataset from apriori-python repo\n",
    "data = pd.read_csv('test_dataset/test1.csv')\n",
    "data.head(10)"
   ]
  },
  {
   "cell_type": "markdown",
   "metadata": {},
   "source": [
    "# Own Algorithm"
   ]
  },
  {
   "cell_type": "code",
   "execution_count": 3,
   "metadata": {},
   "outputs": [
    {
     "name": "stdout",
     "output_type": "stream",
     "text": [
      "{0: ['handphone', 'laptop'], 1: ['handphone', 'laptop', 'charger'], 2: ['handphone', 'laptop', 'charger', 'powerbank'], 3: ['handphone', 'laptop', 'tablet'], 4: ['handphone', 'charger', 'tablet'], 5: ['powerbank', 'tablet'], 6: ['handphone', 'laptop', 'charger', 'tablet'], 7: ['handphone', 'charger'], 8: ['handphone', 'powerbank'], 9: ['laptop', 'charger', 'powerbank']}\n"
     ]
    }
   ],
   "source": [
    "# Data Processing where we structure the data to fit our own implementation\n",
    "# Create a dictionary where the key is the index and the value is a tuple of items\n",
    "data_dict = data.apply(lambda row: (row.dropna().index.tolist()), axis=1).to_dict()\n",
    "print(data_dict)\n"
   ]
  },
  {
   "cell_type": "code",
   "execution_count": 10,
   "metadata": {},
   "outputs": [
    {
     "name": "stdout",
     "output_type": "stream",
     "text": [
      "Previous itemsets:  {('handphone',): 1, ('laptop',): 1, ('charger',): 1, ('powerbank',): 1, ('tablet',): 1}\n",
      "Previous itemsets:  {frozenset({'laptop', 'handphone'}): 5, frozenset({'charger', 'handphone'}): 5, frozenset({'powerbank', 'handphone'}): 2, frozenset({'tablet', 'handphone'}): 3, frozenset({'laptop', 'charger'}): 4, frozenset({'laptop', 'powerbank'}): 2, frozenset({'laptop', 'tablet'}): 2, frozenset({'powerbank', 'charger'}): 2, frozenset({'tablet', 'charger'}): 2, frozenset({'powerbank', 'tablet'}): 1}\n",
      "Previous itemsets:  {frozenset({'laptop', 'charger', 'handphone'}): 3, frozenset({'laptop', 'powerbank', 'handphone'}): 1, frozenset({'laptop', 'tablet', 'handphone'}): 2, frozenset({'powerbank', 'charger', 'handphone'}): 1, frozenset({'tablet', 'charger', 'handphone'}): 2, frozenset({'laptop', 'powerbank', 'charger'}): 2, frozenset({'laptop', 'tablet', 'charger'}): 1}\n",
      "Previous itemsets:  {frozenset({'powerbank', 'laptop', 'charger', 'handphone'}): 1, frozenset({'tablet', 'laptop', 'charger', 'handphone'}): 1}\n",
      "No more frequent itemsets are further found\n",
      "Itemsets Count 1: {('handphone',): 1, ('laptop',): 1, ('charger',): 1, ('powerbank',): 1, ('tablet',): 1}\n",
      "Itemsets Count 2: {frozenset({'laptop', 'handphone'}): 5, frozenset({'charger', 'handphone'}): 5, frozenset({'powerbank', 'handphone'}): 2, frozenset({'tablet', 'handphone'}): 3, frozenset({'laptop', 'charger'}): 4, frozenset({'laptop', 'powerbank'}): 2, frozenset({'laptop', 'tablet'}): 2, frozenset({'powerbank', 'charger'}): 2, frozenset({'tablet', 'charger'}): 2, frozenset({'powerbank', 'tablet'}): 1}\n",
      "Itemsets Count 3: {frozenset({'laptop', 'charger', 'handphone'}): 3, frozenset({'laptop', 'powerbank', 'handphone'}): 1, frozenset({'laptop', 'tablet', 'handphone'}): 2, frozenset({'powerbank', 'charger', 'handphone'}): 1, frozenset({'tablet', 'charger', 'handphone'}): 2, frozenset({'laptop', 'powerbank', 'charger'}): 2, frozenset({'laptop', 'tablet', 'charger'}): 1}\n",
      "Itemsets Count 4: {frozenset({'powerbank', 'laptop', 'charger', 'handphone'}): 1, frozenset({'tablet', 'laptop', 'charger', 'handphone'}): 1}\n"
     ]
    }
   ],
   "source": [
    "apriori_own = Apriori(data_dict, min_support=0.001, min_confidence=1)\n",
    "most_frequent_item_set = apriori_own.run_apriori()\n",
    "for key in most_frequent_item_set:\n",
    "    print(f\"Itemsets Count {key}: {most_frequent_item_set[key]}\")"
   ]
  },
  {
   "cell_type": "markdown",
   "metadata": {},
   "source": [
    "# Efficient Apriori"
   ]
  },
  {
   "cell_type": "code",
   "execution_count": 5,
   "metadata": {},
   "outputs": [
    {
     "data": {
      "text/plain": [
       "[['handphone', 'laptop'],\n",
       " ['handphone', 'laptop', 'charger'],\n",
       " ['handphone', 'laptop', 'charger', 'powerbank'],\n",
       " ['handphone', 'laptop', 'tablet'],\n",
       " ['handphone', 'charger', 'tablet'],\n",
       " ['powerbank', 'tablet'],\n",
       " ['handphone', 'laptop', 'charger', 'tablet'],\n",
       " ['handphone', 'charger'],\n",
       " ['handphone', 'powerbank'],\n",
       " ['laptop', 'charger', 'powerbank']]"
      ]
     },
     "execution_count": 5,
     "metadata": {},
     "output_type": "execute_result"
    }
   ],
   "source": [
    "# data processing\n",
    "data_list = data.apply(lambda row: row.dropna().index.tolist(), axis=1).tolist()\n",
    "data_list"
   ]
  },
  {
   "cell_type": "code",
   "execution_count": 6,
   "metadata": {},
   "outputs": [
    {
     "data": {
      "text/plain": [
       "{1: {('handphone',): 8,\n",
       "  ('laptop',): 6,\n",
       "  ('charger',): 6,\n",
       "  ('powerbank',): 4,\n",
       "  ('tablet',): 4},\n",
       " 2: {('charger', 'handphone'): 5,\n",
       "  ('charger', 'laptop'): 4,\n",
       "  ('charger', 'powerbank'): 2,\n",
       "  ('charger', 'tablet'): 2,\n",
       "  ('handphone', 'laptop'): 5,\n",
       "  ('handphone', 'powerbank'): 2,\n",
       "  ('handphone', 'tablet'): 3,\n",
       "  ('laptop', 'powerbank'): 2,\n",
       "  ('laptop', 'tablet'): 2,\n",
       "  ('powerbank', 'tablet'): 1},\n",
       " 3: {('charger', 'handphone', 'laptop'): 3,\n",
       "  ('charger', 'handphone', 'powerbank'): 1,\n",
       "  ('charger', 'handphone', 'tablet'): 2,\n",
       "  ('charger', 'laptop', 'powerbank'): 2,\n",
       "  ('charger', 'laptop', 'tablet'): 1,\n",
       "  ('handphone', 'laptop', 'powerbank'): 1,\n",
       "  ('handphone', 'laptop', 'tablet'): 2},\n",
       " 4: {('charger', 'handphone', 'laptop', 'powerbank'): 1,\n",
       "  ('charger', 'handphone', 'laptop', 'tablet'): 1}}"
      ]
     },
     "execution_count": 6,
     "metadata": {},
     "output_type": "execute_result"
    }
   ],
   "source": [
    "itemsets, _ = apriori(data_list, min_support=0.001, min_confidence=1)\n",
    "itemsets"
   ]
  },
  {
   "cell_type": "code",
   "execution_count": 7,
   "metadata": {},
   "outputs": [
    {
     "name": "stdout",
     "output_type": "stream",
     "text": [
      "[RelationRecord(items=frozenset({'charger'}), support=0.6, ordered_statistics=[OrderedStatistic(items_base=frozenset(), items_add=frozenset({'charger'}), confidence=0.6, lift=1.0)]), RelationRecord(items=frozenset({'handphone'}), support=0.8, ordered_statistics=[OrderedStatistic(items_base=frozenset(), items_add=frozenset({'handphone'}), confidence=0.8, lift=1.0)]), RelationRecord(items=frozenset({'laptop'}), support=0.6, ordered_statistics=[OrderedStatistic(items_base=frozenset(), items_add=frozenset({'laptop'}), confidence=0.6, lift=1.0)]), RelationRecord(items=frozenset({'charger', 'handphone'}), support=0.5, ordered_statistics=[OrderedStatistic(items_base=frozenset(), items_add=frozenset({'charger', 'handphone'}), confidence=0.5, lift=1.0), OrderedStatistic(items_base=frozenset({'charger'}), items_add=frozenset({'handphone'}), confidence=0.8333333333333334, lift=1.0416666666666667), OrderedStatistic(items_base=frozenset({'handphone'}), items_add=frozenset({'charger'}), confidence=0.625, lift=1.0416666666666667)]), RelationRecord(items=frozenset({'laptop', 'handphone'}), support=0.5, ordered_statistics=[OrderedStatistic(items_base=frozenset(), items_add=frozenset({'laptop', 'handphone'}), confidence=0.5, lift=1.0), OrderedStatistic(items_base=frozenset({'handphone'}), items_add=frozenset({'laptop'}), confidence=0.625, lift=1.0416666666666667), OrderedStatistic(items_base=frozenset({'laptop'}), items_add=frozenset({'handphone'}), confidence=0.8333333333333334, lift=1.0416666666666667)])]\n"
     ]
    }
   ],
   "source": [
    "from apyori import apriori as apyori_apriori\n",
    "results = list(apyori_apriori(data_list, min_support = 0.5))\n",
    "print(results)"
   ]
  }
 ],
 "metadata": {
  "kernelspec": {
   "display_name": "myenv",
   "language": "python",
   "name": "myenv"
  },
  "language_info": {
   "codemirror_mode": {
    "name": "ipython",
    "version": 3
   },
   "file_extension": ".py",
   "mimetype": "text/x-python",
   "name": "python",
   "nbconvert_exporter": "python",
   "pygments_lexer": "ipython3",
   "version": "3.9.2"
  }
 },
 "nbformat": 4,
 "nbformat_minor": 2
}
