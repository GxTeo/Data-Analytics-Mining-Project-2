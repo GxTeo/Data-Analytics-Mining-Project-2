{
 "cells": [
  {
   "cell_type": "code",
   "execution_count": 1,
   "metadata": {},
   "outputs": [],
   "source": [
    "from apriori import Apriori\n",
    "import pandas as pd\n",
    "import csv\n",
    "from efficient_apriori import apriori\n"
   ]
  },
  {
   "cell_type": "code",
   "execution_count": 2,
   "metadata": {},
   "outputs": [
    {
     "data": {
      "text/html": [
       "<div>\n",
       "<style scoped>\n",
       "    .dataframe tbody tr th:only-of-type {\n",
       "        vertical-align: middle;\n",
       "    }\n",
       "\n",
       "    .dataframe tbody tr th {\n",
       "        vertical-align: top;\n",
       "    }\n",
       "\n",
       "    .dataframe thead th {\n",
       "        text-align: right;\n",
       "    }\n",
       "</style>\n",
       "<table border=\"1\" class=\"dataframe\">\n",
       "  <thead>\n",
       "    <tr style=\"text-align: right;\">\n",
       "      <th></th>\n",
       "      <th>handphone</th>\n",
       "      <th>laptop</th>\n",
       "      <th>charger</th>\n",
       "      <th>powerbank</th>\n",
       "      <th>tablet</th>\n",
       "    </tr>\n",
       "  </thead>\n",
       "  <tbody>\n",
       "    <tr>\n",
       "      <th>0</th>\n",
       "      <td>t</td>\n",
       "      <td>t</td>\n",
       "      <td>NaN</td>\n",
       "      <td>NaN</td>\n",
       "      <td>NaN</td>\n",
       "    </tr>\n",
       "    <tr>\n",
       "      <th>1</th>\n",
       "      <td>t</td>\n",
       "      <td>t</td>\n",
       "      <td>t</td>\n",
       "      <td>NaN</td>\n",
       "      <td>NaN</td>\n",
       "    </tr>\n",
       "    <tr>\n",
       "      <th>2</th>\n",
       "      <td>t</td>\n",
       "      <td>t</td>\n",
       "      <td>t</td>\n",
       "      <td>t</td>\n",
       "      <td>NaN</td>\n",
       "    </tr>\n",
       "    <tr>\n",
       "      <th>3</th>\n",
       "      <td>t</td>\n",
       "      <td>t</td>\n",
       "      <td>NaN</td>\n",
       "      <td>NaN</td>\n",
       "      <td>t</td>\n",
       "    </tr>\n",
       "    <tr>\n",
       "      <th>4</th>\n",
       "      <td>t</td>\n",
       "      <td>NaN</td>\n",
       "      <td>t</td>\n",
       "      <td>NaN</td>\n",
       "      <td>t</td>\n",
       "    </tr>\n",
       "    <tr>\n",
       "      <th>5</th>\n",
       "      <td>NaN</td>\n",
       "      <td>NaN</td>\n",
       "      <td>NaN</td>\n",
       "      <td>t</td>\n",
       "      <td>t</td>\n",
       "    </tr>\n",
       "    <tr>\n",
       "      <th>6</th>\n",
       "      <td>t</td>\n",
       "      <td>t</td>\n",
       "      <td>t</td>\n",
       "      <td>NaN</td>\n",
       "      <td>t</td>\n",
       "    </tr>\n",
       "    <tr>\n",
       "      <th>7</th>\n",
       "      <td>t</td>\n",
       "      <td>NaN</td>\n",
       "      <td>t</td>\n",
       "      <td>NaN</td>\n",
       "      <td>NaN</td>\n",
       "    </tr>\n",
       "    <tr>\n",
       "      <th>8</th>\n",
       "      <td>t</td>\n",
       "      <td>NaN</td>\n",
       "      <td>NaN</td>\n",
       "      <td>t</td>\n",
       "      <td>NaN</td>\n",
       "    </tr>\n",
       "    <tr>\n",
       "      <th>9</th>\n",
       "      <td>NaN</td>\n",
       "      <td>t</td>\n",
       "      <td>t</td>\n",
       "      <td>t</td>\n",
       "      <td>NaN</td>\n",
       "    </tr>\n",
       "  </tbody>\n",
       "</table>\n",
       "</div>"
      ],
      "text/plain": [
       "  handphone laptop charger powerbank tablet\n",
       "0         t      t     NaN       NaN    NaN\n",
       "1         t      t       t       NaN    NaN\n",
       "2         t      t       t         t    NaN\n",
       "3         t      t     NaN       NaN      t\n",
       "4         t    NaN       t       NaN      t\n",
       "5       NaN    NaN     NaN         t      t\n",
       "6         t      t       t       NaN      t\n",
       "7         t    NaN       t       NaN    NaN\n",
       "8         t    NaN     NaN         t    NaN\n",
       "9       NaN      t       t         t    NaN"
      ]
     },
     "execution_count": 2,
     "metadata": {},
     "output_type": "execute_result"
    }
   ],
   "source": [
    "# Test Dataset\n",
    "# Took this test dataset from apriori-python repo\n",
    "data = pd.read_csv('test_dataset/test1.csv')\n",
    "data.head(10)"
   ]
  },
  {
   "cell_type": "markdown",
   "metadata": {},
   "source": [
    "# Own Algorithm"
   ]
  },
  {
   "cell_type": "code",
   "execution_count": 3,
   "metadata": {},
   "outputs": [
    {
     "name": "stdout",
     "output_type": "stream",
     "text": [
      "{0: ['handphone', 'laptop'], 1: ['handphone', 'laptop', 'charger'], 2: ['handphone', 'laptop', 'charger', 'powerbank'], 3: ['handphone', 'laptop', 'tablet'], 4: ['handphone', 'charger', 'tablet'], 5: ['powerbank', 'tablet'], 6: ['handphone', 'laptop', 'charger', 'tablet'], 7: ['handphone', 'charger'], 8: ['handphone', 'powerbank'], 9: ['laptop', 'charger', 'powerbank']}\n"
     ]
    }
   ],
   "source": [
    "# Data Processing where we structure the data to fit our own implementation\n",
    "# Create a dictionary where the key is the index and the value is a tuple of items\n",
    "data_dict = data.apply(lambda row: (row.dropna().index.tolist()), axis=1).to_dict()\n",
    "print(data_dict)\n"
   ]
  },
  {
   "cell_type": "code",
   "execution_count": 10,
   "metadata": {},
   "outputs": [
    {
     "name": "stdout",
     "output_type": "stream",
     "text": [
      "Previous itemsets:  {('handphone',): 1, ('laptop',): 1, ('charger',): 1, ('powerbank',): 1, ('tablet',): 1}\n",
      "Previous itemsets:  {frozenset({'laptop', 'handphone'}): 5, frozenset({'charger', 'handphone'}): 5, frozenset({'powerbank', 'handphone'}): 2, frozenset({'tablet', 'handphone'}): 3, frozenset({'laptop', 'charger'}): 4, frozenset({'laptop', 'powerbank'}): 2, frozenset({'laptop', 'tablet'}): 2, frozenset({'powerbank', 'charger'}): 2, frozenset({'tablet', 'charger'}): 2, frozenset({'powerbank', 'tablet'}): 1}\n",
      "Previous itemsets:  {frozenset({'laptop', 'charger', 'handphone'}): 3, frozenset({'laptop', 'powerbank', 'handphone'}): 1, frozenset({'laptop', 'tablet', 'handphone'}): 2, frozenset({'powerbank', 'charger', 'handphone'}): 1, frozenset({'tablet', 'charger', 'handphone'}): 2, frozenset({'laptop', 'powerbank', 'charger'}): 2, frozenset({'laptop', 'tablet', 'charger'}): 1}\n",
      "Previous itemsets:  {frozenset({'powerbank', 'laptop', 'charger', 'handphone'}): 1, frozenset({'tablet', 'laptop', 'charger', 'handphone'}): 1}\n",
      "No more frequent itemsets are further found\n",
      "Itemsets Count 1: {('handphone',): 1, ('laptop',): 1, ('charger',): 1, ('powerbank',): 1, ('tablet',): 1}\n",
      "Itemsets Count 2: {frozenset({'laptop', 'handphone'}): 5, frozenset({'charger', 'handphone'}): 5, frozenset({'powerbank', 'handphone'}): 2, frozenset({'tablet', 'handphone'}): 3, frozenset({'laptop', 'charger'}): 4, frozenset({'laptop', 'powerbank'}): 2, frozenset({'laptop', 'tablet'}): 2, frozenset({'powerbank', 'charger'}): 2, frozenset({'tablet', 'charger'}): 2, frozenset({'powerbank', 'tablet'}): 1}\n",
      "Itemsets Count 3: {frozenset({'laptop', 'charger', 'handphone'}): 3, frozenset({'laptop', 'powerbank', 'handphone'}): 1, frozenset({'laptop', 'tablet', 'handphone'}): 2, frozenset({'powerbank', 'charger', 'handphone'}): 1, frozenset({'tablet', 'charger', 'handphone'}): 2, frozenset({'laptop', 'powerbank', 'charger'}): 2, frozenset({'laptop', 'tablet', 'charger'}): 1}\n",
      "Itemsets Count 4: {frozenset({'powerbank', 'laptop', 'charger', 'handphone'}): 1, frozenset({'tablet', 'laptop', 'charger', 'handphone'}): 1}\n"
     ]
    }
   ],
   "source": [
    "apriori_own = Apriori(data_dict, min_support=0.001, min_confidence=1)\n",
    "most_frequent_item_set = apriori_own.run_apriori()\n",
    "for key in most_frequent_item_set:\n",
    "    print(f\"Itemsets Count {key}: {most_frequent_item_set[key]}\")"
   ]
  },
  {
   "cell_type": "markdown",
   "metadata": {},
   "source": [
    "# Efficient Apriori"
   ]
  },
  {
   "cell_type": "code",
   "execution_count": 5,
   "metadata": {},
   "outputs": [
    {
     "data": {
      "text/plain": [
       "[['handphone', 'laptop'],\n",
       " ['handphone', 'laptop', 'charger'],\n",
       " ['handphone', 'laptop', 'charger', 'powerbank'],\n",
       " ['handphone', 'laptop', 'tablet'],\n",
       " ['handphone', 'charger', 'tablet'],\n",
       " ['powerbank', 'tablet'],\n",
       " ['handphone', 'laptop', 'charger', 'tablet'],\n",
       " ['handphone', 'charger'],\n",
       " ['handphone', 'powerbank'],\n",
       " ['laptop', 'charger', 'powerbank']]"
      ]
     },
     "execution_count": 5,
     "metadata": {},
     "output_type": "execute_result"
    }
   ],
   "source": [
    "# data processing\n",
    "data_list = data.apply(lambda row: row.dropna().index.tolist(), axis=1).tolist()\n",
    "data_list"
   ]
  },
  {
   "cell_type": "code",
   "execution_count": 6,
   "metadata": {},
   "outputs": [
    {
     "data": {
      "text/plain": [
       "{1: {('handphone',): 8,\n",
       "  ('laptop',): 6,\n",
       "  ('charger',): 6,\n",
       "  ('powerbank',): 4,\n",
       "  ('tablet',): 4},\n",
       " 2: {('charger', 'handphone'): 5,\n",
       "  ('charger', 'laptop'): 4,\n",
       "  ('charger', 'powerbank'): 2,\n",
       "  ('charger', 'tablet'): 2,\n",
       "  ('handphone', 'laptop'): 5,\n",
       "  ('handphone', 'powerbank'): 2,\n",
       "  ('handphone', 'tablet'): 3,\n",
       "  ('laptop', 'powerbank'): 2,\n",
       "  ('laptop', 'tablet'): 2,\n",
       "  ('powerbank', 'tablet'): 1},\n",
       " 3: {('charger', 'handphone', 'laptop'): 3,\n",
       "  ('charger', 'handphone', 'powerbank'): 1,\n",
       "  ('charger', 'handphone', 'tablet'): 2,\n",
       "  ('charger', 'laptop', 'powerbank'): 2,\n",
       "  ('charger', 'laptop', 'tablet'): 1,\n",
       "  ('handphone', 'laptop', 'powerbank'): 1,\n",
       "  ('handphone', 'laptop', 'tablet'): 2},\n",
       " 4: {('charger', 'handphone', 'laptop', 'powerbank'): 1,\n",
       "  ('charger', 'handphone', 'laptop', 'tablet'): 1}}"
      ]
     },
     "execution_count": 6,
     "metadata": {},
     "output_type": "execute_result"
    }
   ],
   "source": [
    "itemsets, _ = apriori(data_list, min_support=0.001, min_confidence=1)\n",
    "itemsets"
   ]
  },
  {
   "cell_type": "code",
   "execution_count": 7,
   "metadata": {},
   "outputs": [
    {
     "name": "stdout",
     "output_type": "stream",
     "text": [
      "[RelationRecord(items=frozenset({'charger'}), support=0.6, ordered_statistics=[OrderedStatistic(items_base=frozenset(), items_add=frozenset({'charger'}), confidence=0.6, lift=1.0)]), RelationRecord(items=frozenset({'handphone'}), support=0.8, ordered_statistics=[OrderedStatistic(items_base=frozenset(), items_add=frozenset({'handphone'}), confidence=0.8, lift=1.0)]), RelationRecord(items=frozenset({'laptop'}), support=0.6, ordered_statistics=[OrderedStatistic(items_base=frozenset(), items_add=frozenset({'laptop'}), confidence=0.6, lift=1.0)]), RelationRecord(items=frozenset({'charger', 'handphone'}), support=0.5, ordered_statistics=[OrderedStatistic(items_base=frozenset(), items_add=frozenset({'charger', 'handphone'}), confidence=0.5, lift=1.0), OrderedStatistic(items_base=frozenset({'charger'}), items_add=frozenset({'handphone'}), confidence=0.8333333333333334, lift=1.0416666666666667), OrderedStatistic(items_base=frozenset({'handphone'}), items_add=frozenset({'charger'}), confidence=0.625, lift=1.0416666666666667)]), RelationRecord(items=frozenset({'laptop', 'handphone'}), support=0.5, ordered_statistics=[OrderedStatistic(items_base=frozenset(), items_add=frozenset({'laptop', 'handphone'}), confidence=0.5, lift=1.0), OrderedStatistic(items_base=frozenset({'handphone'}), items_add=frozenset({'laptop'}), confidence=0.625, lift=1.0416666666666667), OrderedStatistic(items_base=frozenset({'laptop'}), items_add=frozenset({'handphone'}), confidence=0.8333333333333334, lift=1.0416666666666667)])]\n"
     ]
    }
   ],
   "source": [
    "from apyori import apriori as apyori_apriori\n",
    "results = list(apyori_apriori(data_list, min_support = 0.5))\n",
    "print(results)"
   ]
  }
 ],
 "metadata": {
  "kernelspec": {
   "display_name": "techfest_env",
   "language": "python",
   "name": "techfest_env"
  },
  "language_info": {
   "codemirror_mode": {
    "name": "ipython",
    "version": 3
   },
   "file_extension": ".py",
   "mimetype": "text/x-python",
   "name": "python",
   "nbconvert_exporter": "python",
   "pygments_lexer": "ipython3",
   "version": "3.9.1"
  }
 },
 "nbformat": 4,
 "nbformat_minor": 2
}
