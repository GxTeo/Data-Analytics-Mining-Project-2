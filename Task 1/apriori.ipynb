{
 "cells": [
  {
   "cell_type": "code",
   "execution_count": 1,
   "metadata": {},
   "outputs": [],
   "source": [
    "from apriori import Apriori\n",
    "from improved_apriori import Improved_Apriori\n",
    "import pandas as pd\n",
    "import numpy as np\n",
    "import csv\n",
    "import json\n",
    "from efficient_apriori import apriori\n",
    "from apyori import apriori as apyori_apriori"
   ]
  },
  {
   "cell_type": "code",
   "execution_count": 2,
   "metadata": {},
   "outputs": [],
   "source": [
    "# Test Dataset\n",
    "data = pd.read_csv('test_dataset/test1.csv')"
   ]
  },
  {
   "cell_type": "markdown",
   "metadata": {},
   "source": [
    "# Own Algorithm vs Efficient Apriori"
   ]
  },
  {
   "cell_type": "code",
   "execution_count": 3,
   "metadata": {},
   "outputs": [],
   "source": [
    "def test_apriori(frequent_itemset_1, frequent_itemset_2):\n",
    "    if(len(frequent_itemset_1)!=len(frequent_itemset_2)):\n",
    "        return False\n",
    "    \n",
    "    for i in range(len(frequent_itemset_1)):\n",
    "        sorted_dict1 = {tuple(sorted(k)): v for k, v in frequent_itemset_1[i+1].items()}\n",
    "        sorted_dict2 = {tuple(sorted(k)): v for k, v in frequent_itemset_2[i+1].items()}\n",
    "        if(sorted_dict1!=sorted_dict2):\n",
    "            return False\n",
    "        \n",
    "    return True\n"
   ]
  },
  {
   "cell_type": "code",
   "execution_count": 4,
   "metadata": {},
   "outputs": [],
   "source": [
    "# Data Processing where we structure the data to fit our own implementation\n",
    "# Create a dictionary where the key is the index and the value is a tuple of items\n",
    "data_dict = data.apply(lambda row: (row.dropna().index.tolist()), axis=1).to_dict()\n",
    "\n",
    "# To fit Efficient-Apriori implementation\n",
    "data_list = data.apply(lambda row: row.dropna().index.tolist(), axis=1).tolist()"
   ]
  },
  {
   "cell_type": "code",
   "execution_count": 5,
   "metadata": {},
   "outputs": [
    {
     "name": "stderr",
     "output_type": "stream",
     "text": [
      "100%|██████████| 10/10 [00:00<00:00, 48099.82it/s]\n",
      "100%|██████████| 10/10 [00:00<00:00, 96199.63it/s]\n",
      "100%|██████████| 5/5 [00:00<00:00, 44243.71it/s]\n",
      "100%|██████████| 1/1 [00:00<00:00, 18558.87it/s]"
     ]
    },
    {
     "name": "stdout",
     "output_type": "stream",
     "text": [
      "{1: {('handphone',): 8, ('laptop',): 6, ('charger',): 6, ('powerbank',): 4, ('tablet',): 4}, 2: {('handphone', 'laptop'): 5, ('handphone', 'charger'): 5, ('handphone', 'powerbank'): 2, ('handphone', 'tablet'): 3, ('laptop', 'charger'): 4, ('laptop', 'powerbank'): 2, ('laptop', 'tablet'): 2, ('charger', 'powerbank'): 2, ('charger', 'tablet'): 2, ('powerbank', 'tablet'): 1}, 3: {('handphone', 'laptop', 'charger'): 3, ('handphone', 'laptop', 'powerbank'): 1, ('handphone', 'laptop', 'tablet'): 2, ('handphone', 'charger', 'powerbank'): 1, ('handphone', 'charger', 'tablet'): 2, ('laptop', 'charger', 'powerbank'): 2, ('laptop', 'charger', 'tablet'): 1}, 4: {('handphone', 'laptop', 'charger', 'powerbank'): 1, ('handphone', 'laptop', 'charger', 'tablet'): 1}}\n"
     ]
    },
    {
     "name": "stderr",
     "output_type": "stream",
     "text": [
      "\n"
     ]
    }
   ],
   "source": [
    "diff_result = []\n",
    "for min_support in np.arange(0.0001, 0.1, 0.0001):\n",
    "    improved_apriori = Improved_Apriori(data_dict, min_support=min_support, min_confidence=1)\n",
    "    frequent_itemset_dict = improved_apriori.apriori()\n",
    "    print(frequent_itemset_dict)\n",
    "    # frequent_itemset_dict = {}\n",
    "    # for level in range(len(frequent_itemset)):\n",
    "    #     frequent_itemset_dict[level+1] = frequent_itemset[level]\n",
    "    frequent_itemset_dict_2, _ = apriori(data_list, min_support=min_support, min_confidence=1)\n",
    "    if not test_apriori(frequent_itemset_dict, frequent_itemset_dict_2):\n",
    "        diff_result.append([frequent_itemset_dict, frequent_itemset_dict_2, min_support])\n"
   ]
  },
  {
   "cell_type": "code",
   "execution_count": 8,
   "metadata": {},
   "outputs": [],
   "source": [
    "# Print the min_support values where results differ\n",
    "for i in range(len(diff_result)):\n",
    "    print(\"The results are different for these min_support values:\", diff_result[i][2])"
   ]
  },
  {
   "cell_type": "code",
   "execution_count": 7,
   "metadata": {},
   "outputs": [
    {
     "ename": "IndexError",
     "evalue": "list index out of range",
     "output_type": "error",
     "traceback": [
      "\u001b[0;31m---------------------------------------------------------------------------\u001b[0m",
      "\u001b[0;31mIndexError\u001b[0m                                Traceback (most recent call last)",
      "\u001b[1;32m/Users/gx/Projects/Data-Analytics-Mining-Project-2/Task 1/apriori.ipynb Cell 8\u001b[0m line \u001b[0;36m1\n\u001b[0;32m----> <a href='vscode-notebook-cell:/Users/gx/Projects/Data-Analytics-Mining-Project-2/Task%201/apriori.ipynb#X25sZmlsZQ%3D%3D?line=0'>1</a>\u001b[0m diff_result[\u001b[39m0\u001b[39;49m]\n",
      "\u001b[0;31mIndexError\u001b[0m: list index out of range"
     ]
    }
   ],
   "source": [
    "diff_result[0]"
   ]
  },
  {
   "cell_type": "markdown",
   "metadata": {},
   "source": [
    "# Efficient Apriori"
   ]
  },
  {
   "cell_type": "code",
   "execution_count": null,
   "metadata": {},
   "outputs": [
    {
     "data": {
      "text/plain": [
       "[['handphone', 'laptop'],\n",
       " ['handphone', 'laptop', 'charger'],\n",
       " ['handphone', 'laptop', 'charger', 'powerbank'],\n",
       " ['handphone', 'laptop', 'tablet'],\n",
       " ['handphone', 'charger', 'tablet'],\n",
       " ['powerbank', 'tablet'],\n",
       " ['handphone', 'laptop', 'charger', 'tablet'],\n",
       " ['handphone', 'charger'],\n",
       " ['handphone', 'powerbank'],\n",
       " ['laptop', 'charger', 'powerbank']]"
      ]
     },
     "execution_count": 7,
     "metadata": {},
     "output_type": "execute_result"
    }
   ],
   "source": [
    "# data processing\n",
    "data_list = data.apply(lambda row: row.dropna().index.tolist(), axis=1).tolist()\n",
    "data_list"
   ]
  },
  {
   "cell_type": "code",
   "execution_count": null,
   "metadata": {},
   "outputs": [
    {
     "data": {
      "text/plain": [
       "{('handphone',): 8,\n",
       " ('laptop',): 6,\n",
       " ('charger',): 6,\n",
       " ('powerbank',): 4,\n",
       " ('tablet',): 4}"
      ]
     },
     "execution_count": 8,
     "metadata": {},
     "output_type": "execute_result"
    }
   ],
   "source": [
    "itemsets, _ = apriori(data_list, min_support=0.001, min_confidence=1)\n",
    "itemsets[1]"
   ]
  },
  {
   "cell_type": "code",
   "execution_count": null,
   "metadata": {},
   "outputs": [
    {
     "data": {
      "text/plain": [
       "True"
      ]
     },
     "execution_count": 9,
     "metadata": {},
     "output_type": "execute_result"
    }
   ],
   "source": [
    "frequent_itemset_dict[1] == itemsets[1]\n"
   ]
  }
 ],
 "metadata": {
  "kernelspec": {
   "display_name": "myenv",
   "language": "python",
   "name": "myenv"
  },
  "language_info": {
   "codemirror_mode": {
    "name": "ipython",
    "version": 3
   },
   "file_extension": ".py",
   "mimetype": "text/x-python",
   "name": "python",
   "nbconvert_exporter": "python",
   "pygments_lexer": "ipython3",
   "version": "3.9.2"
  }
 },
 "nbformat": 4,
 "nbformat_minor": 2
}
