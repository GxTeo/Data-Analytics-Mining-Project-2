{
 "cells": [
  {
   "cell_type": "code",
   "execution_count": 1,
   "metadata": {},
   "outputs": [],
   "source": [
    "from apriori import Apriori\n",
    "from improved_apriori import Improved_Apriori\n",
    "import pandas as pd\n",
    "import csv\n",
    "from efficient_apriori import apriori\n"
   ]
  },
  {
   "cell_type": "code",
   "execution_count": 2,
   "metadata": {},
   "outputs": [
    {
     "data": {
      "text/html": [
       "<div>\n",
       "<style scoped>\n",
       "    .dataframe tbody tr th:only-of-type {\n",
       "        vertical-align: middle;\n",
       "    }\n",
       "\n",
       "    .dataframe tbody tr th {\n",
       "        vertical-align: top;\n",
       "    }\n",
       "\n",
       "    .dataframe thead th {\n",
       "        text-align: right;\n",
       "    }\n",
       "</style>\n",
       "<table border=\"1\" class=\"dataframe\">\n",
       "  <thead>\n",
       "    <tr style=\"text-align: right;\">\n",
       "      <th></th>\n",
       "      <th>handphone</th>\n",
       "      <th>laptop</th>\n",
       "      <th>charger</th>\n",
       "      <th>powerbank</th>\n",
       "      <th>tablet</th>\n",
       "    </tr>\n",
       "  </thead>\n",
       "  <tbody>\n",
       "    <tr>\n",
       "      <th>0</th>\n",
       "      <td>t</td>\n",
       "      <td>t</td>\n",
       "      <td>NaN</td>\n",
       "      <td>NaN</td>\n",
       "      <td>NaN</td>\n",
       "    </tr>\n",
       "    <tr>\n",
       "      <th>1</th>\n",
       "      <td>t</td>\n",
       "      <td>t</td>\n",
       "      <td>t</td>\n",
       "      <td>NaN</td>\n",
       "      <td>NaN</td>\n",
       "    </tr>\n",
       "    <tr>\n",
       "      <th>2</th>\n",
       "      <td>t</td>\n",
       "      <td>t</td>\n",
       "      <td>t</td>\n",
       "      <td>t</td>\n",
       "      <td>NaN</td>\n",
       "    </tr>\n",
       "    <tr>\n",
       "      <th>3</th>\n",
       "      <td>t</td>\n",
       "      <td>t</td>\n",
       "      <td>NaN</td>\n",
       "      <td>NaN</td>\n",
       "      <td>t</td>\n",
       "    </tr>\n",
       "    <tr>\n",
       "      <th>4</th>\n",
       "      <td>t</td>\n",
       "      <td>NaN</td>\n",
       "      <td>t</td>\n",
       "      <td>NaN</td>\n",
       "      <td>t</td>\n",
       "    </tr>\n",
       "    <tr>\n",
       "      <th>5</th>\n",
       "      <td>NaN</td>\n",
       "      <td>NaN</td>\n",
       "      <td>NaN</td>\n",
       "      <td>t</td>\n",
       "      <td>t</td>\n",
       "    </tr>\n",
       "    <tr>\n",
       "      <th>6</th>\n",
       "      <td>t</td>\n",
       "      <td>t</td>\n",
       "      <td>t</td>\n",
       "      <td>NaN</td>\n",
       "      <td>t</td>\n",
       "    </tr>\n",
       "    <tr>\n",
       "      <th>7</th>\n",
       "      <td>t</td>\n",
       "      <td>NaN</td>\n",
       "      <td>t</td>\n",
       "      <td>NaN</td>\n",
       "      <td>NaN</td>\n",
       "    </tr>\n",
       "    <tr>\n",
       "      <th>8</th>\n",
       "      <td>t</td>\n",
       "      <td>NaN</td>\n",
       "      <td>NaN</td>\n",
       "      <td>t</td>\n",
       "      <td>NaN</td>\n",
       "    </tr>\n",
       "    <tr>\n",
       "      <th>9</th>\n",
       "      <td>NaN</td>\n",
       "      <td>t</td>\n",
       "      <td>t</td>\n",
       "      <td>t</td>\n",
       "      <td>NaN</td>\n",
       "    </tr>\n",
       "  </tbody>\n",
       "</table>\n",
       "</div>"
      ],
      "text/plain": [
       "  handphone laptop charger powerbank tablet\n",
       "0         t      t     NaN       NaN    NaN\n",
       "1         t      t       t       NaN    NaN\n",
       "2         t      t       t         t    NaN\n",
       "3         t      t     NaN       NaN      t\n",
       "4         t    NaN       t       NaN      t\n",
       "5       NaN    NaN     NaN         t      t\n",
       "6         t      t       t       NaN      t\n",
       "7         t    NaN       t       NaN    NaN\n",
       "8         t    NaN     NaN         t    NaN\n",
       "9       NaN      t       t         t    NaN"
      ]
     },
     "execution_count": 2,
     "metadata": {},
     "output_type": "execute_result"
    }
   ],
   "source": [
    "# Test Dataset\n",
    "# Took this test dataset from apriori-python repo\n",
    "data = pd.read_csv('test_dataset/test1.csv')\n",
    "data.head(10)"
   ]
  },
  {
   "cell_type": "markdown",
   "metadata": {},
   "source": [
    "# Own Algorithm"
   ]
  },
  {
   "cell_type": "code",
   "execution_count": 3,
   "metadata": {},
   "outputs": [
    {
     "name": "stdout",
     "output_type": "stream",
     "text": [
      "{0: ['handphone', 'laptop'], 1: ['handphone', 'laptop', 'charger'], 2: ['handphone', 'laptop', 'charger', 'powerbank'], 3: ['handphone', 'laptop', 'tablet'], 4: ['handphone', 'charger', 'tablet'], 5: ['powerbank', 'tablet'], 6: ['handphone', 'laptop', 'charger', 'tablet'], 7: ['handphone', 'charger'], 8: ['handphone', 'powerbank'], 9: ['laptop', 'charger', 'powerbank']}\n"
     ]
    }
   ],
   "source": [
    "# Data Processing where we structure the data to fit our own implementation\n",
    "# Create a dictionary where the key is the index and the value is a tuple of items\n",
    "data_dict = data.apply(lambda row: (row.dropna().index.tolist()), axis=1).to_dict()\n",
    "print(data_dict)\n"
   ]
  },
  {
   "cell_type": "code",
   "execution_count": 4,
   "metadata": {},
   "outputs": [
    {
     "name": "stderr",
     "output_type": "stream",
     "text": [
      "10it [00:00, 81920.00it/s]\n"
     ]
    },
    {
     "name": "stdout",
     "output_type": "stream",
     "text": [
      "[('handphone', 'laptop'), ('handphone', 'charger'), ('handphone', 'powerbank'), ('handphone', 'tablet'), ('laptop', 'charger'), ('laptop', 'powerbank'), ('laptop', 'tablet'), ('charger', 'powerbank'), ('charger', 'tablet'), ('powerbank', 'tablet')]\n",
      "Candidate Sets: [('handphone', 'laptop', 'charger'), ('handphone', 'laptop', 'powerbank'), ('handphone', 'laptop', 'tablet'), ('handphone', 'charger', 'powerbank'), ('handphone', 'charger', 'tablet'), ('handphone', 'powerbank', 'tablet'), ('laptop', 'charger', 'powerbank'), ('laptop', 'charger', 'tablet'), ('laptop', 'powerbank', 'tablet'), ('charger', 'powerbank', 'tablet')]\n"
     ]
    },
    {
     "name": "stderr",
     "output_type": "stream",
     "text": [
      "10it [00:00, 55188.21it/s]\n"
     ]
    },
    {
     "name": "stdout",
     "output_type": "stream",
     "text": [
      "[('handphone', 'laptop', 'charger'), ('handphone', 'laptop', 'powerbank'), ('handphone', 'laptop', 'tablet'), ('handphone', 'charger', 'powerbank'), ('handphone', 'charger', 'tablet'), ('laptop', 'charger', 'powerbank'), ('laptop', 'charger', 'tablet')]\n",
      "Candidate Sets: [('handphone', 'laptop', 'charger', 'powerbank'), ('handphone', 'laptop', 'charger', 'tablet'), ('handphone', 'laptop', 'powerbank', 'tablet'), ('handphone', 'charger', 'powerbank', 'tablet'), ('laptop', 'charger', 'powerbank', 'tablet')]\n"
     ]
    },
    {
     "name": "stderr",
     "output_type": "stream",
     "text": [
      "5it [00:00, 104335.92it/s]\n"
     ]
    },
    {
     "name": "stdout",
     "output_type": "stream",
     "text": [
      "[('handphone', 'laptop', 'charger', 'powerbank'), ('handphone', 'laptop', 'charger', 'tablet')]\n",
      "Candidate Sets: [('handphone', 'laptop', 'charger', 'powerbank', 'tablet')]\n"
     ]
    },
    {
     "name": "stderr",
     "output_type": "stream",
     "text": [
      "1it [00:00, 8128.50it/s]\n"
     ]
    }
   ],
   "source": [
    "improved_apriori = Improved_Apriori(data_dict, min_support=0.001, min_confidence=1)\n",
    "itemset = improved_apriori.apriori()\n"
   ]
  },
  {
   "cell_type": "code",
   "execution_count": 5,
   "metadata": {},
   "outputs": [
    {
     "data": {
      "text/plain": [
       "{('handphone',): 8,\n",
       " ('laptop',): 6,\n",
       " ('charger',): 6,\n",
       " ('powerbank',): 4,\n",
       " ('tablet',): 4}"
      ]
     },
     "execution_count": 5,
     "metadata": {},
     "output_type": "execute_result"
    }
   ],
   "source": [
    "L1 = improved_apriori.generate_L1_itemsets()\n",
    "L1"
   ]
  },
  {
   "cell_type": "code",
   "execution_count": 6,
   "metadata": {},
   "outputs": [
    {
     "data": {
      "text/plain": [
       "{('handphone', 'laptop', 'charger', 'powerbank'): 1,\n",
       " ('handphone', 'laptop', 'charger', 'tablet'): 1}"
      ]
     },
     "execution_count": 6,
     "metadata": {},
     "output_type": "execute_result"
    }
   ],
   "source": [
    "itemset[3]"
   ]
  },
  {
   "cell_type": "code",
   "execution_count": 7,
   "metadata": {},
   "outputs": [
    {
     "name": "stderr",
     "output_type": "stream",
     "text": [
      "100%|██████████| 10/10 [00:00<00:00, 100824.62it/s]\n",
      "100%|██████████| 10/10 [00:00<00:00, 111254.75it/s]\n",
      "100%|██████████| 2/2 [00:00<00:00, 41943.04it/s]"
     ]
    },
    {
     "name": "stdout",
     "output_type": "stream",
     "text": [
      "No more frequent itemsets are further found\n",
      "Itemsets Count 1: {('handphone',): 8, ('laptop',): 6, ('charger',): 6, ('powerbank',): 4, ('tablet',): 4}\n",
      "Itemsets Count 2: {('handphone', 'laptop'): 5, ('handphone', 'charger'): 5, ('handphone', 'powerbank'): 2, ('handphone', 'tablet'): 3, ('laptop', 'charger'): 4, ('laptop', 'powerbank'): 2, ('laptop', 'tablet'): 2, ('charger', 'powerbank'): 2, ('charger', 'tablet'): 2, ('powerbank', 'tablet'): 1}\n",
      "Itemsets Count 3: {('handphone', 'laptop', 'charger'): 3, ('handphone', 'laptop', 'powerbank'): 1, ('handphone', 'laptop', 'tablet'): 2, ('handphone', 'charger', 'powerbank'): 1, ('handphone', 'charger', 'tablet'): 2, ('laptop', 'charger', 'powerbank'): 2, ('laptop', 'charger', 'tablet'): 1}\n",
      "Itemsets Count 4: {('handphone', 'laptop', 'charger', 'powerbank'): 1, ('handphone', 'laptop', 'charger', 'tablet'): 1}\n"
     ]
    },
    {
     "name": "stderr",
     "output_type": "stream",
     "text": [
      "\n"
     ]
    }
   ],
   "source": [
    "apriori_own = Apriori(data_dict, min_support=0.001, min_confidence=1)\n",
    "most_frequent_item_set = apriori_own.run_apriori()\n",
    "for key in most_frequent_item_set:\n",
    "    print(f\"Itemsets Count {key}: {most_frequent_item_set[key]}\")"
   ]
  },
  {
   "cell_type": "markdown",
   "metadata": {},
   "source": [
    "# Efficient Apriori"
   ]
  },
  {
   "cell_type": "code",
   "execution_count": 8,
   "metadata": {},
   "outputs": [
    {
     "data": {
      "text/plain": [
       "[['handphone', 'laptop'],\n",
       " ['handphone', 'laptop', 'charger'],\n",
       " ['handphone', 'laptop', 'charger', 'powerbank'],\n",
       " ['handphone', 'laptop', 'tablet'],\n",
       " ['handphone', 'charger', 'tablet'],\n",
       " ['powerbank', 'tablet'],\n",
       " ['handphone', 'laptop', 'charger', 'tablet'],\n",
       " ['handphone', 'charger'],\n",
       " ['handphone', 'powerbank'],\n",
       " ['laptop', 'charger', 'powerbank']]"
      ]
     },
     "execution_count": 8,
     "metadata": {},
     "output_type": "execute_result"
    }
   ],
   "source": [
    "# data processing\n",
    "data_list = data.apply(lambda row: row.dropna().index.tolist(), axis=1).tolist()\n",
    "data_list"
   ]
  },
  {
   "cell_type": "code",
   "execution_count": 9,
   "metadata": {},
   "outputs": [
    {
     "data": {
      "text/plain": [
       "{1: {('handphone',): 8,\n",
       "  ('laptop',): 6,\n",
       "  ('charger',): 6,\n",
       "  ('powerbank',): 4,\n",
       "  ('tablet',): 4},\n",
       " 2: {('charger', 'handphone'): 5,\n",
       "  ('charger', 'laptop'): 4,\n",
       "  ('charger', 'powerbank'): 2,\n",
       "  ('charger', 'tablet'): 2,\n",
       "  ('handphone', 'laptop'): 5,\n",
       "  ('handphone', 'powerbank'): 2,\n",
       "  ('handphone', 'tablet'): 3,\n",
       "  ('laptop', 'powerbank'): 2,\n",
       "  ('laptop', 'tablet'): 2,\n",
       "  ('powerbank', 'tablet'): 1},\n",
       " 3: {('charger', 'handphone', 'laptop'): 3,\n",
       "  ('charger', 'handphone', 'powerbank'): 1,\n",
       "  ('charger', 'handphone', 'tablet'): 2,\n",
       "  ('charger', 'laptop', 'powerbank'): 2,\n",
       "  ('charger', 'laptop', 'tablet'): 1,\n",
       "  ('handphone', 'laptop', 'powerbank'): 1,\n",
       "  ('handphone', 'laptop', 'tablet'): 2},\n",
       " 4: {('charger', 'handphone', 'laptop', 'powerbank'): 1,\n",
       "  ('charger', 'handphone', 'laptop', 'tablet'): 1}}"
      ]
     },
     "execution_count": 9,
     "metadata": {},
     "output_type": "execute_result"
    }
   ],
   "source": [
    "itemsets, _ = apriori(data_list, min_support=0.001, min_confidence=1)\n",
    "itemsets"
   ]
  },
  {
   "cell_type": "code",
   "execution_count": 10,
   "metadata": {},
   "outputs": [
    {
     "ename": "ModuleNotFoundError",
     "evalue": "No module named 'apyori'",
     "output_type": "error",
     "traceback": [
      "\u001b[0;31m---------------------------------------------------------------------------\u001b[0m",
      "\u001b[0;31mModuleNotFoundError\u001b[0m                       Traceback (most recent call last)",
      "\u001b[1;32m/Users/gx/Projects/Data-Analytics-Mining-Project-2/Task 1/apriori.ipynb Cell 12\u001b[0m line \u001b[0;36m1\n\u001b[0;32m----> <a href='vscode-notebook-cell:/Users/gx/Projects/Data-Analytics-Mining-Project-2/Task%201/apriori.ipynb#X14sZmlsZQ%3D%3D?line=0'>1</a>\u001b[0m \u001b[39mfrom\u001b[39;00m \u001b[39mapyori\u001b[39;00m \u001b[39mimport\u001b[39;00m apriori \u001b[39mas\u001b[39;00m apyori_apriori\n\u001b[1;32m      <a href='vscode-notebook-cell:/Users/gx/Projects/Data-Analytics-Mining-Project-2/Task%201/apriori.ipynb#X14sZmlsZQ%3D%3D?line=1'>2</a>\u001b[0m results \u001b[39m=\u001b[39m \u001b[39mlist\u001b[39m(apyori_apriori(data_list, min_support \u001b[39m=\u001b[39m \u001b[39m0.5\u001b[39m))\n\u001b[1;32m      <a href='vscode-notebook-cell:/Users/gx/Projects/Data-Analytics-Mining-Project-2/Task%201/apriori.ipynb#X14sZmlsZQ%3D%3D?line=2'>3</a>\u001b[0m \u001b[39mprint\u001b[39m(results)\n",
      "\u001b[0;31mModuleNotFoundError\u001b[0m: No module named 'apyori'"
     ]
    }
   ],
   "source": [
    "from apyori import apriori as apyori_apriori\n",
    "results = list(apyori_apriori(data_list, min_support = 0.5))\n",
    "print(results)"
   ]
  }
 ],
 "metadata": {
  "kernelspec": {
   "display_name": "myenv",
   "language": "python",
   "name": "myenv"
  },
  "language_info": {
   "codemirror_mode": {
    "name": "ipython",
    "version": 3
   },
   "file_extension": ".py",
   "mimetype": "text/x-python",
   "name": "python",
   "nbconvert_exporter": "python",
   "pygments_lexer": "ipython3",
   "version": "3.9.2"
  }
 },
 "nbformat": 4,
 "nbformat_minor": 2
}
